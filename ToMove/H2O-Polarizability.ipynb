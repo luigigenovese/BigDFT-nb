{
 "cells": [
  {
   "cell_type": "markdown",
   "metadata": {},
   "source": [
    "# Polarizability tensor of Water Molecule\n",
    "With this notebook we would like to extract the polarizability terms for a water molecule in gas-phase,\n",
    "with the aim of analysing the effects of these quantities in implicit solvent environment.\n",
    "In a linear response regime, in a generic environment the electrostatic dipole of a H$_2$O molecule might be separated in two terms:\n",
    "$$\n",
    "\\vec D = \\vec D_0 + \\mathbf P \\cdot \\vec E\n",
    "$$\n",
    "where $\\vec D_0$ represents the molecular dipole in gas phase.\n",
    "The polarizability tensor $\\mathbf P$ represents the response of the molecular dipole to a external field described by the vector $\\vec E$. "
   ]
  },
  {
   "cell_type": "markdown",
   "metadata": {},
   "source": [
    "To start the analysis let us consider one water molecule, and save its positions in the file 'H2O.xyz':"
   ]
  },
  {
   "cell_type": "code",
   "execution_count": 1,
   "metadata": {
    "collapsed": false
   },
   "outputs": [
    {
     "name": "stdout",
     "output_type": "stream",
     "text": [
      "3 atomic\n",
      "# xyz dump \n",
      "O -2.86857851702e-07 1.76247905159e-15 0.735431116396\n",
      "H 1.46392609098 2.55351295664e-15 -0.367715450117\n",
      "H -1.46392580412 2.10942374679e-15 -0.36771566628\n"
     ]
    }
   ],
   "source": [
    "from BigDFT import Fragments as F, Logfiles as lf, Calculators as C\n",
    "from futile import Yaml\n",
    "#take as a molecule the first fragment of a Polaris snapshot\n",
    "Polaris=Yaml.load('data/snap02000.yaml')\n",
    "mp_dict=Polaris['dft']['external_potential']['values']\n",
    "units=Polaris['dft']['external_potential']['units']\n",
    "snap=F.System(mp_dict=mp_dict,units=units,nat_reference=3)\n",
    "H2O=snap.fragments[0] \n",
    "H2O.line_up()\n",
    "H2O.xyz()\n",
    "H2O.xyz(filename='H2O.xyz')"
   ]
  },
  {
   "cell_type": "markdown",
   "metadata": {},
   "source": [
    "As a sidenote let us verify the O-H distances as well as the angle of the molecule:"
   ]
  },
  {
   "cell_type": "code",
   "execution_count": 2,
   "metadata": {
    "collapsed": false
   },
   "outputs": [
    {
     "name": "stdout",
     "output_type": "stream",
     "text": [
      "0.969999695763 0.969999400908 106.000032564\n"
     ]
    }
   ],
   "source": [
    "import numpy as np\n",
    "d0h1=H2O.rxyz(H2O.atoms[0])-H2O.rxyz(H2O.atoms[1])\n",
    "d0h2=H2O.rxyz(H2O.atoms[0])-H2O.rxyz(H2O.atoms[2])\n",
    "nrm1=np.sqrt(d0h1.dot(d0h1))\n",
    "nrm2=np.sqrt(d0h2.dot(d0h2))\n",
    "print nrm1*F.AU_to_A,nrm2*F.AU_to_A,np.arccos(d0h1.dot(d0h2)/nrm1/nrm2)*180.0/np.pi"
   ]
  },
  {
   "cell_type": "markdown",
   "metadata": {},
   "source": [
    "Let us now set up a BigDFT input file for this molecule. We start from a calculation in cubic scaling approach:"
   ]
  },
  {
   "cell_type": "code",
   "execution_count": 3,
   "metadata": {
    "collapsed": true
   },
   "outputs": [],
   "source": [
    "input=Yaml.load(stream=\"\"\"\n",
    "logfile: No\n",
    "dft:\n",
    "  hgrids: 0.35\n",
    "  ixc: LDA\n",
    "#psppar.O: {Pseudopotential XC: 11} #to use PBE PSP for other functionals\n",
    "#psppar.H: {Pseudopotential XC: 11}\n",
    "#psolver:\n",
    "#  environment:\n",
    "#    cavity: water\n",
    "#  import: water #this is given for the implicit cavity treatment\n",
    "\"\"\")\n",
    "input['posinp']={'positions': [ {H2O.element(at): H2O.rxyz(at).tolist()} for at in H2O.atoms]}\n",
    "\n",
    "inputfile=open('input.yaml','w')\n",
    "inputfile.write(str(input))\n",
    "inputfile.close()"
   ]
  },
  {
   "cell_type": "markdown",
   "metadata": {},
   "source": [
    "Let us now set up the calculator of the BigDFT, and run the DFT calculation for the molecule:"
   ]
  },
  {
   "cell_type": "code",
   "execution_count": 4,
   "metadata": {
    "collapsed": false
   },
   "outputs": [],
   "source": [
    "import os\n",
    "os.environ['OMP_NUM_THREADS']='4'\n",
    "bigdft=C.GIBinding()\n",
    "bigdft.set(input)\n",
    "out=bigdft.run()"
   ]
  },
  {
   "cell_type": "markdown",
   "metadata": {},
   "source": [
    "The run performed successfully as we have a value for the energy."
   ]
  },
  {
   "cell_type": "code",
   "execution_count": 5,
   "metadata": {
    "collapsed": false
   },
   "outputs": [
    {
     "data": {
      "text/plain": [
       "-17.181324699852897"
      ]
     },
     "execution_count": 5,
     "metadata": {},
     "output_type": "execute_result"
    }
   ],
   "source": [
    "out.eKS"
   ]
  },
  {
   "cell_type": "markdown",
   "metadata": {},
   "source": [
    "But... oops, we forget to create a logfile with this run. \n",
    "To do that let us put a name for this run and say to the input file the file name."
   ]
  },
  {
   "cell_type": "code",
   "execution_count": 6,
   "metadata": {
    "collapsed": true
   },
   "outputs": [],
   "source": [
    "input['logfile']=True\n",
    "input['radical']='GS' #which stands for Ground State... ;)\n",
    "bigdft.update(input)"
   ]
  },
  {
   "cell_type": "markdown",
   "metadata": {},
   "source": [
    "Ready, steady, go:"
   ]
  },
  {
   "cell_type": "code",
   "execution_count": 7,
   "metadata": {
    "collapsed": true
   },
   "outputs": [],
   "source": [
    "out=bigdft.run()"
   ]
  },
  {
   "cell_type": "markdown",
   "metadata": {},
   "source": [
    "The logfile of the above run has been written in the file 'log-GS.yaml'. We may extract quantities like the DoS, the number of iterations, etc. To do that we may define an instance of the Logfile class."
   ]
  },
  {
   "cell_type": "code",
   "execution_count": 8,
   "metadata": {
    "collapsed": true
   },
   "outputs": [],
   "source": [
    "H2OGS=lf.Logfile('log-GS.yaml')"
   ]
  },
  {
   "cell_type": "code",
   "execution_count": 9,
   "metadata": {
    "collapsed": false
   },
   "outputs": [
    {
     "name": "stdout",
     "output_type": "stream",
     "text": [
      "- Atom types:\n",
      "  - H\n",
      "  - O\n",
      "- Cell: Free BC\n",
      "- Convergence criterion on forces: 0.0\n",
      "- Symmetry group: disabled\n",
      "- Energy: -17.18132470164937\n",
      "- fermi_level: -0.2699589758132\n",
      "- Number of Atoms: 3\n",
      "- Convergence criterion on Wfn. Residue: 0.0001\n",
      "- No. of KS orbitals per k-point:\n",
      "  - 4\n",
      "  - 0\n",
      "\n"
     ]
    },
    {
     "name": "stderr",
     "output_type": "stream",
     "text": [
      "/usr/local/lib/python2.7/dist-packages/matplotlib/font_manager.py:273: UserWarning: Matplotlib is building the font cache using fc-list. This may take a moment.\n",
      "  warnings.warn('Matplotlib is building the font cache using fc-list. This may take a moment.')\n"
     ]
    },
    {
     "data": {
      "image/png": "[encoded data removed]",
      "text/plain": [
       "<matplotlib.figure.Figure at 0x7f5328fd4910>"
      ]
     },
     "metadata": {},
     "output_type": "display_data"
    }
   ],
   "source": [
    "print H2OGS\n",
    "H2OGS.get_dos().plot()"
   ]
  },
  {
   "cell_type": "markdown",
   "metadata": {},
   "source": [
    "Let us extract from this logfile the dipole moment."
   ]
  },
  {
   "cell_type": "code",
   "execution_count": 10,
   "metadata": {
    "collapsed": false
   },
   "outputs": [
    {
     "name": "stdout",
     "output_type": "stream",
     "text": [
      "{'norm(P)': 0.7211601, 'P vector': [-7.7827e-05, -0.00045548, -0.72116]}\n",
      "1.833006\n"
     ]
    }
   ],
   "source": [
    "print H2OGS.log['Electric Dipole Moment (AU)']\n",
    "#norm in Debye\n",
    "print H2OGS.log['Electric Dipole Moment (Debye)']['norm(P)']"
   ]
  },
  {
   "cell_type": "markdown",
   "metadata": {},
   "source": [
    "We can now see that the GS dipole is oriented along the z-axis.\n",
    "Let us now add a small electric field to the system to see how the dipole vector is modified:"
   ]
  },
  {
   "cell_type": "code",
   "execution_count": 11,
   "metadata": {
    "collapsed": true
   },
   "outputs": [],
   "source": [
    "input['dft']['elecfield']=[0.0,1.e-3,0.0]\n",
    "input['radical']='Ey'\n",
    "input['dft']['gnrm_cv']=1.e-5 # let us lower gnrm_cv to reduce hysteresis effects between restarts\n",
    "bigdft.set(input)"
   ]
  },
  {
   "cell_type": "code",
   "execution_count": 12,
   "metadata": {
    "collapsed": true
   },
   "outputs": [],
   "source": [
    "out=bigdft.run()"
   ]
  },
  {
   "cell_type": "markdown",
   "metadata": {},
   "source": [
    "The energy changed veery little:"
   ]
  },
  {
   "cell_type": "code",
   "execution_count": 13,
   "metadata": {
    "collapsed": false
   },
   "outputs": [
    {
     "data": {
      "text/plain": [
       "-17.181329371140446"
      ]
     },
     "execution_count": 13,
     "metadata": {},
     "output_type": "execute_result"
    }
   ],
   "source": [
    "out.eKS"
   ]
  },
  {
   "cell_type": "markdown",
   "metadata": {},
   "source": [
    "But the electric dipole changed more than a little:"
   ]
  },
  {
   "cell_type": "code",
   "execution_count": 14,
   "metadata": {
    "collapsed": false
   },
   "outputs": [
    {
     "data": {
      "text/plain": [
       "{'P vector': [-7.0685e-05, 0.0097952, -0.72115], 'norm(P)': 0.7212177}"
      ]
     },
     "execution_count": 14,
     "metadata": {},
     "output_type": "execute_result"
    }
   ],
   "source": [
    "H2OEy=lf.Logfile('log-Ey.yaml')\n",
    "H2OEy.log['Electric Dipole Moment (AU)']"
   ]
  },
  {
   "cell_type": "markdown",
   "metadata": {},
   "source": [
    "Let us now do all the other axis"
   ]
  },
  {
   "cell_type": "code",
   "execution_count": 15,
   "metadata": {
    "collapsed": false
   },
   "outputs": [
    {
     "name": "stdout",
     "output_type": "stream",
     "text": [
      "{'norm(P)': 0.7212322, 'P vector': [0.010738, -0.00046043, -0.72115]}\n",
      "{'norm(P)': 0.7106412, 'P vector': [-7.045e-05, -0.00045824, -0.71064]}\n"
     ]
    }
   ],
   "source": [
    "input['dft']['elecfield']=[1.e-3,0.0,0.0]\n",
    "input['radical']='Ex'\n",
    "bigdft.set(input)\n",
    "out=bigdft.run()\n",
    "H2OEx=lf.Logfile('log-Ex.yaml')\n",
    "print H2OEx.log['Electric Dipole Moment (AU)']\n",
    "input['dft']['elecfield']=[0.0,0.0,1.e-3]\n",
    "input['radical']='Ez'\n",
    "bigdft.set(input)\n",
    "out=bigdft.run()\n",
    "H2OEz=lf.Logfile('log-Ez.yaml')\n",
    "print H2OEz.log['Electric Dipole Moment (AU)']"
   ]
  },
  {
   "cell_type": "markdown",
   "metadata": {},
   "source": [
    "Now we have all the components of our linear system. We extract the variations of the dipole:"
   ]
  },
  {
   "cell_type": "code",
   "execution_count": 16,
   "metadata": {
    "collapsed": false
   },
   "outputs": [
    {
     "name": "stdout",
     "output_type": "stream",
     "text": [
      "[[  1.08158270e+01  -4.95000000e-03   1.00000000e-02]\n",
      " [  7.14200000e-03   1.02506800e+01   1.00000000e-02]\n",
      " [  7.37700000e-03  -2.76000000e-03   1.05200000e+01]]\n"
     ]
    }
   ],
   "source": [
    "def dipole(log):\n",
    "    import numpy\n",
    "    return numpy.array(log.log['Electric Dipole Moment (AU)']['P vector'])\n",
    "D0=dipole(H2OGS)\n",
    "D=np.mat(np.zeros(9)).reshape(3,3)\n",
    "D[0]=dipole(H2OEx)-D0\n",
    "D[1]=dipole(H2OEy)-D0\n",
    "D[2]=dipole(H2OEz)-D0\n",
    "print D/1.e-3 #which is the norm of the Electric field applied here"
   ]
  },
  {
   "cell_type": "markdown",
   "metadata": {},
   "source": [
    "Here we see that the polarizability tensor is almost diagonal as the induced dipole is always proportional to the provided electric field."
   ]
  },
  {
   "cell_type": "markdown",
   "metadata": {},
   "source": [
    "Let us free the BigDFT objects as we are well-educated guys."
   ]
  },
  {
   "cell_type": "code",
   "execution_count": 17,
   "metadata": {
    "collapsed": true
   },
   "outputs": [],
   "source": [
    "out = None\n",
    "bigdft = None"
   ]
  },
  {
   "cell_type": "code",
   "execution_count": null,
   "metadata": {
    "collapsed": true
   },
   "outputs": [],
   "source": []
  }
 ],
 "metadata": {
  "git": {
   "suppress_outputs": true
  },
  "kernelspec": {
   "display_name": "Python 2",
   "language": "python",
   "name": "python2"
  },
  "language_info": {
   "codemirror_mode": {
    "name": "ipython",
    "version": 2
   },
   "file_extension": ".py",
   "mimetype": "text/x-python",
   "name": "python",
   "nbconvert_exporter": "python",
   "pygments_lexer": "ipython2",
   "version": "2.7.6"
  }
 },
 "nbformat": 4,
 "nbformat_minor": 1
}
