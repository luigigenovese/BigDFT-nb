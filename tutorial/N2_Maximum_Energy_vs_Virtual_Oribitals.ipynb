{
 "cells": [
  {
   "cell_type": "markdown",
   "metadata": {},
   "source": [
    "# Scaling of the maximum energy vs the number of virtual orbitals for $N_2$"
   ]
  },
  {
   "cell_type": "markdown",
   "metadata": {},
   "source": [
    "We consider a $N_2$ molecule and we determine the maximum energy, that is the energy of the last virtual orbital in function of the number of virtual orbitals."
   ]
  },
  {
   "cell_type": "code",
   "execution_count": 1,
   "metadata": {
    "collapsed": true
   },
   "outputs": [],
   "source": [
    "from BigDFT import Logfiles as lf\n",
    "from futile import Yaml\n",
    "import matplotlib.pyplot as plt\n",
    "import numpy as np\n",
    "inputpath = 'testfiles/N2maxEngVorb/input/'"
   ]
  },
  {
   "cell_type": "markdown",
   "metadata": {},
   "source": [
    "## Analysis for rmult =[7.0, 9.0]"
   ]
  },
  {
   "cell_type": "markdown",
   "metadata": {},
   "source": [
    "First of all we define the python dictionary that contains the basic keys common to all the file in the run"
   ]
  },
  {
   "cell_type": "code",
   "execution_count": 2,
   "metadata": {
    "collapsed": true
   },
   "outputs": [],
   "source": [
    "inp0 = {'dft' : \n",
    "        {'hgrids': 0.4,\n",
    "         'rmult': [7.0, 9.0],\n",
    "         'inputpsiid': 2, #restart from previous wfn\n",
    "         'output_wf': 2, #write wfn on disk\n",
    "         #'output_denspot': 22, # save density on file\n",
    "         'itermax_virt' : 100},\n",
    "        'radical': 'N2_rmult7', #always in the same directory\n",
    "        'posinp': 'N2_posinp.xyz'}"
   ]
  },
  {
   "cell_type": "markdown",
   "metadata": {},
   "source": [
    "and we write these common variables in the default file:"
   ]
  },
  {
   "cell_type": "code",
   "execution_count": 3,
   "metadata": {
    "collapsed": true
   },
   "outputs": [],
   "source": [
    "Yaml.dump(inp0,inputpath + 'default.yaml')"
   ]
  },
  {
   "cell_type": "markdown",
   "metadata": {},
   "source": [
    "Then we write a list of input file with increasing number of virtual orbitals"
   ]
  },
  {
   "cell_type": "code",
   "execution_count": 4,
   "metadata": {
    "collapsed": true
   },
   "outputs": [],
   "source": [
    "norb=[16,32,64,128,256]"
   ]
  },
  {
   "cell_type": "code",
   "execution_count": 5,
   "metadata": {
    "collapsed": true
   },
   "outputs": [],
   "source": [
    "for n in norb:\n",
    "    inp={'dft':{'norbv': -n}}\n",
    "    inpname = 'N2_rmult7_norb'+str(n)\n",
    "    Yaml.dump(inp,inputpath + inpname + '.yaml')"
   ]
  },
  {
   "cell_type": "markdown",
   "metadata": {},
   "source": [
    "We execute each file with the command:\n",
    "\n",
    "OMP_NUM_THREADS=1 mpirun -np 8 $BIGDFT_ROOT/bigdft -d ../log/ -n namefile"
   ]
  },
  {
   "cell_type": "markdown",
   "metadata": {
    "collapsed": true
   },
   "source": [
    "Now we read the log of the simulations and plot the energy max in function of the number of virtual orbitals"
   ]
  },
  {
   "cell_type": "code",
   "execution_count": 6,
   "metadata": {},
   "outputs": [
    {
     "data": {
      "text/plain": [
       "5"
      ]
     },
     "execution_count": 6,
     "metadata": {},
     "output_type": "execute_result"
    }
   ],
   "source": [
    "logs = !ls testfiles/N2maxEngVorb/log/log-N2_rmult7_*\n",
    "N2data=[lf.Logfile(l) for l in logs]\n",
    "nRuns=len(N2data)\n",
    "nRuns"
   ]
  },
  {
   "cell_type": "markdown",
   "metadata": {},
   "source": [
    "We create the lists with the values of highest enerrgy and number of virtual orbitals_"
   ]
  },
  {
   "cell_type": "code",
   "execution_count": 7,
   "metadata": {},
   "outputs": [
    {
     "name": "stdout",
     "output_type": "stream",
     "text": [
      "[128, 16, 256, 32, 64]\n",
      "[1.1027915636540699, 0.263960940944718, 1.63042469076101, 0.34660221454630702, 0.64012205126697297]\n"
     ]
    }
   ],
   "source": [
    "Emax=[]\n",
    "Norbv=[]\n",
    "for n in N2data:\n",
    "    Norbv.append(-n.log['dft']['norbv'])\n",
    "    Emax.append(n.evals[0][0][-1])\n",
    "print(Norbv)\n",
    "print(Emax)"
   ]
  },
  {
   "cell_type": "markdown",
   "metadata": {},
   "source": [
    "and we sort their argument according the number ov virtual orbitals:"
   ]
  },
  {
   "cell_type": "code",
   "execution_count": 8,
   "metadata": {},
   "outputs": [
    {
     "data": {
      "text/plain": [
       "array([1, 3, 4, 0, 2])"
      ]
     },
     "execution_count": 8,
     "metadata": {},
     "output_type": "execute_result"
    }
   ],
   "source": [
    "l = np.argsort(Norbv)\n",
    "l"
   ]
  },
  {
   "cell_type": "code",
   "execution_count": 9,
   "metadata": {},
   "outputs": [
    {
     "name": "stdout",
     "output_type": "stream",
     "text": [
      "[16, 32, 64, 128, 256]\n",
      "[0.263960940944718, 0.34660221454630702, 0.64012205126697297, 1.1027915636540699, 1.63042469076101]\n"
     ]
    }
   ],
   "source": [
    "E=[]\n",
    "N=[]\n",
    "for ind in l:\n",
    "    N.append(Norbv[ind])\n",
    "    E.append(Emax[ind])\n",
    "print(N)\n",
    "print(E)"
   ]
  },
  {
   "cell_type": "code",
   "execution_count": 10,
   "metadata": {
    "scrolled": true
   },
   "outputs": [
    {
     "data": {
      "image/png": "[encoded data removed]",
      "text/plain": [
       "<matplotlib.figure.Figure at 0x7ff757ea92d0>"
      ]
     },
     "metadata": {},
     "output_type": "display_data"
    }
   ],
   "source": [
    "plt.plot(N,E)\n",
    "plt.scatter(N,E, color='r')\n",
    "plt.title('Emax vs norb (box ='+str(N2data[0].log['Sizes of the simulation domain']['Angstroem'])+')',fontsize=14)\n",
    "plt.show()"
   ]
  },
  {
   "cell_type": "markdown",
   "metadata": {},
   "source": [
    "To check for the convergence of the orbitals we perform a run with the Davison algorithm"
   ]
  },
  {
   "cell_type": "code",
   "execution_count": 20,
   "metadata": {
    "collapsed": true
   },
   "outputs": [],
   "source": [
    "inp0 = {'dft' : \n",
    "        {'hgrids': 0.4,\n",
    "         'rmult': [7.0, 9.0],\n",
    "         'inputpsiid': 2, #restart from previous wfn\n",
    "         'output_wf': 2, #write wfn on disk\n",
    "         'itermax_virt' : 2},\n",
    "        'radical': 'N2_rmult7', #always in the same directory\n",
    "        'posinp': 'N2_posinp.xyz'}\n",
    "\n",
    "Yaml.dump(inp0,inputpath + 'default.yaml')\n",
    "\n",
    "inp={'dft':{'norbv': 256, 'nvirt' : 256}}\n",
    "\n",
    "inpname = 'N2_rmult7_norb256_Davidson'\n",
    "Yaml.dump(inp,inputpath + inpname + '.yaml')"
   ]
  },
  {
   "cell_type": "code",
   "execution_count": null,
   "metadata": {
    "collapsed": true
   },
   "outputs": [],
   "source": []
  },
  {
   "cell_type": "code",
   "execution_count": null,
   "metadata": {
    "collapsed": true
   },
   "outputs": [],
   "source": []
  },
  {
   "cell_type": "markdown",
   "metadata": {},
   "source": [
    "## Analysis for rmult =[9.0, 9.0]"
   ]
  },
  {
   "cell_type": "markdown",
   "metadata": {},
   "source": [
    "First of all we define the python dictionary that contains the basic keys common to all the file in the run"
   ]
  },
  {
   "cell_type": "code",
   "execution_count": 11,
   "metadata": {
    "collapsed": true
   },
   "outputs": [],
   "source": [
    "inp0 = {'dft' : \n",
    "        {'hgrids': 0.4,\n",
    "         'rmult': [9.0, 9.0],\n",
    "         'inputpsiid': 2, #restart from previous wfn\n",
    "         'output_wf': 2, #write wfn on disk\n",
    "         #'output_denspot': 22, # save density on file\n",
    "         'itermax_virt' : 100},\n",
    "        'radical': 'N2_rmult9', #always in the same directory\n",
    "        'posinp': 'N2_posinp.xyz'}"
   ]
  },
  {
   "cell_type": "markdown",
   "metadata": {},
   "source": [
    "and we write these common variables in the default file:"
   ]
  },
  {
   "cell_type": "code",
   "execution_count": 12,
   "metadata": {
    "collapsed": true
   },
   "outputs": [],
   "source": [
    "Yaml.dump(inp0,inputpath + 'default.yaml')"
   ]
  },
  {
   "cell_type": "markdown",
   "metadata": {},
   "source": [
    "Then we write a list of input file with increasing number of virtual orbitals"
   ]
  },
  {
   "cell_type": "code",
   "execution_count": 13,
   "metadata": {
    "collapsed": true
   },
   "outputs": [],
   "source": [
    "norb=[16,32,64,128,256]"
   ]
  },
  {
   "cell_type": "code",
   "execution_count": 14,
   "metadata": {
    "collapsed": true
   },
   "outputs": [],
   "source": [
    "for n in norb:\n",
    "    inp={'dft':{'norbv': -n}}\n",
    "    inpname = 'N2_rmult9_norb'+str(n)\n",
    "    Yaml.dump(inp,inputpath + inpname + '.yaml')"
   ]
  },
  {
   "cell_type": "markdown",
   "metadata": {},
   "source": [
    "We execute each file with the command:\n",
    "\n",
    "OMP_NUM_THREADS=1 mpirun -np 8 $BIGDFT_ROOT/bigdft -d ../log/ -n namefile"
   ]
  },
  {
   "cell_type": "markdown",
   "metadata": {
    "collapsed": true
   },
   "source": [
    "Now we read the log of the simulations and plot the energy max in function of the number of virtual orbitals"
   ]
  },
  {
   "cell_type": "code",
   "execution_count": 15,
   "metadata": {},
   "outputs": [
    {
     "data": {
      "text/plain": [
       "3"
      ]
     },
     "execution_count": 15,
     "metadata": {},
     "output_type": "execute_result"
    }
   ],
   "source": [
    "logs = !ls testfiles/N2maxEngVorb/log/log-N2_rmult9_*\n",
    "N2data=[lf.Logfile(l) for l in logs]\n",
    "nRuns=len(N2data)\n",
    "nRuns"
   ]
  },
  {
   "cell_type": "markdown",
   "metadata": {},
   "source": [
    "We create the lists with the values of highest enerrgy and number of virtual orbitals_"
   ]
  },
  {
   "cell_type": "code",
   "execution_count": 16,
   "metadata": {},
   "outputs": [
    {
     "name": "stdout",
     "output_type": "stream",
     "text": [
      "[16, 32, 64]\n",
      "[0.18400946793181, 0.27083912161076301, 0.39650250629308398]\n"
     ]
    }
   ],
   "source": [
    "Emax=[]\n",
    "Norbv=[]\n",
    "for n in N2data:\n",
    "    Norbv.append(-n.log['dft']['norbv'])\n",
    "    Emax.append(n.evals[0][0][-1])\n",
    "print(Norbv)\n",
    "print(Emax)"
   ]
  },
  {
   "cell_type": "markdown",
   "metadata": {},
   "source": [
    "and we sort their argument according the number ov virtual orbitals:"
   ]
  },
  {
   "cell_type": "code",
   "execution_count": 17,
   "metadata": {},
   "outputs": [
    {
     "data": {
      "text/plain": [
       "array([0, 1, 2])"
      ]
     },
     "execution_count": 17,
     "metadata": {},
     "output_type": "execute_result"
    }
   ],
   "source": [
    "l = np.argsort(Norbv)\n",
    "l"
   ]
  },
  {
   "cell_type": "code",
   "execution_count": 18,
   "metadata": {},
   "outputs": [
    {
     "name": "stdout",
     "output_type": "stream",
     "text": [
      "[16, 32, 64]\n",
      "[0.18400946793181, 0.27083912161076301, 0.39650250629308398]\n"
     ]
    }
   ],
   "source": [
    "E=[]\n",
    "N=[]\n",
    "for ind in l:\n",
    "    N.append(Norbv[ind])\n",
    "    E.append(Emax[ind])\n",
    "print(N)\n",
    "print(E)"
   ]
  },
  {
   "cell_type": "code",
   "execution_count": 19,
   "metadata": {
    "scrolled": true
   },
   "outputs": [
    {
     "data": {
      "image/png": "[encoded data removed]",
      "text/plain": [
       "<matplotlib.figure.Figure at 0x7ff756afa390>"
      ]
     },
     "metadata": {},
     "output_type": "display_data"
    }
   ],
   "source": [
    "plt.plot(N,E)\n",
    "plt.scatter(N,E, color='r')\n",
    "plt.title('Emax vs norb (box ='+str(N2data[0].log['Sizes of the simulation domain']['Angstroem'])+')',fontsize=14)\n",
    "plt.show()"
   ]
  },
  {
   "cell_type": "code",
   "execution_count": null,
   "metadata": {
    "collapsed": true
   },
   "outputs": [],
   "source": []
  },
  {
   "cell_type": "code",
   "execution_count": null,
   "metadata": {
    "collapsed": true
   },
   "outputs": [],
   "source": []
  }
 ],
 "metadata": {
  "kernelspec": {
   "display_name": "Python 2",
   "language": "python",
   "name": "python2"
  },
  "language_info": {
   "codemirror_mode": {
    "name": "ipython",
    "version": 2
   },
   "file_extension": ".py",
   "mimetype": "text/x-python",
   "name": "python",
   "nbconvert_exporter": "python",
   "pygments_lexer": "ipython2",
   "version": "2.7.13"
  }
 },
 "nbformat": 4,
 "nbformat_minor": 2
}
