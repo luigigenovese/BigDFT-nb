{
 "cells": [
  {
   "cell_type": "markdown",
   "metadata": {},
   "source": [
    "# Scaling of the maximum energy vs the number of virtual orbitals for $H_2O$"
   ]
  },
  {
   "cell_type": "markdown",
   "metadata": {},
   "source": [
    "We consider a $H_2O$ molecule and we determine the maximum energy, that is the energy of the last virtual orbital in function of the number of virtual orbitals."
   ]
  },
  {
   "cell_type": "code",
   "execution_count": 1,
   "metadata": {
    "collapsed": true
   },
   "outputs": [],
   "source": [
    "#%autosave 0\n",
    "from BigDFT import Logfiles as lf\n",
    "from futile import Yaml\n",
    "import matplotlib.pyplot as plt\n",
    "import numpy as np\n",
    "inputpath = 'testfiles/H2OmaxEngVorb/input/'"
   ]
  },
  {
   "cell_type": "markdown",
   "metadata": {},
   "source": [
    "## Analysis for rmult =[7.0, 9.0]"
   ]
  },
  {
   "cell_type": "markdown",
   "metadata": {},
   "source": [
    "First of all we define the python dictionary that contains the basic keys common to all the file in the run"
   ]
  },
  {
   "cell_type": "code",
   "execution_count": 2,
   "metadata": {
    "collapsed": true
   },
   "outputs": [],
   "source": [
    "inp0 = {'dft' : \n",
    "        {'hgrids': 0.4,\n",
    "         'rmult': [7.0, 9.0],\n",
    "         'gnrm_cv' :1e-8,\n",
    "         'itermax' : 100,\n",
    "         'inputpsiid': 2, #restart from previous wfn\n",
    "         'output_wf': 2, #write wfn on disk\n",
    "         'itermax_virt' : 100},\n",
    "        'radical': 'H2O_rmult7',\n",
    "        'posinp': 'H2O_posinp.xyz'}"
   ]
  },
  {
   "cell_type": "markdown",
   "metadata": {},
   "source": [
    "and we write these common variables in the default file:"
   ]
  },
  {
   "cell_type": "code",
   "execution_count": 3,
   "metadata": {
    "collapsed": true
   },
   "outputs": [],
   "source": [
    "Yaml.dump(inp0,inputpath + 'default.yaml')"
   ]
  },
  {
   "cell_type": "markdown",
   "metadata": {},
   "source": [
    "Then we write a list of input file with increasing number of virtual orbitals"
   ]
  },
  {
   "cell_type": "code",
   "execution_count": 4,
   "metadata": {
    "collapsed": true
   },
   "outputs": [],
   "source": [
    "norb=[16,32,64,128,256]"
   ]
  },
  {
   "cell_type": "code",
   "execution_count": 5,
   "metadata": {
    "collapsed": true
   },
   "outputs": [],
   "source": [
    "for n in norb:\n",
    "    inp={'dft':{'norbv': -n}}\n",
    "    inpname = 'H2O_rmult7_norb'+str(n)\n",
    "    Yaml.dump(inp,inputpath + inpname + '.yaml')"
   ]
  },
  {
   "cell_type": "markdown",
   "metadata": {},
   "source": [
    "We execute each file with the command:\n",
    "\n",
    "OMP_NUM_THREADS=1 mpirun -np 8 $BIGDFT_ROOT/bigdft -d ../log/ -n namefile"
   ]
  },
  {
   "cell_type": "markdown",
   "metadata": {
    "collapsed": true
   },
   "source": [
    "Now we read the log of the simulations and plot the energy max in function of the number of virtual orbitals"
   ]
  },
  {
   "cell_type": "code",
   "execution_count": 6,
   "metadata": {},
   "outputs": [
    {
     "name": "stdout",
     "output_type": "stream",
     "text": [
      "['testfiles/H2OmaxEngVorb/log/log-H2O_rmult7_norb128.yaml', 'testfiles/H2OmaxEngVorb/log/log-H2O_rmult7_norb16.yaml', 'testfiles/H2OmaxEngVorb/log/log-H2O_rmult7_norb256.yaml', 'testfiles/H2OmaxEngVorb/log/log-H2O_rmult7_norb32.yaml', 'testfiles/H2OmaxEngVorb/log/log-H2O_rmult7_norb64.yaml']\n"
     ]
    },
    {
     "data": {
      "text/plain": [
       "5"
      ]
     },
     "execution_count": 6,
     "metadata": {},
     "output_type": "execute_result"
    }
   ],
   "source": [
    "logs = !ls testfiles/H2OmaxEngVorb/log/log-H2O_rmult7_*\n",
    "print(logs)\n",
    "data=[lf.Logfile(l) for l in logs]\n",
    "nRuns=len(data)\n",
    "nRuns"
   ]
  },
  {
   "cell_type": "markdown",
   "metadata": {},
   "source": [
    "We create the lists with the values of highest energy and number of virtual orbitals"
   ]
  },
  {
   "cell_type": "code",
   "execution_count": 7,
   "metadata": {},
   "outputs": [
    {
     "name": "stdout",
     "output_type": "stream",
     "text": [
      "[128, 16, 256, 32, 64]\n",
      "[0.78997614464065802, 0.19843640600587401, 1.3289889514998701, 0.32896874747918298, 0.532305639539432]\n"
     ]
    }
   ],
   "source": [
    "Emax=[]\n",
    "Norbv=[]\n",
    "for n in data:\n",
    "    Norbv.append(-n.log['dft']['norbv'])\n",
    "    Emax.append(n.evals[0][0][-1])\n",
    "print(Norbv)\n",
    "print(Emax)"
   ]
  },
  {
   "cell_type": "markdown",
   "metadata": {},
   "source": [
    "and we sort their argument according the number ov virtual orbitals:"
   ]
  },
  {
   "cell_type": "code",
   "execution_count": 8,
   "metadata": {},
   "outputs": [
    {
     "data": {
      "text/plain": [
       "array([1, 3, 4, 0, 2])"
      ]
     },
     "execution_count": 8,
     "metadata": {},
     "output_type": "execute_result"
    }
   ],
   "source": [
    "l = np.argsort(Norbv)\n",
    "l"
   ]
  },
  {
   "cell_type": "code",
   "execution_count": 9,
   "metadata": {},
   "outputs": [
    {
     "name": "stdout",
     "output_type": "stream",
     "text": [
      "[16, 32, 64, 128, 256]\n",
      "[0.19843640600587401, 0.32896874747918298, 0.532305639539432, 0.78997614464065802, 1.3289889514998701]\n"
     ]
    }
   ],
   "source": [
    "E=[]\n",
    "N=[]\n",
    "for ind in l:\n",
    "    N.append(Norbv[ind])\n",
    "    E.append(Emax[ind])\n",
    "print(N)\n",
    "print(E)"
   ]
  },
  {
   "cell_type": "code",
   "execution_count": 10,
   "metadata": {
    "scrolled": true
   },
   "outputs": [
    {
     "data": {
      "image/png": "[encoded data removed]",
      "text/plain": [
       "<matplotlib.figure.Figure at 0x7f05c080d490>"
      ]
     },
     "metadata": {},
     "output_type": "display_data"
    }
   ],
   "source": [
    "plt.plot(N,E)\n",
    "plt.scatter(N,E, color='r')\n",
    "plt.title('Emax vs norb (box ='+str(data[0].log['Sizes of the simulation domain']['Angstroem'])+')',fontsize=14)\n",
    "plt.show()"
   ]
  },
  {
   "cell_type": "markdown",
   "metadata": {
    "collapsed": true
   },
   "source": [
    "### Expansion of the perturbed KS orbitals"
   ]
  },
  {
   "cell_type": "markdown",
   "metadata": {
    "collapsed": true
   },
   "source": [
    "We compute the projection of the KS orbitals for the ground state of the system under the action of a static electric field on the orbitals (both occupied and empty) computed here. We consider a field of norm $1e-2$ both in the $z$ and $x$ directions. The orbitals of the perturbed system have been computed for rmult = [7.0 , 9.0]"
   ]
  },
  {
   "cell_type": "code",
   "execution_count": 11,
   "metadata": {
    "collapsed": true
   },
   "outputs": [],
   "source": [
    "inp0 = {'dft' : \n",
    "        {'hgrids': 0.4,\n",
    "         'rmult': [7.0, 9.0],\n",
    "         'gnrm_cv' :1e-8,\n",
    "         'itermax' : 100,\n",
    "         'inputpsiid': 2, #restart from previous wfn\n",
    "         'output_wf': 0,\n",
    "         'itermax_virt' : 1},\n",
    "        'radical': 'H2O_rmult7',\n",
    "        'posinp': 'H2O_posinp.xyz'}\n",
    "\n",
    "\n",
    "Yaml.dump(inp0,inputpath + 'default.yaml')"
   ]
  },
  {
   "cell_type": "markdown",
   "metadata": {},
   "source": [
    "The path of the $psi'$ orbitals must be given in as a relative path starting from the folder that contains the log files. \n",
    "For the second run, the one with the $E_z$ perturbation in this case, we don't write the resulting wf on the disk and set itermax_virt : 1, in this way the simulation only perform the scalar product of the states given as input with the perturbed wf"
   ]
  },
  {
   "cell_type": "code",
   "execution_count": 12,
   "metadata": {
    "collapsed": true
   },
   "outputs": [],
   "source": [
    "n = 256\n",
    "Ex_psip = '../data-Ex_1em2_rmult_7/'\n",
    "Ez_psip = '../data-Ez_1em2_rmult_7/'\n",
    "inpEx={'dft':{'norbv': -n},'tddft':{'decompose_perturbation': Ex_psip}}\n",
    "inpEz={'dft':{'norbv': -n},'tddft':{'decompose_perturbation': Ez_psip}}\n",
    "ExInpname = 'H2OEx_rmult7_norb'+str(n)\n",
    "EzInpname = 'H2OEz_rmult7_norb'+str(n)\n",
    "Yaml.dump(inpEz,inputpath + EzInpname + '.yaml')\n",
    "Yaml.dump(inpEx,inputpath + ExInpname + '.yaml')"
   ]
  },
  {
   "cell_type": "markdown",
   "metadata": {},
   "source": [
    "Now we import the result and perform the data analysis"
   ]
  },
  {
   "cell_type": "code",
   "execution_count": 13,
   "metadata": {},
   "outputs": [
    {
     "name": "stdout",
     "output_type": "stream",
     "text": [
      "['testfiles/H2OmaxEngVorb/log/log-H2OEx_rmult7_norb256.yaml', 'testfiles/H2OmaxEngVorb/log/log-H2OEz_rmult7_norb256.yaml']\n"
     ]
    }
   ],
   "source": [
    "logs = !ls testfiles/H2OmaxEngVorb/log/log-H2OE*_rmult7_norb256.yaml\n",
    "print(logs)\n",
    "data=[lf.Logfile(l) for l in logs]"
   ]
  },
  {
   "cell_type": "markdown",
   "metadata": {},
   "source": [
    "We define the  following list of arrays (the first element correponds to Ex, the second to Ez): "
   ]
  },
  {
   "cell_type": "code",
   "execution_count": 14,
   "metadata": {
    "collapsed": true
   },
   "outputs": [],
   "source": [
    "coeff_occ = [n.log['<psi_i|psi_j>'] for n in data]\n",
    "coeff_occ=np.double(np.array(coeff_occ))\n",
    "\n",
    "coeff_vrt = [n.log['<psiv_i|D psi_j>'] for n in data]\n",
    "coeff_vrt=np.double(np.array(coeff_vrt))"
   ]
  },
  {
   "cell_type": "markdown",
   "metadata": {},
   "source": [
    "The element [i,j] of coeff_occ[n] contains the projection of the j-th perturbed (occupied) orbital on the i-th unperturbed (occupied) one. In the same way but with the opposite convention, coeff_vrt contains the projection of the i-th perturbed (occupied) orbital on the j-th unperturbed empty one"
   ]
  },
  {
   "cell_type": "markdown",
   "metadata": {},
   "source": [
    "We also read other useful quantities (we define common quantities for both Ex and Ez since the orbitals are the same)"
   ]
  },
  {
   "cell_type": "code",
   "execution_count": 15,
   "metadata": {},
   "outputs": [
    {
     "name": "stdout",
     "output_type": "stream",
     "text": [
      "no_occ 4 n_vrt 256\n"
     ]
    }
   ],
   "source": [
    "n_occ,n_vrt = coeff_vrt[0].shape\n",
    "print 'no_occ',n_occ, 'n_vrt', n_vrt\n",
    "en = data[0].evals[0][0]\n",
    "e_v=[]\n",
    "e_o=[]\n",
    "for o in range(n_occ):\n",
    "    e_o.append(en[o])\n",
    "for v in range(n_occ,n_occ+n_vrt):\n",
    "    e_v.append(en[v])\n"
   ]
  },
  {
   "cell_type": "code",
   "execution_count": 16,
   "metadata": {},
   "outputs": [
    {
     "name": "stdout",
     "output_type": "stream",
     "text": [
      "psiprimeEx Norm  [ 0.00182439  0.01328624  0.01098311  0.01046127]\n",
      "psiprimeEz Norm  [ 0.00146757  0.00706941  0.01776398  0.01003218]\n"
     ]
    }
   ],
   "source": [
    "# we compute the norm of the perturbed orbitals projected on the basis of the occupied states\n",
    "psiprimeEx=np.array([ 0.0 for i in range(n_occ)])\n",
    "psiprimeEz=np.array([ 0.0 for i in range(n_occ)])\n",
    "for o in range(n_occ):\n",
    "    psiprimeEx += coeff_occ[0][o]**2\n",
    "    psiprimeEz += coeff_occ[1][o]**2\n",
    "# we quantify the magnitude of the missing part\n",
    "psiprimeEx = 1.0-psiprimeEx\n",
    "psiprimeEz = 1.0-psiprimeEz\n",
    "print 'psiprimeEx Norm ',np.sqrt(psiprimeEx)\n",
    "print 'psiprimeEz Norm ',np.sqrt(psiprimeEz)\n",
    "# and we find the maximum value\n",
    "referenceEx=np.max(psiprimeEx)\n",
    "referenceEz=np.max(psiprimeEz)\n",
    "# we add the contribution of the empty orbitals\n",
    "crEx=[[] for p in range(n_occ)]\n",
    "crEz=[[] for p in range(n_occ)]\n",
    "for p in range(n_occ):\n",
    "    for v in range(n_vrt):\n",
    "      psiprimeEx[p] -= coeff_vrt[0][p][v]**2\n",
    "      psiprimeEz[p] -= coeff_vrt[1][p][v]**2    \n",
    "      crEx[p].append(psiprimeEx[p]/referenceEx)\n",
    "      crEz[p].append(psiprimeEz[p]/referenceEz)"
   ]
  },
  {
   "cell_type": "code",
   "execution_count": 17,
   "metadata": {
    "collapsed": true
   },
   "outputs": [],
   "source": [
    "#to display the plot in a separate window\n",
    "#%matplotlib auto\n",
    "#to display back in the nb\n",
    "#%matplotlib inline "
   ]
  },
  {
   "cell_type": "code",
   "execution_count": 18,
   "metadata": {
    "scrolled": false
   },
   "outputs": [
    {
     "data": {
      "image/png": "[encoded data removed]",
      "text/plain": [
       "<matplotlib.figure.Figure at 0x7f05c0af97d0>"
      ]
     },
     "metadata": {},
     "output_type": "display_data"
    }
   ],
   "source": [
    "for p in range(n_occ):\n",
    "    plt.semilogy(27.211*np.array(e_v),crEx[p],'-',label='CR'+str(p))\n",
    "plt.legend()\n",
    "plt.title('Completeness relation Ex field (rmult=7)', fontsize=14)\n",
    "plt.show()"
   ]
  },
  {
   "cell_type": "code",
   "execution_count": 19,
   "metadata": {},
   "outputs": [
    {
     "data": {
      "image/png": "[encoded data removed]",
      "text/plain": [
       "<matplotlib.figure.Figure at 0x7f05c075d110>"
      ]
     },
     "metadata": {},
     "output_type": "display_data"
    }
   ],
   "source": [
    "for p in range(n_occ):\n",
    "    plt.semilogy(27.211*np.array(e_v),crEz[p],'-',label='CR'+str(p))\n",
    "plt.legend()\n",
    "plt.title('Completeness relation Ez field (rmult=7)', fontsize=14)\n",
    "plt.show()"
   ]
  },
  {
   "cell_type": "markdown",
   "metadata": {},
   "source": [
    "## Analysis for rmult =[9.0, 9.0]"
   ]
  },
  {
   "cell_type": "markdown",
   "metadata": {},
   "source": [
    "First of all we define the python dictionary that contains the basic keys common to all the file in the run"
   ]
  },
  {
   "cell_type": "code",
   "execution_count": 20,
   "metadata": {
    "collapsed": true
   },
   "outputs": [],
   "source": [
    "inp0 = {'dft' : \n",
    "        {'hgrids': 0.4,\n",
    "         'rmult': [9.0, 9.0],\n",
    "         'gnrm_cv' :1e-8,\n",
    "         'itermax' : 100,\n",
    "         'inputpsiid': 2, #restart from previous wfn\n",
    "         'output_wf': 2, #write wfn on disk\n",
    "         'itermax_virt' : 100},\n",
    "        'radical': 'H2O_rmult9',\n",
    "        'posinp': 'H2O_posinp.xyz'}"
   ]
  },
  {
   "cell_type": "markdown",
   "metadata": {},
   "source": [
    "and we write these common variables in the default file:"
   ]
  },
  {
   "cell_type": "code",
   "execution_count": 21,
   "metadata": {
    "collapsed": true
   },
   "outputs": [],
   "source": [
    "Yaml.dump(inp0,inputpath + 'default.yaml')"
   ]
  },
  {
   "cell_type": "markdown",
   "metadata": {},
   "source": [
    "Then we write a list of input file with increasing number of virtual orbitals"
   ]
  },
  {
   "cell_type": "code",
   "execution_count": 22,
   "metadata": {
    "collapsed": true
   },
   "outputs": [],
   "source": [
    "norb=[16,32,64,128,256]"
   ]
  },
  {
   "cell_type": "code",
   "execution_count": 23,
   "metadata": {
    "collapsed": true
   },
   "outputs": [],
   "source": [
    "for n in norb:\n",
    "    inp={'dft':{'norbv': -n}}\n",
    "    inpname = 'H2O_rmult9_norb'+str(n)\n",
    "    Yaml.dump(inp,inputpath + inpname + '.yaml')"
   ]
  },
  {
   "cell_type": "markdown",
   "metadata": {},
   "source": [
    "We execute each file with the command:\n",
    "\n",
    "OMP_NUM_THREADS=1 mpirun -np 8 $BIGDFT_ROOT/bigdft -d ../log/ -n namefile"
   ]
  },
  {
   "cell_type": "markdown",
   "metadata": {
    "collapsed": true
   },
   "source": [
    "Now we read the log of the simulations and plot the energy max in function of the number of virtual orbitals"
   ]
  },
  {
   "cell_type": "code",
   "execution_count": 24,
   "metadata": {},
   "outputs": [
    {
     "name": "stdout",
     "output_type": "stream",
     "text": [
      "['testfiles/H2OmaxEngVorb/log/log-H2O_rmult9_norb128.yaml', 'testfiles/H2OmaxEngVorb/log/log-H2O_rmult9_norb16.yaml', 'testfiles/H2OmaxEngVorb/log/log-H2O_rmult9_norb256.yaml', 'testfiles/H2OmaxEngVorb/log/log-H2O_rmult9_norb32.yaml', 'testfiles/H2OmaxEngVorb/log/log-H2O_rmult9_norb64.yaml']\n"
     ]
    },
    {
     "data": {
      "text/plain": [
       "5"
      ]
     },
     "execution_count": 24,
     "metadata": {},
     "output_type": "execute_result"
    }
   ],
   "source": [
    "logs = !ls testfiles/H2OmaxEngVorb/log/log-H2O_rmult9_*\n",
    "print(logs)\n",
    "data=[lf.Logfile(l) for l in logs]\n",
    "nRuns=len(data)\n",
    "nRuns"
   ]
  },
  {
   "cell_type": "markdown",
   "metadata": {},
   "source": [
    "We create the lists with the values of highest energy and number of virtual orbitals"
   ]
  },
  {
   "cell_type": "code",
   "execution_count": 25,
   "metadata": {},
   "outputs": [
    {
     "name": "stdout",
     "output_type": "stream",
     "text": [
      "[128, 16, 256, 32, 64]\n",
      "[0.50665868110754497, 0.12755683458470901, 0.85960157547102301, 0.181754704544735, 0.35543363213865897]\n"
     ]
    }
   ],
   "source": [
    "Emax=[]\n",
    "Norbv=[]\n",
    "for n in data:\n",
    "    Norbv.append(-n.log['dft']['norbv'])\n",
    "    Emax.append(n.evals[0][0][-1])\n",
    "print(Norbv)\n",
    "print(Emax)"
   ]
  },
  {
   "cell_type": "markdown",
   "metadata": {},
   "source": [
    "and we sort their argument according the number ov virtual orbitals:"
   ]
  },
  {
   "cell_type": "code",
   "execution_count": 26,
   "metadata": {},
   "outputs": [
    {
     "data": {
      "text/plain": [
       "array([1, 3, 4, 0, 2])"
      ]
     },
     "execution_count": 26,
     "metadata": {},
     "output_type": "execute_result"
    }
   ],
   "source": [
    "l = np.argsort(Norbv)\n",
    "l"
   ]
  },
  {
   "cell_type": "code",
   "execution_count": 27,
   "metadata": {},
   "outputs": [
    {
     "name": "stdout",
     "output_type": "stream",
     "text": [
      "[16, 32, 64, 128, 256]\n",
      "[0.12755683458470901, 0.181754704544735, 0.35543363213865897, 0.50665868110754497, 0.85960157547102301]\n"
     ]
    }
   ],
   "source": [
    "E=[]\n",
    "N=[]\n",
    "for ind in l:\n",
    "    N.append(Norbv[ind])\n",
    "    E.append(Emax[ind])\n",
    "print(N)\n",
    "print(E)"
   ]
  },
  {
   "cell_type": "code",
   "execution_count": 28,
   "metadata": {
    "scrolled": true
   },
   "outputs": [
    {
     "data": {
      "image/png": "[encoded data removed]",
      "text/plain": [
       "<matplotlib.figure.Figure at 0x7f05c0901450>"
      ]
     },
     "metadata": {},
     "output_type": "display_data"
    }
   ],
   "source": [
    "plt.plot(N,E)\n",
    "plt.scatter(N,E, color='r')\n",
    "plt.title('Emax vs norb (box ='+str(data[0].log['Sizes of the simulation domain']['Angstroem'])+')',fontsize=14)\n",
    "plt.show()"
   ]
  },
  {
   "cell_type": "markdown",
   "metadata": {
    "collapsed": true
   },
   "source": [
    "### Expansion of the perturbed KS orbitals"
   ]
  },
  {
   "cell_type": "markdown",
   "metadata": {
    "collapsed": true
   },
   "source": [
    "We compute the projection of the KS orbitals for the ground state of the system under the action of a static electric field on the orbitals (both occupied and empty) computed here. We consider a field of norm $1e-2$ both in the $z$ and $x$ directions. The orbitals of the perturbed system have been computed for rmult = [9.0 , 9.0]"
   ]
  },
  {
   "cell_type": "code",
   "execution_count": 29,
   "metadata": {
    "collapsed": true
   },
   "outputs": [],
   "source": [
    "inp0 = {'dft' : \n",
    "        {'hgrids': 0.4,\n",
    "         'rmult': [9.0, 9.0],\n",
    "         'gnrm_cv' :1e-8,\n",
    "         'itermax' : 100,\n",
    "         'inputpsiid': 2, #restart from previous wfn\n",
    "         'output_wf': 0,\n",
    "         'itermax_virt' : 1},\n",
    "        'radical': 'H2O_rmult9',\n",
    "        'posinp': 'H2O_posinp.xyz'}\n",
    "\n",
    "Yaml.dump(inp0,inputpath + 'default.yaml')"
   ]
  },
  {
   "cell_type": "markdown",
   "metadata": {},
   "source": [
    "We don't write the resulting wf on the disk and set itermax_virt : 1, in this way the simulation only perform the scalar product of the states given as input with the perturbed wf"
   ]
  },
  {
   "cell_type": "code",
   "execution_count": 30,
   "metadata": {
    "collapsed": true
   },
   "outputs": [],
   "source": [
    "n = 256\n",
    "Ex_psip = '../data-Ex_1em2_rmult_9/'\n",
    "Ez_psip = '../data-Ez_1em2_rmult_9/'\n",
    "inpEx={'dft':{'norbv': -n},'tddft':{'decompose_perturbation': Ex_psip}}\n",
    "inpEz={'dft':{'norbv': -n},'tddft':{'decompose_perturbation': Ez_psip}}\n",
    "ExInpname = 'H2OEx_rmult9_norb'+str(n)\n",
    "EzInpname = 'H2OEz_rmult9_norb'+str(n)\n",
    "\n",
    "Yaml.dump(inpEz,inputpath + EzInpname + '.yaml')\n",
    "Yaml.dump(inpEx,inputpath + ExInpname + '.yaml')"
   ]
  },
  {
   "cell_type": "markdown",
   "metadata": {},
   "source": [
    "Now we import the result and perform the data analysis"
   ]
  },
  {
   "cell_type": "code",
   "execution_count": 31,
   "metadata": {},
   "outputs": [
    {
     "name": "stdout",
     "output_type": "stream",
     "text": [
      "['testfiles/H2OmaxEngVorb/log/log-H2OEx_rmult9_norb256.yaml', 'testfiles/H2OmaxEngVorb/log/log-H2OEz_rmult9_norb256.yaml']\n"
     ]
    }
   ],
   "source": [
    "logs = !ls testfiles/H2OmaxEngVorb/log/log-H2OE*_rmult9_norb256.yaml\n",
    "print(logs)\n",
    "data=[lf.Logfile(l) for l in logs]"
   ]
  },
  {
   "cell_type": "markdown",
   "metadata": {},
   "source": [
    "We define the  following list of arrays (the first element correponds to Ex, the second to Ez): "
   ]
  },
  {
   "cell_type": "code",
   "execution_count": 32,
   "metadata": {
    "collapsed": true
   },
   "outputs": [],
   "source": [
    "coeff_occ = [n.log['<psi_i|psi_j>'] for n in data]\n",
    "coeff_occ=np.double(np.array(coeff_occ))\n",
    "\n",
    "coeff_vrt = [n.log['<psiv_i|D psi_j>'] for n in data]\n",
    "coeff_vrt=np.double(np.array(coeff_vrt))"
   ]
  },
  {
   "cell_type": "markdown",
   "metadata": {},
   "source": [
    "The element [i,j] of coeff_occ[n] contains the projection of the j-th perturbed (occupied) orbital on the i-th unperturbed (occupied) one. In the same way but with the opposite convention, coeff_vrt contains the projection of the i-th perturbed (occupied) orbital on the j-th unperturbed empty one"
   ]
  },
  {
   "cell_type": "markdown",
   "metadata": {},
   "source": [
    "We also read other useful quantities (we define common quantities for both Ex and Ez since the orbitals are the same)"
   ]
  },
  {
   "cell_type": "code",
   "execution_count": 33,
   "metadata": {},
   "outputs": [
    {
     "name": "stdout",
     "output_type": "stream",
     "text": [
      "no_occ 4 n_vrt 256\n"
     ]
    }
   ],
   "source": [
    "n_occ,n_vrt = coeff_vrt[0].shape\n",
    "print 'no_occ',n_occ, 'n_vrt', n_vrt\n",
    "en = data[0].evals[0][0]\n",
    "e_v=[]\n",
    "e_o=[]\n",
    "for o in range(n_occ):\n",
    "    e_o.append(en[o])\n",
    "for v in range(n_occ,n_occ+n_vrt):\n",
    "    e_v.append(en[v])\n"
   ]
  },
  {
   "cell_type": "code",
   "execution_count": 34,
   "metadata": {},
   "outputs": [
    {
     "name": "stdout",
     "output_type": "stream",
     "text": [
      "psiprimeEx Norm  [ 0.00182436  0.01328667  0.01098948  0.01049321]\n",
      "psiprimeEz Norm  [ 0.00146739  0.00707072  0.01780321  0.01009113]\n"
     ]
    }
   ],
   "source": [
    "# we compute the norm of the perturbed orbitals projected on the basis of the occupied states\n",
    "psiprimeEx=np.array([ 0.0 for i in range(n_occ)])\n",
    "psiprimeEz=np.array([ 0.0 for i in range(n_occ)])\n",
    "for o in range(n_occ):\n",
    "    psiprimeEx += coeff_occ[0][o]**2\n",
    "    psiprimeEz += coeff_occ[1][o]**2\n",
    "# we quantify the magnitude of the missing part\n",
    "psiprimeEx = 1.0-psiprimeEx\n",
    "psiprimeEz = 1.0-psiprimeEz\n",
    "print 'psiprimeEx Norm ',np.sqrt(psiprimeEx)\n",
    "print 'psiprimeEz Norm ',np.sqrt(psiprimeEz)\n",
    "# and we find the maximum value\n",
    "referenceEx=np.max(psiprimeEx)\n",
    "referenceEz=np.max(psiprimeEz)\n",
    "# we add the contribution of the empty orbitals\n",
    "crEx=[[] for p in range(n_occ)]\n",
    "crEz=[[] for p in range(n_occ)]\n",
    "for p in range(n_occ):\n",
    "    for v in range(n_vrt):\n",
    "      psiprimeEx[p] -= coeff_vrt[0][p][v]**2\n",
    "      psiprimeEz[p] -= coeff_vrt[1][p][v]**2    \n",
    "      crEx[p].append(psiprimeEx[p]/referenceEx)\n",
    "      crEz[p].append(psiprimeEz[p]/referenceEz)"
   ]
  },
  {
   "cell_type": "code",
   "execution_count": 35,
   "metadata": {
    "collapsed": true
   },
   "outputs": [],
   "source": [
    "#to display the plot in a separate window\n",
    "#%matplotlib auto\n",
    "#to display back in the nb\n",
    "#%matplotlib inline "
   ]
  },
  {
   "cell_type": "code",
   "execution_count": 36,
   "metadata": {
    "scrolled": false
   },
   "outputs": [
    {
     "data": {
      "image/png": "[encoded data removed]",
      "text/plain": [
       "<matplotlib.figure.Figure at 0x7f05c088ad10>"
      ]
     },
     "metadata": {},
     "output_type": "display_data"
    }
   ],
   "source": [
    "for p in range(n_occ):\n",
    "    plt.semilogy(27.211*np.array(e_v),crEx[p],'-',label='CR'+str(p))\n",
    "plt.legend()\n",
    "plt.title('Completeness relation Ex field (rmult=9)', fontsize=14)\n",
    "plt.show()"
   ]
  },
  {
   "cell_type": "code",
   "execution_count": 37,
   "metadata": {},
   "outputs": [
    {
     "data": {
      "image/png": "[encoded data removed]",
      "text/plain": [
       "<matplotlib.figure.Figure at 0x7f05c0a0ca50>"
      ]
     },
     "metadata": {},
     "output_type": "display_data"
    }
   ],
   "source": [
    "for p in range(n_occ):\n",
    "    plt.semilogy(27.211*np.array(e_v),crEz[p],'-',label='CR'+str(p))\n",
    "plt.legend()\n",
    "plt.title('Completeness relation Ez field (rmult=9)', fontsize=14)\n",
    "plt.show()"
   ]
  },
  {
   "cell_type": "code",
   "execution_count": null,
   "metadata": {
    "collapsed": true
   },
   "outputs": [],
   "source": []
  }
 ],
 "metadata": {
  "kernelspec": {
   "display_name": "Python 2",
   "language": "python",
   "name": "python2"
  },
  "language_info": {
   "codemirror_mode": {
    "name": "ipython",
    "version": 2
   },
   "file_extension": ".py",
   "mimetype": "text/x-python",
   "name": "python",
   "nbconvert_exporter": "python",
   "pygments_lexer": "ipython2",
   "version": "2.7.13"
  }
 },
 "nbformat": 4,
 "nbformat_minor": 2
}
