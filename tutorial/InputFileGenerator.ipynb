{
 "cells": [
  {
   "cell_type": "code",
   "execution_count": 1,
   "metadata": {
    "collapsed": true
   },
   "outputs": [],
   "source": [
    "from futile import Yaml\n",
    "path = 'testfiles/inputFile/'"
   ]
  },
  {
   "cell_type": "markdown",
   "metadata": {},
   "source": [
    "# Input file generator"
   ]
  },
  {
   "cell_type": "markdown",
   "metadata": {},
   "source": [
    "This notebook shows how to automatically generate a set of input files for running many dft computations in sequence.\n",
    "We consider, as an example, a $N_2$ molecule and we build a set of simulations with increasing dimension of the simulation box "
   ]
  },
  {
   "cell_type": "markdown",
   "metadata": {},
   "source": [
    "First of all we define the python dictionary that contains the basic keys common to all the file in run, for instance:"
   ]
  },
  {
   "cell_type": "code",
   "execution_count": 2,
   "metadata": {
    "collapsed": true
   },
   "outputs": [],
   "source": [
    "inp0 = {'dft' : \n",
    "        {'hgrids': 0.4,\n",
    "         'norbv': -16, #use trace-minimzation (more robust with restart)\n",
    "         'inputpsiid': 2, #restart from previous wfn\n",
    "         'output_wf': 2}, #write wfn on disk\n",
    "        'radical': 'N2', #always in the same directory\n",
    "        'posinp': 'N2_posinp.xyz'}"
   ]
  },
  {
   "cell_type": "markdown",
   "metadata": {},
   "source": [
    "Now we repeat this operation by writing a function that builds a set of file, one for each of the value of rmult. We also build a run file that contains the name of all the input files. For instance:"
   ]
  },
  {
   "cell_type": "markdown",
   "metadata": {},
   "source": [
    "Next, we build a list that contains all values of rmult, for istance:"
   ]
  },
  {
   "cell_type": "code",
   "execution_count": 3,
   "metadata": {
    "collapsed": false
   },
   "outputs": [
    {
     "data": {
      "text/plain": [
       "[[7.0, 9.0], [8.0, 9.0], [9.0, 9.0]]"
      ]
     },
     "execution_count": 3,
     "metadata": {},
     "output_type": "execute_result"
    }
   ],
   "source": [
    "rval = [[float(i), 9.0] for i in range(7,10)]\n",
    "rval"
   ]
  },
  {
   "cell_type": "markdown",
   "metadata": {},
   "source": [
    "We first write these common variables in the default file (named \"default.yaml\" according to BigDFT specification):"
   ]
  },
  {
   "cell_type": "code",
   "execution_count": 4,
   "metadata": {
    "collapsed": true
   },
   "outputs": [],
   "source": [
    "Yaml.dump(inp0,path + 'default.yaml')"
   ]
  },
  {
   "cell_type": "markdown",
   "metadata": {
    "collapsed": true
   },
   "source": [
    "Finally, we perform a loop that for each value of rval adds the key ['dft']['rmult'] to the dictionary and\n",
    "save it as a Yaml file using the Yaml.dump function. The procedure builds a different file for each value of rval and also build a separate file (called runs) that contains the name of all the generated file.\n",
    "\n",
    "The files are written in the folder testfiles/inputFile"
   ]
  },
  {
   "cell_type": "code",
   "execution_count": 5,
   "metadata": {
    "collapsed": false
   },
   "outputs": [],
   "source": [
    "lrun=[]\n",
    "for r in rval:\n",
    "    inp={'dft':{'rmult': r}}\n",
    "    inpname = 'N2_rmult'+str(r[0])\n",
    "    Yaml.dump(inp,path + inpname + '.yaml')\n",
    "    lrun.append(inpname)\n",
    "Yaml.dump(lrun,path+'runs')\n",
    "    "
   ]
  },
  {
   "cell_type": "markdown",
   "metadata": {
    "collapsed": true
   },
   "source": [
    "The sequence of file can be executed with the command:\n",
    "\n",
    "OMP_NUM_THREADS=1 mpirun -np n $BIGDFT_ROOT/bigdft -r runs\n",
    "\n",
    "where n is the number of mpi processes."
   ]
  },
  {
   "cell_type": "code",
   "execution_count": null,
   "metadata": {
    "collapsed": true
   },
   "outputs": [],
   "source": []
  }
 ],
 "metadata": {
  "kernelspec": {
   "display_name": "Python 2",
   "language": "python",
   "name": "python2"
  },
  "language_info": {
   "codemirror_mode": {
    "name": "ipython",
    "version": 2
   },
   "file_extension": ".py",
   "mimetype": "text/x-python",
   "name": "python",
   "nbconvert_exporter": "python",
   "pygments_lexer": "ipython2",
   "version": "2.7.6"
  }
 },
 "nbformat": 4,
 "nbformat_minor": 2
}
