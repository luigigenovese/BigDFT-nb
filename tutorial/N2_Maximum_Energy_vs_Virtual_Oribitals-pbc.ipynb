{
 "cells": [
  {
   "cell_type": "markdown",
   "metadata": {},
   "source": [
    "# Scaling of the maximum energy vs the number of virtual orbitals for $N_2$ with pbc"
   ]
  },
  {
   "cell_type": "markdown",
   "metadata": {},
   "source": [
    "We consider a $N_2$ molecule and we determine the maximum energy, that is the energy of the last virtual orbital in function of the number of virtual orbitals."
   ]
  },
  {
   "cell_type": "code",
   "execution_count": 1,
   "metadata": {
    "collapsed": true
   },
   "outputs": [],
   "source": [
    "#%autosave 0\n",
    "from BigDFT import Logfiles as lf\n",
    "from futile import Yaml\n",
    "import matplotlib.pyplot as plt\n",
    "import numpy as np\n",
    "inputpath = 'testfiles/N2maxEngVorb/input-pbc/'"
   ]
  },
  {
   "cell_type": "markdown",
   "metadata": {},
   "source": [
    "## Analysis for rmult =[7.0, 9.0]"
   ]
  },
  {
   "cell_type": "markdown",
   "metadata": {},
   "source": [
    "First of all we define the python dictionary that contains the basic keys common to all the file in the run.  We use pbc using the same box built for rmult=7 in the free buondary condition."
   ]
  },
  {
   "cell_type": "code",
   "execution_count": 2,
   "metadata": {
    "collapsed": true
   },
   "outputs": [],
   "source": [
    "inp0 = {'dft' : \n",
    "        {'hgrids': 0.4,\n",
    "         'rmult': [7.0, 9.0],\n",
    "         'gnrm_cv' : 1e-8,\n",
    "         'itermax' :100},\n",
    "        'radical': 'N2_rmult7-pbc', #always in the same directory\n",
    "        'posinp': 'N2_posinp_rmult7-pbc.xyz'}"
   ]
  },
  {
   "cell_type": "markdown",
   "metadata": {},
   "source": [
    "and we write these common variables in the default file:"
   ]
  },
  {
   "cell_type": "code",
   "execution_count": 3,
   "metadata": {
    "collapsed": true
   },
   "outputs": [],
   "source": [
    "Yaml.dump(inp0,inputpath + 'default.yaml')"
   ]
  },
  {
   "cell_type": "markdown",
   "metadata": {},
   "source": [
    "Then we write a list of input file with increasing number of virtual orbitals"
   ]
  },
  {
   "cell_type": "code",
   "execution_count": 4,
   "metadata": {
    "collapsed": true
   },
   "outputs": [],
   "source": [
    "norb=[16,32,64,128,256]"
   ]
  },
  {
   "cell_type": "code",
   "execution_count": 5,
   "metadata": {
    "collapsed": true
   },
   "outputs": [],
   "source": [
    "for n in norb:\n",
    "    inp={'dft':{'norbv': -n}}\n",
    "    inp = {'dft' : \n",
    "        {'norbv': -n,\n",
    "         'inputpsiid': 2, #restart from previous wfn\n",
    "         'output_wf': 2, #write wfn on disk\n",
    "         'itermax_virt' : 100}}\n",
    "    inpname = 'N2-pbc_rmult7_norb'+str(n)\n",
    "    Yaml.dump(inp,inputpath + inpname + '.yaml')"
   ]
  },
  {
   "cell_type": "markdown",
   "metadata": {},
   "source": [
    "We execute each file with the command:\n",
    "\n",
    "OMP_NUM_THREADS=1 mpirun -np 8 $BIGDFT_ROOT/bigdft -d ../log-pbc/ -n namefile"
   ]
  },
  {
   "cell_type": "markdown",
   "metadata": {
    "collapsed": true
   },
   "source": [
    "Now we read the log of the simulations and plot the energy max in function of the number of virtual orbitals"
   ]
  },
  {
   "cell_type": "code",
   "execution_count": 6,
   "metadata": {},
   "outputs": [
    {
     "name": "stdout",
     "output_type": "stream",
     "text": [
      "['testfiles/N2maxEngVorb/log-pbc/log-N2-pbc_rmult7_norb128.yaml', 'testfiles/N2maxEngVorb/log-pbc/log-N2-pbc_rmult7_norb16.yaml', 'testfiles/N2maxEngVorb/log-pbc/log-N2-pbc_rmult7_norb256.yaml', 'testfiles/N2maxEngVorb/log-pbc/log-N2-pbc_rmult7_norb32.yaml', 'testfiles/N2maxEngVorb/log-pbc/log-N2-pbc_rmult7_norb64.yaml']\n"
     ]
    },
    {
     "data": {
      "text/plain": [
       "5"
      ]
     },
     "execution_count": 6,
     "metadata": {},
     "output_type": "execute_result"
    }
   ],
   "source": [
    "logs = !ls testfiles/N2maxEngVorb/log-pbc/log-N2-pbc*\n",
    "print(logs)\n",
    "N2data=[lf.Logfile(l) for l in logs]\n",
    "nRuns=len(N2data)\n",
    "nRuns"
   ]
  },
  {
   "cell_type": "markdown",
   "metadata": {},
   "source": [
    "We create the lists with the values of highest enerrgy and number of virtual orbitals_"
   ]
  },
  {
   "cell_type": "code",
   "execution_count": 7,
   "metadata": {},
   "outputs": [
    {
     "name": "stdout",
     "output_type": "stream",
     "text": [
      "[128, 16, 256, 32, 64]\n",
      "[0.91533422434857403, 0.21919479258389701, 1.44814357733503, 0.36691826999392102, 0.56133322517397599]\n"
     ]
    }
   ],
   "source": [
    "Emax=[]\n",
    "Norbv=[]\n",
    "for n in N2data:\n",
    "    Norbv.append(-n.log['dft']['norbv'])\n",
    "    Emax.append(n.evals[0][0][-1])\n",
    "print(Norbv)\n",
    "print(Emax)"
   ]
  },
  {
   "cell_type": "markdown",
   "metadata": {},
   "source": [
    "and we sort their argument according the number ov virtual orbitals:"
   ]
  },
  {
   "cell_type": "code",
   "execution_count": 8,
   "metadata": {},
   "outputs": [
    {
     "data": {
      "text/plain": [
       "array([1, 3, 4, 0, 2])"
      ]
     },
     "execution_count": 8,
     "metadata": {},
     "output_type": "execute_result"
    }
   ],
   "source": [
    "l = np.argsort(Norbv)\n",
    "l"
   ]
  },
  {
   "cell_type": "code",
   "execution_count": 9,
   "metadata": {},
   "outputs": [
    {
     "name": "stdout",
     "output_type": "stream",
     "text": [
      "[16, 32, 64, 128, 256]\n",
      "[0.21919479258389701, 0.36691826999392102, 0.56133322517397599, 0.91533422434857403, 1.44814357733503]\n"
     ]
    }
   ],
   "source": [
    "E=[]\n",
    "N=[]\n",
    "for ind in l:\n",
    "    N.append(Norbv[ind])\n",
    "    E.append(Emax[ind])\n",
    "print(N)\n",
    "print(E)"
   ]
  },
  {
   "cell_type": "markdown",
   "metadata": {},
   "source": [
    "We also report the result for the free boundary conditions"
   ]
  },
  {
   "cell_type": "code",
   "execution_count": 23,
   "metadata": {
    "collapsed": true
   },
   "outputs": [],
   "source": [
    "Efree = [0.263960940944718, 0.34660221454630702, 0.64012205126697297, 1.1027915636540699, 1.63042469076101]"
   ]
  },
  {
   "cell_type": "code",
   "execution_count": 24,
   "metadata": {
    "scrolled": true
   },
   "outputs": [
    {
     "data": {
      "image/png": "[encoded data removed]",
      "text/plain": [
       "<matplotlib.figure.Figure at 0x7f7718a711d0>"
      ]
     },
     "metadata": {},
     "output_type": "display_data"
    }
   ],
   "source": [
    "plt.plot(N,E)\n",
    "plt.scatter(N,E, color='r',label='pbc')\n",
    "plt.plot(N,Efree)\n",
    "plt.scatter(N,Efree, color='b',label='free bc')\n",
    "plt.legend()\n",
    "plt.title('Emax vs norb (box ='+str(N2data[0].log['Sizes of the simulation domain']['Angstroem'])+')',fontsize=14)\n",
    "plt.show()"
   ]
  },
  {
   "cell_type": "markdown",
   "metadata": {
    "collapsed": true
   },
   "source": [
    "### Expansion of the perturbed KS orbitals"
   ]
  },
  {
   "cell_type": "markdown",
   "metadata": {
    "collapsed": true
   },
   "source": [
    "We compute the projection of the KS orbitals for the ground state of the system under the action of a static electric field on the orbitals (both occupied and empty) computed here. We consider a field of norm $1e-2$ both in the $z$ and $x$ directions."
   ]
  },
  {
   "cell_type": "code",
   "execution_count": 13,
   "metadata": {
    "collapsed": true
   },
   "outputs": [],
   "source": [
    "n = 256\n",
    "Ex_psip = '../data-Ex_1em2_rmult_7/'\n",
    "Ez_psip = '../data-Ez_1em2_rmult_7/'\n",
    "inpEx={'dft':\n",
    "       {'norbv': -n,\n",
    "        'inputpsiid': 2,\n",
    "        'output_wf': 0,\n",
    "        'itermax_virt' : 1},\n",
    "       'tddft':{'decompose_perturbation': Ex_psip}}\n",
    "inpEz={'dft':\n",
    "       {'norbv': -n,\n",
    "        'inputpsiid': 2,\n",
    "        'output_wf': 0,\n",
    "        'itermax_virt' : 1},\n",
    "       'tddft':{'decompose_perturbation': Ez_psip}}\n",
    "ExInpname = 'N2Ex-pbc_rmult7_norb'+str(n)\n",
    "EzInpname = 'N2Ez-pbc_rmult7_norb'+str(n)\n",
    "\n",
    "Yaml.dump(inpEz,inputpath + EzInpname + '.yaml')\n",
    "Yaml.dump(inpEx,inputpath + ExInpname + '.yaml')"
   ]
  },
  {
   "cell_type": "markdown",
   "metadata": {},
   "source": [
    "Now we import the result and perform the data analysis"
   ]
  },
  {
   "cell_type": "code",
   "execution_count": 14,
   "metadata": {},
   "outputs": [
    {
     "name": "stdout",
     "output_type": "stream",
     "text": [
      "['testfiles/N2maxEngVorb/log-pbc/log-N2Ex-pbc_rmult7_norb256.yaml', 'testfiles/N2maxEngVorb/log-pbc/log-N2Ez-pbc_rmult7_norb256.yaml']\n"
     ]
    }
   ],
   "source": [
    "logs = !ls testfiles/N2maxEngVorb/log-pbc/log-N2E*\n",
    "print(logs)\n",
    "N2data=[lf.Logfile(l) for l in logs]"
   ]
  },
  {
   "cell_type": "markdown",
   "metadata": {},
   "source": [
    "We define the  following list of arrays (the first element correponds to Ex, the second to Ez): "
   ]
  },
  {
   "cell_type": "code",
   "execution_count": 15,
   "metadata": {
    "collapsed": true
   },
   "outputs": [],
   "source": [
    "coeff_occ = [n.log['<psi_i|psi_j>'] for n in N2data]\n",
    "coeff_occ=np.double(np.array(coeff_occ))\n",
    "\n",
    "coeff_vrt = [n.log['<psiv_i|D psi_j>'] for n in N2data]\n",
    "coeff_vrt=np.double(np.array(coeff_vrt))"
   ]
  },
  {
   "cell_type": "markdown",
   "metadata": {},
   "source": [
    "The element [i,j] of coeff_occ[n] contains the projection of the j-th perturbed (occupied) orbital on the i-th unperturbed (occupied) one. In the same way but with the opposite convention, coeff_vrt contains the projection of the i-th perturbed (occupied) orbital on the j-th unperturbed empty one"
   ]
  },
  {
   "cell_type": "markdown",
   "metadata": {},
   "source": [
    "We also read other useful quantities (we define common quantities for both Ex and Ez since the orbitals are the same)"
   ]
  },
  {
   "cell_type": "code",
   "execution_count": 16,
   "metadata": {},
   "outputs": [
    {
     "name": "stdout",
     "output_type": "stream",
     "text": [
      "no_occ 5 n_vrt 256\n"
     ]
    }
   ],
   "source": [
    "n_occ,n_vrt = coeff_vrt[0].shape\n",
    "print 'no_occ',n_occ, 'n_vrt', n_vrt\n",
    "en = N2data[0].evals[0][0]\n",
    "e_v=[]\n",
    "e_o=[]\n",
    "for o in range(n_occ):\n",
    "    e_o.append(en[o])\n",
    "for v in range(n_occ,n_occ+n_vrt):\n",
    "    e_v.append(en[v])\n"
   ]
  },
  {
   "cell_type": "code",
   "execution_count": 17,
   "metadata": {},
   "outputs": [
    {
     "data": {
      "text/plain": [
       "array([[  1.03040663e+00,  -3.14571256e-04,  -4.95647325e-03,\n",
       "          3.77547085e-04,  -5.04988521e-04],\n",
       "       [  3.14660877e-04,   1.03039196e+00,  -1.13699659e-05,\n",
       "          2.98960997e-07,   1.97737393e-04],\n",
       "       [ -3.25231785e-03,   1.49440090e-06,  -7.27457142e-01,\n",
       "         -7.28370642e-01,  -3.70039793e-02],\n",
       "       [ -3.78603556e-03,   1.43565169e-06,  -7.27385593e-01,\n",
       "          7.28437714e-01,  -3.69539281e-02],\n",
       "       [ -3.36317853e-04,  -1.97690924e-04,  -5.22943826e-02,\n",
       "         -3.21259805e-05,   1.02874894e+00]])"
      ]
     },
     "execution_count": 17,
     "metadata": {},
     "output_type": "execute_result"
    }
   ],
   "source": [
    "coeff_occ[0]"
   ]
  },
  {
   "cell_type": "code",
   "execution_count": 18,
   "metadata": {},
   "outputs": [
    {
     "data": {
      "text/plain": [
       "array([ 1.06176295,  1.06170773,  1.06104296,  1.06114544,  1.06105957])"
      ]
     },
     "execution_count": 18,
     "metadata": {},
     "output_type": "execute_result"
    }
   ],
   "source": [
    "psiprimeEx=np.array([ 0.0 for i in range(n_occ)])\n",
    "psiprimeEz=np.array([ 0.0 for i in range(n_occ)])\n",
    "for o in range(n_occ):\n",
    "    psiprimeEx += coeff_occ[0][o]**2\n",
    "    psiprimeEz += coeff_occ[1][o]**2\n",
    "# we quantify the magnitude of the missing part\n",
    "#psiprimeEx = 1.0-psiprimeEx\n",
    "#psiprimeEz = 1.0-psiprimeEz\n",
    "psiprimeEx"
   ]
  },
  {
   "cell_type": "markdown",
   "metadata": {},
   "source": [
    "We observe that the norm of the projected state is greater the one. This means that there is some problem in projecting the states of a periodic system in the ones of a system with free boundary condition. So this type of analysis cannot be performed here."
   ]
  },
  {
   "cell_type": "code",
   "execution_count": null,
   "metadata": {
    "collapsed": true
   },
   "outputs": [],
   "source": []
  }
 ],
 "metadata": {
  "kernelspec": {
   "display_name": "Python 2",
   "language": "python",
   "name": "python2"
  },
  "language_info": {
   "codemirror_mode": {
    "name": "ipython",
    "version": 2
   },
   "file_extension": ".py",
   "mimetype": "text/x-python",
   "name": "python",
   "nbconvert_exporter": "python",
   "pygments_lexer": "ipython2",
   "version": "2.7.13"
  }
 },
 "nbformat": 4,
 "nbformat_minor": 2
}
