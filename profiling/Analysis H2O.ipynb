{
 "cells": [
  {
   "cell_type": "markdown",
   "metadata": {},
   "source": [
    "# Results on comparison of PBE0 runs on H2O molecules\n",
    "In this notebook we will analyse the different walltimes that are performed for various calculations on Piz-Daint machine of various systems of H2O molecules.\n",
    "We will only concentrate on runs which have a nspin=1 calculation and one single point of 13 iterations.\n",
    "Let us first retrieve in the directory the runs that match the requirements."
   ]
  },
  {
   "cell_type": "markdown",
   "metadata": {},
   "source": [
    "First, let us uncompress the files into a separate directory:"
   ]
  },
  {
   "cell_type": "code",
   "execution_count": 2,
   "metadata": {
    "collapsed": false
   },
   "outputs": [
    {
     "data": {
      "text/plain": [
       "0"
      ]
     },
     "execution_count": 2,
     "metadata": {},
     "output_type": "execute_result"
    }
   ],
   "source": [
    "import os\n",
    "os.system('tar xJvf testfiles/H2O-PBE0.tar.xz')"
   ]
  },
  {
   "cell_type": "code",
   "execution_count": 3,
   "metadata": {
    "collapsed": false,
    "scrolled": true
   },
   "outputs": [
    {
     "name": "stdout",
     "output_type": "stream",
     "text": [
      "WARNING: More than one document are present expected a single document in the stream\n",
      "  in \"<byte string>\", line 2, column 2\n",
      "but found another document\n",
      "  in \"<byte string>\", line 1996, column 1\n",
      "Loading...\n",
      "6 %\n",
      "9 %\n",
      "12 %\n",
      "15 %\n",
      "18 %\n",
      "21 %\n",
      "24 %\n",
      "27 %\n",
      "30 %\n",
      "33 %\n",
      "36 %\n",
      "40 %\n",
      "43 %\n",
      "46 %\n",
      "49 %\n",
      "52 %\n",
      "55 %\n",
      "58 %\n",
      "61 %\n",
      "64 %\n",
      "67 %\n",
      "70 %\n",
      "73 %\n",
      "76 %\n",
      "79 %\n",
      "83 %\n",
      "86 %\n",
      "89 %\n",
      "92 %\n",
      "95 %\n",
      "98 %\n",
      "100 %\n",
      "Found 32 different runs\n",
      "WARNING: More than one document are present while parsing a flow node\n",
      "did not find expected node content\n",
      "  in \"<byte string>\", line 1727, column 1\n",
      "Loading...\n",
      "100 %\n",
      "Log: ./degomme/H2O/64_pbe0/bigdft_H2O_64_112_32/log-H2O_64.yaml notcorrectly parsed\n",
      "WARNING: More than one document are present while parsing a flow mapping\n",
      "  in \"<byte string>\", line 3471, column 11\n",
      "did not find expected ',' or '}'\n",
      "  in \"<byte string>\", line 3525, column 1\n",
      "Loading...\n",
      "100 %\n",
      "Log: ./degomme/H2O/64_pbe0/bigdft_H2O_64_32/log-H2O_64.yaml notcorrectly parsed\n",
      "WARNING: More than one document are present while parsing a flow mapping\n",
      "  in \"<byte string>\", line 5676, column 11\n",
      "did not find expected ',' or '}'\n",
      "  in \"<byte string>\", line 5727, column 1\n",
      "Loading...\n",
      "100 %\n",
      "Log: ./degomme/H2O/64_pbe0/bigdft_H2O_64_norbsempty50_32/log-H2O_64.yaml notcorrectly parsed\n",
      "WARNING: More than one document are present while parsing a flow node\n",
      "did not find expected node content\n",
      "  in \"<byte string>\", line 6092, column 1\n",
      "Loading...\n",
      "100 %\n",
      "Log: ./degomme/H2O/64_pbe0/bigdft_H2O_64_norbsempty100_32/log-H2O_64.yaml notcorrectly parsed\n",
      "WARNING: More than one document are present expected a single document in the stream\n",
      "  in \"<byte string>\", line 2, column 2\n",
      "but found another document\n",
      "  in \"<byte string>\", line 3387, column 1\n",
      "Loading...\n",
      "99 %\n",
      "100 %\n",
      "Found 2 different runs\n",
      "WARNING: More than one document are present expected a single document in the stream\n",
      "  in \"<byte string>\", line 2, column 2\n",
      "but found another document\n",
      "  in \"<byte string>\", line 2266, column 1\n",
      "Loading...\n",
      "7 %\n",
      "10 %\n",
      "14 %\n",
      "18 %\n",
      "22 %\n",
      "25 %\n",
      "29 %\n",
      "33 %\n",
      "37 %\n",
      "41 %\n",
      "44 %\n",
      "48 %\n",
      "52 %\n",
      "56 %\n",
      "60 %\n",
      "64 %\n",
      "67 %\n",
      "71 %\n",
      "75 %\n",
      "79 %\n",
      "83 %\n",
      "86 %\n",
      "90 %\n",
      "94 %\n",
      "98 %\n",
      "100 %\n",
      "Found 26 different runs\n",
      "WARNING: More than one document are present while parsing a flow node\n",
      "did not find expected node content\n",
      "  in \"<byte string>\", line 7761, column 1\n",
      "Loading...\n",
      "100 %\n",
      "Log: ./degomme/H2O/512_pbe0/bigdft_H2O_512_pbe0_2_512/log-H2O_512.yaml notcorrectly parsed\n",
      "WARNING: More than one document are present while parsing a flow node\n",
      "did not find expected node content\n",
      "  in \"<byte string>\", line 6160, column 1\n",
      "Loading...\n",
      "100 %\n",
      "Log: ./degomme/H2O/512_pbe0/bigdft_H2O_512_pbe0_112_hgrid05_nosymmetric_512/log-H2O_512.yaml notcorrectly parsed\n",
      "WARNING: More than one document are present while parsing a flow node\n",
      "did not find expected node content\n",
      "  in \"<byte string>\", line 7161, column 1\n",
      "Loading...\n",
      "100 %\n",
      "Log: ./degomme/H2O/512_pbe0/bigdft_H2O_512_pbe0_512/log-H2O_512.yaml notcorrectly parsed\n",
      "WARNING: More than one document are present while parsing a flow mapping\n",
      "  in \"<byte string>\", line 2972, column 11\n",
      "did not find expected ',' or '}'\n",
      "  in \"<byte string>\", line 2975, column 1\n",
      "Loading...\n",
      "100 %\n",
      "Log: ./degomme/H2O/256/bigdft_H2O_256_pbe_hgrid05_64_128/log-H2O_256.yaml notcorrectly parsed\n",
      "WARNING: More than one document are present while parsing a flow mapping\n",
      "  in \"<byte string>\", line 1599, column 11\n",
      "did not find expected ',' or '}'\n",
      "  in \"<byte string>\", line 1611, column 1\n",
      "Loading...\n",
      "100 %\n",
      "Log: ./degomme/H2O/64/bigdft_H2O_64_4/log-H2O_64.yaml notcorrectly parsed\n"
     ]
    }
   ],
   "source": [
    "from BigDFT import Logfiles as L\n",
    "allogs=!find . -name log\\*.yaml\n",
    "logs=[]\n",
    "for f in allogs:\n",
    "    try:\n",
    "        log=L.Logfile(f)\n",
    "    except:\n",
    "        log=None\n",
    "        print 'Log:',f,'notcorrectly parsed'\n",
    "    logs.append(log)"
   ]
  },
  {
   "cell_type": "markdown",
   "metadata": {},
   "source": [
    "For any of the parsed logs let us identify which are the logs which answer to the provided criteria"
   ]
  },
  {
   "cell_type": "code",
   "execution_count": 4,
   "metadata": {
    "collapsed": false,
    "scrolled": true
   },
   "outputs": [
    {
     "name": "stderr",
     "output_type": "stream",
     "text": [
      "/usr/local/lib/python2.7/dist-packages/matplotlib/font_manager.py:273: UserWarning: Matplotlib is building the font cache using fc-list. This may take a moment.\n",
      "  warnings.warn('Matplotlib is building the font cache using fc-list. This may take a moment.')\n"
     ]
    },
    {
     "name": "stdout",
     "output_type": "stream",
     "text": [
      "number of molecules: [64, 128, 256, 512] number of nodes: [32, 64, 128, 256, 512]\n"
     ]
    }
   ],
   "source": [
    "import numpy as np\n",
    "from os import path\n",
    "from futile import Time as T\n",
    "validlogs=[]\n",
    "ns=set()\n",
    "ncpus=set()\n",
    "for f,l in zip(allogs,logs):\n",
    "    #conditions for selection\n",
    "    #print f\n",
    "    if l is None or len(l) > 0 or not hasattr(l,'energy'): \n",
    "        continue\n",
    "    #verify if the run if with nspin=1\n",
    "    norbu,norbd=l.evals[0].info\n",
    "    if norbd != 0: continue\n",
    "    #get the number of WFN_OPT iterations\n",
    "    nit=len(L.find_iterations(l.log)[0])-1\n",
    "    if nit != 12: continue\n",
    "    #get the number of molecules\n",
    "    nmol=l.nat/3\n",
    "    #verify if the density is constant\n",
    "    cell=np.array(l.astruct['Cell'])\n",
    "    vol=np.product(cell)    \n",
    "    #print 'density of the system',1.0*nmol/vol\n",
    "    #print 'file chosen',f\n",
    "    #print 'number of iterations',nit\n",
    "    radical=l.log['radical']\n",
    "    dr=path.dirname(f)\n",
    "    log=path.basename(f)\n",
    "    timeyaml=path.join(dr,'time-'+radical+'.yaml')\n",
    "    istime=path.isfile(timeyaml)\n",
    "    #print 'dr',dr,'radical',radical,'time',istime\n",
    "    nproc=l.log['Number of MPI tasks']\n",
    "    omp=l.log['Maximal OpenMP threads per MPI task']\n",
    "    nnodes=l.log['MPI tasks of root process node']\n",
    "    if nproc-(nproc/nnodes)*nnodes != 0: continue\n",
    "    #print l.log['dft']['ixc']\n",
    "    data={'Run':l, 'label':radical,'directory':dr,\n",
    "          'nproc':nproc,'omp':omp,'nnodes':nproc/nnodes,'xc':l.log['dft']['ixc'],\n",
    "         'n':nmol}\n",
    "    if istime: data['Time']=timeyaml\n",
    "    validlogs.append(data)\n",
    "    ns.add(nmol)\n",
    "    ncpus.add(nproc/nnodes)\n",
    "ns=list(ns)\n",
    "ncpus=list(ncpus)\n",
    "ns.sort()\n",
    "ncpus.sort()\n",
    "print 'number of molecules:',ns,'number of nodes:',ncpus"
   ]
  },
  {
   "cell_type": "markdown",
   "metadata": {},
   "source": [
    "And then let us sort them in increasing order:"
   ]
  },
  {
   "cell_type": "code",
   "execution_count": 5,
   "metadata": {
    "collapsed": true
   },
   "outputs": [],
   "source": [
    "orderedlogs=[]\n",
    "for xc in [-101130,-406]:\n",
    "    for n in ns:\n",
    "        for nc in ncpus:\n",
    "            for l in validlogs:\n",
    "                if l['nnodes']==nc and l['n']==n and l['xc']==xc:\n",
    "                    orderedlogs.append(l)"
   ]
  },
  {
   "cell_type": "code",
   "execution_count": 6,
   "metadata": {
    "collapsed": false
   },
   "outputs": [],
   "source": [
    "def select(dict_selection,validlogs):\n",
    "    selection=[]\n",
    "    for l in validlogs:\n",
    "        found=True\n",
    "        for k in dict_selection:\n",
    "            if k not in l or l[k] != dict_selection[k]: found=False\n",
    "        if not found: continue\n",
    "        selection.append(l)\n",
    "        #print l['n'],l['xc'],l['nnodes']\n",
    "    return selection"
   ]
  },
  {
   "cell_type": "markdown",
   "metadata": {},
   "source": [
    "Let us now consider, for each of the system's sizes, all the different comparisons we have.\n",
    "We group together the calculations with the same number of nodes:"
   ]
  },
  {
   "cell_type": "code",
   "execution_count": 7,
   "metadata": {
    "collapsed": false
   },
   "outputs": [
    {
     "name": "stdout",
     "output_type": "stream",
     "text": [
      "new comparison 9 64 32\n",
      "new comparison 3 128 64\n",
      "new comparison 3 256 128\n",
      "new comparison 3 256 256\n",
      "new comparison 2 512 256\n",
      "new comparison 2 512 512\n"
     ]
    }
   ],
   "source": [
    "allcomp=[]\n",
    "for n in ns:\n",
    "    for nn in ncpus:\n",
    "        runs=select({'nnodes':nn,'n':n},orderedlogs)\n",
    "        if len(runs)>0:\n",
    "            perf=[r['Time'] for r in runs]\n",
    "            times=T.TimeData(*perf,fontsize=8)\n",
    "            data=[(r['n'],r['xc'],r['nnodes'],tots) for r,tots in zip(runs,times.totals)]\n",
    "            print 'new comparison',len(runs),n,nn\n",
    "            #print data\n",
    "            allcomp.append([data,perf])"
   ]
  },
  {
   "cell_type": "markdown",
   "metadata": {},
   "source": [
    "With commands like the following we obtain the plot to compare the different runs with a given number of molecules with each other:"
   ]
  },
  {
   "cell_type": "code",
   "execution_count": 8,
   "metadata": {
    "collapsed": false
   },
   "outputs": [
    {
     "name": "stdout",
     "output_type": "stream",
     "text": [
      "Using matplotlib backend: Qt4Agg\n",
      "Good bye!\n"
     ]
    }
   ],
   "source": [
    "%matplotlib auto\n",
    "T.TimeData(*allcomp[0][1],title='64 Molecules').show()"
   ]
  },
  {
   "cell_type": "markdown",
   "metadata": {
    "collapsed": false
   },
   "source": [
    "We might further select for each of the category the minimum value for all the different runs:"
   ]
  },
  {
   "cell_type": "code",
   "execution_count": 9,
   "metadata": {
    "collapsed": false
   },
   "outputs": [],
   "source": [
    "mincomp=[]\n",
    "for runn in allcomp:\n",
    "    if len(runn[0])==2: \n",
    "        mincomp.append(runn)\n",
    "        continue\n",
    "    tminPBE=1.0e9\n",
    "    tminPBE0=1.0e9\n",
    "    for i,l in enumerate(runn[0]):\n",
    "        t=l[-1]\n",
    "        xc=l[1]\n",
    "        #print 'test',t,xc\n",
    "        if t<tminPBE and xc==-101130:\n",
    "            tminPBE=t\n",
    "            PBE=l\n",
    "            PBEfile=runn[1][i]\n",
    "        elif t<tminPBE0 and xc==-406:\n",
    "            tminPBE0=t\n",
    "            PBE0=l\n",
    "            PBE0file=runn[1][i]\n",
    "    mincomp.append([[PBE,PBE0],[PBEfile,PBE0file]])\n"
   ]
  },
  {
   "cell_type": "code",
   "execution_count": 10,
   "metadata": {
    "collapsed": false
   },
   "outputs": [
    {
     "name": "stdout",
     "output_type": "stream",
     "text": [
      "Using matplotlib backend: Qt4Agg\n",
      "Good bye!\n"
     ]
    }
   ],
   "source": [
    "%matplotlib auto\n",
    "T.TimeData(*mincomp[0][1],title='64 Molecules').show()"
   ]
  },
  {
   "cell_type": "markdown",
   "metadata": {},
   "source": [
    "Now we can obtain a table with the values of the best results, including the gamma, defined as the ratio bw a PBE0 run  walltime and a PBE one:"
   ]
  },
  {
   "cell_type": "code",
   "execution_count": 13,
   "metadata": {
    "collapsed": false
   },
   "outputs": [
    {
     "name": "stdout",
     "output_type": "stream",
     "text": [
      "2x (nmols, xc, nnodes, walltime), gamma\n",
      "[(64, -101130, 32, 11.0), (64, -406, 32, 24.0)] 2.18181818182\n",
      "[(128, -101130, 64, 23.0), (128, -406, 64, 74.0)] 3.21739130435\n",
      "[(256, -101130, 128, 49.0), (256, -406, 128, 244.0)] 4.97959183673\n",
      "[(256, -101130, 256, 36.0), (256, -406, 256, 200.0)] 5.55555555556\n",
      "[(512, -101130, 256, 115.0), (512, -406, 256, 1030.0)] 8.95652173913\n",
      "[(512, -101130, 512, 79.0), (512, -406, 512, 798.0)] 10.1012658228\n"
     ]
    }
   ],
   "source": [
    "print '2x (nmols, xc, nnodes, walltime), gamma'\n",
    "for manip in mincomp:\n",
    "    val=manip[0]\n",
    "    #for n,xc,nn,t in manip[0]:\n",
    "    #    print n,t\n",
    "    print val,val[1][-1]/val[0][-1]"
   ]
  },
  {
   "cell_type": "markdown",
   "metadata": {},
   "source": [
    "Where we see that for 512 molecules gamma is better with 256 nodes, although walltime is higher of course."
   ]
  },
  {
   "cell_type": "markdown",
   "metadata": {},
   "source": [
    "We may then also remove the directory that the tarfile created:"
   ]
  },
  {
   "cell_type": "code",
   "execution_count": 15,
   "metadata": {
    "collapsed": false
   },
   "outputs": [],
   "source": [
    "import shutil\n",
    "shutil.rmtree('degomme')"
   ]
  },
  {
   "cell_type": "code",
   "execution_count": null,
   "metadata": {
    "collapsed": true
   },
   "outputs": [],
   "source": []
  }
 ],
 "metadata": {
  "kernelspec": {
   "display_name": "Python 2",
   "language": "python",
   "name": "python2"
  },
  "language_info": {
   "codemirror_mode": {
    "name": "ipython",
    "version": 2
   },
   "file_extension": ".py",
   "mimetype": "text/x-python",
   "name": "python",
   "nbconvert_exporter": "python",
   "pygments_lexer": "ipython2",
   "version": "2.7.6"
  }
 },
 "nbformat": 4,
 "nbformat_minor": 1
}
