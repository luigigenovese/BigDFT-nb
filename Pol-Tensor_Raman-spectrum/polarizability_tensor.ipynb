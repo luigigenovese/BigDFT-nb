{
 "cells": [
  {
   "cell_type": "markdown",
   "metadata": {},
   "source": [
    "# Polarizability tensor calculation using BigDFT\n",
    "\n",
    "The polarizability tensor represents the response of the charges of a system (its dipole) to the application of an external electric field. \n",
    "\n",
    "To compute this polarizability tensor, 6 BigDFT calculations where the systems is subject to an external electric field are performed: 2 calculations (one with a positive electric field amplitude, the other with a negative amplitude) along each space coordinate ($x$, $y$ and $z$). The elements of the polarizability tensor are then defined by the ratio of delta of the dipole in one direction and the delta of the electric field amplitudes."
   ]
  },
  {
   "cell_type": "markdown",
   "metadata": {},
   "source": [
    "**Import the relevant classes**"
   ]
  },
  {
   "cell_type": "code",
   "execution_count": 1,
   "metadata": {
    "collapsed": true
   },
   "outputs": [],
   "source": [
    "from __future__ import print_function\n",
    "from inputfiles import Posinp, Input\n",
    "from poltensor import PolTensorCalc"
   ]
  },
  {
   "cell_type": "markdown",
   "metadata": {},
   "source": [
    "## The Posinp class\n",
    "\n",
    "A class Posinp to represent the input geometry files of BigDFT was implemented. A posinp instance is read from a file, given its name:"
   ]
  },
  {
   "cell_type": "code",
   "execution_count": 2,
   "metadata": {},
   "outputs": [
    {
     "name": "stdout",
     "output_type": "stream",
     "text": [
      "2   angstroem\n",
      "free\n",
      "N    2.976307744763e-23    6.872205902435e-23    0.0107162001879\n",
      "N   -1.104344885754e-23   -4.873421785298e-23    1.104273795769\n",
      "\n"
     ]
    }
   ],
   "source": [
    "pos_ref = Posinp(\"posinp.xyz\")\n",
    "# When you print the Posinp instance, it returns the content of the posinp\n",
    "print(pos_ref)"
   ]
  },
  {
   "cell_type": "markdown",
   "metadata": {},
   "source": [
    "Note that the posinp may also be initialized from a string by using the class method `from_string`:"
   ]
  },
  {
   "cell_type": "code",
   "execution_count": 3,
   "metadata": {},
   "outputs": [
    {
     "name": "stdout",
     "output_type": "stream",
     "text": [
      "2   angstroem\n",
      "free\n",
      "N    2.976307744763e-23    6.872205902435e-23    0.0107162001879\n",
      "N   -1.104344885754e-23   -4.873421785298e-23    1.104273795769\n",
      "\n"
     ]
    }
   ],
   "source": [
    "# Turn the reference posinp into a string\n",
    "str_pos_ref = str(pos_ref)\n",
    "# Initialize another posinp from the string\n",
    "pos_from_str = Posinp.from_string(str_pos_ref)\n",
    "# Check that it corresponds to the same posinp\n",
    "print(pos_from_str)"
   ]
  },
  {
   "cell_type": "markdown",
   "metadata": {},
   "source": [
    "This posinp can also be written in a file, here `ref.xyz`:"
   ]
  },
  {
   "cell_type": "code",
   "execution_count": 4,
   "metadata": {
    "collapsed": true
   },
   "outputs": [],
   "source": [
    "pos_ref.write(\"ref.xyz\")"
   ]
  },
  {
   "cell_type": "markdown",
   "metadata": {},
   "source": [
    "We can also check that this posinp is the same as the initial one (the output must be `True`):"
   ]
  },
  {
   "cell_type": "code",
   "execution_count": 5,
   "metadata": {},
   "outputs": [
    {
     "name": "stdout",
     "output_type": "stream",
     "text": [
      "True\n"
     ]
    }
   ],
   "source": [
    "pos = Posinp(\"ref.xyz\")\n",
    "print(pos == pos_ref)"
   ]
  },
  {
   "cell_type": "markdown",
   "metadata": {},
   "source": [
    "The attributes of a Posinp instance are:\n",
    "\n",
    "* `n_at`: gives the number of atoms of the system as an integer\n",
    "\n",
    "* `BC`: gives the boundary condition as a string\n",
    "\n",
    "* `units`: the units of the atom coordinates as a string\n",
    "\n",
    "* `atoms`: the atoms of the system as a list of dictionaries. Each dictionary gives the position of the atom and its element (`'Type'`)."
   ]
  },
  {
   "cell_type": "code",
   "execution_count": 6,
   "metadata": {},
   "outputs": [
    {
     "name": "stdout",
     "output_type": "stream",
     "text": [
      "Number of atoms: 2\n",
      "Boundary conditions: free\n",
      "Units: angstroem\n",
      "Atoms: [{'Position': [2.976307744763e-23, 6.872205902435e-23, 0.0107162001879], 'Type': 'N'}, {'Position': [-1.104344885754e-23, -4.873421785298e-23, 1.104273795769], 'Type': 'N'}]\n"
     ]
    }
   ],
   "source": [
    "print(\"Number of atoms:\", pos_ref.n_at)\n",
    "print(\"Boundary conditions:\", pos_ref.BC)\n",
    "print(\"Units:\", pos_ref.units)\n",
    "print(\"Atoms:\", pos_ref.atoms)"
   ]
  },
  {
   "cell_type": "markdown",
   "metadata": {},
   "source": [
    "## The Input class\n",
    "\n",
    "Another class Input is used to represent the BigDFT input files. It inherits from the `dict` class. An input file is therefore initialized from a dictionary, but class methods allow to initialize it from a string (using the `Input.from_string` classmethod, in a similar manner as the `Posinp.from_string` presented above) and also from a file, through the class method `Input.from_file`:"
   ]
  },
  {
   "cell_type": "code",
   "execution_count": 7,
   "metadata": {},
   "outputs": [
    {
     "name": "stdout",
     "output_type": "stream",
     "text": [
      "{'dft': {'rmult': [5.0, 7.0], 'elecfield': [0.0001, 0.0, 0.0], 'hgrids': [0.45, 0.45, 0.45], 'gnrm_cv': 0.0001}}\n"
     ]
    }
   ],
   "source": [
    "input_ref = Input.from_file(\"input.yaml\")\n",
    "print(input_ref)"
   ]
  },
  {
   "cell_type": "markdown",
   "metadata": {},
   "source": [
    "As mentionned, an input file can be initialized from a string:"
   ]
  },
  {
   "cell_type": "code",
   "execution_count": 8,
   "metadata": {},
   "outputs": [
    {
     "name": "stdout",
     "output_type": "stream",
     "text": [
      "{'dft': {'rmult': [9.0, 9.0], 'hgrids': [0.35, 0.35, 0.35]}}\n"
     ]
    }
   ],
   "source": [
    "string = \"\"\"\\\n",
    " dft:\n",
    "   rmult: [9.0, 9.0]\n",
    "   hgrids: [0.35, 0.35, 0.35]\"\"\"\n",
    "\n",
    "input_from_string = Input.from_string(string)\n",
    "print(input_from_string)"
   ]
  },
  {
   "cell_type": "markdown",
   "metadata": {},
   "source": [
    "You can also easily write an input file:"
   ]
  },
  {
   "cell_type": "code",
   "execution_count": 9,
   "metadata": {},
   "outputs": [
    {
     "name": "stdout",
     "output_type": "stream",
     "text": [
      "True\n"
     ]
    }
   ],
   "source": [
    "input_ref.write(\"ref.yaml\")\n",
    "\n",
    "# Check that the file written is the same as the previous one\n",
    "yaml_file = Input.from_file(\"ref.yaml\")\n",
    "print(input_ref == yaml_file)"
   ]
  },
  {
   "cell_type": "markdown",
   "metadata": {
    "collapsed": true
   },
   "source": [
    "## Find the polarizability tensor of the given geometry of the system: the PolTensorCalc class\n",
    "\n",
    "The `PolTensorCalc` class was implemented to simplify the polarizability tensor calculation, as will be shown in the rest of this notebook."
   ]
  },
  {
   "cell_type": "markdown",
   "metadata": {},
   "source": [
    "### Prepare a calculation with small electric field values\n",
    "\n",
    "The PolTensorCalc class requires an input file and a posinp to be initialized. If no electric field amplitudes are passed, then a default value is given. You can also define `folder` to specify the folder where you want the calculation to be run (here, in a folder named `pol_tensor`, that will be created when the calculation is actually run)."
   ]
  },
  {
   "cell_type": "code",
   "execution_count": 10,
   "metadata": {},
   "outputs": [
    {
     "name": "stdout",
     "output_type": "stream",
     "text": [
      "{'dft': {'rmult': [5.0, 7.0], 'elecfield': [0.0001, 0.0, 0.0], 'hgrids': [0.45, 0.45, 0.45], 'gnrm_cv': 0.0001}}\n",
      "2   angstroem\n",
      "free\n",
      "N    2.976307744763e-23    6.872205902435e-23    0.0107162001879\n",
      "N   -1.104344885754e-23   -4.873421785298e-23    1.104273795769\n",
      "\n"
     ]
    }
   ],
   "source": [
    "# Read the input file and the initial geometry and print them\n",
    "input_yaml = Input.from_file(\"input.yaml\")\n",
    "posinp = Posinp(\"posinp.xyz\")\n",
    "print(input_yaml)\n",
    "print(posinp)\n",
    "\n",
    "# Define the amplitude of the electric field along each of the three space coordinates\n",
    "ef_a = [0.0001]*3\n",
    "\n",
    "# Initialize the calculation\n",
    "ptc = PolTensorCalc(input_yaml, posinp, ef_amplitudes=ef_a, folder=\"pol_tensor\")"
   ]
  },
  {
   "cell_type": "markdown",
   "metadata": {},
   "source": [
    "### Run the calculation\n",
    "\n",
    "You can finally run the calculation using the `run` method. It has three optional arguments:\n",
    "\n",
    "* `nmpi`: number of MPI tasks as an init\n",
    "\n",
    "* `nomp`: number of OpenMP tasks as an int\n",
    "\n",
    "* `force_run`: boolean setting is the calculations must be run even though there already exists a logfile corresponding to the same calculation."
   ]
  },
  {
   "cell_type": "code",
   "execution_count": 11,
   "metadata": {},
   "outputs": [
    {
     "name": "stdout",
     "output_type": "stream",
     "text": [
      "/Users/maximemoriniere/post-doc/bigdft/bigdft/build/calculs/Raman/along_x+_0.0001\n",
      "Logfile log.yaml already exists!\n",
      "\n",
      "/Users/maximemoriniere/post-doc/bigdft/bigdft/build/calculs/Raman/along_x-_0.0001\n",
      "Logfile log.yaml already exists!\n",
      "\n",
      "/Users/maximemoriniere/post-doc/bigdft/bigdft/build/calculs/Raman/along_y+_0.0001\n",
      "Logfile log.yaml already exists!\n",
      "\n",
      "/Users/maximemoriniere/post-doc/bigdft/bigdft/build/calculs/Raman/along_y-_0.0001\n",
      "Logfile log.yaml already exists!\n",
      "\n",
      "/Users/maximemoriniere/post-doc/bigdft/bigdft/build/calculs/Raman/along_z+_0.0001\n",
      "Logfile log.yaml already exists!\n",
      "\n",
      "/Users/maximemoriniere/post-doc/bigdft/bigdft/build/calculs/Raman/along_z-_0.0001\n",
      "Logfile log.yaml already exists!\n",
      "\n"
     ]
    }
   ],
   "source": [
    "# We use 4 OpenMP tasks here\n",
    "ptc.run(nomp=4)"
   ]
  },
  {
   "cell_type": "markdown",
   "metadata": {},
   "source": [
    "### Get the polarizability tensor\n",
    "\n",
    "After the calculation is run, there is a post-processing step initializing the attribute `pol_tensor`. The value of this attribute is the polarizability tensor obtained from the 6 calculations. The polarizability tensor is in atomic units ($e^2 {a_o}^2 / E_h$). You must multiply its elements by `1.6487772E^-41` to convert them into SI units (C.m$^2$.V$^{-1}$) or by 0.1481847 to get them in $\\unicode[serif]{xC5}^3$."
   ]
  },
  {
   "cell_type": "code",
   "execution_count": 12,
   "metadata": {},
   "outputs": [
    {
     "data": {
      "text/plain": [
       "array([[  1.05465000e+01,  -3.00000000e-04,  -3.50000000e-04],\n",
       "       [ -3.00000000e-04,   1.05465000e+01,  -3.50000000e-04],\n",
       "       [  0.00000000e+00,   0.00000000e+00,   1.50236000e+01]])"
      ]
     },
     "execution_count": 12,
     "metadata": {},
     "output_type": "execute_result"
    }
   ],
   "source": [
    "ptc.pol_tensor"
   ]
  },
  {
   "cell_type": "markdown",
   "metadata": {},
   "source": [
    "As expected, the polarizability tensor is diagonal and $\\alpha_{xx} = \\alpha_{yy} < \\alpha_{zz}$. The values are consistent with what is reported in the litterature and the experiment (see Table II of [George Maroulis and Ajit J. Thakkar, *J. Chem. Phys.* **88**, 7623 (1988)](http://dx.doi.org/10.1063/1.454327)).\n",
    "\n",
    "With a larger electric field, the results should be more precise (the polarizability tensor elements only being computed as the slope between the dipole and the electric field by using two points). \n",
    "\n",
    "**Be carefull**: if the electric fields applied are high enough for some electrons to escape the system, then you cannot trust the results anymore. In such a case, the system you are trying to simulate is not the one you expected, because an occupied orbital has a positive energy under the perturbation of the elctric field. There is actually a rule of thumb to know if the electric field applied along a direction is not too high: the difference of potential along the electric field (*i.e.* the amplitude of the electric field times the length of the BigDFT grid along the direction of the electric field) has to be roughly two times smaller than the absolute value of the HOMO when there is no perturbation.\n",
    "\n",
    "**Notes: **\n",
    "\n",
    "* it might be nice to implement that check: only needs to check that all occupied orbitals are negative. A warning may be printed or an error raised if one occupied orbital is above some threshold (say, -0.1 eV for the warning, rather than 0.0 eV for the error).\n",
    "\n",
    "* Another possibility would be to add an optional argument `ref` to the `__init__` method of PolarizabilityTensorCalculation. This way, the check occurs before running any electric field calculation. The energy of the HOMO without perturbation can be found thanks to the reference logfile. The length of the grid is also known (it must be the same as the one used for the electric field calculation, though; maybe use bigdft-tool to make sure that we have the lengths of the simulation grid of the electric field calculations)."
   ]
  },
  {
   "cell_type": "markdown",
   "metadata": {},
   "source": [
    "## Same calculation, with a larger electric field amplitude\n",
    "\n",
    "Let us keep the same input files but use larger electric field amplitudes to run another polarizability tensor calculation in another folder. This is done in a very few lines of code:"
   ]
  },
  {
   "cell_type": "code",
   "execution_count": 13,
   "metadata": {},
   "outputs": [
    {
     "name": "stdout",
     "output_type": "stream",
     "text": [
      "/Users/maximemoriniere/post-doc/bigdft/bigdft/build/calculs/Raman/along_x+_0.001\n",
      "Logfile log.yaml already exists!\n",
      "\n",
      "/Users/maximemoriniere/post-doc/bigdft/bigdft/build/calculs/Raman/along_x-_0.001\n",
      "Logfile log.yaml already exists!\n",
      "\n",
      "/Users/maximemoriniere/post-doc/bigdft/bigdft/build/calculs/Raman/along_y+_0.001\n",
      "Logfile log.yaml already exists!\n",
      "\n",
      "/Users/maximemoriniere/post-doc/bigdft/bigdft/build/calculs/Raman/along_y-_0.001\n",
      "Logfile log.yaml already exists!\n",
      "\n",
      "/Users/maximemoriniere/post-doc/bigdft/bigdft/build/calculs/Raman/along_z+_0.001\n",
      "Logfile log.yaml already exists!\n",
      "\n",
      "/Users/maximemoriniere/post-doc/bigdft/bigdft/build/calculs/Raman/along_z-_0.001\n",
      "Logfile log.yaml already exists!\n",
      "\n"
     ]
    },
    {
     "data": {
      "text/plain": [
       "array([[  1.05455000e+01,  -3.30000000e-04,  -3.35000000e-04],\n",
       "       [ -3.30000000e-04,   1.05455000e+01,  -3.35000000e-04],\n",
       "       [ -3.50000000e-05,  -3.50000000e-05,   1.50230000e+01]])"
      ]
     },
     "execution_count": 13,
     "metadata": {},
     "output_type": "execute_result"
    }
   ],
   "source": [
    "ef_a_2 = [0.001]*3\n",
    "ptc2 = PolTensorCalc(input_yaml, posinp, ef_amplitudes=ef_a_2, folder=\"pol_tensor_large_EF\")\n",
    "ptc2.run(nomp=4)\n",
    "ptc2.pol_tensor"
   ]
  },
  {
   "cell_type": "markdown",
   "metadata": {},
   "source": [
    "As you can see, this does not really affect the results here. This is due to the fact that the smaller electric field amplitudes were already high enough to get a good \"signal\" (remember that we evaluate the delta of the dipoles, and this delta must be high enough to be captured). This is also due to the fact that the underlying wavelet grid was dense and large enough and that the convergence parameter `gnrm_cv` was low enough for the \"noise\" level to bas as low as possible. That is why you must ensure that the results are converged with respect to these parameters. "
   ]
  },
  {
   "cell_type": "code",
   "execution_count": null,
   "metadata": {
    "collapsed": true
   },
   "outputs": [],
   "source": []
  }
 ],
 "metadata": {
  "kernelspec": {
   "display_name": "Python 2",
   "language": "python",
   "name": "python2"
  },
  "language_info": {
   "codemirror_mode": {
    "name": "ipython",
    "version": 2
   },
   "file_extension": ".py",
   "mimetype": "text/x-python",
   "name": "python",
   "nbconvert_exporter": "python",
   "pygments_lexer": "ipython2",
   "version": "2.7.10"
  }
 },
 "nbformat": 4,
 "nbformat_minor": 2
}
