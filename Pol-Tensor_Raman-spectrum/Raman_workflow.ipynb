{
 "cells": [
  {
   "cell_type": "code",
   "execution_count": 1,
   "metadata": {},
   "outputs": [],
   "source": [
    "from ramanworkflow import RamanWorkflow\n",
    "from BigDFT.Calculators import GIBinding, SystemCalculator"
   ]
  },
  {
   "cell_type": "code",
   "execution_count": 2,
   "metadata": {},
   "outputs": [],
   "source": [
    "input_base = \"\"\"\\\n",
    "dft:\n",
    "  hgrids: 0.45\n",
    "  ixc: LDA\n",
    "  gnrm_cv: 1.e-2\n",
    "posinp:\n",
    "  units: angstroem\n",
    "  positions:\n",
    "  - N: [2.9763078243490115E-023, 6.8722059520435367E-023, 1.071619987487793E-002]\n",
    "  - N: [-1.1043449194501671E-023, -4.8734217448307458E-023, 1.104273796081543]    \n",
    "  properties:                                                                  \n",
    "    format: xyz\"\"\""
   ]
  },
  {
   "cell_type": "code",
   "execution_count": 3,
   "metadata": {},
   "outputs": [],
   "source": [
    "amplitudes = [1.e-3]*3"
   ]
  },
  {
   "cell_type": "code",
   "execution_count": 4,
   "metadata": {
    "scrolled": false
   },
   "outputs": [],
   "source": [
    "# The logfiles obtained using the GIBinding calculator somehow\n",
    "# lack the forces attribute when loaded (even though they exist\n",
    "# in the logfile on disk). Uncommenting the rest of the cell\n",
    "# and running it would raise an error.\n",
    "# Note that the same error would happen again if a workflow\n",
    "# using the SystemCalculator were to be run. This indicates\n",
    "# that there is a weird error somewhere, as there is no error\n",
    "# if only the SystemCalculator is used in the notebook...\n",
    "# calc1 = GIBinding()\n",
    "# r1 = RamanWorkflow(calc1, input_base, amplitudes=amplitudes)\n",
    "# r1.run()\n",
    "# print(r1.energies['cm^-1'])\n",
    "# del(calc1)\n",
    "# del(r1)"
   ]
  },
  {
   "cell_type": "code",
   "execution_count": 5,
   "metadata": {
    "scrolled": false
   },
   "outputs": [
    {
     "name": "stdout",
     "output_type": "stream",
     "text": [
      "Executing command:  mpirun -np 1 $BIGDFT_ROOT/bigdft -n atom0000_z+\n",
      "Positive translation of atom 0 along z!\n",
      "Executing command:  mpirun -np 1 $BIGDFT_ROOT/bigdft -n atom0000_z-\n",
      "Negative translation of atom 0 along z!\n",
      "Executing command:  mpirun -np 1 $BIGDFT_ROOT/bigdft -n atom0000_x-\n",
      "Negative translation of atom 0 along x!\n",
      "Executing command:  mpirun -np 1 $BIGDFT_ROOT/bigdft -n atom0001_y-\n",
      "Negative translation of atom 1 along y!\n",
      "Executing command:  mpirun -np 1 $BIGDFT_ROOT/bigdft -n atom0000_y+\n",
      "Positive translation of atom 0 along y!\n",
      "Executing command:  mpirun -np 1 $BIGDFT_ROOT/bigdft -n atom0001_z+\n",
      "Positive translation of atom 1 along z!\n",
      "Executing command:  mpirun -np 1 $BIGDFT_ROOT/bigdft -n atom0000_x+\n",
      "Positive translation of atom 0 along x!\n",
      "Executing command:  mpirun -np 1 $BIGDFT_ROOT/bigdft -n atom0001_y+\n",
      "Positive translation of atom 1 along y!\n",
      "Executing command:  mpirun -np 1 $BIGDFT_ROOT/bigdft -n atom0000_y-\n",
      "Negative translation of atom 0 along y!\n",
      "Executing command:  mpirun -np 1 $BIGDFT_ROOT/bigdft -n atom0001_x+\n",
      "Positive translation of atom 1 along x!\n",
      "Executing command:  mpirun -np 1 $BIGDFT_ROOT/bigdft -n atom0001_x-\n",
      "Negative translation of atom 1 along x!\n",
      "Executing command:  mpirun -np 1 $BIGDFT_ROOT/bigdft -n atom0001_z-\n",
      "Negative translation of atom 1 along z!\n"
     ]
    }
   ],
   "source": [
    "calc2 = SystemCalculator(omp=4, mpi=1)\n",
    "r2 = RamanWorkflow(calc2, input_base, amplitudes=amplitudes)\n",
    "r2.run()"
   ]
  },
  {
   "cell_type": "code",
   "execution_count": 6,
   "metadata": {},
   "outputs": [
    {
     "name": "stdout",
     "output_type": "stream",
     "text": [
      "[  5.64585208e-07 +0.00000000e+00j   6.27721924e+01 +0.00000000e+00j\n",
      "   3.27814181e+03 +0.00000000e+00j   6.27721924e+01 +0.00000000e+00j\n",
      "   1.47710010e-05 -1.03631856e-05j   1.47710010e-05 +1.03631856e-05j]\n"
     ]
    }
   ],
   "source": [
    "print(r2.energies['cm^-1'])"
   ]
  }
 ],
 "metadata": {
  "kernelspec": {
   "display_name": "Python 2",
   "language": "python",
   "name": "python2"
  },
  "language_info": {
   "codemirror_mode": {
    "name": "ipython",
    "version": 2
   },
   "file_extension": ".py",
   "mimetype": "text/x-python",
   "name": "python",
   "nbconvert_exporter": "python",
   "pygments_lexer": "ipython2",
   "version": "2.7.12"
  }
 },
 "nbformat": 4,
 "nbformat_minor": 2
}
