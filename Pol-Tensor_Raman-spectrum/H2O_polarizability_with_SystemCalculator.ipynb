{
 "cells": [
  {
   "cell_type": "markdown",
   "metadata": {},
   "source": [
    "# Polarizability tensor of Water Molecule\n",
    "With this notebook we would like to extract the polarizability terms for a water molecule in gas-phase, with the aim of analysing the effects of these quantities in implicit solvent environment. In a linear response regime, in a generic environment the electrostatic dipole of a H$_2$O molecule might be separated in two terms:\n",
    "$$\n",
    "\\vec D = \\vec D_0 + \\mathbf P \\cdot \\vec E\n",
    "$$\n",
    "where $\\vec D_0$ represents the molecular dipole in gas phase. The polarizability tensor $\\mathbf P$ represents the response of the molecular dipole to a external field described by the vector $\\vec E$. "
   ]
  },
  {
   "cell_type": "markdown",
   "metadata": {},
   "source": [
    "## Initialization"
   ]
  },
  {
   "cell_type": "code",
   "execution_count": 1,
   "metadata": {},
   "outputs": [],
   "source": [
    "# Import the useful classes\n",
    "import os\n",
    "import numpy as np\n",
    "from BigDFT.Calculators import SystemCalculator\n",
    "from BigDFT.Logfiles import Logfile"
   ]
  },
  {
   "cell_type": "code",
   "execution_count": 2,
   "metadata": {},
   "outputs": [],
   "source": [
    "# Initialize the calculator\n",
    "study = SystemCalculator(omp=4, mpi=1)"
   ]
  },
  {
   "cell_type": "markdown",
   "metadata": {},
   "source": [
    "## Define the initial position and input file"
   ]
  },
  {
   "cell_type": "code",
   "execution_count": 3,
   "metadata": {},
   "outputs": [],
   "source": [
    "H2O = \"\"\"\\\n",
    "3 atomic\n",
    "# xyz dump \n",
    "O -2.86857851702e-07 1.76247905159e-15 0.735431116396\n",
    "H 1.46392609098 2.55351295664e-15 -0.367715450117\n",
    "H -1.46392580412 2.10942374679e-15 -0.36771566628\\\n",
    "\"\"\"\n",
    "\n",
    "input_base = \"\"\"\\\n",
    "dft:\n",
    "  hgrids: 0.35\n",
    "  ixc: LDA\n",
    "  gnrm_cv: 1.e-5\\\n",
    "\"\"\""
   ]
  },
  {
   "cell_type": "markdown",
   "metadata": {},
   "source": [
    "## Run the reference calculation\n",
    "\n",
    "This allows to find the $\\vec{D_0}$."
   ]
  },
  {
   "cell_type": "code",
   "execution_count": 4,
   "metadata": {},
   "outputs": [],
   "source": [
    "# Create a new directory and move to it\n",
    "new_dir = \"H2O_new\"\n",
    "current_dir = os.getcwd()\n",
    "if not current_dir.endswith(new_dir):\n",
    "    try:\n",
    "        os.mkdir(new_dir)\n",
    "    except OSError:\n",
    "        pass\n",
    "    os.chdir(new_dir)\n",
    "# Write the input files on disk\n",
    "base_name = \"H2O_ref\"\n",
    "with open(base_name+\".xyz\", \"w\") as f:\n",
    "    f.write(H2O)\n",
    "with open(base_name+\".yaml\", \"w\") as f:\n",
    "    f.write(input_base)"
   ]
  },
  {
   "cell_type": "code",
   "execution_count": 5,
   "metadata": {},
   "outputs": [
    {
     "name": "stdout",
     "output_type": "stream",
     "text": [
      "No need to run the calculation.\n"
     ]
    }
   ],
   "source": [
    "# Run the calculation\n",
    "force_run = False  # If True, force the calculation to run\n",
    "log_name = \"log-{}.yaml\".format(base_name)\n",
    "log_exists = os.path.exists(log_name)\n",
    "if (log_exists and force_run) or not log_exists:\n",
    "    study.run(name=base_name)\n",
    "else:\n",
    "    print(\"No need to run the calculation.\")\n",
    "# Keep the logfile in memory\n",
    "logfiles = {\"ref\": Logfile(log_name)}"
   ]
  },
  {
   "cell_type": "markdown",
   "metadata": {},
   "source": [
    "## Run the calculations with an external electric field\n",
    "\n",
    "One calculation per electric field direction has to be performed (more precise results would be found by applying both electric field with positive and negative amplitudes). This allows to find the new dipole values $\\vec{D}$. It is then easy to determine then the polarizability tensor $\\mathbf P$."
   ]
  },
  {
   "cell_type": "code",
   "execution_count": 6,
   "metadata": {},
   "outputs": [],
   "source": [
    "def set_inputs(inp, ef_amp):\n",
    "    \"\"\"\n",
    "    Returns the new input files to be run in order to apply\n",
    "    external electric fields in all directions.\n",
    "    \"\"\"\n",
    "    # Set the additional lines for all the input files\n",
    "    base_efs = [\"\\n  elecfield: [{}, 0.0, 0.0]\", \n",
    "                \"\\n  elecfield: [0.0, {}, 0.0]\",\n",
    "                \"\\n  elecfield: [0.0, 0.0, {}]\", ]\n",
    "    ef_inputs = [ef.format(ef_amp) for ef in base_efs]\n",
    "    # Return the updated base input files (one for each calculation)\n",
    "    return [input_base + ef_input for ef_input in ef_inputs] \n",
    "\n",
    "# Set the input files\n",
    "efield_amplitude = 1.e-3\n",
    "efield_inputs = set_inputs(input_base, efield_amplitude)\n",
    "\n",
    "# Define the base name of the input files and of the logfile\n",
    "base_names = [\"Ex\", \"Ey\", \"Ez\"]\n",
    "log_names = [\"log-{}.yaml\".format(base_name) for base_name in base_names]"
   ]
  },
  {
   "cell_type": "code",
   "execution_count": 7,
   "metadata": {},
   "outputs": [
    {
     "name": "stdout",
     "output_type": "stream",
     "text": [
      "Executing command:  mpirun -np 1 $BIGDFT_ROOT/bigdft -n Ex\n",
      "Executing command:  mpirun -np 1 $BIGDFT_ROOT/bigdft -n Ey\n",
      "Executing command:  mpirun -np 1 $BIGDFT_ROOT/bigdft -n Ez\n"
     ]
    }
   ],
   "source": [
    "# Loop over the electric fields\n",
    "for i, inp in enumerate(efield_inputs):\n",
    "    # Write the posinp and input file\n",
    "    base_name = base_names[i]\n",
    "    with open(base_name+\".yaml\", \"w\") as f:\n",
    "        f.write(inp)\n",
    "    with open(base_name+\".xyz\", \"w\") as f:\n",
    "        f.write(H2O)\n",
    "    # Run the calculation for each electric field\n",
    "    log_name = log_names[i]\n",
    "    log_exists = os.path.exists(log_name)\n",
    "    if (log_exists and force_run) or not log_exists:\n",
    "        study.run(name=base_name)\n",
    "    else:\n",
    "        print(\"No need to run the calculation.\")\n",
    "    # Keep the logfile in memory\n",
    "    logfiles[base_name] = Logfile(log_name)"
   ]
  },
  {
   "cell_type": "markdown",
   "metadata": {},
   "source": [
    "## Get the polarizability tensor of the water molecule\n",
    "\n",
    "It is found thanks to the dipoles found for each calculation (see equation in the beginning of the notebook and its implementation below)."
   ]
  },
  {
   "cell_type": "code",
   "execution_count": 8,
   "metadata": {},
   "outputs": [
    {
     "name": "stdout",
     "output_type": "stream",
     "text": [
      "[[  1.08086000e+01  -1.50000000e-04   1.00000000e-02]\n",
      " [ -9.80000000e-05   1.02554800e+01   1.00000000e-02]\n",
      " [  1.37000000e-04   2.04000000e-03   1.05200000e+01]]\n"
     ]
    }
   ],
   "source": [
    "def dipole(logfile):\n",
    "    \"\"\"\n",
    "    Returns the dipole found in a given logfile.\n",
    "    \"\"\"\n",
    "    return np.array(logfile.log['Electric Dipole Moment (AU)']['P vector'])\n",
    "\n",
    "# Compute the polarizability tensor from the dipole moments\n",
    "# of the previous calculations\n",
    "D0 = dipole(logfiles[\"ref\"])\n",
    "D = np.mat(np.zeros(9)).reshape(3,3)\n",
    "for i, base_name in enumerate(base_names):\n",
    "    log = logfiles[base_name]\n",
    "    D[i] = dipole(log) - D0\n",
    "print D / efield_amplitude"
   ]
  }
 ],
 "metadata": {
  "kernelspec": {
   "display_name": "Python 2",
   "language": "python",
   "name": "python2"
  },
  "language_info": {
   "codemirror_mode": {
    "name": "ipython",
    "version": 2
   },
   "file_extension": ".py",
   "mimetype": "text/x-python",
   "name": "python",
   "nbconvert_exporter": "python",
   "pygments_lexer": "ipython2",
   "version": "2.7.14"
  }
 },
 "nbformat": 4,
 "nbformat_minor": 2
}
