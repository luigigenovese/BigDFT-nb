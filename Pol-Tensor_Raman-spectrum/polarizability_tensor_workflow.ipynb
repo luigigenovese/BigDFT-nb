{
 "cells": [
  {
   "cell_type": "markdown",
   "metadata": {},
   "source": [
    "# Polarizability tensor from a workflow class\n",
    "\n",
    "The goal of this notebook is to present a first implementation of a workflow class in BigDFT. The goal of such classes is to allow the treatment of a given set of calculations and their post-processing whatever the BigDFT calculator used.\n",
    "\n",
    "This notebook deals with the calculation of the polarizability tensor. It shows that the same polarizability tensor is obtained by using two types of calculators."
   ]
  },
  {
   "cell_type": "markdown",
   "metadata": {},
   "source": [
    "## Initialization"
   ]
  },
  {
   "cell_type": "markdown",
   "metadata": {},
   "source": [
    "### Import the necessary classes\n",
    "\n",
    "The class allowing to find the polarizability tensor for a given structure of a molecule is `PolTensorWorkflow`. In order to be initialized, it requires a calculator as first argument, hence the import of two calculators."
   ]
  },
  {
   "cell_type": "code",
   "execution_count": 1,
   "metadata": {},
   "outputs": [],
   "source": [
    "from poltensorworkflow import PolTensorWorkflow\n",
    "from BigDFT.Calculators import GIBinding, SystemCalculator"
   ]
  },
  {
   "cell_type": "markdown",
   "metadata": {},
   "source": [
    "### Define initial variables\n",
    "\n",
    "The basic input file is defined as a string. It must contain the information about the initial position. For the moment, only string input files can be used. (A workaround of these limitations would be to define classes for the input and posinp files; a first fraft of such classes can be found in `inputfiles.py`; another is also to enforce similar APIs for the BigDFT calculators, say by means of abstract base classes).\n",
    "\n",
    "Note that the BigDFT variables `gnrm_cv` and `hgrids` are high in this example: it allows for a shorter computation time."
   ]
  },
  {
   "cell_type": "code",
   "execution_count": 2,
   "metadata": {},
   "outputs": [],
   "source": [
    "input_base = \"\"\"\\\n",
    "dft:\n",
    "  hgrids: 0.45\n",
    "  ixc: LDA\n",
    "  gnrm_cv: 1.e-2\n",
    "posinp:\n",
    "  positions:                                                                   \n",
    "  - O: [-2.868578405923472E-007, 1.762479051592436E-015, 0.7354311347007751]   \n",
    "  - H: [1.463926076889038, 2.55351295663786E-015, -0.367715448141098]          \n",
    "  - H: [-1.463925838470459, 2.1094237467877974E-015, -0.3677156567573547]      \n",
    "  properties:                                                                  \n",
    "    format: xyz\"\"\""
   ]
  },
  {
   "cell_type": "markdown",
   "metadata": {},
   "source": [
    "To compute the polarizability tensor, one must compute the variation of the dipole moment of the molecule along one direction with respect to an infinitesimal variation of the electric field amplitude in one direction. To do that by means of second order finite difference, six DFT calculations must be performed, that is two per space coordinate: one with a positive electric field amplitude, the other with a negative one, this being repeated for an electric field along the $x$, $y$ and $z$ axis. \n",
    "\n",
    "This means that the electric field amplitudes along each direction must be defined. Note that if this amplitude in one direction is `None` or 0, then no computation will be performed. This is useful when there are surface boundary conditions (at the cost of neglecting most terms in the polarizability tensor)."
   ]
  },
  {
   "cell_type": "code",
   "execution_count": 3,
   "metadata": {},
   "outputs": [],
   "source": [
    "ef_amplitudes = [None, 1.e-3, 0]"
   ]
  },
  {
   "cell_type": "markdown",
   "metadata": {},
   "source": [
    "## Polarizability tensor with the GIBinding class\n",
    "\n",
    "The polarizability tensor can be computed thanks to the GIBinding calculator, as presented below. One must simply initialize the workflow with a calculator, an input file as a string (default values for the electric field amplitudes could be used instead of the ones above; see last example of this notebook). Given that the electric field amplitudes are non-zero only along the $y$ axis, only two calculations will be performed."
   ]
  },
  {
   "cell_type": "code",
   "execution_count": 4,
   "metadata": {},
   "outputs": [
    {
     "name": "stdout",
     "output_type": "stream",
     "text": [
      "No negative electric field applied along x!\n",
      "No positive electric field applied along z!\n",
      "No positive electric field applied along x!\n",
      "No negative electric field applied along z!\n",
      "Positive electric field applied along y!\n",
      "Negative electric field applied along y!\n"
     ]
    }
   ],
   "source": [
    "calc1 = GIBinding()\n",
    "pt1 = PolTensorWorkflow(calc1, input_base, ef_amplitudes=ef_amplitudes)\n",
    "pt1.run()"
   ]
  },
  {
   "cell_type": "markdown",
   "metadata": {},
   "source": [
    "And... that's it! The polarizability tensor can then be returned by the `pol_tensor` attribute:"
   ]
  },
  {
   "cell_type": "code",
   "execution_count": 5,
   "metadata": {},
   "outputs": [
    {
     "name": "stdout",
     "output_type": "stream",
     "text": [
      "[[  0.00000000e+00   0.00000000e+00   0.00000000e+00]\n",
      " [ -1.60000000e-04   1.02307500e+01   0.00000000e+00]\n",
      " [  0.00000000e+00   0.00000000e+00   0.00000000e+00]]\n"
     ]
    }
   ],
   "source": [
    "print(pt1.pol_tensor)"
   ]
  },
  {
   "cell_type": "markdown",
   "metadata": {},
   "source": [
    "Note that the only non-zero terms are the ones concerning the electric field along the $y$ axis."
   ]
  },
  {
   "cell_type": "code",
   "execution_count": 6,
   "metadata": {},
   "outputs": [],
   "source": [
    "# The GIBinding calculator has to be deleted properly for the other parts of this notebook to run\n",
    "del(calc1)\n",
    "del(pt1)"
   ]
  },
  {
   "cell_type": "markdown",
   "metadata": {},
   "source": [
    "## Polarizability tensor with the SystemCalculator class\n",
    "\n",
    "Another calculator can be used, it won't change the results:"
   ]
  },
  {
   "cell_type": "code",
   "execution_count": 7,
   "metadata": {},
   "outputs": [
    {
     "name": "stdout",
     "output_type": "stream",
     "text": [
      "Initialize a Calculator with OMP_NUM_THREADS=4 and command /bigdft/bin/bigdft\n",
      "No negative electric field applied along x!\n",
      "No positive electric field applied along z!\n",
      "No positive electric field applied along x!\n",
      "No negative electric field applied along z!\n",
      "Executing command: /bigdft/bin/bigdft -n EF_along_y+\n",
      "Positive electric field applied along y!\n",
      "Executing command: /bigdft/bin/bigdft -n EF_along_y-\n",
      "Negative electric field applied along y!\n"
     ]
    }
   ],
   "source": [
    "calc2 = SystemCalculator(omp=4)\n",
    "pt2 = PolTensorWorkflow(calc2, input_base, ef_amplitudes=ef_amplitudes)\n",
    "pt2.run()"
   ]
  },
  {
   "cell_type": "code",
   "execution_count": 8,
   "metadata": {},
   "outputs": [
    {
     "name": "stdout",
     "output_type": "stream",
     "text": [
      "[[  0.00000000e+00   0.00000000e+00   0.00000000e+00]\n",
      " [ -1.60000000e-04   1.02307500e+01   0.00000000e+00]\n",
      " [  0.00000000e+00   0.00000000e+00   0.00000000e+00]]\n"
     ]
    }
   ],
   "source": [
    "print(pt2.pol_tensor)"
   ]
  },
  {
   "cell_type": "markdown",
   "metadata": {},
   "source": [
    "## Basic use case\n",
    "\n",
    "You could just use the default electric field amplitudes to get the whole polarizability tensor, without having to worry about the electric field amplitude:"
   ]
  },
  {
   "cell_type": "code",
   "execution_count": 9,
   "metadata": {},
   "outputs": [
    {
     "name": "stdout",
     "output_type": "stream",
     "text": [
      "Executing command: /bigdft/bin/bigdft -n EF_along_x-\n",
      "Negative electric field applied along x!\n",
      "Executing command: /bigdft/bin/bigdft -n EF_along_z+\n",
      "Positive electric field applied along z!\n",
      "Executing command: /bigdft/bin/bigdft -n EF_along_x+\n",
      "Positive electric field applied along x!\n",
      "Executing command: /bigdft/bin/bigdft -n EF_along_z-\n",
      "Negative electric field applied along z!\n",
      "Executing command: /bigdft/bin/bigdft -n EF_along_y+\n",
      "Positive electric field applied along y!\n",
      "Executing command: /bigdft/bin/bigdft -n EF_along_y-\n",
      "Negative electric field applied along y!\n"
     ]
    }
   ],
   "source": [
    "pt3 = PolTensorWorkflow(calc2, input_base)\n",
    "pt3.run()"
   ]
  },
  {
   "cell_type": "markdown",
   "metadata": {},
   "source": [
    "The polarizability tensor is then completely defined:"
   ]
  },
  {
   "cell_type": "code",
   "execution_count": 10,
   "metadata": {},
   "outputs": [
    {
     "name": "stdout",
     "output_type": "stream",
     "text": [
      "[[  1.08742500e+01  -5.00000000e-05   5.00000000e-02]\n",
      " [ -1.50000000e-04   1.02299000e+01   5.00000000e-02]\n",
      " [  3.00000000e-04   3.70000000e-03   1.05500000e+01]]\n"
     ]
    }
   ],
   "source": [
    "print(pt3.pol_tensor)"
   ]
  },
  {
   "cell_type": "markdown",
   "metadata": {},
   "source": [
    "Note that these values are not converged: both BigDFT parameters `hgrids` and `gnrm_cv` should be decreased to achieve convergence."
   ]
  }
 ],
 "metadata": {
  "kernelspec": {
   "display_name": "Python 2",
   "language": "python",
   "name": "python2"
  },
  "language_info": {
   "codemirror_mode": {
    "name": "ipython",
    "version": 2
   },
   "file_extension": ".py",
   "mimetype": "text/x-python",
   "name": "python",
   "nbconvert_exporter": "python",
   "pygments_lexer": "ipython2",
   "version": "2.7.12"
  }
 },
 "nbformat": 4,
 "nbformat_minor": 2
}
