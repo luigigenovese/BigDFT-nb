{
 "cells": [
  {
   "cell_type": "markdown",
   "metadata": {},
   "source": [
    "# Raman calculation\n",
    "\n",
    "This notebook presents how to compute a Raman spectrum by using the PyBigDFT API, and more precisely by using the SystemCalculator class.\n",
    "\n",
    "The goal of these calculations is to find the normal modes of vibration of the system under consideration (their intensities could also be calculated, requiring more calculations). A good reference for the underlying theory of molecular vibrations is the book *Molecular Vibrations* by Wilson *et al.* (1955) or the Advances in Chemical Physics, vol. 67 by K.P. Lawley (where the conversion between atomic units, SI units and the units used in the litterature is well explained).\n",
    "\n",
    "We will consider the cases of the nitrogen molecule N$_2$\n",
    "\n",
    "Note: it uses stuff that are not (yet?) in PyBigDFT to manipulate the posinp files."
   ]
  },
  {
   "cell_type": "code",
   "execution_count": 14,
   "metadata": {},
   "outputs": [],
   "source": [
    "# Import the useful classes\n",
    "import os\n",
    "import numpy as np\n",
    "from BigDFT.Calculators import SystemCalculator\n",
    "from BigDFT.Logfiles import Logfile\n",
    "from inputfiles import Posinp"
   ]
  },
  {
   "cell_type": "code",
   "execution_count": 2,
   "metadata": {},
   "outputs": [],
   "source": [
    "# Initialize the calculator\n",
    "study = SystemCalculator(4, 1)"
   ]
  },
  {
   "cell_type": "markdown",
   "metadata": {},
   "source": [
    "## Equilibrium geometry\n",
    "\n",
    "**Before running a Raman spectrum calulation, you must have performed a geometry optimization to obtain the reference equilibrium positions of that system.**\n",
    "\n",
    "However, the goal of this notebook is not to perform a geometry optimization using PyBigDFT, so the posinp file obtained after a precise geometry optimization (using `forcemax: 1.E-6`) is reproduced here as a string:"
   ]
  },
  {
   "cell_type": "code",
   "execution_count": 3,
   "metadata": {},
   "outputs": [],
   "source": [
    "# Initialize the reference position\n",
    "N2_ref = \"\"\"2  angstroem\n",
    "free\n",
    "N    2.976307744763e-23    6.872205902435e-23    1.071620018790e-02\n",
    "N   -1.104344885754e-23   -4.873421785298e-23    1.104273795769e+00\"\"\"\n",
    "pos = Posinp.from_string(N2_ref)"
   ]
  },
  {
   "cell_type": "markdown",
   "metadata": {},
   "source": [
    "## Run the reference calculation\n",
    "\n",
    "This is just the calculation of the reference position."
   ]
  },
  {
   "cell_type": "code",
   "execution_count": 4,
   "metadata": {},
   "outputs": [],
   "source": [
    "new_dir = \"N2_new\"\n",
    "try:\n",
    "    os.mkdir(new_dir)\n",
    "except OSError:\n",
    "    pass\n",
    "os.chdir(new_dir)\n",
    "base_name = \"N2_ref\"\n",
    "pos.write(base_name+\".xyz\")"
   ]
  },
  {
   "cell_type": "code",
   "execution_count": 5,
   "metadata": {},
   "outputs": [
    {
     "name": "stdout",
     "output_type": "stream",
     "text": [
      "Executing command:  mpirun -np 1 $BIGDFT_ROOT/bigdft -n N2_ref\n"
     ]
    }
   ],
   "source": [
    "force_run = False  # If True, force the calculation to run\n",
    "log_exists = os.path.exists(\"log-{}.yaml\".format(base_name))\n",
    "if (log_exists and force_run) or not log_exists:\n",
    "    study.run(name=\"N2_ref\")\n",
    "else:\n",
    "    print(\"No need to run the calculation.\")"
   ]
  },
  {
   "cell_type": "markdown",
   "metadata": {},
   "source": [
    "## Run 6 $n_{at}$ calculations to get the virbational frequencies\n",
    "\n",
    "To get the **energies** of the Raman spectrum, one needs to find the **eigenvalues of the dynamical matrix**, that is closely related to the Hessian. To build these matrices, one must find the derivatives of the forces when each coordinate of each atom is translated by a small amount around the equilibrium positions. To get a better precision on the derivative, each coodinate is translated positively and negatively, so that the number of BigDFT calculations amounts to $2 * 3 n_{at}$, where $n_{at}$ is the number of atoms (3 for the coordinates ($x$, $y$ and $z$), 2 for the number of calculations per coordinates)."
   ]
  },
  {
   "cell_type": "markdown",
   "metadata": {},
   "source": [
    "### Initialize $6 n_{at}$ the atom moves beforehand"
   ]
  },
  {
   "cell_type": "code",
   "execution_count": 6,
   "metadata": {},
   "outputs": [],
   "source": [
    "def get_displacements(amplitudes):\n",
    "    \"\"\"\n",
    "    Function used to define the six similar displacements\n",
    "    each atom must undergo from the amplitudes of\n",
    "    displacement in each direction.\n",
    "    \"\"\"\n",
    "    assert len(amplitudes) == 3 \n",
    "    # Space coordinates\n",
    "    COORDS = [\"x\", \"y\", \"z\"]\n",
    "    # Dictionary to convert the string of the signs to floats\n",
    "    SIGNS = {\"+\": 1., \"-\": -1.}\n",
    "    displacements = []\n",
    "    for i in range(3):\n",
    "        for sign in SIGNS:\n",
    "            name = COORDS[i]+sign\n",
    "            vector = [0.0]*3\n",
    "            vector[i] = SIGNS[sign] * amplitudes[i]\n",
    "            displacements.append({'name': name, 'vector': vector})\n",
    "    return displacements\n",
    "\n",
    "def get_moves(ref_posinp, amplitudes):\n",
    "    \"\"\"\n",
    "    Function used to define the posinp file and the name of\n",
    "    the output directory for each of the 6*n_at atom moves.\n",
    "    \"\"\"\n",
    "    B_TO_ANG = 0.529177249  # Conversion factor from bohr to angstroem\n",
    "    moves = []\n",
    "    displacements = get_displacements(amplitudes)\n",
    "    for i_at, atom in enumerate(pos.atoms):\n",
    "        # Loop over all the vectors of displacement\n",
    "        for d in displacements:\n",
    "            # Set the output directory\n",
    "            outdir = \"atom_{:03d}_{}\".format(i_at, d['name'])\n",
    "            # Set the new posinp.\n",
    "            # The displacement vector must use the correct units\n",
    "            vector = d['vector']\n",
    "            if pos.units == 'angstroem':\n",
    "                vector = [val*B_TO_ANG for val in vector]\n",
    "            new_pos = ref_posinp.translate_atom(i_at, vector)\n",
    "            moves.append({'posinp': new_pos, 'outdir': outdir})\n",
    "    return moves\n",
    "\n",
    "# Amplitude of the atom translations along the three coordinates\n",
    "amplitudes = [0.45/64]*3\n",
    "moves = get_moves(pos, amplitudes)\n",
    "assert len(moves) == 6 * pos.n_at"
   ]
  },
  {
   "cell_type": "markdown",
   "metadata": {},
   "source": [
    "### Run all the moves defined above for each atom\n",
    "\n",
    "The calculations are run in specific output directories: one for each atom move in a particular direction (there are $6 N_{at}$ = 12 subdirectories)."
   ]
  },
  {
   "cell_type": "code",
   "execution_count": 7,
   "metadata": {},
   "outputs": [
    {
     "name": "stdout",
     "output_type": "stream",
     "text": [
      "Executing command:  mpirun -np 1 $BIGDFT_ROOT/bigdft -n N2\n",
      "Executing command:  mpirun -np 1 $BIGDFT_ROOT/bigdft -n N2\n",
      "Executing command:  mpirun -np 1 $BIGDFT_ROOT/bigdft -n N2\n",
      "Executing command:  mpirun -np 1 $BIGDFT_ROOT/bigdft -n N2\n",
      "Executing command:  mpirun -np 1 $BIGDFT_ROOT/bigdft -n N2\n",
      "Executing command:  mpirun -np 1 $BIGDFT_ROOT/bigdft -n N2\n",
      "Executing command:  mpirun -np 1 $BIGDFT_ROOT/bigdft -n N2\n",
      "Executing command:  mpirun -np 1 $BIGDFT_ROOT/bigdft -n N2\n",
      "Executing command:  mpirun -np 1 $BIGDFT_ROOT/bigdft -n N2\n",
      "Executing command:  mpirun -np 1 $BIGDFT_ROOT/bigdft -n N2\n",
      "Executing command:  mpirun -np 1 $BIGDFT_ROOT/bigdft -n N2\n",
      "Executing command:  mpirun -np 1 $BIGDFT_ROOT/bigdft -n N2\n"
     ]
    }
   ],
   "source": [
    "# If True, force a particular calculation,\n",
    "# even if a logfile already exists\n",
    "force_run = False\n",
    "# Base name of the posinp files\n",
    "base_name = \"N2\"\n",
    "# Loop over all the moves\n",
    "for move in moves:\n",
    "    # Move to the output directory\n",
    "    outdir = move['outdir']\n",
    "    try:\n",
    "        os.mkdir(outdir)\n",
    "    except OSError:\n",
    "        pass\n",
    "    os.chdir(outdir)\n",
    "    # Run the calculation thanks to the calculator\n",
    "    try:\n",
    "        # Write the posinp file.\n",
    "        move['posinp'].write(base_name+\".xyz\")\n",
    "        # Run the calculation if desired\n",
    "        log_exists = os.path.exists(\"log-{}.yaml\".format(base_name))\n",
    "        if (log_exists and force_run) or not log_exists:\n",
    "            study.run(name=base_name)\n",
    "        else:\n",
    "            print(\"No need to run the calculation.\")\n",
    "    finally:\n",
    "        # Make sure to go one directory back, no\n",
    "        # matter what happens in the try block.\n",
    "        os.chdir(\"..\")"
   ]
  },
  {
   "cell_type": "markdown",
   "metadata": {},
   "source": [
    "## Extract vibrational frequencies from these calculations\n",
    "\n",
    "All these calculations can then be used to build the dynamical matrix, whose eigenvalues are the vibrational frequencies. Some functions are defined in order to do that in a more general case."
   ]
  },
  {
   "cell_type": "code",
   "execution_count": 19,
   "metadata": {},
   "outputs": [
    {
     "name": "stdout",
     "output_type": "stream",
     "text": [
      "[  2.55502098e-05   2.38632021e+03   2.01915188e+01   2.01915188e+01\n",
      "   6.49312916e-09   1.20474245e-05]\n"
     ]
    }
   ],
   "source": [
    "def solve_dynamical_matrix(dyn_mat):\n",
    "    r\"\"\"\n",
    "    Method solving the dynamical matrix to get the phonon energies\n",
    "    (converted in Hartree) and the eigenvectors.\n",
    "\n",
    "    :returns: Tuple made of the eigenvalues (as an array) and the\n",
    "              eigenvectors (as a matrix).\n",
    "    :rtype: tuple\n",
    "    \"\"\"\n",
    "    eigs, vecs = np.linalg.eig(dyn_mat)\n",
    "    eigs = np.array([np.sqrt(-e) if e < 0 else np.sqrt(e) for e in eigs])\n",
    "    return eigs, vecs\n",
    "\n",
    "def build_dyn_mat(moves, amplitudes, base_name=None):\n",
    "    r\"\"\"\n",
    "    Method computing the dynamical matrix of the system. It is\n",
    "    very similar to the Hessian matrix: its elements are only\n",
    "    corrected by a weight w, which is the inverse of the sqrt of\n",
    "    the product of the atomic masses of the atoms involved in the\n",
    "    Hessian matrix element H[i][j]:\n",
    "\n",
    "    w[i][j] = 1 / \\sqrt(mass_i * mass_j)\n",
    "\n",
    "    where mass_i is is the mass of the atom indexed by i (running\n",
    "    from 1 to the number of atoms n_at).\n",
    "\n",
    "    The masses are counted in electronic mass units (which is the\n",
    "    atomic unit of mass, that is different from the atomic mass\n",
    "    unit).\n",
    "\n",
    "    :returns: Dynamical matrix\n",
    "    :rtype: 2D square np.array of dimension 3*n_at\n",
    "    \"\"\"\n",
    "    # Numpy does the ratio of arrays intellegently: by making\n",
    "    # masses an array of the same size as the Hessian, there is\n",
    "    # nothing but the ratio of both arrays to perform to get\n",
    "    # the dynamical matrix.\n",
    "    h = build_hessian(moves, amplitudes, base_name)\n",
    "    masses = build_masses(moves)\n",
    "    return h / masses\n",
    "\n",
    "def build_masses(moves):\n",
    "    r\"\"\"\n",
    "    Method computing the masses array used to define the dynamical\n",
    "    matrix. The masses are counted in electronic mass units (which\n",
    "    is the atomic unit of mass, that is different from the atomic\n",
    "    mass unit).\n",
    "\n",
    "    :returns: Masses matrix\n",
    "    :rtype: 2D square np.array of dimension 3*n_at\n",
    "    \"\"\"\n",
    "    # Mass of the different types of atoms in atomic mass units\n",
    "    # TODO: Add more types of atoms\n",
    "    #       (found in $SRC_DIR/bigdft/src/orbitals/eleconf-inc.f90)\n",
    "    MASS_ATOMS = {\"H\": 1.00794, \"He\": 4.002602, \"Li\": 6.941, \"Be\": 9.012182,\n",
    "                  \"B\": 10.811, \"C\": 12.011, \"N\": 14.00674, \"O\": 15.9994,\n",
    "                  \"F\": 18.9984032, \"Ne\": 20.1797}\n",
    "    # Conversion from atomic to electronic mass unit\n",
    "    AMU_TO_EMU = 1.660538782e-27 / 9.10938215e-31\n",
    "    # Get the atoms of the system from the reference posinp\n",
    "    atoms = moves[0]['posinp'].atoms\n",
    "    # Build the masses matrix (the loops over range(3) are here\n",
    "    # to ensure that masses has the same dimension as the Hessian)\n",
    "    masses = [[np.sqrt(MASS_ATOMS[atom1[\"Type\"]] *\n",
    "                       MASS_ATOMS[atom2[\"Type\"]])\n",
    "               for atom2 in atoms for j in range(3)]\n",
    "              for atom1 in atoms for i in range(3)]\n",
    "    # Return the masses as a numpy array, converted in electronic\n",
    "    # mass units\n",
    "    return np.array(masses)*AMU_TO_EMU\n",
    "\n",
    "def build_hessian(moves, amplitudes, base_name):\n",
    "    r\"\"\"\n",
    "    Method computing the Hessian of the system. Its size is 3*n_at\n",
    "    by 3*n_at, where n_at is the number of atoms of the system.\n",
    "\n",
    "    :returns: Hessian matrix\n",
    "    :rtype: 2D square np.array of dimension 3*n_at\n",
    "    \"\"\"  # noqa\n",
    "    # Initialization of variables\n",
    "    h = []  # Hessian matrix\n",
    "    n_at = moves[0]['posinp'].n_at  # Number of atoms\n",
    "    if base_name is not None:\n",
    "        log_name = \"log-{}.yaml\".format(base_name)\n",
    "    else:\n",
    "        log_name = \"log.yaml\"\n",
    "    # First loop over all atoms\n",
    "    for i_at in range(n_at):\n",
    "        # Loop over the coordinates (x, y and z)\n",
    "        for i_coord in range(3):\n",
    "            # Read the two logfiles corresponding to the moves\n",
    "            # along the same direction (+ and -)\n",
    "            j_p = i_at*6 + i_coord*2\n",
    "            files = [os.path.join(moves[j]['outdir'], log_name)\n",
    "                     for j in [j_p, j_p+1]]\n",
    "            logs = [Logfile(filename) for filename in files]\n",
    "            # The Hessian is made of the delta of the forces\n",
    "            # with respect to the delta of the move distances.\n",
    "            # It is built line by line:\n",
    "            new_line = []\n",
    "            # 1- Find the delta displacement. It is twice the\n",
    "            #    distance of the positive move along the direction\n",
    "            #    of the displacement.\n",
    "            delta_x = 2 * amplitudes[i_coord]\n",
    "            # 2- Find the delta forces for each atom and update\n",
    "            #    the new line of the Hessian.\n",
    "            for j_at in range(n_at):\n",
    "                forces = [np.array(log.forces[j_at].values()[0])\n",
    "                          for log in logs]\n",
    "                delta_forces = forces[0] - forces[1]\n",
    "                new_line += list(delta_forces/delta_x)\n",
    "            # The new line of the Hessian is now complete\n",
    "            h.append(new_line)\n",
    "    # Return the Hessian matrix as a numpy array\n",
    "    return np.array(h)\n",
    "\n",
    "# Post-processing:\n",
    "# - Set the dynamical matrix\n",
    "dyn_mat = build_dyn_mat(moves, amplitudes, base_name=base_name)\n",
    "# - Find the energies as eigenvalues of the dynamical matrix\n",
    "# Conversion factor from Hartree to cm^-1\n",
    "HA_TO_CMM1 = 219474.6313705\n",
    "energies = {}\n",
    "energies['Ha'], normal_modes = solve_dynamical_matrix(dyn_mat)\n",
    "energies['cm^-1'] = energies['Ha'] * HA_TO_CMM1\n",
    "print(energies['cm^-1'])"
   ]
  },
  {
   "cell_type": "markdown",
   "metadata": {},
   "source": [
    "The nitrogen molecule being linear, it has $3 n_{at} - 5 = 1$ normal mode. Its energy, found using the LDA exchange-correlation is around 2386 cm$^{-1}$. Following the statement of [B. G. Johnson *et al.*, *J. Chem. Phys.* **98**, 5612 (1993)](http://aip.scitation.org/doi/10.1063/1.464906), our result should be compared with the harmonic experimental value, which is reported to be 2360 cm$^{-1}$ in this same reference. There is a very good agreement! Note that the actual experimental value (without neglecting anharmocity) is 2331 cm$^{-1}$."
   ]
  }
 ],
 "metadata": {
  "kernelspec": {
   "display_name": "Python 2",
   "language": "python",
   "name": "python2"
  },
  "language_info": {
   "codemirror_mode": {
    "name": "ipython",
    "version": 2
   },
   "file_extension": ".py",
   "mimetype": "text/x-python",
   "name": "python",
   "nbconvert_exporter": "python",
   "pygments_lexer": "ipython2",
   "version": "2.7.12"
  }
 },
 "nbformat": 4,
 "nbformat_minor": 2
}
