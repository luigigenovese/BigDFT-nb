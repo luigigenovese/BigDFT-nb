{
 "cells": [
  {
   "cell_type": "markdown",
   "metadata": {},
   "source": [
    "# Dissociation curve of the H$_2$O + HO$^-$ dimer without Constrained DFT\n",
    "\n",
    "This notebook aims at presenting the case of a dimer that looks like the water dimer of another notebook, the difference being that an hydrogen atom is removed from one water molecule and an extra electron is added to the system, so that the number of electrons is the same as for the water dimer.\n",
    "\n",
    "The calculations are very similar to the water dimer case, except that there is this extra electron. The cubic BigDFT calculations are the reference, and we compare the results obtained using linear BigDFT with the fragment approach while varying *nbasis* (which is the number of support functions per atom) to increase the number of degrees of freedom.\n",
    "\n",
    "Regarding the water molecule, the templates created while studying the water dimer can be reused, therefore avoiding some calculations. In constrast, two different templates are computed for the hydroxide molecule: a template consisting of the hydroxide molecule (with the addition of an electron) while the other template is just the OH radical (without the addition of an electron). Both templates give the same number of support functions, which is five. We will finally compare the dissociation curves obtained using the fragment approach with both templates (an electron being added to the system).\n",
    "\n",
    "In another notebook, we will compare the dissociation curves obtained here with the one obtained while using the constrained DFT on top of the fragment calculation, to ensure that the extra electron to remain in the vicinity of the OH molecule. "
   ]
  },
  {
   "cell_type": "markdown",
   "metadata": {},
   "source": [
    "**Import modules, classes and functions.**"
   ]
  },
  {
   "cell_type": "code",
   "execution_count": 1,
   "metadata": {
    "collapsed": true
   },
   "outputs": [],
   "source": [
    "from __future__ import print_function\n",
    "import os\n",
    "import sys\n",
    "import subprocess\n",
    "import shutil\n",
    "import tarfile\n",
    "import numpy as np\n",
    "from futile.Utils import find_files\n",
    "try:\n",
    "    from BigDFT import Logfiles as lf\n",
    "except ImportError:\n",
    "    sys.path.append('/Users/maximemoriniere/post-doc/bigdft/bigdft/bigdft/src/python')\n",
    "    from BigDFT import Logfiles as lf\n",
    "import matplotlib.pyplot as plt"
   ]
  },
  {
   "cell_type": "markdown",
   "metadata": {},
   "source": [
    "**Extract tarfiles to avoid re-running some calculations.**\n",
    "\n",
    "One tarfile contains the templates used throughout this notebook, while the other contains the files related to the different dissociation curves that will be computed."
   ]
  },
  {
   "cell_type": "code",
   "execution_count": 2,
   "metadata": {},
   "outputs": [
    {
     "name": "stdout",
     "output_type": "stream",
     "text": [
      "Extract templates_H2O_HO-.tgz to avoid calculating the templates.\n",
      "Extract H2O_HO-.tgz to avoid calculating every point of the dissociation curves.\n"
     ]
    }
   ],
   "source": [
    "# Extract the archive containing the templates, if it exists\n",
    "tartemplate = \"templates_H2O_HO-.tgz\"\n",
    "if os.path.exists(tartemplate):\n",
    "    print(\"Extract {} to avoid calculating the templates.\".format(tartemplate))\n",
    "    with tarfile.open(tartemplate,\"r:bz2\") as tar:\n",
    "        tar.extractall()\n",
    "        \n",
    "# Extract the output files from an archive, if it exists\n",
    "tarname = 'H2O_HO-.tgz'\n",
    "if os.path.exists(tarname):\n",
    "    print(\"Extract {} to avoid calculating every point of the dissociation curves.\".format(tarname))\n",
    "    with tarfile.open(tarname,\"r:bz2\") as tar:\n",
    "        tar.extractall()"
   ]
  },
  {
   "cell_type": "markdown",
   "metadata": {},
   "source": [
    "**Initialize some variables to get a clean tree of folders.**"
   ]
  },
  {
   "cell_type": "code",
   "execution_count": 3,
   "metadata": {
    "collapsed": true
   },
   "outputs": [],
   "source": [
    "# Path leading to the current folder\n",
    "start_path = os.getcwd() \n",
    "\n",
    "# Templates folder\n",
    "templates_folder = \"templates\" # Name\n",
    "templates_path = start_path+\"/\"+templates_folder # Path leading to it\n",
    "if not os.path.exists(templates_folder): os.mkdir(templates_folder)\n",
    "\n",
    "# Dimer folder, different from the water dimer case\n",
    "dimer_folder = \"H2O_HO-\" # Name\n",
    "dimer_path = start_path+\"/\"+dimer_folder # Path leading to it\n",
    "if not os.path.exists(dimer_folder): os.mkdir(dimer_folder)"
   ]
  },
  {
   "cell_type": "markdown",
   "metadata": {},
   "source": [
    "**Define the BigDFT variable allowing to run BigDFT from the present notebook**"
   ]
  },
  {
   "cell_type": "code",
   "execution_count": 4,
   "metadata": {
    "collapsed": true
   },
   "outputs": [],
   "source": [
    "BigDFT = os.environ[\"BIGDFT_ROOT\"]+\"/bigdft\"\n",
    "if not os.path.exists(BigDFT):\n",
    "    BigDFT = \"/Users/maximemoriniere/post-doc/bigdft/bigdft/build/bigdft/src/bigdft\"\n",
    "os.environ[\"OMP_NUM_THREADS\"]=\"4\" # Depends on your computer (compiled with OpenMP)"
   ]
  },
  {
   "cell_type": "markdown",
   "metadata": {},
   "source": [
    "## Templates calculations\n",
    "\n",
    "We first want to compute the OH and OH$^-$ templates. To that end, we need to define the posinp file for the oh structure. We do this by taking a water dimer posinp file, focusing on the second water molecule, and remove one hydrogen atom from it (we could also remove the other hydrogen atom, or one hydrogen atom of the other water molecule and compare the results, but this goes beyond the scope of this notebook). \n",
    "\n",
    "We also define a function for the yaml input file, taking the values of *nbasis* for both type of atoms and a boolean named charged as argument(if charged is set to True, an extra electron is added, otherwise no electron is added; its default value is set to False)."
   ]
  },
  {
   "cell_type": "code",
   "execution_count": 5,
   "metadata": {},
   "outputs": [
    {
     "name": "stdout",
     "output_type": "stream",
     "text": [
      " import: linear\n",
      " dft:\n",
      "   hgrids: 0.25\n",
      "   rmult: [5.0, 7.0]\n",
      "   inputpsiid: linear\n",
      "   ixc: LDA (ABINIT)\n",
      " lin_general:\n",
      "   output_wf: 1\n",
      "   output_mat: 11\n",
      " lin_kernel:\n",
      "   alphamix: 0.3\n",
      "   linear_method: FOE\n",
      " lin_basis_params:\n",
      "   O:\n",
      "     nbasis: 4\n",
      "     ao_confinement: 1.0E-002\n",
      "     confinement: [5.0E-003, 0.0]\n",
      "     rloc: 9.0\n",
      "     rloc_kernel: 12.0\n",
      "     rloc_kernel_foe: 14.0\n",
      "   H:\n",
      "     nbasis: 1\n",
      "     ao_confinement: 1.0E-002\n",
      "     confinement: [5.0E-003, 0.0]\n",
      "     rloc: 9.0\n",
      "     rloc_kernel: 12.0\n",
      "     rloc_kernel_foe: 14.0\n"
     ]
    }
   ],
   "source": [
    "ho_xyz = \"\"\"\\\n",
    "2 angstroemd0\n",
    "free\n",
    "O             0.000000                 -0.003706000000            0.113495000000\n",
    "H             0.296831                  0.762122000000           -0.351887000000\"\"\"\n",
    "\n",
    "def ho_yaml(On=4, Hn=1, charged=False):\n",
    "    if charged:\n",
    "        qcharge_yaml = \"\"\"\n",
    "   qcharge: -1\"\"\"\n",
    "    else:\n",
    "        qcharge_yaml = \"\"\"\"\"\"\n",
    "    dft_yaml = \"\"\"\\\n",
    " import: linear\n",
    " dft:\n",
    "   hgrids: 0.25\n",
    "   rmult: [5.0, 7.0]\n",
    "   inputpsiid: linear\n",
    "   ixc: LDA (ABINIT)\"\"\"\n",
    "    lin_yaml = \"\"\"\n",
    " lin_general:\n",
    "   output_wf: 1\n",
    "   output_mat: 11\n",
    " lin_kernel:\n",
    "   alphamix: 0.3\n",
    "   linear_method: FOE\n",
    " lin_basis_params:\n",
    "   O:\n",
    "     nbasis: {On}\n",
    "     ao_confinement: 1.0E-002\n",
    "     confinement: [5.0E-003, 0.0]\n",
    "     rloc: 9.0\n",
    "     rloc_kernel: 12.0\n",
    "     rloc_kernel_foe: 14.0\n",
    "   H:\n",
    "     nbasis: {Hn}\n",
    "     ao_confinement: 1.0E-002\n",
    "     confinement: [5.0E-003, 0.0]\n",
    "     rloc: 9.0\n",
    "     rloc_kernel: 12.0\n",
    "     rloc_kernel_foe: 14.0\"\"\".format(On=On, Hn=Hn)\n",
    "    return dft_yaml + qcharge_yaml + lin_yaml\n",
    "\n",
    "print(ho_yaml())\n",
    "#print(ho_yaml(charged=True))"
   ]
  },
  {
   "cell_type": "markdown",
   "metadata": {},
   "source": [
    "Now that the input files for the templates, let us define a function ```run_bigdft``` that runs a BigDFT calculation only if it was not already computed (it also checks, for later fragment calculations, that the templates required to run the fragment calculation were already calculated using the ```collect_templates_data``` function, and copy this data in an appropriate folder)"
   ]
  },
  {
   "cell_type": "code",
   "execution_count": 6,
   "metadata": {
    "collapsed": true
   },
   "outputs": [],
   "source": [
    "# Define the functions allowing to run a BigDFT calculation\n",
    "def collect_templates_data(input_name, templates_dir):\n",
    "    \"\"\"\n",
    "    Function collecting the data of the templates required by the \n",
    "    input file input_name. Symbolic links to the input files \n",
    "    of the templates and a copy of the data-template folder is done. \n",
    "    The path to the templates data is given by templates_dir.\n",
    "\n",
    "    :param input_name: Name of the input file.\n",
    "    :type input_name: str\n",
    "    :param templates_dir: Path to the templates.\n",
    "    :type templates_dir: str\n",
    "    \"\"\"\n",
    "    from futile import Yaml\n",
    "    \n",
    "    # Read the input file to get the names of the required templates\n",
    "    input_file = Yaml.yaml.load(open(input_name, 'r').read())\n",
    "    templates = [template for template in input_file['frag'] \n",
    "                 if template != 'constrained_dft'] \n",
    "    \n",
    "    # Raise an error if a required template is missing from templates_dir\n",
    "    if templates_dir is None:\n",
    "        raise ValueError(\"A value should be given to templates_dir.\")\n",
    "        \n",
    "    # Find if some templates are missing in the templates folder\n",
    "    missing_templates = [template for template in templates \\\n",
    "                         if any([f not in os.listdir(templates_dir) \\\n",
    "                                 for f in ['data-'+template, template+\".yaml\", template+\".xyz\"]])]\n",
    "    if missing_templates != []:\n",
    "        raise ValueError(\"Missing template(s): {}\".format(missing_templates))\n",
    "        \n",
    "    # Create ang go to a folder containing the data of all the templates\n",
    "    data_folder = 'data-'+input_name[:-5]\n",
    "    if data_folder not in os.listdir(os.getcwd()): os.mkdir(data_folder)\n",
    "    os.chdir(data_folder)\n",
    "    \n",
    "    # Create the needed symlinks: data folder, and input and posinp files\n",
    "    for template in templates:\n",
    "        # Create the symlink to the template input files\n",
    "        for f in [template+\".yaml\", template+\".xyz\"]:\n",
    "            if f in os.listdir(os.getcwd()):\n",
    "                os.remove(f)\n",
    "            os.symlink(templates_path+\"/\"+f, f)\n",
    "        # Copy the whole data-template folder\n",
    "        data_template = 'data-'+template\n",
    "        shutil.copytree(templates_path+\"/\"+data_template, data_template)\n",
    "    \n",
    "    # Don't forget to go back to the previous folder\n",
    "    os.chdir(\"..\")\n",
    "\n",
    "\n",
    "def run_bigdft(yaml, xyz, prefix=None, templates_dir=None):\n",
    "    \"\"\"\n",
    "    This function runs a bigdft calculation if it was not already performed.\n",
    "    \n",
    "    :param prefix: Prefix of the calculation to define the input files.\n",
    "    :type prefix: str\n",
    "    :param yaml: Content of the input file\n",
    "    :type yaml: str\n",
    "    :param xyz: Content of the posinp file\n",
    "    :type xyz: str\n",
    "    :param templates_dir: For fragment calculation : path to the templates \n",
    "                          (optional, default to None).\n",
    "    :type templates_dir: str\n",
    "    \"\"\"\n",
    "    # Initialise some variables\n",
    "    if prefix is not None:\n",
    "        input_name  = prefix+\".yaml\"    # input file name\n",
    "        output_name = \"log-\"+input_name # output file name\n",
    "        posinp_name = prefix+\".xyz\"     # posinp file name\n",
    "        command = [BigDFT, prefix]\n",
    "    else:\n",
    "        input_name  = \"input.yaml\" # input file name\n",
    "        output_name = \"log.yaml\"   # output file name\n",
    "        posinp_name = \"posinp.xyz\" # posinp file name\n",
    "        command = [BigDFT]\n",
    "        \n",
    "    # Check that the calculation was not already done\n",
    "    if not os.path.exists(output_name):\n",
    "        # Write the input file\n",
    "        open(input_name, \"w\").write(yaml)\n",
    "        # Collect the data required for a fragment calculation\n",
    "        if \" frag:\" in yaml:\n",
    "            collect_templates_data(input_name, templates_dir)\n",
    "        # Write the posinp file\n",
    "        open(posinp_name, \"w\").write(xyz)\n",
    "        # Launch the calculation\n",
    "        print(command, \"...\")\n",
    "        run = subprocess.Popen(command, stdout=subprocess.PIPE, stderr=subprocess.PIPE)\n",
    "        out, err = run.communicate()\n",
    "        print(out)\n",
    "    else:\n",
    "        print(\"Logfile {} already exists!\".format(output_name))"
   ]
  },
  {
   "cell_type": "markdown",
   "metadata": {},
   "source": [
    "**We assume that you already performed the water dimer tutorial, so that the templates folder already exists. If this is note the case, in order not to repeat ourselves and for the readability of this notebook, we ask you to run the templates calculation of the water dimer tutorial.**\n",
    "\n",
    "We therefore move on to the HO$^-$ and HO template calculation. We only have to go to the templates folder and perform both templates calculation. Let us start with the HO template:"
   ]
  },
  {
   "cell_type": "code",
   "execution_count": 7,
   "metadata": {},
   "outputs": [
    {
     "name": "stdout",
     "output_type": "stream",
     "text": [
      "Logfile log-ho.yaml already exists!\n"
     ]
    }
   ],
   "source": [
    "# Go to the templates folder\n",
    "os.chdir(templates_path)\n",
    "\n",
    "# Run the template of the oh molecule\n",
    "run_bigdft(ho_yaml(), ho_xyz, prefix=\"ho\")"
   ]
  },
  {
   "cell_type": "markdown",
   "metadata": {},
   "source": [
    "Finally, let us perform the HO- template calculation"
   ]
  },
  {
   "cell_type": "code",
   "execution_count": 8,
   "metadata": {},
   "outputs": [
    {
     "name": "stdout",
     "output_type": "stream",
     "text": [
      "Logfile log-ho-.yaml already exists!\n"
     ]
    }
   ],
   "source": [
    "run_bigdft(ho_yaml(charged=True), ho_xyz, prefix=\"ho-\")"
   ]
  },
  {
   "cell_type": "markdown",
   "metadata": {},
   "source": [
    "## Fragment calculations\n",
    "\n",
    "We can now run the fragment calculations using the different templates, and vary the distances between the two fragments. \n",
    "\n",
    "Let us start by defining the input files:"
   ]
  },
  {
   "cell_type": "code",
   "execution_count": 9,
   "metadata": {},
   "outputs": [
    {
     "name": "stdout",
     "output_type": "stream",
     "text": [
      " dft:\n",
      "   hgrids: 0.35\n",
      "   rmult: [5.0, 7.0]\n",
      "   inputpsiid: linear_restart\n",
      "   ixc: LDA (ABINIT)\n",
      "   qcharge: -1\n",
      " lin_general:\n",
      "   nit: 1\n",
      "   kernel_restart_mode: kernel\n",
      "   output_wf: 1\n",
      "   output_mat: 1\n",
      "   output_coeff: 1\n",
      "   calc_dipole: Yes\n",
      "   subspace_diag: Yes\n",
      " lin_basis:\n",
      "   nit: 1\n",
      " lin_kernel:\n",
      "   nit: [20,100]\n",
      "   alphamix: 0.3\n",
      "   rpnrm_cv: 1.0E-010\n",
      "   linear_method: FOE\n",
      " lin_basis_params:\n",
      "   O:\n",
      "     nbasis: 4\n",
      "     ao_confinement: 1.0E-002\n",
      "     confinement: [5.0E-003, 0.0]\n",
      "     rloc: 9.0\n",
      "     rloc_kernel: 12.0\n",
      "     rloc_kernel_foe: 14.0\n",
      "   H:\n",
      "     nbasis: 1\n",
      "     ao_confinement: 1.0E-002\n",
      "     confinement: [5.0E-003, 0.0]\n",
      "     rloc: 9.0\n",
      "     rloc_kernel: 12.0\n",
      "     rloc_kernel_foe: 14.0\n",
      " frag:\n",
      "   h2o:\n",
      "   - 1\n",
      "   ho:\n",
      "   - 2\n"
     ]
    }
   ],
   "source": [
    "def dimer_xyz(d):\n",
    "    x1 = d\n",
    "    x2 = d + 0.296831000000\n",
    "    d_xyz = \"\"\"\\\n",
    "5 angstroemd0\n",
    "free\n",
    "O            -0.931477999671            0.004547999723           -0.117331000086\n",
    "H            -1.355753693973           -0.032108553467            0.725181911626\n",
    "H            -0.003078395366            0.011003111969            0.053703839371\n",
    "O             {0:14.12f}           -0.003706000000            0.113495000000\n",
    "H             {1:14.12f}            0.762122000000           -0.351887000000\"\"\"\n",
    "    return d_xyz.format(x1,x2)\n",
    "\n",
    "def dimer_yaml(frag_names=[\"h2o\", \"ho\"], On=4, Hn=1):\n",
    "    return \"\"\"\\\n",
    " dft:\n",
    "   hgrids: 0.35\n",
    "   rmult: [5.0, 7.0]\n",
    "   inputpsiid: linear_restart\n",
    "   ixc: LDA (ABINIT)\n",
    "   qcharge: -1\n",
    " lin_general:\n",
    "   nit: 1\n",
    "   kernel_restart_mode: kernel\n",
    "   output_wf: 1\n",
    "   output_mat: 1\n",
    "   output_coeff: 1\n",
    "   calc_dipole: Yes\n",
    "   subspace_diag: Yes\n",
    " lin_basis:\n",
    "   nit: 1\n",
    " lin_kernel:\n",
    "   nit: [20,100]\n",
    "   alphamix: 0.3\n",
    "   rpnrm_cv: 1.0E-010\n",
    "   linear_method: FOE\n",
    " lin_basis_params:\n",
    "   O:\n",
    "     nbasis: {On}\n",
    "     ao_confinement: 1.0E-002\n",
    "     confinement: [5.0E-003, 0.0]\n",
    "     rloc: 9.0\n",
    "     rloc_kernel: 12.0\n",
    "     rloc_kernel_foe: 14.0\n",
    "   H:\n",
    "     nbasis: {Hn}\n",
    "     ao_confinement: 1.0E-002\n",
    "     confinement: [5.0E-003, 0.0]\n",
    "     rloc: 9.0\n",
    "     rloc_kernel: 12.0\n",
    "     rloc_kernel_foe: 14.0\n",
    " frag:\n",
    "   {name[0]}:\n",
    "   - 1\n",
    "   {name[1]}:\n",
    "   - 2\"\"\".format(name=frag_names, On=On, Hn=Hn)\n",
    "\n",
    "print(dimer_yaml())"
   ]
  },
  {
   "cell_type": "markdown",
   "metadata": {},
   "source": [
    "We now define the ```run_setup``` function to run BigDFT for a set of distances between the two water molecules. This allows to get a clean folder tree: for each distance, a folder is created, containg the input, output and templates files. All these distance folders are placed in a folder that is specific of the the setup."
   ]
  },
  {
   "cell_type": "code",
   "execution_count": 10,
   "metadata": {
    "collapsed": true
   },
   "outputs": [],
   "source": [
    "def run_setup(setup_folder, distances, yaml, xyz_func, templates_dir=None):\n",
    "    \"\"\"\n",
    "    Function that creates all the folders and files for a given setup.\n",
    "    A setup is defined by a folder name, created to store all the results\n",
    "    obtained using a given yaml file but for different distances.\n",
    "    It loops over all the distances to create a folder for each distance\n",
    "    and then is nothing but a wrapper over the run_bigdft method\n",
    "    \"\"\"\n",
    "    # - Create and go to the setup folder\n",
    "    if setup_folder not in os.listdir(os.getcwd()): os.mkdir(setup_folder)\n",
    "    os.chdir(setup_folder)\n",
    "    \n",
    "    # - Loop over the distances \n",
    "    #  (Both finally are here to make sure that the os.chdir(\"..\") command\n",
    "    #   is performed even if there is an interruption or an error.)\n",
    "    prefix = \"dimer\"\n",
    "    try:\n",
    "        for d in dists:\n",
    "            print(\"{}; dist={}\".format(setup_folder, d))\n",
    "            # - Create and go to a subfolder for the current distance\n",
    "            subfolder = prefix+\"_\"+str(d)\n",
    "            if subfolder not in os.listdir(os.getcwd()): os.mkdir(subfolder)\n",
    "            os.chdir(subfolder)\n",
    "            # - Run the calculation\n",
    "            try:\n",
    "                run_bigdft(yaml, xyz_func(d), prefix=prefix, \\\n",
    "                           templates_dir=templates_dir)\n",
    "            finally:\n",
    "                # This \"finally\" forces to go back to the dimer folder\n",
    "                # if the BigDFT run is not completed.\n",
    "                os.chdir(\"..\")\n",
    "    finally:\n",
    "        # This \"finally\" forces to go back to the dimer folder\n",
    "        # if the loop over the distances is not completed.\n",
    "        os.chdir(\"..\")"
   ]
  },
  {
   "cell_type": "markdown",
   "metadata": {},
   "source": [
    "Now, we just need to go to the dimer folder and run the calculations for the different setups, starting with the one involving the HO template:"
   ]
  },
  {
   "cell_type": "code",
   "execution_count": 11,
   "metadata": {},
   "outputs": [
    {
     "name": "stdout",
     "output_type": "stream",
     "text": [
      "ho_1-4; dist=1.3\n",
      "Logfile log-dimer.yaml already exists!\n",
      "ho_1-4; dist=1.4\n",
      "Logfile log-dimer.yaml already exists!\n",
      "ho_1-4; dist=1.5\n",
      "Logfile log-dimer.yaml already exists!\n",
      "ho_1-4; dist=1.6\n",
      "Logfile log-dimer.yaml already exists!\n",
      "ho_1-4; dist=1.7\n",
      "Logfile log-dimer.yaml already exists!\n",
      "ho_1-4; dist=1.8\n",
      "Logfile log-dimer.yaml already exists!\n",
      "ho_1-4; dist=1.9\n",
      "Logfile log-dimer.yaml already exists!\n",
      "ho_1-4; dist=2.0\n",
      "Logfile log-dimer.yaml already exists!\n",
      "ho_1-4; dist=2.1\n",
      "Logfile log-dimer.yaml already exists!\n",
      "ho_1-4; dist=2.2\n",
      "Logfile log-dimer.yaml already exists!\n",
      "ho_1-4; dist=2.3\n",
      "Logfile log-dimer.yaml already exists!\n",
      "ho_1-4; dist=2.4\n",
      "Logfile log-dimer.yaml already exists!\n",
      "ho_1-4; dist=2.5\n",
      "Logfile log-dimer.yaml already exists!\n",
      "ho_1-4; dist=3.0\n",
      "Logfile log-dimer.yaml already exists!\n",
      "ho_1-4; dist=3.5\n",
      "Logfile log-dimer.yaml already exists!\n",
      "ho_1-4; dist=4.0\n",
      "Logfile log-dimer.yaml already exists!\n",
      "ho_1-4; dist=4.5\n",
      "Logfile log-dimer.yaml already exists!\n",
      "ho_1-4; dist=5.0\n",
      "Logfile log-dimer.yaml already exists!\n"
     ]
    }
   ],
   "source": [
    "# Go to the dimer folder\n",
    "os.chdir(dimer_path)\n",
    "\n",
    "# Array of distances\n",
    "dists = np.append(np.arange(1.3, 2.5, 0.1), np.arange(2.5, 5.5, 0.5))\n",
    "\n",
    "# Run the first setup\n",
    "run_setup(\"ho_1-4\", dists, dimer_yaml(frag_names=[\"h2o\", \"ho\"]), \\\n",
    "          dimer_xyz, templates_dir=templates_path)"
   ]
  },
  {
   "cell_type": "markdown",
   "metadata": {},
   "source": [
    "Let us perform the same calculation for the HO$^-$ template:"
   ]
  },
  {
   "cell_type": "code",
   "execution_count": 12,
   "metadata": {},
   "outputs": [
    {
     "name": "stdout",
     "output_type": "stream",
     "text": [
      "ho-_1-4; dist=1.3\n",
      "Logfile log-dimer.yaml already exists!\n",
      "ho-_1-4; dist=1.4\n",
      "Logfile log-dimer.yaml already exists!\n",
      "ho-_1-4; dist=1.5\n",
      "Logfile log-dimer.yaml already exists!\n",
      "ho-_1-4; dist=1.6\n",
      "Logfile log-dimer.yaml already exists!\n",
      "ho-_1-4; dist=1.7\n",
      "Logfile log-dimer.yaml already exists!\n",
      "ho-_1-4; dist=1.8\n",
      "Logfile log-dimer.yaml already exists!\n",
      "ho-_1-4; dist=1.9\n",
      "Logfile log-dimer.yaml already exists!\n",
      "ho-_1-4; dist=2.0\n",
      "Logfile log-dimer.yaml already exists!\n",
      "ho-_1-4; dist=2.1\n",
      "Logfile log-dimer.yaml already exists!\n",
      "ho-_1-4; dist=2.2\n",
      "Logfile log-dimer.yaml already exists!\n",
      "ho-_1-4; dist=2.3\n",
      "Logfile log-dimer.yaml already exists!\n",
      "ho-_1-4; dist=2.4\n",
      "Logfile log-dimer.yaml already exists!\n",
      "ho-_1-4; dist=2.5\n",
      "Logfile log-dimer.yaml already exists!\n",
      "ho-_1-4; dist=3.0\n",
      "Logfile log-dimer.yaml already exists!\n",
      "ho-_1-4; dist=3.5\n",
      "Logfile log-dimer.yaml already exists!\n",
      "ho-_1-4; dist=4.0\n",
      "Logfile log-dimer.yaml already exists!\n",
      "ho-_1-4; dist=4.5\n",
      "Logfile log-dimer.yaml already exists!\n",
      "ho-_1-4; dist=5.0\n",
      "Logfile log-dimer.yaml already exists!\n"
     ]
    }
   ],
   "source": [
    "run_setup(\"ho-_1-4\", dists, dimer_yaml(frag_names=[\"h2o\", \"ho-\"]), \\\n",
    "          dimer_xyz, templates_dir=templates_path)"
   ]
  },
  {
   "cell_type": "markdown",
   "metadata": {},
   "source": [
    "## Cubic calculations\n",
    "\n",
    "Let us perform the same calculation using the cubic scaling version of BigDFT as a reference. The xyz files for each distance are the same, only the yaml input file changes:"
   ]
  },
  {
   "cell_type": "code",
   "execution_count": 13,
   "metadata": {
    "collapsed": true
   },
   "outputs": [],
   "source": [
    "cubic_yaml = \"\"\"\\\n",
    " dft:\n",
    "   hgrids: 0.35\n",
    "   rmult: [5.0, 7.0]\n",
    "   ixc: LDA (ABINIT)\n",
    "   qcharge: -1\"\"\""
   ]
  },
  {
   "cell_type": "markdown",
   "metadata": {},
   "source": [
    "The ```run_setup``` function can also be used for cubic calculations:"
   ]
  },
  {
   "cell_type": "code",
   "execution_count": 14,
   "metadata": {},
   "outputs": [
    {
     "name": "stdout",
     "output_type": "stream",
     "text": [
      "cubic; dist=1.3\n",
      "Logfile log-dimer.yaml already exists!\n",
      "cubic; dist=1.4\n",
      "Logfile log-dimer.yaml already exists!\n",
      "cubic; dist=1.5\n",
      "Logfile log-dimer.yaml already exists!\n",
      "cubic; dist=1.6\n",
      "Logfile log-dimer.yaml already exists!\n",
      "cubic; dist=1.7\n",
      "Logfile log-dimer.yaml already exists!\n",
      "cubic; dist=1.8\n",
      "Logfile log-dimer.yaml already exists!\n",
      "cubic; dist=1.9\n",
      "Logfile log-dimer.yaml already exists!\n",
      "cubic; dist=2.0\n",
      "Logfile log-dimer.yaml already exists!\n",
      "cubic; dist=2.1\n",
      "Logfile log-dimer.yaml already exists!\n",
      "cubic; dist=2.2\n",
      "Logfile log-dimer.yaml already exists!\n",
      "cubic; dist=2.3\n",
      "Logfile log-dimer.yaml already exists!\n",
      "cubic; dist=2.4\n",
      "Logfile log-dimer.yaml already exists!\n",
      "cubic; dist=2.5\n",
      "Logfile log-dimer.yaml already exists!\n",
      "cubic; dist=3.0\n",
      "Logfile log-dimer.yaml already exists!\n",
      "cubic; dist=3.5\n",
      "Logfile log-dimer.yaml already exists!\n",
      "cubic; dist=4.0\n",
      "Logfile log-dimer.yaml already exists!\n",
      "cubic; dist=4.5\n",
      "Logfile log-dimer.yaml already exists!\n",
      "cubic; dist=5.0\n",
      "Logfile log-dimer.yaml already exists!\n"
     ]
    }
   ],
   "source": [
    "run_setup(\"cubic\", dists, cubic_yaml, dimer_xyz)"
   ]
  },
  {
   "cell_type": "markdown",
   "metadata": {},
   "source": [
    "## Dissociation curves\n",
    "\n",
    "The next step consists in collecting the needed data to plot the dissociation curve. To that end, a `find_data` function is defined:"
   ]
  },
  {
   "cell_type": "code",
   "execution_count": 15,
   "metadata": {
    "collapsed": true
   },
   "outputs": [],
   "source": [
    "def find_data(setup_folder, legend):\n",
    "    \"\"\"\n",
    "    Given a setup folder, find the logfiles in a given archive, \n",
    "    this function collects the data needed to plot\n",
    "    dissociation curves, e.g. distance vs energy.\n",
    "    The data is made of the distances between the two water \n",
    "    molecules and the total energies of the corresponding dimers.\n",
    "    A legendtitle is also added to the dictionnary, in order to \n",
    "    be used as legend for the plots.\n",
    "    \"\"\"\n",
    "    HatoeV = 27.211396132 #Hartree to eV conversion factor\n",
    "    print(legend)\n",
    "    data = {'legend': legend}\n",
    "    if os.path.exists(setup_folder):\n",
    "        try:\n",
    "            os.chdir(setup_folder)\n",
    "            paths = find_files(\"dimer_*/log-dimer.yaml\")\n",
    "            data['logfiles'] = [lf.Logfile(path) for path in paths]\n",
    "        finally:\n",
    "            os.chdir(\"..\")\n",
    "    #print(paths)\n",
    "    if len(data['logfiles']) < 1:\n",
    "        raise ValueError(\"No logfiles found, try a new regexp.\")\n",
    "    # Find the distance between the two molecules\n",
    "    data['distances'] = [log.log['posinp']['positions'][3]['O'][0] \\\n",
    "                         for log in data['logfiles']]\n",
    "    # Sort the logfiles according to the distances first\n",
    "    data['logfiles'] = [log for (dist, log) in \\\n",
    "                        sorted(zip(data['distances'], data['logfiles']))]\n",
    "    # Sort the distances\n",
    "    data['distances'] = sorted(data['distances'])\n",
    "    # The energies are listed for increasing distance\n",
    "    data['energies'] = [log.energy for log in data['logfiles']]\n",
    "    # Shift the energies and convert them to eV\n",
    "    ref = data['energies'][-1] #reference value at large distance\n",
    "    data['energies'] = [HatoeV * (e - ref) for e in data['energies']]\n",
    "    \n",
    "    return data"
   ]
  },
  {
   "cell_type": "markdown",
   "metadata": {},
   "source": [
    "The data for each setup is then gathered in the following manner:"
   ]
  },
  {
   "cell_type": "code",
   "execution_count": 16,
   "metadata": {},
   "outputs": [
    {
     "name": "stdout",
     "output_type": "stream",
     "text": [
      "HO fragment (1, 4)\n",
      "HO$^-$ fragment (1, 4)\n",
      "Cubic\n"
     ]
    }
   ],
   "source": [
    "setups = [\"ho_1-4\", \"ho-_1-4\", \"cubic\"]\n",
    "legends = ['HO fragment (1, 4)', 'HO$^-$ fragment (1, 4)', 'Cubic']\n",
    "curves = [find_data(setup, legends[i]) for i, setup in enumerate(setups)]"
   ]
  },
  {
   "cell_type": "markdown",
   "metadata": {},
   "source": [
    "The plot is finally created using matplotlib:"
   ]
  },
  {
   "cell_type": "code",
   "execution_count": 17,
   "metadata": {},
   "outputs": [
    {
     "data": {
      "image/png": "[encoded data removed]",
      "text/plain": [
       "<matplotlib.figure.Figure at 0x109b31250>"
      ]
     },
     "metadata": {},
     "output_type": "display_data"
    }
   ],
   "source": [
    "# Lists of markers and colors (for matplotlib)\n",
    "colors = ['#74a9cf', '#74a9cf', '#b2182b']\n",
    "markers = ['o', 's', 'o']\n",
    "size = [8]*3\n",
    "\n",
    "# Plot with matplotlib\n",
    "plt.figure(figsize=(8,5))\n",
    "for i, data in enumerate(curves):\n",
    "    plt.plot(data['distances'], data['energies'], marker=markers[i], \n",
    "             ls='-', label=data['legend'], color=colors[i], ms=size[i])\n",
    "plt.ylim([-2.1, 0.1])\n",
    "plt.xlim([1.0, 5.0])\n",
    "plt.xlabel('$R$ ($\\AA$)')\n",
    "plt.ylabel('$E-E_{ref}$ (eV)')\n",
    "plt.title('Dissociation energy of the water dimer')\n",
    "plt.legend()\n",
    "plt.show()"
   ]
  },
  {
   "cell_type": "markdown",
   "metadata": {},
   "source": [
    "**Conclusion:**\n",
    "\n",
    "While the HO$^-$ fragment calculations have a rather correct agreement with the cubic reference calculation, this is not the case for HO fragment. The latter has a better agreement concerning the equilibrium distance, but the dimer is overbinded by almost 1 eV. Why is that?"
   ]
  },
  {
   "cell_type": "markdown",
   "metadata": {},
   "source": [
    "## Influence of *nbasis*\n",
    "\n",
    "To answer that question, let us investigate what happens when the the number of basis functions is increased, in the same manner as in the water dimer case. We will run four setups: one with 2 and 5 basis functions for the hydorgen and oxygen atom, respectively, and another one using 5 and 8 basis functions, both for the neutral and the minus-charged HO.\n",
    "\n",
    "### Template calculations\n",
    "\n",
    "Again, we begin by computing the templates, for both types of fragments. Do not forget to add the right occupation block to each input file!"
   ]
  },
  {
   "cell_type": "code",
   "execution_count": 18,
   "metadata": {
    "collapsed": true
   },
   "outputs": [],
   "source": [
    "ig_25_yaml = \"\"\"\n",
    " ig_occupation:\n",
    "   H:\n",
    "     1s: 1.0\n",
    "     2s: 0.0\n",
    "   O:\n",
    "     2s: 2.0\n",
    "     2p: [4/3, 4/3, 4/3]\n",
    "     3s: 0.0\"\"\"\n",
    "\n",
    "ig_58_yaml = \"\"\"\n",
    " ig_occupation:\n",
    "   H:\n",
    "     1s: 1.0\n",
    "     2s: 0.0\n",
    "     2p: [0., 0., 0.]\n",
    "   O:\n",
    "     2s: 2.0\n",
    "     2p: [4/3, 4/3, 4/3]\n",
    "     3s: 0.0\n",
    "     3p: [0., 0., 0.]\"\"\""
   ]
  },
  {
   "cell_type": "markdown",
   "metadata": {},
   "source": [
    "#### HO templates"
   ]
  },
  {
   "cell_type": "code",
   "execution_count": 19,
   "metadata": {},
   "outputs": [
    {
     "name": "stdout",
     "output_type": "stream",
     "text": [
      "Logfile log-ho_25.yaml already exists!\n",
      "Logfile log-ho_58.yaml already exists!\n"
     ]
    }
   ],
   "source": [
    "# Go to the templates folder\n",
    "os.chdir(templates_path)\n",
    "\n",
    "# Run the template of the oh molecule with 2 (resp. 5) \n",
    "# support functions for the hydrogen (resp. oxygen) atom\n",
    "run_bigdft(ho_yaml(On=5, Hn=2)+ig_25_yaml, ho_xyz, prefix=\"ho_25\")\n",
    "\n",
    "# Run the template of the oh molecule with 5 (resp. 8) \n",
    "# support functions for the hydrogen (resp. oxygen) atom\n",
    "run_bigdft(ho_yaml(On=8, Hn=5)+ig_58_yaml, ho_xyz, prefix=\"ho_58\")"
   ]
  },
  {
   "cell_type": "markdown",
   "metadata": {},
   "source": [
    "#### HO- templates"
   ]
  },
  {
   "cell_type": "code",
   "execution_count": 20,
   "metadata": {},
   "outputs": [
    {
     "name": "stdout",
     "output_type": "stream",
     "text": [
      "Logfile log-ho-_25.yaml already exists!\n",
      "Logfile log-ho-_58.yaml already exists!\n"
     ]
    }
   ],
   "source": [
    "# Run the template of the oh molecule with 2 (resp. 5) \n",
    "# support functions for the hydrogen (resp. oxygen) atom\n",
    "run_bigdft(ho_yaml(On=5, Hn=2, charged=True)+ig_25_yaml, ho_xyz, prefix=\"ho-_25\")\n",
    "\n",
    "# Run the template of the oh molecule with 5 (resp. 8) \n",
    "# support functions for the hydrogen (resp. oxygen) atom\n",
    "run_bigdft(ho_yaml(On=8, Hn=5, charged=True)+ig_58_yaml, ho_xyz, prefix=\"ho-_58\")"
   ]
  },
  {
   "cell_type": "markdown",
   "metadata": {},
   "source": [
    "### Fragment calculations\n",
    "\n",
    "#### HO templates"
   ]
  },
  {
   "cell_type": "code",
   "execution_count": 21,
   "metadata": {
    "scrolled": false
   },
   "outputs": [
    {
     "name": "stdout",
     "output_type": "stream",
     "text": [
      "ho_2-5; dist=1.3\n",
      "Logfile log-dimer.yaml already exists!\n",
      "ho_2-5; dist=1.4\n",
      "Logfile log-dimer.yaml already exists!\n",
      "ho_2-5; dist=1.5\n",
      "Logfile log-dimer.yaml already exists!\n",
      "ho_2-5; dist=1.6\n",
      "Logfile log-dimer.yaml already exists!\n",
      "ho_2-5; dist=1.7\n",
      "Logfile log-dimer.yaml already exists!\n",
      "ho_2-5; dist=1.8\n",
      "Logfile log-dimer.yaml already exists!\n",
      "ho_2-5; dist=1.9\n",
      "Logfile log-dimer.yaml already exists!\n",
      "ho_2-5; dist=2.0\n",
      "Logfile log-dimer.yaml already exists!\n",
      "ho_2-5; dist=2.1\n",
      "Logfile log-dimer.yaml already exists!\n",
      "ho_2-5; dist=2.2\n",
      "Logfile log-dimer.yaml already exists!\n",
      "ho_2-5; dist=2.3\n",
      "Logfile log-dimer.yaml already exists!\n",
      "ho_2-5; dist=2.4\n",
      "Logfile log-dimer.yaml already exists!\n",
      "ho_2-5; dist=2.5\n",
      "Logfile log-dimer.yaml already exists!\n",
      "ho_2-5; dist=3.0\n",
      "Logfile log-dimer.yaml already exists!\n",
      "ho_2-5; dist=3.5\n",
      "Logfile log-dimer.yaml already exists!\n",
      "ho_2-5; dist=4.0\n",
      "Logfile log-dimer.yaml already exists!\n",
      "ho_2-5; dist=4.5\n",
      "Logfile log-dimer.yaml already exists!\n",
      "ho_2-5; dist=5.0\n",
      "Logfile log-dimer.yaml already exists!\n",
      "ho_5-8; dist=1.3\n",
      "Logfile log-dimer.yaml already exists!\n",
      "ho_5-8; dist=1.4\n",
      "Logfile log-dimer.yaml already exists!\n",
      "ho_5-8; dist=1.5\n",
      "Logfile log-dimer.yaml already exists!\n",
      "ho_5-8; dist=1.6\n",
      "Logfile log-dimer.yaml already exists!\n",
      "ho_5-8; dist=1.7\n",
      "Logfile log-dimer.yaml already exists!\n",
      "ho_5-8; dist=1.8\n",
      "Logfile log-dimer.yaml already exists!\n",
      "ho_5-8; dist=1.9\n",
      "Logfile log-dimer.yaml already exists!\n",
      "ho_5-8; dist=2.0\n",
      "Logfile log-dimer.yaml already exists!\n",
      "ho_5-8; dist=2.1\n",
      "Logfile log-dimer.yaml already exists!\n",
      "ho_5-8; dist=2.2\n",
      "Logfile log-dimer.yaml already exists!\n",
      "ho_5-8; dist=2.3\n",
      "Logfile log-dimer.yaml already exists!\n",
      "ho_5-8; dist=2.4\n",
      "Logfile log-dimer.yaml already exists!\n",
      "ho_5-8; dist=2.5\n",
      "Logfile log-dimer.yaml already exists!\n",
      "ho_5-8; dist=3.0\n",
      "Logfile log-dimer.yaml already exists!\n",
      "ho_5-8; dist=3.5\n",
      "Logfile log-dimer.yaml already exists!\n",
      "ho_5-8; dist=4.0\n",
      "Logfile log-dimer.yaml already exists!\n",
      "ho_5-8; dist=4.5\n",
      "Logfile log-dimer.yaml already exists!\n",
      "ho_5-8; dist=5.0\n",
      "Logfile log-dimer.yaml already exists!\n"
     ]
    }
   ],
   "source": [
    "# Go to the dimer folder\n",
    "os.chdir(dimer_path)\n",
    "\n",
    "# Run the first setup\n",
    "yaml_25 = dimer_yaml(frag_names=[\"h2o_25\", \"ho_25\"], Hn=2, On=5)+ig_25_yaml\n",
    "run_setup(\"ho_2-5\", dists, yaml_25, dimer_xyz, templates_dir=templates_path)\n",
    "\n",
    "# Run the second setup\n",
    "yaml_58 = dimer_yaml(frag_names=[\"h2o_58\", \"ho_58\"], Hn=5, On=8)+ig_58_yaml\n",
    "run_setup(\"ho_5-8\", dists, yaml_58, dimer_xyz, templates_dir=templates_path)"
   ]
  },
  {
   "cell_type": "markdown",
   "metadata": {},
   "source": [
    "#### HO$^-$ templates"
   ]
  },
  {
   "cell_type": "code",
   "execution_count": 22,
   "metadata": {
    "scrolled": true
   },
   "outputs": [
    {
     "name": "stdout",
     "output_type": "stream",
     "text": [
      "ho-_2-5; dist=1.3\n",
      "Logfile log-dimer.yaml already exists!\n",
      "ho-_2-5; dist=1.4\n",
      "Logfile log-dimer.yaml already exists!\n",
      "ho-_2-5; dist=1.5\n",
      "Logfile log-dimer.yaml already exists!\n",
      "ho-_2-5; dist=1.6\n",
      "Logfile log-dimer.yaml already exists!\n",
      "ho-_2-5; dist=1.7\n",
      "Logfile log-dimer.yaml already exists!\n",
      "ho-_2-5; dist=1.8\n",
      "Logfile log-dimer.yaml already exists!\n",
      "ho-_2-5; dist=1.9\n",
      "Logfile log-dimer.yaml already exists!\n",
      "ho-_2-5; dist=2.0\n",
      "Logfile log-dimer.yaml already exists!\n",
      "ho-_2-5; dist=2.1\n",
      "Logfile log-dimer.yaml already exists!\n",
      "ho-_2-5; dist=2.2\n",
      "Logfile log-dimer.yaml already exists!\n",
      "ho-_2-5; dist=2.3\n",
      "Logfile log-dimer.yaml already exists!\n",
      "ho-_2-5; dist=2.4\n",
      "Logfile log-dimer.yaml already exists!\n",
      "ho-_2-5; dist=2.5\n",
      "Logfile log-dimer.yaml already exists!\n",
      "ho-_2-5; dist=3.0\n",
      "Logfile log-dimer.yaml already exists!\n",
      "ho-_2-5; dist=3.5\n",
      "Logfile log-dimer.yaml already exists!\n",
      "ho-_2-5; dist=4.0\n",
      "Logfile log-dimer.yaml already exists!\n",
      "ho-_2-5; dist=4.5\n",
      "Logfile log-dimer.yaml already exists!\n",
      "ho-_2-5; dist=5.0\n",
      "Logfile log-dimer.yaml already exists!\n",
      "ho-_5-8; dist=1.3\n",
      "Logfile log-dimer.yaml already exists!\n",
      "ho-_5-8; dist=1.4\n",
      "Logfile log-dimer.yaml already exists!\n",
      "ho-_5-8; dist=1.5\n",
      "Logfile log-dimer.yaml already exists!\n",
      "ho-_5-8; dist=1.6\n",
      "Logfile log-dimer.yaml already exists!\n",
      "ho-_5-8; dist=1.7\n",
      "Logfile log-dimer.yaml already exists!\n",
      "ho-_5-8; dist=1.8\n",
      "Logfile log-dimer.yaml already exists!\n",
      "ho-_5-8; dist=1.9\n",
      "Logfile log-dimer.yaml already exists!\n",
      "ho-_5-8; dist=2.0\n",
      "Logfile log-dimer.yaml already exists!\n",
      "ho-_5-8; dist=2.1\n",
      "Logfile log-dimer.yaml already exists!\n",
      "ho-_5-8; dist=2.2\n",
      "Logfile log-dimer.yaml already exists!\n",
      "ho-_5-8; dist=2.3\n",
      "Logfile log-dimer.yaml already exists!\n",
      "ho-_5-8; dist=2.4\n",
      "Logfile log-dimer.yaml already exists!\n",
      "ho-_5-8; dist=2.5\n",
      "Logfile log-dimer.yaml already exists!\n",
      "ho-_5-8; dist=3.0\n",
      "Logfile log-dimer.yaml already exists!\n",
      "ho-_5-8; dist=3.5\n",
      "Logfile log-dimer.yaml already exists!\n",
      "ho-_5-8; dist=4.0\n",
      "Logfile log-dimer.yaml already exists!\n",
      "ho-_5-8; dist=4.5\n",
      "Logfile log-dimer.yaml already exists!\n",
      "ho-_5-8; dist=5.0\n",
      "Logfile log-dimer.yaml already exists!\n"
     ]
    }
   ],
   "source": [
    "# Run the first setup\n",
    "yaml_25 = dimer_yaml(frag_names=[\"h2o_25\", \"ho-_25\"], Hn=2, On=5)+ig_25_yaml\n",
    "run_setup(\"ho-_2-5\", dists, yaml_25, dimer_xyz, templates_dir=templates_path)\n",
    "\n",
    "# Run the second setup\n",
    "yaml_58 = dimer_yaml(frag_names=[\"h2o_58\", \"ho-_58\"], Hn=5, On=8)+ig_58_yaml\n",
    "run_setup(\"ho-_5-8\", dists, yaml_58, dimer_xyz, templates_dir=templates_path)"
   ]
  },
  {
   "cell_type": "markdown",
   "metadata": {},
   "source": [
    "### Dissociation curves\n",
    "\n",
    "The data to plot the dissociation curves is then collected:"
   ]
  },
  {
   "cell_type": "code",
   "execution_count": 23,
   "metadata": {},
   "outputs": [
    {
     "name": "stdout",
     "output_type": "stream",
     "text": [
      "HO fragment (2, 5)\n",
      "HO$^-$ fragment (2, 5)\n",
      "HO fragment (5, 8)\n",
      "HO$^-$ fragment (5, 8)\n"
     ]
    }
   ],
   "source": [
    "setups = [\"ho_2-5\", \"ho-_2-5\", \"ho_5-8\", \"ho-_5-8\"]\n",
    "legends = ['HO fragment (2, 5)', 'HO$^-$ fragment (2, 5)', \\\n",
    "           'HO fragment (5, 8)', 'HO$^-$ fragment (5, 8)']\n",
    "new_curves = [find_data(setup, legends[i]) for i, setup in enumerate(setups)]"
   ]
  },
  {
   "cell_type": "markdown",
   "metadata": {},
   "source": [
    "The plot is finally done using matplotlib:"
   ]
  },
  {
   "cell_type": "code",
   "execution_count": 24,
   "metadata": {},
   "outputs": [
    {
     "data": {
      "image/png": "[encoded data removed]",
      "text/plain": [
       "<matplotlib.figure.Figure at 0x109c42390>"
      ]
     },
     "metadata": {},
     "output_type": "display_data"
    }
   ],
   "source": [
    "# Lists of markers and colors (for matplotlib)\n",
    "colors = ['#74a9cf']*2 + ['#b2182b'] + ['#2b8cbe']*2 + ['#045a8d']*2\n",
    "markers = ['o', 's', 'o'] + ['o', 's']*2\n",
    "size = [8]*len(colors)\n",
    "\n",
    "# Plot with matplotlib\n",
    "plt.figure(figsize=(8,5))\n",
    "for i, data in enumerate(curves+new_curves):\n",
    "    plt.plot(data['distances'], data['energies'], marker=markers[i], \n",
    "             ls='-', label=data['legend'], color=colors[i], ms=size[i])\n",
    "plt.ylim([-2.1, 2.1])\n",
    "plt.xlim([1.0, 5.0])\n",
    "plt.xlabel('$R$ ($\\AA$)')\n",
    "plt.ylabel('$E-E_{ref}$ (eV)')\n",
    "plt.title('Dissociation energy of the water dimer')\n",
    "plt.legend()\n",
    "plt.show()"
   ]
  },
  {
   "cell_type": "markdown",
   "metadata": {},
   "source": [
    "It appears that both HO and HO$^-$ fragment show different behaviours, so that this plot is not easy to read. Let us then compare the HO$^-$ fragment first:"
   ]
  },
  {
   "cell_type": "code",
   "execution_count": 25,
   "metadata": {},
   "outputs": [
    {
     "data": {
      "image/png": "[encoded data removed]",
      "text/plain": [
       "<matplotlib.figure.Figure at 0x109c6f810>"
      ]
     },
     "metadata": {},
     "output_type": "display_data"
    }
   ],
   "source": [
    "# Lists of markers and colors (for matplotlib)\n",
    "colors_HOm = ['#74a9cf'] + ['#b2182b'] + ['#2b8cbe'] + ['#045a8d']\n",
    "markers_HOm = ['o', 's', 'o', 'o']\n",
    "size_HOm = [8]*len(colors_HOm)\n",
    "\n",
    "# Plot with matplotlib\n",
    "plt.figure(figsize=(8,5))\n",
    "for i, data in enumerate(curves[1:]+new_curves[1::2]):\n",
    "    plt.plot(data['distances'], data['energies'], marker=markers_HOm[i], \n",
    "             ls='-', label=data['legend'], color=colors_HOm[i], ms=size_HOm[i])\n",
    "plt.ylim([-1.25, 0.1])\n",
    "plt.xlim([1.0, 5.0])\n",
    "plt.xlabel('$R$ ($\\AA$)')\n",
    "plt.ylabel('$E-E_{ref}$ (eV)')\n",
    "plt.title('Dissociation energy of the water dimer')\n",
    "plt.legend()\n",
    "plt.show()"
   ]
  },
  {
   "cell_type": "markdown",
   "metadata": {
    "collapsed": true
   },
   "source": [
    "There is a convergence as the nbasis values are increased, in the same manner as in the water dimer case: the basis set superposition error decreases, and the dissociation curves tend to the cubic reference.\n",
    "\n",
    "The situation is rather different for the HO fragment:"
   ]
  },
  {
   "cell_type": "code",
   "execution_count": 26,
   "metadata": {},
   "outputs": [
    {
     "data": {
      "image/png": "[encoded data removed]",
      "text/plain": [
       "<matplotlib.figure.Figure at 0x10c2fd110>"
      ]
     },
     "metadata": {},
     "output_type": "display_data"
    }
   ],
   "source": [
    "# Lists of markers and colors (for matplotlib)\n",
    "colors_HO_m = ['#74a9cf'] + ['#b2182b'] + ['#2b8cbe'] + ['#045a8d']\n",
    "markers_HO_m = ['o', 's', 'o', 'o']\n",
    "size_HO_m = [8] * len(colors_HO_m)\n",
    "\n",
    "# Correction of the (2, 5) reference energy\n",
    "ref = 1.4\n",
    "if new_curves[0]['energies'][-1] != -ref:\n",
    "    new_curves[0]['energies'] = [en - 1.4 for en in new_curves[0]['energies']]\n",
    "\n",
    "# Plot with matplotlib\n",
    "plt.figure(figsize=(8,5))\n",
    "for i, data in enumerate(curves[::2]+new_curves[::2]):\n",
    "    plt.plot(data['distances'], data['energies'], marker=markers_HO_m[i], \n",
    "             ls='-', label=data['legend'], color=colors_HO_m[i], ms=size_HO_m[i])\n",
    "plt.ylim([-2.25, 1.5])\n",
    "plt.xlim([1.0, 5.0])\n",
    "plt.xlabel('$R$ ($\\AA$)')\n",
    "plt.ylabel('$E-E_{ref}$ (eV)')\n",
    "plt.title('Dissociation energy of the water dimer')\n",
    "plt.legend()\n",
    "plt.show()"
   ]
  },
  {
   "cell_type": "markdown",
   "metadata": {},
   "source": [
    "There is a fluctuation at large distance for the HO fragment when the nbasis parameter is low, this fluctuation (whose reason is currently undefined) being dramatic for the (2, 5) case. The reference energy being wrong, we manually correct it before plotting.\n",
    "\n",
    "From this set of calculations, one observes that the use of the HO fragment tends to overbind the dimer, while increasing the nbasis reduces this overbinding and gives rise to a small increase of the equilibrium distance. **Why is that?**"
   ]
  },
  {
   "cell_type": "markdown",
   "metadata": {},
   "source": [
    "**Other plots**"
   ]
  },
  {
   "cell_type": "code",
   "execution_count": 27,
   "metadata": {},
   "outputs": [
    {
     "data": {
      "image/png": "[encoded data removed]",
      "text/plain": [
       "<matplotlib.figure.Figure at 0x10abf8bd0>"
      ]
     },
     "metadata": {},
     "output_type": "display_data"
    }
   ],
   "source": [
    "# Plot with matplotlib\n",
    "plt.figure(figsize=(8,5))\n",
    "for i, data in enumerate(new_curves[:2]):\n",
    "    plt.plot(data['distances'], data['energies'], marker=markers[i], \n",
    "             ls='-', label=data['legend'], color=colors[3+i], ms=size[i])\n",
    "plt.ylim([-2.1, 0.1])\n",
    "plt.xlim([1.0, 5.0])\n",
    "plt.xlabel('$R$ ($\\AA$)')\n",
    "plt.ylabel('$E-E_{ref}$ (eV)')\n",
    "plt.title('Dissociation energy of the water dimer')\n",
    "plt.legend()\n",
    "plt.show()"
   ]
  },
  {
   "cell_type": "code",
   "execution_count": 28,
   "metadata": {},
   "outputs": [
    {
     "data": {
      "image/png": "[encoded data removed]",
      "text/plain": [
       "<matplotlib.figure.Figure at 0x10be5f790>"
      ]
     },
     "metadata": {},
     "output_type": "display_data"
    }
   ],
   "source": [
    "# Plot with matplotlib\n",
    "plt.figure(figsize=(8,5))\n",
    "for i, data in enumerate(new_curves[2:]):\n",
    "    plt.plot(data['distances'], data['energies'], marker=markers[i], \n",
    "             ls='-', label=data['legend'], color=colors[5+i], ms=size[i])\n",
    "plt.ylim([-1.6, 1.1])\n",
    "plt.xlim([1.0, 5.0])\n",
    "plt.xlabel('$R$ ($\\AA$)')\n",
    "plt.ylabel('$E-E_{ref}$ (eV)')\n",
    "plt.title('Dissociation energy of the water dimer')\n",
    "plt.legend()\n",
    "plt.show()"
   ]
  },
  {
   "cell_type": "markdown",
   "metadata": {},
   "source": [
    "## Create archives\n",
    "\n",
    "To avoid running all calculations when running this notebook again, we create two archives as tar files:\n",
    "\n",
    "* one containing all logs _log-dimer*_ and all input files *dimer.yaml* and positions *dimer.xyz* for each setup,\n",
    "\n",
    "* another one containing all data for the templates (output and input files _template*xyz_, _template*xyz_ plus the folders _data-template*_)"
   ]
  },
  {
   "cell_type": "code",
   "execution_count": 29,
   "metadata": {},
   "outputs": [
    {
     "name": "stdout",
     "output_type": "stream",
     "text": [
      "No creation of tarfile H2O_HO-.tgz because it already exists!\n",
      "No creation of tarfile templates_H2O_HO-.tgz because it already exists!\n"
     ]
    }
   ],
   "source": [
    "# Go back to the starting folder, with both templates and dimer folders\n",
    "os.chdir(start_path)\n",
    "\n",
    "# List the setups to send to the setup archive\n",
    "setups = ['ho-_1-4', 'ho_1-4', 'ho-_2-5', 'ho_2-5', \\\n",
    "          'ho-_5-8', 'ho_5-8', 'cubic']\n",
    "\n",
    "# Create an archive with logs and input files for each setup\n",
    "if not os.path.exists(tarname):\n",
    "    tar = tarfile.open(tarname, \"w:bz2\")\n",
    "    for setup in setups:\n",
    "        logfiles = find_files(dimer_folder+\"/\"+setup+\"/dimer_*/log-dimer*.yaml\")\n",
    "        input_files = find_files(dimer_folder+\"/\"+setup+\"/dimer_*/dimer.yaml\")\n",
    "        posinp_files = find_files(dimer_folder+\"/\"+setup+\"/dimer_*/dimer.xyz\")\n",
    "        for name in logfiles + input_files + posinp_files:\n",
    "            tar.add(name)\n",
    "    tar.close()\n",
    "    print(\"Creation of a tar file with all log files: {}\".format(tarname))\n",
    "else:\n",
    "    print(\"No creation of tarfile {} because it already exists!\".format(tarname))\n",
    "\n",
    "# List the templates to send to the template archive\n",
    "templates = ['h2o', 'h2o_25', 'h2o_58', 'ho', 'ho_25', 'ho_58', \\\n",
    "             'ho-', 'ho-_25', 'ho-_58']\n",
    "\n",
    "# Create a second archive with templates data\n",
    "if not os.path.exists(tartemplate):\n",
    "    tar = tarfile.open(tartemplate, \"w:bz2\")\n",
    "    for template in templates:\n",
    "        data_folders = [templates_folder+'/data-'+template+\"/\"+f \n",
    "                        for f in find_files(templates_folder+'/data-'+template)]\n",
    "        logfiles = find_files(templates_folder+\"/log-\"+template+\".yaml\")\n",
    "        input_files = find_files(templates_folder+\"/\"+template+\".yaml\")\n",
    "        posinp_files = find_files(templates_folder+\"/\"+template+\".xyz\")\n",
    "        for name in data_folders + logfiles + input_files + posinp_files:\n",
    "            tar.add(name)\n",
    "    tar.close()\n",
    "    print(\"Creation of a tar file with all log files: {}\".format(tartemplate))\n",
    "else:\n",
    "    print(\"No creation of tarfile {} because it already exists!\".format(tartemplate))"
   ]
  }
 ],
 "metadata": {
  "kernelspec": {
   "display_name": "Python 2",
   "language": "python",
   "name": "python2"
  },
  "language_info": {
   "codemirror_mode": {
    "name": "ipython",
    "version": 2
   },
   "file_extension": ".py",
   "mimetype": "text/x-python",
   "name": "python",
   "nbconvert_exporter": "python",
   "pygments_lexer": "ipython2",
   "version": "2.7.10"
  }
 },
 "nbformat": 4,
 "nbformat_minor": 2
}
