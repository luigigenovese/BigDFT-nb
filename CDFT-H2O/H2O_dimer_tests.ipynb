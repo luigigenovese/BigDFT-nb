{
 "cells": [
  {
   "cell_type": "markdown",
   "metadata": {},
   "source": [
    "# Tests of the input parameters for the fragment calculations of the water dimer\n",
    "\n",
    "In another tutorial, it was shown how to run BigDFT fragment calculations and how the values of *nbasis* (the number of support function per atom) affects the dissociation curve of the water dimer: increasing this *nbasis* for both oxygen and hydrogen atoms proved to increase the agreement with the usual cubic BigDFT calculation.\n",
    "\n",
    "The aim of the present tutorial is to present the influence of other input parameters, such as the localization radii *r_loc* and the grid extension parameters *crmult* and *frmult*."
   ]
  },
  {
   "cell_type": "markdown",
   "metadata": {},
   "source": [
    "**Import modules, classes and functions.**"
   ]
  },
  {
   "cell_type": "code",
   "execution_count": 1,
   "metadata": {
    "collapsed": true
   },
   "outputs": [],
   "source": [
    "from __future__ import print_function\n",
    "import os\n",
    "import sys\n",
    "import subprocess\n",
    "import shutil\n",
    "import tarfile\n",
    "import numpy as np\n",
    "from futile.Utils import find_files\n",
    "try:\n",
    "    from BigDFT import Logfiles as lf\n",
    "except ImportError:\n",
    "    sys.path.append('/Users/maximemoriniere/post-doc/bigdft/bigdft/bigdft/src/python')\n",
    "    from BigDFT import Logfiles as lf\n",
    "import matplotlib.pyplot as plt"
   ]
  },
  {
   "cell_type": "markdown",
   "metadata": {},
   "source": [
    "**Extract tarfiles to avoid re-running some calculations.**\n",
    "\n",
    "One tarfile contains the templates used throughout this notebook, while the other contains the files related to the different dissociation curves that will be computed."
   ]
  },
  {
   "cell_type": "code",
   "execution_count": 2,
   "metadata": {},
   "outputs": [
    {
     "name": "stdout",
     "output_type": "stream",
     "text": [
      "Extract templates_tests_H2O.tgz to avoid calculating the templates.\n",
      "Extract H2O_dimer_tests.tgz to avoid calculating every point of the dissociation curves.\n"
     ]
    }
   ],
   "source": [
    "# Extract the archive containing the templates, if it exists\n",
    "tartemplate = \"templates_tests_H2O.tgz\"\n",
    "if os.path.exists(tartemplate):\n",
    "    print(\"Extract {} to avoid calculating the templates.\".format(tartemplate))\n",
    "    with tarfile.open(tartemplate,\"r:bz2\") as tar:\n",
    "        tar.extractall()\n",
    "        \n",
    "# Extract the output files from an archive, if it exists\n",
    "tarname = 'H2O_dimer_tests.tgz'\n",
    "if os.path.exists(tarname):\n",
    "    print(\"Extract {} to avoid calculating every point of the dissociation curves.\".format(tarname))\n",
    "    with tarfile.open(tarname,\"r:bz2\") as tar:\n",
    "        tar.extractall()"
   ]
  },
  {
   "cell_type": "markdown",
   "metadata": {},
   "source": [
    "**Initialize some variables to get a clean tree of folders.**"
   ]
  },
  {
   "cell_type": "code",
   "execution_count": 3,
   "metadata": {
    "collapsed": true
   },
   "outputs": [],
   "source": [
    "# Path leading to the current folder\n",
    "start_path = os.getcwd() \n",
    "\n",
    "# Templates folder\n",
    "templates_folder = \"templates\" # Name\n",
    "templates_path = start_path+\"/\"+templates_folder # Path leading to it\n",
    "if not os.path.exists(templates_folder): os.mkdir(templates_folder)\n",
    "\n",
    "# Dimer folder\n",
    "dimer_folder = \"H2O_dimer\" # Name\n",
    "dimer_path = start_path+\"/\"+dimer_folder # Path leading to it\n",
    "if not os.path.exists(dimer_folder): os.mkdir(dimer_folder)"
   ]
  },
  {
   "cell_type": "markdown",
   "metadata": {},
   "source": [
    "**Define the BigDFT variable allowing to run BigDFT from the present notebook**"
   ]
  },
  {
   "cell_type": "code",
   "execution_count": 4,
   "metadata": {
    "collapsed": true
   },
   "outputs": [],
   "source": [
    "# Define the variables to run a calculation\n",
    "BigDFT = os.environ[\"BIGDFT_ROOT\"]+\"/bigdft\"\n",
    "if not os.path.exists(BigDFT):\n",
    "    BigDFT = \"/Users/maximemoriniere/post-doc/bigdft/bigdft/build/bigdft/src/bigdft\"\n",
    "os.environ[\"OMP_NUM_THREADS\"]=\"4\" # Depends on your computer (compiled with OpenMP)"
   ]
  },
  {
   "cell_type": "markdown",
   "metadata": {},
   "source": [
    "## Influence of the *rloc* parameters\n",
    "\n",
    "For each atom, there are three localization radii to define in the input file:\n",
    "\n",
    "* ***rloc***: Localization radius for the support functions (in bohr). Values for medium accuracy: H 5.0; B,C,N,O: 5.5, Si: 6.5, I: 8.0; Pb: 7.5. For high accuracy add about 1.0 bohr. For the best precision, performance convergence tests for each system.\n",
    "\n",
    "* ***rloc_kernel***: Density kernel cutoff in atomic units. This value depends on the HOMO-LUMO gap. Large gaps: 8.0; small gaps: 9.0; even smaller gaps: 10.0. The value must be at least rloc+hamapp_radius_incr*hgrid. The code will adjust it automatically if this condition is not fulfilled.\n",
    "\n",
    "* ***rloc_kernel_foe***: Cutoff for the columns during the matrix vector multiplications, in atomic units. The value must be at least rloc+hamapp_radius_incr\\*hgrid, otherwise the code will stop (maybe it will adjust it automatically in the future).\n",
    "\n",
    "In this part, the values of the different rlocs are varied aroud the values used in the [fragment tutorial](http://bigdft.org/Wiki/index.php?title=Fragment_approach).\n",
    "\n",
    "### Templates calculation\n",
    "\n",
    "The first step consists in defining the input files for the templates:"
   ]
  },
  {
   "cell_type": "code",
   "execution_count": 5,
   "metadata": {},
   "outputs": [
    {
     "name": "stdout",
     "output_type": "stream",
     "text": [
      " import: linear\n",
      " dft:\n",
      "   hgrids: 0.25\n",
      "   rmult: [5.0, 7.0]\n",
      "   inputpsiid: linear\n",
      "   ixc: LDA (ABINIT)\n",
      " lin_general:\n",
      "   output_wf: 1\n",
      "   output_mat: 11\n",
      "   subspace_diag: Yes\n",
      " lin_kernel:\n",
      "   alphamix: 0.3\n",
      "   linear_method: FOE\n",
      " lin_basis_params:\n",
      "   O:\n",
      "     nbasis: 4\n",
      "     ao_confinement: 0.01\n",
      "     confinement: [0.005, 0.0]\n",
      "     rloc: 9.0\n",
      "     rloc_kernel: 12.0\n",
      "     rloc_kernel_foe: 14.0\n",
      "   H:\n",
      "     nbasis: 1\n",
      "     ao_confinement: 0.01\n",
      "     confinement: [0.005, 0.0]\n",
      "     rloc: 9.0\n",
      "     rloc_kernel: 12.0\n",
      "     rloc_kernel_foe: 14.0\n"
     ]
    }
   ],
   "source": [
    "h2o_xyz = \"\"\"\\\n",
    "3 angstroemd0\n",
    "free\n",
    "O            -0.931477999671            0.004547999723           -0.117331000086\n",
    "H            -1.355753693973           -0.032108553467            0.725181911626\n",
    "H            -0.003078395366            0.011003111969            0.053703839371\"\"\"\n",
    "\n",
    "def h2o_yaml(rm=[5.0, 7.0], rlocs=[9.0, 12.0, 14.0], \\\n",
    "             confinement=[0.01, 0.005, 0.0]):\n",
    "    # Define the confinement block\n",
    "    confinement_yaml = \"\"\"\n",
    "     ao_confinement: {conf[0]}\n",
    "     confinement: [{conf[1]}, {conf[2]}]\"\"\".format(conf=confinement)\n",
    "    # Define the rloc block\n",
    "    rloc_yaml = \"\"\"\n",
    "     rloc: {rlocs[0]}\n",
    "     rloc_kernel: {rlocs[1]}\n",
    "     rloc_kernel_foe: {rlocs[2]}\"\"\".format(rlocs=rlocs)\n",
    "    # Define the oxygen block\n",
    "    O_params = \"\"\"\n",
    "   O:\n",
    "     nbasis: 4\"\"\" + confinement_yaml + rloc_yaml\n",
    "    # Define the hydrogen block\n",
    "    H_params = \"\"\"\n",
    "   H:\n",
    "     nbasis: 1\"\"\" + confinement_yaml + rloc_yaml\n",
    "    # Define the lin_basis_params block\n",
    "    lin_basis_params = \"\"\"\n",
    " lin_basis_params:\"\"\" + O_params + H_params\n",
    "    # Return the whole input file\n",
    "    return \"\"\"\\\n",
    " import: linear\n",
    " dft:\n",
    "   hgrids: 0.25\n",
    "   rmult: [{rm[0]}, {rm[1]}]\n",
    "   inputpsiid: linear\n",
    "   ixc: LDA (ABINIT)\n",
    " lin_general:\n",
    "   output_wf: 1\n",
    "   output_mat: 11\n",
    "   subspace_diag: Yes\n",
    " lin_kernel:\n",
    "   alphamix: 0.3\n",
    "   linear_method: FOE\"\"\".format(rm=rm) + lin_basis_params\n",
    "\n",
    "print(h2o_yaml())"
   ]
  },
  {
   "cell_type": "markdown",
   "metadata": {},
   "source": [
    "Now that the input files for the templates are defined, let us define the function allowing to run a BigDFT calculation from the notebook (so that if the calculation was already done -- say, extracted from an archive -- then it is not computed again). The *collect_templates* function is only used in case of a fragment calculation, so this will not be used for the template calculations, but it will become helpful for the dimer calculations."
   ]
  },
  {
   "cell_type": "code",
   "execution_count": 6,
   "metadata": {},
   "outputs": [],
   "source": [
    "# Define the functions allowing to run a BigDFT calculation\n",
    "def collect_templates_data(input_name, templates_dir):\n",
    "    \"\"\"\n",
    "    Function collecting the data of the templates required by the \n",
    "    input file input_name. Symbolic links to the input files \n",
    "    of the templates and a copy of the data-template folder is done. \n",
    "    The path to the templates data is given by templates_dir.\n",
    "\n",
    "    :param input_name: Name of the input file.\n",
    "    :type input_name: str\n",
    "    :param templates_dir: Path to the templates.\n",
    "    :type templates_dir: str\n",
    "    \"\"\"\n",
    "    from futile import Yaml\n",
    "    \n",
    "    # Read the input file to get the names of the required templates\n",
    "    input_file = Yaml.yaml.load(open(input_name, 'r').read())\n",
    "    templates = [template for template in input_file['frag'] \n",
    "                 if template != 'constrained_dft'] \n",
    "    \n",
    "    # Raise an error if a required template is missing from templates_dir\n",
    "    if templates_dir is None:\n",
    "        raise ValueError(\"A value should be given to templates_dir.\")\n",
    "        \n",
    "    # Find if some templates are missing in the templates folder\n",
    "    missing_templates = [template for template in templates \\\n",
    "                         if any([f not in os.listdir(templates_dir) \\\n",
    "                                 for f in ['data-'+template, template+\".yaml\", template+\".xyz\"]])]\n",
    "    if missing_templates != []:\n",
    "        raise ValueError(\"Missing template(s): {}\".format(missing_templates))\n",
    "        \n",
    "    # Create ang go to a folder containing the data of all the templates\n",
    "    data_folder = 'data-'+input_name[:-5]\n",
    "    if data_folder not in os.listdir(os.getcwd()): os.mkdir(data_folder)\n",
    "    os.chdir(data_folder)\n",
    "    \n",
    "    # Create the needed symlinks: data folder, and input and posinp files\n",
    "    for template in templates:\n",
    "        # Create the symlink to the template input files\n",
    "        for f in [template+\".yaml\", template+\".xyz\"]:\n",
    "            if f in os.listdir(os.getcwd()):\n",
    "                os.remove(f)\n",
    "            os.symlink(templates_path+\"/\"+f, f)\n",
    "        # Copy the whole data-template folder\n",
    "        data_template = 'data-'+template\n",
    "        shutil.copytree(templates_path+\"/\"+data_template, data_template)\n",
    "    \n",
    "    # Don't forget to go back to the previous folder\n",
    "    os.chdir(\"..\")\n",
    "\n",
    "\n",
    "def run_bigdft(yaml, xyz, prefix=None, templates_dir=None):\n",
    "    \"\"\"\n",
    "    This function runs a bigdft calculation if it was not already performed.\n",
    "    \n",
    "    :param prefix: Prefix of the calculation to define the input files.\n",
    "    :type prefix: str\n",
    "    :param yaml: Content of the input file\n",
    "    :type yaml: str\n",
    "    :param xyz: Content of the posinp file\n",
    "    :type xyz: str\n",
    "    :param templates_dir: For fragment calculation : path to the templates \n",
    "                          (optional, default to None).\n",
    "    :type templates_dir: str\n",
    "    \"\"\"\n",
    "    # Initialise some variables\n",
    "    if prefix is not None:\n",
    "        input_name  = prefix+\".yaml\"    # input file name\n",
    "        output_name = \"log-\"+input_name # output file name\n",
    "        posinp_name = prefix+\".xyz\"     # posinp file name\n",
    "        command = [BigDFT, prefix]\n",
    "    else:\n",
    "        input_name  = \"input.yaml\" # input file name\n",
    "        output_name = \"log.yaml\"   # output file name\n",
    "        posinp_name = \"posinp.xyz\" # posinp file name\n",
    "        command = [BigDFT]\n",
    "        \n",
    "    # Check that the calculation was not already done\n",
    "    if not os.path.exists(output_name):\n",
    "        # Write the input file\n",
    "        open(input_name, \"w\").write(yaml)\n",
    "        # Collect the data required for a fragment calculation\n",
    "        if \" frag:\" in yaml:\n",
    "            collect_templates_data(input_name, templates_dir)\n",
    "        # Write the posinp file\n",
    "        open(posinp_name, \"w\").write(xyz)\n",
    "        # Launch the calculation\n",
    "        print(command, \"...\")\n",
    "        run = subprocess.Popen(command, stdout=subprocess.PIPE, stderr=subprocess.PIPE)\n",
    "        out, err = run.communicate()\n",
    "        print(out)\n",
    "    else:\n",
    "        print(\"Logfile {} already exists!\".format(output_name))"
   ]
  },
  {
   "cell_type": "markdown",
   "metadata": {},
   "source": [
    "We now only have to go to the templates folder and compute the first template, that should be the same as the one used in this [other tutorial](https://github.com/luigigenovese/BigDFT-nb/blob/master/CDFT-H2O/calculations-dissociation-H2O-dimer.ipynb)."
   ]
  },
  {
   "cell_type": "code",
   "execution_count": 7,
   "metadata": {},
   "outputs": [
    {
     "name": "stdout",
     "output_type": "stream",
     "text": [
      "Logfile log-h2o.yaml already exists!\n"
     ]
    }
   ],
   "source": [
    "# Go to the templates folder\n",
    "os.chdir(templates_path)\n",
    "\n",
    "# Run the template of the H2O molecule\n",
    "template_yaml = h2o_yaml()\n",
    "run_bigdft(template_yaml, h2o_xyz, prefix=\"h2o\")"
   ]
  },
  {
   "cell_type": "markdown",
   "metadata": {},
   "source": [
    "The next template is the same H2O molecule but with smaller rlocs:"
   ]
  },
  {
   "cell_type": "code",
   "execution_count": 8,
   "metadata": {},
   "outputs": [
    {
     "name": "stdout",
     "output_type": "stream",
     "text": [
      "Logfile log-h2o_small_rlocs.yaml already exists!\n"
     ]
    }
   ],
   "source": [
    "small_rlocs = [6.0, 8.0, 10.0]\n",
    "template_yaml = h2o_yaml(rlocs=small_rlocs)\n",
    "run_bigdft(template_yaml, h2o_xyz, prefix=\"h2o_small_rlocs\")"
   ]
  },
  {
   "cell_type": "markdown",
   "metadata": {},
   "source": [
    "The last template consists of the same H2O molecule but with larger rlocs:"
   ]
  },
  {
   "cell_type": "code",
   "execution_count": 9,
   "metadata": {},
   "outputs": [
    {
     "name": "stdout",
     "output_type": "stream",
     "text": [
      "Logfile log-h2o_large_rlocs.yaml already exists!\n"
     ]
    }
   ],
   "source": [
    "large_rlocs = [11.0, 14.0, 16.0]\n",
    "template_yaml = h2o_yaml(rlocs=large_rlocs)\n",
    "run_bigdft(template_yaml, h2o_xyz, prefix=\"h2o_large_rlocs\")"
   ]
  },
  {
   "cell_type": "markdown",
   "metadata": {},
   "source": [
    "### Dissociation curves\n",
    "\n",
    "Let us now run the fragment calculations of the water dimer using the previously calculated templates.\n",
    "\n",
    "The first step consists in defining the input files concerning the dimer calculations:"
   ]
  },
  {
   "cell_type": "code",
   "execution_count": 10,
   "metadata": {},
   "outputs": [
    {
     "name": "stdout",
     "output_type": "stream",
     "text": [
      " dft:\n",
      "   hgrids: 0.35\n",
      "   rmult: [5.0, 7.0]\n",
      "   inputpsiid: linear_restart\n",
      "   ixc: LDA (ABINIT)\n",
      " lin_general:\n",
      "   kernel_restart_mode: kernel\n",
      "   output_wf: 1\n",
      "   output_mat: 1\n",
      "   output_coeff: 1\n",
      "   calc_dipole: Yes\n",
      "   subspace_diag: Yes\n",
      "   nit: 1\n",
      " lin_basis:\n",
      "   nit: 1\n",
      " lin_kernel:\n",
      "   alphamix: 0.3\n",
      "   linear_method: FOE\n",
      "   nit: [20,100]\n",
      "   rpnrm_cv: 1.0E-010\n",
      " lin_basis_params:\n",
      "   O:\n",
      "     nbasis: 4\n",
      "     ao_confinement: 0.01\n",
      "     confinement: [0.005, 0.0]\n",
      "     rloc: 9.0\n",
      "     rloc_kernel: 12.0\n",
      "     rloc_kernel_foe: 14.0\n",
      "   H:\n",
      "     nbasis: 1\n",
      "     ao_confinement: 0.01\n",
      "     confinement: [0.005, 0.0]\n",
      "     rloc: 9.0\n",
      "     rloc_kernel: 12.0\n",
      "     rloc_kernel_foe: 14.0\n",
      " frag:\n",
      "   h2o: [1, 2]\n"
     ]
    }
   ],
   "source": [
    "def dimer_xyz(d):\n",
    "    x1 = d\n",
    "    x2 = d + 0.296831000000\n",
    "    x3 = d + 0.273536000000\n",
    "    d_xyz = \"\"\"\\\n",
    "6 angstroemd0\n",
    "free\n",
    "O            -0.931477999671            0.004547999723           -0.117331000086\n",
    "H            -1.355753693973           -0.032108553467            0.725181911626\n",
    "H            -0.003078395366            0.011003111969            0.053703839371\n",
    "O             {0:14.12f}           -0.003706000000            0.113495000000\n",
    "H             {1:14.12f}            0.762122000000           -0.351887000000\n",
    "H             {2:14.12f}           -0.747744000000           -0.399151000000\"\"\"\n",
    "    return d_xyz.format(x1,x2,x3)\n",
    "\n",
    "def dimer_yaml(rm=[5.0, 7.0], rlocs=[9.0, 12.0, 14.0], frag_name=\"h2o\", \\\n",
    "               confinement=[0.01, 0.005, 0.0], with_nit=[True, True]):\n",
    "    # Define the lin_general block\n",
    "    if with_nit[0]:\n",
    "        nit = \"\"\"\n",
    "   nit: 1\"\"\"\n",
    "    else:\n",
    "        nit = \"\"\"\"\"\"\n",
    "    lin_general = \"\"\"\n",
    " lin_general:\n",
    "   kernel_restart_mode: kernel\n",
    "   output_wf: 1\n",
    "   output_mat: 1\n",
    "   output_coeff: 1\n",
    "   calc_dipole: Yes\n",
    "   subspace_diag: Yes\"\"\" + nit\n",
    "    # Define the lin_basis block\n",
    "    if with_nit[1]:\n",
    "        lin_basis = \"\"\"\n",
    " lin_basis:\n",
    "   nit: 1\"\"\"\n",
    "    else: lin_basis = \"\"\"\"\"\"\n",
    "    # Define the lin_kernel block\n",
    "    lin_kernel = \"\"\"\n",
    " lin_kernel:\n",
    "   alphamix: 0.3\n",
    "   linear_method: FOE\n",
    "   nit: [20,100]\n",
    "   rpnrm_cv: 1.0E-010\"\"\"\n",
    "    # Define the confinement block\n",
    "    confinement_yaml = \"\"\"\n",
    "     ao_confinement: {conf[0]}\n",
    "     confinement: [{conf[1]}, {conf[2]}]\"\"\".format(conf=confinement)\n",
    "    # Define the rloc block\n",
    "    rloc_yaml = \"\"\"\n",
    "     rloc: {rlocs[0]}\n",
    "     rloc_kernel: {rlocs[1]}\n",
    "     rloc_kernel_foe: {rlocs[2]}\"\"\".format(rlocs=rlocs)\n",
    "    # Define the oxygen block\n",
    "    O_params = \"\"\"\n",
    "   O:\n",
    "     nbasis: 4\"\"\" + confinement_yaml + rloc_yaml\n",
    "    # Define the hydrogen block\n",
    "    H_params = \"\"\"\n",
    "   H:\n",
    "     nbasis: 1\"\"\" + confinement_yaml + rloc_yaml\n",
    "    # Define the lin_basis_params block\n",
    "    lin_basis_params = \"\"\"\n",
    " lin_basis_params:\"\"\" + O_params + H_params\n",
    "    # Define the lin parameters\n",
    "    lin_yaml = lin_general + lin_basis + lin_kernel + lin_basis_params\n",
    "    # Define the fragment block\n",
    "    frag_yaml = \"\"\"\n",
    " frag:\n",
    "   {name}: [1, 2]\"\"\".format(name=frag_name)\n",
    "    return \"\"\"\\\n",
    " dft:\n",
    "   hgrids: 0.35\n",
    "   rmult: [{rm[0]}, {rm[1]}]\n",
    "   inputpsiid: linear_restart\n",
    "   ixc: LDA (ABINIT)\"\"\".format(rm=rm) + lin_yaml + frag_yaml\n",
    "\n",
    "print(dimer_yaml())"
   ]
  },
  {
   "cell_type": "markdown",
   "metadata": {},
   "source": [
    "We now define the ```run_setup``` function to run BigDFT for a set of distances between the two water molecules to get a clean folder tree. For each distance, a folder is created, containg the input, output and data files. All the distance folders are placed in a folder that is specific of the the setup."
   ]
  },
  {
   "cell_type": "code",
   "execution_count": 11,
   "metadata": {
    "collapsed": true
   },
   "outputs": [],
   "source": [
    "def run_setup(setup_folder, distances, yaml, xyz_func, templates_dir=None):\n",
    "    \"\"\"\n",
    "    Function that creates all the folders and files for a given setup.\n",
    "    A setup is defined by a folder name, created to store all the results\n",
    "    obtained using a given yaml file but for different distances.\n",
    "    It loops over all the distances to create a folder for each distance\n",
    "    and then is nothing but a wrapper over the run_bigdft method\n",
    "    \"\"\"\n",
    "    # - Create and go to the setup folder\n",
    "    if setup_folder not in os.listdir(os.getcwd()): os.mkdir(setup_folder)\n",
    "    os.chdir(setup_folder)\n",
    "    \n",
    "    # - Loop over the distances \n",
    "    #  (Both finally are here to make sure that the os.chdir(\"..\") command\n",
    "    #   is performed even if there is an interruption or an error.)\n",
    "    prefix = \"dimer\"\n",
    "    try:\n",
    "        for d in dists:\n",
    "            print(\"{}; dist={}\".format(setup_folder, d))\n",
    "            # - Create and go to a subfolder for the current distance\n",
    "            subfolder = prefix+\"_\"+str(d)\n",
    "            if subfolder not in os.listdir(os.getcwd()): os.mkdir(subfolder)\n",
    "            os.chdir(subfolder)\n",
    "            # - Run the calculation\n",
    "            try:\n",
    "                run_bigdft(yaml, xyz_func(d), prefix=prefix, \\\n",
    "                           templates_dir=templates_dir)\n",
    "            finally:\n",
    "                # This \"finally\" forces to go back to the dimer folder\n",
    "                # if the BigDFT run is not completed.\n",
    "                os.chdir(\"..\")\n",
    "    finally:\n",
    "        # This \"finally\" forces to go back to the dimer folder\n",
    "        # if the loop over the distances is not completed.\n",
    "        os.chdir(\"..\")"
   ]
  },
  {
   "cell_type": "markdown",
   "metadata": {},
   "source": [
    "Now, we just need to go to the dimer folder and run the calculations for the different setups, starting from the reference calculation of the tutorial:"
   ]
  },
  {
   "cell_type": "code",
   "execution_count": 12,
   "metadata": {
    "scrolled": true
   },
   "outputs": [
    {
     "name": "stdout",
     "output_type": "stream",
     "text": [
      "fragment_1-4; dist=1.3\n",
      "Logfile log-dimer.yaml already exists!\n",
      "fragment_1-4; dist=1.4\n",
      "Logfile log-dimer.yaml already exists!\n",
      "fragment_1-4; dist=1.5\n",
      "Logfile log-dimer.yaml already exists!\n",
      "fragment_1-4; dist=1.6\n",
      "Logfile log-dimer.yaml already exists!\n",
      "fragment_1-4; dist=1.7\n",
      "Logfile log-dimer.yaml already exists!\n",
      "fragment_1-4; dist=1.8\n",
      "Logfile log-dimer.yaml already exists!\n",
      "fragment_1-4; dist=1.9\n",
      "Logfile log-dimer.yaml already exists!\n",
      "fragment_1-4; dist=2.0\n",
      "Logfile log-dimer.yaml already exists!\n",
      "fragment_1-4; dist=2.1\n",
      "Logfile log-dimer.yaml already exists!\n",
      "fragment_1-4; dist=2.2\n",
      "Logfile log-dimer.yaml already exists!\n",
      "fragment_1-4; dist=2.3\n",
      "Logfile log-dimer.yaml already exists!\n",
      "fragment_1-4; dist=2.4\n",
      "Logfile log-dimer.yaml already exists!\n",
      "fragment_1-4; dist=2.5\n",
      "Logfile log-dimer.yaml already exists!\n",
      "fragment_1-4; dist=3.0\n",
      "Logfile log-dimer.yaml already exists!\n",
      "fragment_1-4; dist=3.5\n",
      "Logfile log-dimer.yaml already exists!\n",
      "fragment_1-4; dist=4.0\n",
      "Logfile log-dimer.yaml already exists!\n",
      "fragment_1-4; dist=4.5\n",
      "Logfile log-dimer.yaml already exists!\n",
      "fragment_1-4; dist=5.0\n",
      "Logfile log-dimer.yaml already exists!\n"
     ]
    }
   ],
   "source": [
    "# Go to the dimer folder\n",
    "os.chdir(dimer_path)\n",
    "\n",
    "# Array of distances\n",
    "dists = np.append(np.arange(1.3, 2.5, 0.1), np.arange(2.5, 5.5, 0.5))\n",
    "\n",
    "# Run the first setup\n",
    "run_setup(\"fragment_1-4\", dists, dimer_yaml(), dimer_xyz, templates_dir=templates_path)"
   ]
  },
  {
   "cell_type": "markdown",
   "metadata": {},
   "source": [
    "Let us now run the setup with small rlocs:"
   ]
  },
  {
   "cell_type": "code",
   "execution_count": 13,
   "metadata": {
    "scrolled": true
   },
   "outputs": [
    {
     "name": "stdout",
     "output_type": "stream",
     "text": [
      "fragment_1-4_small_rlocs; dist=1.3\n",
      "Logfile log-dimer.yaml already exists!\n",
      "fragment_1-4_small_rlocs; dist=1.4\n",
      "Logfile log-dimer.yaml already exists!\n",
      "fragment_1-4_small_rlocs; dist=1.5\n",
      "Logfile log-dimer.yaml already exists!\n",
      "fragment_1-4_small_rlocs; dist=1.6\n",
      "Logfile log-dimer.yaml already exists!\n",
      "fragment_1-4_small_rlocs; dist=1.7\n",
      "Logfile log-dimer.yaml already exists!\n",
      "fragment_1-4_small_rlocs; dist=1.8\n",
      "Logfile log-dimer.yaml already exists!\n",
      "fragment_1-4_small_rlocs; dist=1.9\n",
      "Logfile log-dimer.yaml already exists!\n",
      "fragment_1-4_small_rlocs; dist=2.0\n",
      "Logfile log-dimer.yaml already exists!\n",
      "fragment_1-4_small_rlocs; dist=2.1\n",
      "Logfile log-dimer.yaml already exists!\n",
      "fragment_1-4_small_rlocs; dist=2.2\n",
      "Logfile log-dimer.yaml already exists!\n",
      "fragment_1-4_small_rlocs; dist=2.3\n",
      "Logfile log-dimer.yaml already exists!\n",
      "fragment_1-4_small_rlocs; dist=2.4\n",
      "Logfile log-dimer.yaml already exists!\n",
      "fragment_1-4_small_rlocs; dist=2.5\n",
      "Logfile log-dimer.yaml already exists!\n",
      "fragment_1-4_small_rlocs; dist=3.0\n",
      "Logfile log-dimer.yaml already exists!\n",
      "fragment_1-4_small_rlocs; dist=3.5\n",
      "Logfile log-dimer.yaml already exists!\n",
      "fragment_1-4_small_rlocs; dist=4.0\n",
      "Logfile log-dimer.yaml already exists!\n",
      "fragment_1-4_small_rlocs; dist=4.5\n",
      "Logfile log-dimer.yaml already exists!\n",
      "fragment_1-4_small_rlocs; dist=5.0\n",
      "Logfile log-dimer.yaml already exists!\n"
     ]
    }
   ],
   "source": [
    "run_setup(\"fragment_1-4_small_rlocs\", dists, \\\n",
    "          dimer_yaml(rlocs=small_rlocs, frag_name=\"h2o_small_rlocs\"), \\\n",
    "          dimer_xyz, templates_dir=templates_path)"
   ]
  },
  {
   "cell_type": "markdown",
   "metadata": {},
   "source": [
    "Finally, run the setup with large rlocs:"
   ]
  },
  {
   "cell_type": "code",
   "execution_count": 14,
   "metadata": {
    "scrolled": true
   },
   "outputs": [
    {
     "name": "stdout",
     "output_type": "stream",
     "text": [
      "fragment_1-4_large_rlocs; dist=1.3\n",
      "Logfile log-dimer.yaml already exists!\n",
      "fragment_1-4_large_rlocs; dist=1.4\n",
      "Logfile log-dimer.yaml already exists!\n",
      "fragment_1-4_large_rlocs; dist=1.5\n",
      "Logfile log-dimer.yaml already exists!\n",
      "fragment_1-4_large_rlocs; dist=1.6\n",
      "Logfile log-dimer.yaml already exists!\n",
      "fragment_1-4_large_rlocs; dist=1.7\n",
      "Logfile log-dimer.yaml already exists!\n",
      "fragment_1-4_large_rlocs; dist=1.8\n",
      "Logfile log-dimer.yaml already exists!\n",
      "fragment_1-4_large_rlocs; dist=1.9\n",
      "Logfile log-dimer.yaml already exists!\n",
      "fragment_1-4_large_rlocs; dist=2.0\n",
      "Logfile log-dimer.yaml already exists!\n",
      "fragment_1-4_large_rlocs; dist=2.1\n",
      "Logfile log-dimer.yaml already exists!\n",
      "fragment_1-4_large_rlocs; dist=2.2\n",
      "Logfile log-dimer.yaml already exists!\n",
      "fragment_1-4_large_rlocs; dist=2.3\n",
      "Logfile log-dimer.yaml already exists!\n",
      "fragment_1-4_large_rlocs; dist=2.4\n",
      "Logfile log-dimer.yaml already exists!\n",
      "fragment_1-4_large_rlocs; dist=2.5\n",
      "Logfile log-dimer.yaml already exists!\n",
      "fragment_1-4_large_rlocs; dist=3.0\n",
      "Logfile log-dimer.yaml already exists!\n",
      "fragment_1-4_large_rlocs; dist=3.5\n",
      "Logfile log-dimer.yaml already exists!\n",
      "fragment_1-4_large_rlocs; dist=4.0\n",
      "Logfile log-dimer.yaml already exists!\n",
      "fragment_1-4_large_rlocs; dist=4.5\n",
      "Logfile log-dimer.yaml already exists!\n",
      "fragment_1-4_large_rlocs; dist=5.0\n",
      "Logfile log-dimer.yaml already exists!\n"
     ]
    }
   ],
   "source": [
    "# Run the setup with large rlocs\n",
    "run_setup(\"fragment_1-4_large_rlocs\", dists, \\\n",
    "          dimer_yaml(rlocs=large_rlocs, frag_name=\"h2o_large_rlocs\"), \\\n",
    "          dimer_xyz, templates_dir=templates_path)"
   ]
  },
  {
   "cell_type": "markdown",
   "metadata": {},
   "source": [
    "All the needed data to plot the dissociation curves for the three setups are computed: to store them in a usable dictionary before plotting, let us define the *find_data* function:"
   ]
  },
  {
   "cell_type": "code",
   "execution_count": 15,
   "metadata": {},
   "outputs": [],
   "source": [
    "def find_data(setup_folder, legend):\n",
    "    \"\"\"\n",
    "    Given a setup folder, find the logfiles in a given archive, \n",
    "    this function collects the data needed to plot\n",
    "    dissociation curves, e.g. distance vs energy.\n",
    "    The data is made of the distances between the two water \n",
    "    molecules and the total energies of the corresponding dimers.\n",
    "    A legendtitle is also added to the dictionnary, in order to \n",
    "    be used as legend for the plots.\n",
    "    \"\"\"\n",
    "    HatoeV = 27.211396132 #Hartree to eV conversion factor\n",
    "    print(legend)\n",
    "    data = {'legend': legend}\n",
    "    if os.path.exists(setup_folder):\n",
    "        try:\n",
    "            os.chdir(setup_folder)\n",
    "            paths = find_files(\"dimer_*/log-dimer.yaml\")\n",
    "            data['logfiles'] = [lf.Logfile(path) for path in paths]\n",
    "        finally:\n",
    "            os.chdir(\"..\")\n",
    "    #print(paths)\n",
    "    if len(data['logfiles']) < 1:\n",
    "        raise ValueError(\"No logfiles found, try a new regexp.\")\n",
    "    # Find the distance between the two molecules\n",
    "    data['distances'] = [log.log['posinp']['positions'][3]['O'][0] \\\n",
    "                         for log in data['logfiles']]\n",
    "    # Sort the logfiles according to the distances first\n",
    "    data['logfiles'] = [log for (dist, log) in \\\n",
    "                        sorted(zip(data['distances'], data['logfiles']))]\n",
    "    # Sort the distances\n",
    "    data['distances'] = sorted(data['distances'])\n",
    "    # The energies are listed for increasing distance\n",
    "    data['energies'] = [log.energy for log in data['logfiles']]\n",
    "    # Shift the energies and convert them to eV\n",
    "    ref = data['energies'][-1] #reference value at large distance\n",
    "    data['energies'] = [HatoeV * (e - ref) for e in data['energies']]\n",
    "    \n",
    "    return data"
   ]
  },
  {
   "cell_type": "markdown",
   "metadata": {},
   "source": [
    "It is then possible to get the data for each setup:"
   ]
  },
  {
   "cell_type": "code",
   "execution_count": 16,
   "metadata": {},
   "outputs": [
    {
     "name": "stdout",
     "output_type": "stream",
     "text": [
      "Fragment, nbasis: (1, 4), small rlocs: (6, 8, 10)\n",
      "Fragment, nbasis: (1, 4), medium rlocs: (9, 12, 14) [tutorial]\n",
      "Fragment, nbasis: (1, 4), large rlocs: (11, 14, 16)\n"
     ]
    }
   ],
   "source": [
    "setups = [\"fragment_1-4_small_rlocs\", \"fragment_1-4\", \"fragment_1-4_large_rlocs\"]\n",
    "legends = ['Fragment, nbasis: (1, 4), small rlocs: (6, 8, 10)', \\\n",
    "           'Fragment, nbasis: (1, 4), medium rlocs: (9, 12, 14) [tutorial]', \\\n",
    "           'Fragment, nbasis: (1, 4), large rlocs: (11, 14, 16)']\n",
    "curves = [find_data(setup, legends[i]) for i, setup in enumerate(setups)]"
   ]
  },
  {
   "cell_type": "markdown",
   "metadata": {},
   "source": [
    "Create the plot: "
   ]
  },
  {
   "cell_type": "code",
   "execution_count": 17,
   "metadata": {},
   "outputs": [
    {
     "data": {
      "image/png": "[encoded data removed]",
      "text/plain": [
       "<matplotlib.figure.Figure at 0x113f9e7d0>"
      ]
     },
     "metadata": {},
     "output_type": "display_data"
    }
   ],
   "source": [
    "# Lists of markers and colors (for matplotlib)\n",
    "colors = ['#74a9cf', '#2b8cbe', '#045a8d']\n",
    "markers = ['o']*2 + ['s']\n",
    "size = [8]*2 + [5]\n",
    "\n",
    "# Plot with matplotlib\n",
    "plt.figure(figsize=(8,5))\n",
    "for i, data in enumerate(curves):\n",
    "    plt.plot(data['distances'], data['energies'], marker=markers[i], \n",
    "             ls='-', label=data['legend'], color=colors[i], ms=size[i])\n",
    "plt.ylim([-0.27, 0.1])\n",
    "plt.xlim([1.0, 5.0])\n",
    "plt.xlabel('$R$ ($\\AA$)')\n",
    "plt.ylabel('$E-E_{ref}$ (eV)')\n",
    "plt.title('Dissociation energy of the water dimer')\n",
    "plt.legend()\n",
    "plt.show()"
   ]
  },
  {
   "cell_type": "markdown",
   "metadata": {},
   "source": [
    "**Conclusion:**\n",
    "\n",
    "The tutorial values for the different rlocs give a converged dissociation curve compared to the larger rlocs. We also see that using smaller values may lead to different results. Here, using smaller rlocs tend to overbind the dimer by 10 meV. **Why is that? Didn't try to understand that yet.** The overbinding for smaller rlocs is still visible for higher values of *nbasis* (you may want to try it by yourself)."
   ]
  },
  {
   "cell_type": "markdown",
   "metadata": {},
   "source": [
    "## Influence of the rmult parameters\n",
    "\n",
    "In this part of the notebook, we test the influence of the values of the multiplying factors for the coarse and fine grids (*crmult* and *frmult* respectively).\n",
    "\n",
    "They multiply quantities that are chemical species dependent. The first factor is the most important since it describes the spatial expansion of the basis set (in yellow on the figure below). Indeed the basis set is defined as a set of real space points with non-zero values. These points are on a global regular mesh and located inside spheres centered on atoms. Increasing the first multiplying factor means that further spatial expansion is possible for the wavefunctions. Typical values are 5 to 7.\n",
    "\n",
    "To check the influence of these parameters on the quantities of interest is among the first thing to look for when performing a cubic scalic BigDFT calculation, as shown in [this tutorial](http://bigdft.org/Wiki/index.php?title=Basis-set_convergence). Let us perform the same study here for the fragment approach.\n",
    "\n",
    "<img style=\"float: left;\", src=\"http://bigdft.org/images/7/72/CH4-grid.png\">"
   ]
  },
  {
   "cell_type": "markdown",
   "metadata": {},
   "source": [
    "### Templates\n",
    "\n",
    "Let us first run a template calculation for a larger set of *rmult* factors:"
   ]
  },
  {
   "cell_type": "code",
   "execution_count": 18,
   "metadata": {},
   "outputs": [
    {
     "name": "stdout",
     "output_type": "stream",
     "text": [
      "Logfile log-h2o_medium_rm.yaml already exists!\n"
     ]
    }
   ],
   "source": [
    "# Go to the templates folder\n",
    "os.chdir(templates_path)\n",
    "\n",
    "# Run the template of the H2O molecule\n",
    "template_yaml = h2o_yaml(rm=[7.0, 8.0])\n",
    "run_bigdft(template_yaml, h2o_xyz, prefix=\"h2o_medium_rm\")"
   ]
  },
  {
   "cell_type": "markdown",
   "metadata": {},
   "source": [
    "The next template is the same as the previous one, but with a larger value of *crmult*:"
   ]
  },
  {
   "cell_type": "code",
   "execution_count": 19,
   "metadata": {},
   "outputs": [
    {
     "name": "stdout",
     "output_type": "stream",
     "text": [
      "Logfile log-h2o_large_rm.yaml already exists!\n"
     ]
    }
   ],
   "source": [
    "small_rlocs = [6.0, 8.0, 10.0]\n",
    "template_yaml = h2o_yaml(rm=[9.0, 8.0])\n",
    "run_bigdft(template_yaml, h2o_xyz, prefix=\"h2o_large_rm\")"
   ]
  },
  {
   "cell_type": "markdown",
   "metadata": {},
   "source": [
    "### Dissociation curves\n",
    "\n",
    "Again, once the templates have been calculated, one can run the fragments calculation to get the dissociation curves\n",
    "\n",
    "Let us first start with the medium *rmults*:"
   ]
  },
  {
   "cell_type": "code",
   "execution_count": 20,
   "metadata": {
    "scrolled": true
   },
   "outputs": [
    {
     "name": "stdout",
     "output_type": "stream",
     "text": [
      "fragment_1-4_medium_rm; dist=1.3\n",
      "Logfile log-dimer.yaml already exists!\n",
      "fragment_1-4_medium_rm; dist=1.4\n",
      "Logfile log-dimer.yaml already exists!\n",
      "fragment_1-4_medium_rm; dist=1.5\n",
      "Logfile log-dimer.yaml already exists!\n",
      "fragment_1-4_medium_rm; dist=1.6\n",
      "Logfile log-dimer.yaml already exists!\n",
      "fragment_1-4_medium_rm; dist=1.7\n",
      "Logfile log-dimer.yaml already exists!\n",
      "fragment_1-4_medium_rm; dist=1.8\n",
      "Logfile log-dimer.yaml already exists!\n",
      "fragment_1-4_medium_rm; dist=1.9\n",
      "Logfile log-dimer.yaml already exists!\n",
      "fragment_1-4_medium_rm; dist=2.0\n",
      "Logfile log-dimer.yaml already exists!\n",
      "fragment_1-4_medium_rm; dist=2.1\n",
      "Logfile log-dimer.yaml already exists!\n",
      "fragment_1-4_medium_rm; dist=2.2\n",
      "Logfile log-dimer.yaml already exists!\n",
      "fragment_1-4_medium_rm; dist=2.3\n",
      "Logfile log-dimer.yaml already exists!\n",
      "fragment_1-4_medium_rm; dist=2.4\n",
      "Logfile log-dimer.yaml already exists!\n",
      "fragment_1-4_medium_rm; dist=2.5\n",
      "Logfile log-dimer.yaml already exists!\n",
      "fragment_1-4_medium_rm; dist=3.0\n",
      "Logfile log-dimer.yaml already exists!\n",
      "fragment_1-4_medium_rm; dist=3.5\n",
      "Logfile log-dimer.yaml already exists!\n",
      "fragment_1-4_medium_rm; dist=4.0\n",
      "Logfile log-dimer.yaml already exists!\n",
      "fragment_1-4_medium_rm; dist=4.5\n",
      "Logfile log-dimer.yaml already exists!\n",
      "fragment_1-4_medium_rm; dist=5.0\n",
      "Logfile log-dimer.yaml already exists!\n"
     ]
    }
   ],
   "source": [
    "# Go to the dimer folder\n",
    "os.chdir(dimer_path)\n",
    "\n",
    "# Define the input file\n",
    "yaml = dimer_yaml(rm=[7.0, 8.0], frag_name=\"h2o_medium_rm\")\n",
    "\n",
    "# Run the first setup\n",
    "run_setup(\"fragment_1-4_medium_rm\", dists, yaml, \n",
    "          dimer_xyz, templates_dir=templates_path)"
   ]
  },
  {
   "cell_type": "markdown",
   "metadata": {},
   "source": [
    "Finally, perform the calculations of the second setup, with large *rmults*:"
   ]
  },
  {
   "cell_type": "code",
   "execution_count": 21,
   "metadata": {
    "scrolled": true
   },
   "outputs": [
    {
     "name": "stdout",
     "output_type": "stream",
     "text": [
      "fragment_1-4_large_rm; dist=1.3\n",
      "Logfile log-dimer.yaml already exists!\n",
      "fragment_1-4_large_rm; dist=1.4\n",
      "Logfile log-dimer.yaml already exists!\n",
      "fragment_1-4_large_rm; dist=1.5\n",
      "Logfile log-dimer.yaml already exists!\n",
      "fragment_1-4_large_rm; dist=1.6\n",
      "Logfile log-dimer.yaml already exists!\n",
      "fragment_1-4_large_rm; dist=1.7\n",
      "Logfile log-dimer.yaml already exists!\n",
      "fragment_1-4_large_rm; dist=1.8\n",
      "Logfile log-dimer.yaml already exists!\n",
      "fragment_1-4_large_rm; dist=1.9\n",
      "Logfile log-dimer.yaml already exists!\n",
      "fragment_1-4_large_rm; dist=2.0\n",
      "Logfile log-dimer.yaml already exists!\n",
      "fragment_1-4_large_rm; dist=2.1\n",
      "Logfile log-dimer.yaml already exists!\n",
      "fragment_1-4_large_rm; dist=2.2\n",
      "Logfile log-dimer.yaml already exists!\n",
      "fragment_1-4_large_rm; dist=2.3\n",
      "Logfile log-dimer.yaml already exists!\n",
      "fragment_1-4_large_rm; dist=2.4\n",
      "Logfile log-dimer.yaml already exists!\n",
      "fragment_1-4_large_rm; dist=2.5\n",
      "Logfile log-dimer.yaml already exists!\n",
      "fragment_1-4_large_rm; dist=3.0\n",
      "Logfile log-dimer.yaml already exists!\n",
      "fragment_1-4_large_rm; dist=3.5\n",
      "Logfile log-dimer.yaml already exists!\n",
      "fragment_1-4_large_rm; dist=4.0\n",
      "Logfile log-dimer.yaml already exists!\n",
      "fragment_1-4_large_rm; dist=4.5\n",
      "Logfile log-dimer.yaml already exists!\n",
      "fragment_1-4_large_rm; dist=5.0\n",
      "Logfile log-dimer.yaml already exists!\n"
     ]
    }
   ],
   "source": [
    "# Define the input file\n",
    "yaml = dimer_yaml(rm=[9.0, 8.0], frag_name=\"h2o_large_rm\")\n",
    "\n",
    "# Run the second setup\n",
    "run_setup(\"fragment_1-4_large_rm\", dists, yaml, \\\n",
    "          dimer_xyz, templates_dir=templates_path)"
   ]
  },
  {
   "cell_type": "markdown",
   "metadata": {},
   "source": [
    "It is then possible to get the data for each setup:"
   ]
  },
  {
   "cell_type": "code",
   "execution_count": 22,
   "metadata": {},
   "outputs": [
    {
     "name": "stdout",
     "output_type": "stream",
     "text": [
      "Fragment, nbasis: (1, 4), small rm: (5, 7) [tutorial]\n",
      "Fragment, nbasis: (1, 4), medium rm: (7, 8)\n",
      "Fragment, nbasis: (1, 4), large rm: (9, 8)\n"
     ]
    }
   ],
   "source": [
    "setups = [\"fragment_1-4\", \"fragment_1-4_medium_rm\", \"fragment_1-4_large_rm\"]\n",
    "legends = ['Fragment, nbasis: (1, 4), small rm: (5, 7) [tutorial]', \\\n",
    "           'Fragment, nbasis: (1, 4), medium rm: (7, 8)', \\\n",
    "           'Fragment, nbasis: (1, 4), large rm: (9, 8)']\n",
    "curves = [find_data(setup, legends[i]) for i, setup in enumerate(setups)]"
   ]
  },
  {
   "cell_type": "markdown",
   "metadata": {},
   "source": [
    "Create the plot: "
   ]
  },
  {
   "cell_type": "code",
   "execution_count": 23,
   "metadata": {},
   "outputs": [
    {
     "data": {
      "image/png": "[encoded data removed]",
      "text/plain": [
       "<matplotlib.figure.Figure at 0x114165050>"
      ]
     },
     "metadata": {},
     "output_type": "display_data"
    }
   ],
   "source": [
    "# Lists of markers and colors (for matplotlib)\n",
    "colors = ['#a6bddb', '#0570b0', '#023858']\n",
    "markers = ['s', 'o', 's']\n",
    "size = [12, 10, 5]\n",
    "\n",
    "# Plot with matplotlib\n",
    "plt.figure(figsize=(8,5))\n",
    "for i, data in enumerate(curves):\n",
    "    plt.plot(data['distances'], data['energies'], marker=markers[i], \n",
    "             ls='-', label=data['legend'], color=colors[i], ms=size[i])\n",
    "plt.ylim([-0.27, 0.1])\n",
    "plt.xlim([1.0, 5.0])\n",
    "plt.xlabel('$R$ ($\\AA$)')\n",
    "plt.ylabel('$E-E_{ref}$ (eV)')\n",
    "plt.title('Dissociation energy of the water dimer')\n",
    "plt.legend()\n",
    "plt.show()"
   ]
  },
  {
   "cell_type": "markdown",
   "metadata": {},
   "source": [
    "**Conclusion:**\n",
    "\n",
    "The dissociation curve of the tutorial is already converged with respect to the crmult and frmult parameters, since inceasing them lead to no change. The smallest values used are therefore sufficient for this study."
   ]
  },
  {
   "cell_type": "markdown",
   "metadata": {},
   "source": [
    "## Test with default confinement\n",
    "\n",
    "A confining potential centered on each atom is used to enforce the localization of the of the support functions. It is finally turned off, to give highly accurate support functions (see [S. Mohr *et al.*, The Journal of Chemical Physics 140, 204110 (2014)](http://aip.scitation.org/doi/abs/10.1063/1.4871876) for more details, especially section **IV.A**). \n",
    "\n",
    "The present section aims at studying the influence of the strength of this confinement on the dissociation curves.\n",
    "\n",
    "### Template calculation"
   ]
  },
  {
   "cell_type": "code",
   "execution_count": 24,
   "metadata": {},
   "outputs": [
    {
     "name": "stdout",
     "output_type": "stream",
     "text": [
      "Logfile log-h2o_without_confinement.yaml already exists!\n"
     ]
    }
   ],
   "source": [
    "# Go to the templates folder\n",
    "os.chdir(templates_path)\n",
    "\n",
    "# Run the template of the H2O molecule\n",
    "template_yaml = h2o_yaml(confinement=[0.008, 0.008, 0.0])\n",
    "run_bigdft(template_yaml, h2o_xyz, prefix=\"h2o_without_confinement\")"
   ]
  },
  {
   "cell_type": "markdown",
   "metadata": {},
   "source": [
    "### Dissociation curve\n",
    "\n",
    "First, run the fragment calculations for the diferent distances:"
   ]
  },
  {
   "cell_type": "code",
   "execution_count": 25,
   "metadata": {
    "scrolled": true
   },
   "outputs": [
    {
     "name": "stdout",
     "output_type": "stream",
     "text": [
      "fragment_1-4_without_confinement; dist=1.3\n",
      "Logfile log-dimer.yaml already exists!\n",
      "fragment_1-4_without_confinement; dist=1.4\n",
      "Logfile log-dimer.yaml already exists!\n",
      "fragment_1-4_without_confinement; dist=1.5\n",
      "Logfile log-dimer.yaml already exists!\n",
      "fragment_1-4_without_confinement; dist=1.6\n",
      "Logfile log-dimer.yaml already exists!\n",
      "fragment_1-4_without_confinement; dist=1.7\n",
      "Logfile log-dimer.yaml already exists!\n",
      "fragment_1-4_without_confinement; dist=1.8\n",
      "Logfile log-dimer.yaml already exists!\n",
      "fragment_1-4_without_confinement; dist=1.9\n",
      "Logfile log-dimer.yaml already exists!\n",
      "fragment_1-4_without_confinement; dist=2.0\n",
      "Logfile log-dimer.yaml already exists!\n",
      "fragment_1-4_without_confinement; dist=2.1\n",
      "Logfile log-dimer.yaml already exists!\n",
      "fragment_1-4_without_confinement; dist=2.2\n",
      "Logfile log-dimer.yaml already exists!\n",
      "fragment_1-4_without_confinement; dist=2.3\n",
      "Logfile log-dimer.yaml already exists!\n",
      "fragment_1-4_without_confinement; dist=2.4\n",
      "Logfile log-dimer.yaml already exists!\n",
      "fragment_1-4_without_confinement; dist=2.5\n",
      "Logfile log-dimer.yaml already exists!\n",
      "fragment_1-4_without_confinement; dist=3.0\n",
      "Logfile log-dimer.yaml already exists!\n",
      "fragment_1-4_without_confinement; dist=3.5\n",
      "Logfile log-dimer.yaml already exists!\n",
      "fragment_1-4_without_confinement; dist=4.0\n",
      "Logfile log-dimer.yaml already exists!\n",
      "fragment_1-4_without_confinement; dist=4.5\n",
      "Logfile log-dimer.yaml already exists!\n",
      "fragment_1-4_without_confinement; dist=5.0\n",
      "Logfile log-dimer.yaml already exists!\n"
     ]
    }
   ],
   "source": [
    "# Go to the dimer folder\n",
    "os.chdir(dimer_path)\n",
    "\n",
    "# Define the input file\n",
    "yaml = dimer_yaml(confinement=[0.008, 0.008, 0.0], frag_name=\"h2o_without_confinement\")\n",
    "\n",
    "# Run the first setup\n",
    "run_setup(\"fragment_1-4_without_confinement\", dists, yaml, \n",
    "          dimer_xyz, templates_dir=templates_path)"
   ]
  },
  {
   "cell_type": "markdown",
   "metadata": {},
   "source": [
    "It is then possible to get the data for each setup:"
   ]
  },
  {
   "cell_type": "code",
   "execution_count": 26,
   "metadata": {},
   "outputs": [
    {
     "name": "stdout",
     "output_type": "stream",
     "text": [
      "Fragment, nbasis: (1, 4), with confinement [tutorial]\n",
      "Fragment, nbasis: (1, 4), with default confinement\n"
     ]
    }
   ],
   "source": [
    "setups = [\"fragment_1-4\", \"fragment_1-4_without_confinement\"]\n",
    "legends = ['Fragment, nbasis: (1, 4), with confinement [tutorial]', \\\n",
    "           'Fragment, nbasis: (1, 4), with default confinement']\n",
    "curves = [find_data(setup, legends[i]) for i, setup in enumerate(setups)]"
   ]
  },
  {
   "cell_type": "markdown",
   "metadata": {},
   "source": [
    "Create the plot: "
   ]
  },
  {
   "cell_type": "code",
   "execution_count": 27,
   "metadata": {},
   "outputs": [
    {
     "data": {
      "image/png": "[encoded data removed]",
      "text/plain": [
       "<matplotlib.figure.Figure at 0x1152d46d0>"
      ]
     },
     "metadata": {},
     "output_type": "display_data"
    }
   ],
   "source": [
    "# Lists of markers and colors (for matplotlib)\n",
    "colors = ['#74a9cf', '#045a8d']\n",
    "markers = ['o'] + ['s']\n",
    "size = [8] + [5]\n",
    "\n",
    "# Plot with matplotlib\n",
    "plt.figure(figsize=(8,5))\n",
    "for i, data in enumerate(curves):\n",
    "    plt.plot(data['distances'], data['energies'], marker=markers[i], \n",
    "             ls='-', label=data['legend'], color=colors[i], ms=size[i])\n",
    "plt.ylim([-0.27, 0.1])\n",
    "plt.xlim([1.0, 5.0])\n",
    "plt.xlabel('$R$ ($\\AA$)')\n",
    "plt.ylabel('$E-E_{ref}$ (eV)')\n",
    "plt.title('Dissociation energy of the water dimer')\n",
    "plt.legend()\n",
    "plt.show()"
   ]
  },
  {
   "cell_type": "markdown",
   "metadata": {},
   "source": [
    "**Conclusion:**\n",
    "\n",
    "There is a limited impact of the confinement at high distance, but it can be of the same order as the *rloc* parameters. Further tests must be carried on to get a clearer view on the influence of this parameter."
   ]
  },
  {
   "cell_type": "markdown",
   "metadata": {},
   "source": [
    "## Test allowing for basis optimization\n",
    "\n",
    "The water template of the tutorial is kept as a starting point for this test, but an optimization of the support functions is allowed for each distance.\n",
    "\n",
    "### Dissociation curve"
   ]
  },
  {
   "cell_type": "code",
   "execution_count": 28,
   "metadata": {
    "scrolled": true
   },
   "outputs": [
    {
     "name": "stdout",
     "output_type": "stream",
     "text": [
      "fragment_1-4_with_basis_opt; dist=1.3\n",
      "Logfile log-dimer.yaml already exists!\n",
      "fragment_1-4_with_basis_opt; dist=1.4\n",
      "Logfile log-dimer.yaml already exists!\n",
      "fragment_1-4_with_basis_opt; dist=1.5\n",
      "Logfile log-dimer.yaml already exists!\n",
      "fragment_1-4_with_basis_opt; dist=1.6\n",
      "Logfile log-dimer.yaml already exists!\n",
      "fragment_1-4_with_basis_opt; dist=1.7\n",
      "Logfile log-dimer.yaml already exists!\n",
      "fragment_1-4_with_basis_opt; dist=1.8\n",
      "Logfile log-dimer.yaml already exists!\n",
      "fragment_1-4_with_basis_opt; dist=1.9\n",
      "Logfile log-dimer.yaml already exists!\n",
      "fragment_1-4_with_basis_opt; dist=2.0\n",
      "Logfile log-dimer.yaml already exists!\n",
      "fragment_1-4_with_basis_opt; dist=2.1\n",
      "Logfile log-dimer.yaml already exists!\n",
      "fragment_1-4_with_basis_opt; dist=2.2\n",
      "Logfile log-dimer.yaml already exists!\n",
      "fragment_1-4_with_basis_opt; dist=2.3\n",
      "Logfile log-dimer.yaml already exists!\n",
      "fragment_1-4_with_basis_opt; dist=2.4\n",
      "Logfile log-dimer.yaml already exists!\n",
      "fragment_1-4_with_basis_opt; dist=2.5\n",
      "Logfile log-dimer.yaml already exists!\n",
      "fragment_1-4_with_basis_opt; dist=3.0\n",
      "Logfile log-dimer.yaml already exists!\n",
      "fragment_1-4_with_basis_opt; dist=3.5\n",
      "Logfile log-dimer.yaml already exists!\n",
      "fragment_1-4_with_basis_opt; dist=4.0\n",
      "Logfile log-dimer.yaml already exists!\n",
      "fragment_1-4_with_basis_opt; dist=4.5\n",
      "Logfile log-dimer.yaml already exists!\n",
      "fragment_1-4_with_basis_opt; dist=5.0\n",
      "Logfile log-dimer.yaml already exists!\n"
     ]
    }
   ],
   "source": [
    "# Go to the dimer folder\n",
    "os.chdir(dimer_path)\n",
    "\n",
    "# Define the input file\n",
    "yaml = dimer_yaml(with_nit=[False, False])\n",
    "#print(yaml)\n",
    "\n",
    "# Run the first setup\n",
    "run_setup(\"fragment_1-4_with_basis_opt\", dists, yaml, \n",
    "          dimer_xyz, templates_dir=templates_path)"
   ]
  },
  {
   "cell_type": "markdown",
   "metadata": {},
   "source": [
    "It is then possible to get the data for each setup:"
   ]
  },
  {
   "cell_type": "code",
   "execution_count": 29,
   "metadata": {},
   "outputs": [
    {
     "name": "stdout",
     "output_type": "stream",
     "text": [
      "Fragment, nbasis: (1, 4), without basis optimization [tutorial]\n",
      "Linear, nbasis: (1, 4) [tutorial]\n",
      "Fragment, nbasis: (1, 4), with basis optimization\n"
     ]
    }
   ],
   "source": [
    "setups = [\"fragment_1-4\", \"linear_1-4\", \"fragment_1-4_with_basis_opt\"]\n",
    "legends = ['Fragment, nbasis: (1, 4), without basis optimization [tutorial]', \\\n",
    "           'Linear, nbasis: (1, 4) [tutorial]', \\\n",
    "           'Fragment, nbasis: (1, 4), with basis optimization']\n",
    "curves = [find_data(setup, legends[i]) for i, setup in enumerate(setups)]"
   ]
  },
  {
   "cell_type": "markdown",
   "metadata": {},
   "source": [
    "Create the plot: "
   ]
  },
  {
   "cell_type": "code",
   "execution_count": 30,
   "metadata": {},
   "outputs": [
    {
     "data": {
      "image/png": "[encoded data removed]",
      "text/plain": [
       "<matplotlib.figure.Figure at 0x114280c90>"
      ]
     },
     "metadata": {},
     "output_type": "display_data"
    }
   ],
   "source": [
    "# Lists of markers and colors (for matplotlib)\n",
    "colors = ['#74a9cf', '#d6604d', '#045a8d']\n",
    "markers = ['o', 'o', 's']\n",
    "size = [8, 8, 5]\n",
    "\n",
    "# Plot with matplotlib\n",
    "plt.figure(figsize=(8,5))\n",
    "for i, data in enumerate(curves):\n",
    "    plt.plot(data['distances'], data['energies'], marker=markers[i], \n",
    "             ls='-', label=data['legend'], color=colors[i], ms=size[i])\n",
    "plt.ylim([-0.37, 0.1])\n",
    "plt.xlim([1.0, 5.0])\n",
    "plt.xlabel('$R$ ($\\AA$)')\n",
    "plt.ylabel('$E-E_{ref}$ (eV)')\n",
    "plt.title('Dissociation energy of the water dimer')\n",
    "plt.legend()\n",
    "plt.show()"
   ]
  },
  {
   "cell_type": "markdown",
   "metadata": {},
   "source": [
    "**Conclusion:**\n",
    "\n",
    "If there is an optimization of the basis at each distance, this amounts to perform a linear calculation on the full system. This is why the dissociation curve of the fragment calculation allowing for basis set optimization reproduces the one obtained using the linear calculation on the full system (the latter being cheaper in terms of computing resources). \n",
    "\n",
    "Therfore, there is actually no point in optimizing the basis set while performing fragment calculations, as it is very inefficient compared to a linear calculation on the full system."
   ]
  },
  {
   "cell_type": "markdown",
   "metadata": {},
   "source": [
    "## Create archives\n",
    "\n",
    "To avoid running all calculations when running this notebook again, we create two archives as tar files:\n",
    "\n",
    "* one containing all logs _log-dimer*_ and all input files *dimer.yaml* and positions *dimer.xyz* for each setup,\n",
    "\n",
    "* another one containing all data for the templates (output and input files _template*xyz_, _template*xyz_ plus the folders _data-template*_)"
   ]
  },
  {
   "cell_type": "code",
   "execution_count": 31,
   "metadata": {},
   "outputs": [
    {
     "name": "stdout",
     "output_type": "stream",
     "text": [
      "No creation of tarfile H2O_dimer_tests.tgz because it already exists!\n",
      "No creation of tarfile templates_tests_H2O.tgz because it already exists!\n"
     ]
    }
   ],
   "source": [
    "# Go back to the starting folder, with both templates and dimer folders\n",
    "os.chdir(start_path)\n",
    "\n",
    "# List the setups to send to the setup archive\n",
    "setups = ['fragment_1-4', 'fragment_1-4_large_rlocs', 'fragment_1-4_small_rlocs', \\\n",
    "          'fragment_1-4_large_rm', 'fragment_1-4_medium_rm', 'fragment_1-4_with_basis_opt', \\\n",
    "          'fragment_1-4_without_confinement', 'linear_1-4']\n",
    "\n",
    "# Create an archive with logs and input files for each setup\n",
    "if not os.path.exists(tarname):\n",
    "    tar = tarfile.open(tarname, \"w:bz2\")\n",
    "    for setup in setups:\n",
    "        logfiles = find_files(dimer_folder+\"/\"+setup+\"/dimer_*/log-dimer*.yaml\")\n",
    "        input_files = find_files(dimer_folder+\"/\"+setup+\"/dimer_*/dimer.yaml\")\n",
    "        posinp_files = find_files(dimer_folder+\"/\"+setup+\"/dimer_*/dimer.xyz\")\n",
    "        for name in logfiles + input_files + posinp_files:\n",
    "            tar.add(name)\n",
    "    tar.close()\n",
    "    print(\"Creation of a tar file with all log files: {}\".format(tarname))\n",
    "else:\n",
    "    print(\"No creation of tarfile {} because it already exists!\".format(tarname))\n",
    "\n",
    "# List the templates to send to the template archive\n",
    "templates = ['h2o', 'h2o_large_rlocs', 'h2o_small_rlocs', 'h2o_large_rm', \\\n",
    "             'h2o_medium_rm', 'h2o_without_confinement']\n",
    "\n",
    "# Create a second archive with templates data\n",
    "if not os.path.exists(tartemplate):\n",
    "    tar = tarfile.open(tartemplate, \"w:bz2\")\n",
    "    for template in templates:\n",
    "        data_folders = [templates_folder+'/data-'+template+\"/\"+f \n",
    "                        for f in find_files(templates_folder+'/data-'+template)]\n",
    "        logfiles = find_files(templates_folder+\"/log-\"+template+\".yaml\")\n",
    "        input_files = find_files(templates_folder+\"/\"+template+\".yaml\")\n",
    "        posinp_files = find_files(templates_folder+\"/\"+template+\".xyz\")\n",
    "        for name in data_folders + logfiles + input_files + posinp_files:\n",
    "            tar.add(name)\n",
    "    tar.close()\n",
    "    print(\"Creation of a tar file with all log files: {}\".format(tartemplate))\n",
    "else:\n",
    "    print(\"No creation of tarfile {} because it already exists!\".format(tartemplate))"
   ]
  },
  {
   "cell_type": "code",
   "execution_count": null,
   "metadata": {
    "collapsed": true
   },
   "outputs": [],
   "source": []
  }
 ],
 "metadata": {
  "kernelspec": {
   "display_name": "Python 2",
   "language": "python",
   "name": "python2"
  },
  "language_info": {
   "codemirror_mode": {
    "name": "ipython",
    "version": 2
   },
   "file_extension": ".py",
   "mimetype": "text/x-python",
   "name": "python",
   "nbconvert_exporter": "python",
   "pygments_lexer": "ipython2",
   "version": "2.7.10"
  }
 },
 "nbformat": 4,
 "nbformat_minor": 2
}
