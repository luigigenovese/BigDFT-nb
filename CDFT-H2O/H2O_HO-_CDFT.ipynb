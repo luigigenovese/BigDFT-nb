{
 "cells": [
  {
   "cell_type": "markdown",
   "metadata": {},
   "source": [
    "# Dissociation curve of the H$_2$O + HO$^-$ dimer with Constrained DFT\n",
    "\n",
    "This notebook aims at presenting the results obtained while studying the same dimer made of a water and a hyderoxide molecules using the fragment approach, the difference with the previous notebook being the application of constraints to make the extra charge added to the dimer system remain in the vicinity of the OH fragment.\n",
    "\n",
    "There is no point in applying the constraint on the templates calculation, therefore the templates created while studying the water dimer and the water-hydroxide dimer can be reused, saving computation time."
   ]
  },
  {
   "cell_type": "markdown",
   "metadata": {},
   "source": [
    "**Import modules, classes and functions.**"
   ]
  },
  {
   "cell_type": "code",
   "execution_count": 1,
   "metadata": {
    "collapsed": true
   },
   "outputs": [],
   "source": [
    "from __future__ import print_function\n",
    "import os\n",
    "import sys\n",
    "import subprocess\n",
    "import shutil\n",
    "import tarfile\n",
    "import numpy as np\n",
    "from futile.Utils import find_files\n",
    "from BigDFT import Logfiles as lf\n",
    "import matplotlib.pyplot as plt"
   ]
  },
  {
   "cell_type": "markdown",
   "metadata": {},
   "source": [
    "**Extract tarfiles to avoid re-running some calculations.**\n",
    "\n",
    "One tarfile contains the templates used throughout this notebook, while the other contains the files related to the different dissociation curves that will be computed."
   ]
  },
  {
   "cell_type": "code",
   "execution_count": 2,
   "metadata": {
    "collapsed": true
   },
   "outputs": [],
   "source": [
    "# Extract the archive containing the templates, if it exists\n",
    "tartemplate = \"templates_H2O_HO-_CDFT.tgz\"\n",
    "if os.path.exists(tartemplate):\n",
    "    print(\"Extract {} to avoid calculating the templates.\".format(tartemplate))\n",
    "    with tarfile.open(tartemplate,\"r:bz2\") as tar:\n",
    "        tar.extractall()\n",
    "        \n",
    "# Extract the output files from an archive, if it exists\n",
    "tarname = 'H2O_HO-_CDFT.tgz'\n",
    "if os.path.exists(tarname):\n",
    "    print(\"Extract {} to avoid calculating every point of the dissociation curves.\".format(tarname))\n",
    "    with tarfile.open(tarname,\"r:bz2\") as tar:\n",
    "        tar.extractall()"
   ]
  },
  {
   "cell_type": "markdown",
   "metadata": {},
   "source": [
    "**Initialize some variables to get a clean tree of folders.**"
   ]
  },
  {
   "cell_type": "code",
   "execution_count": 3,
   "metadata": {
    "collapsed": true
   },
   "outputs": [],
   "source": [
    "# Path leading to the current folder\n",
    "start_path = os.getcwd() \n",
    "\n",
    "# Templates folder\n",
    "templates_folder = \"templates\" # Name\n",
    "templates_path = start_path+\"/\"+templates_folder # Path leading to it\n",
    "if not os.path.exists(templates_folder): os.mkdir(templates_folder)\n",
    "\n",
    "# Dimer folder, different from the water dimer case\n",
    "dimer_folder = \"H2O_HO-\" # Name\n",
    "dimer_path = start_path+\"/\"+dimer_folder # Path leading to it\n",
    "if not os.path.exists(dimer_folder): os.mkdir(dimer_folder)"
   ]
  },
  {
   "cell_type": "markdown",
   "metadata": {},
   "source": [
    "**Define the BigDFT variable allowing to run BigDFT from the present notebook**"
   ]
  },
  {
   "cell_type": "code",
   "execution_count": 4,
   "metadata": {
    "collapsed": true
   },
   "outputs": [],
   "source": [
    "BigDFT = os.environ[\"BIGDFT_ROOT\"]+\"/bigdft\"\n",
    "os.environ[\"OMP_NUM_THREADS\"]=\"4\" # Depends on your computer (compiled with OpenMP)"
   ]
  },
  {
   "cell_type": "markdown",
   "metadata": {},
   "source": [
    "## Templates calculations\n",
    "\n",
    "As said in the introduction of the present notebook, the templates needed for the present study should have already been computed using the previous notebooks about the water dimer and the water-hydroxide dimer.\n",
    "\n",
    "If this is not the case, you may use the function `run_bigdft`, that runs a BigDFT calculation only if it was not already computed (it also checks that the templates required to run the fragment calculation (if required) were already calculated using the `collect_templates_data` function, that copies this data in an appropriate folder)."
   ]
  },
  {
   "cell_type": "code",
   "execution_count": 5,
   "metadata": {
    "collapsed": true
   },
   "outputs": [],
   "source": [
    "# Define the functions allowing to run a BigDFT calculation\n",
    "def collect_templates_data(input_name, templates_dir):\n",
    "    \"\"\"\n",
    "    Function collecting the data of the templates required by the \n",
    "    input file input_name. Symbolic links to the input files \n",
    "    of the templates and a copy of the data-template folder is done. \n",
    "    The path to the templates data is given by templates_dir.\n",
    "\n",
    "    :param input_name: Name of the input file.\n",
    "    :type input_name: str\n",
    "    :param templates_dir: Path to the templates.\n",
    "    :type templates_dir: str\n",
    "    \"\"\"\n",
    "    from futile import Yaml\n",
    "    \n",
    "    # Read the input file to get the names of the required templates\n",
    "    input_file = Yaml.yaml.load(open(input_name, 'r').read())\n",
    "    templates = [template for template in input_file['frag'] \n",
    "                 if template != 'constrained_dft'] \n",
    "    \n",
    "    # Raise an error if a required template is missing from templates_dir\n",
    "    if templates_dir is None:\n",
    "        raise ValueError(\"A value should be given to templates_dir.\")\n",
    "        \n",
    "    # Find if some templates are missing in the templates folder\n",
    "    missing_templates = [template for template in templates \\\n",
    "                         if any([f not in os.listdir(templates_dir) \\\n",
    "                                 for f in ['data-'+template, template+\".yaml\", template+\".xyz\"]])]\n",
    "    if missing_templates != []:\n",
    "        raise ValueError(\"Missing template(s): {}\".format(missing_templates))\n",
    "        \n",
    "    # Create ang go to a folder containing the data of all the templates\n",
    "    data_folder = 'data-'+input_name[:-5]\n",
    "    if data_folder not in os.listdir(os.getcwd()): os.mkdir(data_folder)\n",
    "    os.chdir(data_folder)\n",
    "    \n",
    "    # Create the needed symlinks: data folder, and input and posinp files\n",
    "    for template in templates:\n",
    "        # Create the symlink to the template input files\n",
    "        for f in [template+\".yaml\", template+\".xyz\"]:\n",
    "            if f in os.listdir(os.getcwd()):\n",
    "                os.remove(f)\n",
    "            os.symlink(templates_path+\"/\"+f, f)\n",
    "        # Copy the whole data-template folder\n",
    "        data_template = 'data-'+template\n",
    "        shutil.copytree(templates_path+\"/\"+data_template, data_template)\n",
    "    \n",
    "    # Don't forget to go back to the previous folder\n",
    "    os.chdir(\"..\")\n",
    "\n",
    "\n",
    "def run_bigdft(yaml, xyz, prefix=None, templates_dir=None):\n",
    "    \"\"\"\n",
    "    This function runs a bigdft calculation if it was not already performed.\n",
    "    \n",
    "    :param prefix: Prefix of the calculation to define the input files.\n",
    "    :type prefix: str\n",
    "    :param yaml: Content of the input file\n",
    "    :type yaml: str\n",
    "    :param xyz: Content of the posinp file\n",
    "    :type xyz: str\n",
    "    :param templates_dir: For fragment calculation : path to the templates \n",
    "                          (optional, default to None).\n",
    "    :type templates_dir: str\n",
    "    \"\"\"\n",
    "    # Initialise some variables\n",
    "    if prefix is not None:\n",
    "        input_name  = prefix+\".yaml\"    # input file name\n",
    "        output_name = \"log-\"+input_name # output file name\n",
    "        posinp_name = prefix+\".xyz\"     # posinp file name\n",
    "        command = [BigDFT, prefix]\n",
    "    else:\n",
    "        input_name  = \"input.yaml\" # input file name\n",
    "        output_name = \"log.yaml\"   # output file name\n",
    "        posinp_name = \"posinp.xyz\" # posinp file name\n",
    "        command = [BigDFT]\n",
    "        \n",
    "    # Check that the calculation was not already done\n",
    "    if not os.path.exists(output_name):\n",
    "        # Write the input file\n",
    "        open(input_name, \"w\").write(yaml)\n",
    "        # Collect the data required for a fragment calculation\n",
    "        if \" frag:\" in yaml:\n",
    "            collect_templates_data(input_name, templates_dir)\n",
    "        # Write the posinp file\n",
    "        open(posinp_name, \"w\").write(xyz)\n",
    "        # Launch the calculation\n",
    "        print(command, \"...\")\n",
    "        run = subprocess.Popen(command, stdout=subprocess.PIPE, stderr=subprocess.PIPE)\n",
    "        out, err = run.communicate()\n",
    "        print(out)\n",
    "    else:\n",
    "        print(\"Logfile {} already exists!\".format(output_name))"
   ]
  },
  {
   "cell_type": "markdown",
   "metadata": {},
   "source": [
    "## Fragment calculations\n",
    "\n",
    "The fragment calculations using constrained DFT may now be run. \n",
    "\n",
    "Let us first define the input files. Note the last two lines of the yaml file, defining that a charge must be constrained on the second (*i.e.* OH) fragment."
   ]
  },
  {
   "cell_type": "code",
   "execution_count": 6,
   "metadata": {},
   "outputs": [
    {
     "name": "stdout",
     "output_type": "stream",
     "text": [
      " dft:\n",
      "   hgrids: 0.35\n",
      "   rmult: [5.0, 7.0]\n",
      "   inputpsiid: linear_restart\n",
      "   ixc: LDA (ABINIT)\n",
      "   qcharge: -1\n",
      " lin_general:\n",
      "   nit: 1\n",
      "   kernel_restart_mode: 1\n",
      "   calc_dipole: Yes\n",
      "   subspace_diag: Yes\n",
      " lin_basis:\n",
      "   nit: 1\n",
      " lin_kernel:\n",
      "   nit: [20,100]\n",
      "   alphamix: 0.3\n",
      "   rpnrm_cv: 1.0E-010\n",
      "   linear_method: FOE\n",
      " lin_basis_params:\n",
      "   O:\n",
      "     nbasis: 4\n",
      "     ao_confinement: 1.0E-002\n",
      "     confinement: [5.0E-003, 0.0]\n",
      "     rloc: 9.0\n",
      "     rloc_kernel: 12.0\n",
      "     rloc_kernel_foe: 14.0\n",
      "   H:\n",
      "     nbasis: 1\n",
      "     ao_confinement: 1.0E-002\n",
      "     confinement: [5.0E-003, 0.0]\n",
      "     rloc: 9.0\n",
      "     rloc_kernel: 12.0\n",
      "     rloc_kernel_foe: 14.0\n",
      " frag:\n",
      "   h2o:\n",
      "   - 1\n",
      "   ho:\n",
      "   - 2\n",
      "   constrained_dft:\n",
      "     Fragment No. 2: -1.0\n"
     ]
    }
   ],
   "source": [
    "def dimer_xyz(d):\n",
    "    x1 = d\n",
    "    x2 = d + 0.296831000000\n",
    "    d_xyz = \"\"\"\\\n",
    "5 angstroemd0\n",
    "free\n",
    "O            -0.931477999671            0.004547999723           -0.117331000086\n",
    "H            -1.355753693973           -0.032108553467            0.725181911626\n",
    "H            -0.003078395366            0.011003111969            0.053703839371\n",
    "O             {0:14.12f}           -0.003706000000            0.113495000000\n",
    "H             {1:14.12f}            0.762122000000           -0.351887000000\"\"\"\n",
    "    return d_xyz.format(x1,x2)\n",
    "\n",
    "def dimer_yaml(frag_names=[\"h2o\", \"ho\"], On=4, Hn=1):\n",
    "    return \"\"\"\\\n",
    " dft:\n",
    "   hgrids: 0.35\n",
    "   rmult: [5.0, 7.0]\n",
    "   inputpsiid: linear_restart\n",
    "   ixc: LDA (ABINIT)\n",
    "   qcharge: -1\n",
    " lin_general:\n",
    "   nit: 1\n",
    "   kernel_restart_mode: 1\n",
    "   calc_dipole: Yes\n",
    "   subspace_diag: Yes\n",
    " lin_basis:\n",
    "   nit: 1\n",
    " lin_kernel:\n",
    "   nit: [20,100]\n",
    "   alphamix: 0.3\n",
    "   rpnrm_cv: 1.0E-010\n",
    "   linear_method: FOE\n",
    " lin_basis_params:\n",
    "   O:\n",
    "     nbasis: {On}\n",
    "     ao_confinement: 1.0E-002\n",
    "     confinement: [5.0E-003, 0.0]\n",
    "     rloc: 9.0\n",
    "     rloc_kernel: 12.0\n",
    "     rloc_kernel_foe: 14.0\n",
    "   H:\n",
    "     nbasis: {Hn}\n",
    "     ao_confinement: 1.0E-002\n",
    "     confinement: [5.0E-003, 0.0]\n",
    "     rloc: 9.0\n",
    "     rloc_kernel: 12.0\n",
    "     rloc_kernel_foe: 14.0\n",
    " frag:\n",
    "   {name[0]}:\n",
    "   - 1\n",
    "   {name[1]}:\n",
    "   - 2\n",
    "   constrained_dft:\n",
    "     Fragment No. 2: -1.0\"\"\".format(name=frag_names, On=On, Hn=Hn)\n",
    "\n",
    "print(dimer_yaml())"
   ]
  },
  {
   "cell_type": "markdown",
   "metadata": {},
   "source": [
    "We then define the `run_setup` function to run BigDFT for a set of distances between the two water molecules. This allows to get a clean folder tree: for each distance, a folder is created, containg the input, output and templates files. All these distance folders are placed in a folder that is specific of the the setup."
   ]
  },
  {
   "cell_type": "code",
   "execution_count": 7,
   "metadata": {
    "collapsed": true
   },
   "outputs": [],
   "source": [
    "def run_setup(setup_folder, distances, yaml, xyz_func, templates_dir=None):\n",
    "    \"\"\"\n",
    "    Function that creates all the folders and files for a given setup.\n",
    "    A setup is defined by a folder name, created to store all the results\n",
    "    obtained using a given yaml file but for different distances.\n",
    "    It loops over all the distances to create a folder for each distance\n",
    "    and then is nothing but a wrapper over the run_bigdft method\n",
    "    \"\"\"\n",
    "    # - Create and go to the setup folder\n",
    "    if setup_folder not in os.listdir(os.getcwd()): os.mkdir(setup_folder)\n",
    "    os.chdir(setup_folder)\n",
    "    \n",
    "    # - Loop over the distances \n",
    "    #  (Both finally are here to make sure that the os.chdir(\"..\") command\n",
    "    #   is performed even if there is an interruption or an error.)\n",
    "    prefix = \"dimer\"\n",
    "    try:\n",
    "        for d in dists:\n",
    "            print(\"{}; dist={}\".format(setup_folder, d))\n",
    "            # - Create and go to a subfolder for the current distance\n",
    "            subfolder = prefix+\"_\"+str(d)\n",
    "            if subfolder not in os.listdir(os.getcwd()): os.mkdir(subfolder)\n",
    "            os.chdir(subfolder)\n",
    "            # - Run the calculation\n",
    "            try:\n",
    "                run_bigdft(yaml, xyz_func(d), prefix=prefix, \\\n",
    "                           templates_dir=templates_dir)\n",
    "            finally:\n",
    "                # This \"finally\" forces to go back to the dimer folder\n",
    "                # if the BigDFT run is not completed.\n",
    "                os.chdir(\"..\")\n",
    "    finally:\n",
    "        # This \"finally\" forces to go back to the dimer folder\n",
    "        # if the loop over the distances is not completed.\n",
    "        os.chdir(\"..\")"
   ]
  },
  {
   "cell_type": "markdown",
   "metadata": {},
   "source": [
    "We finally just need to go to the dimer folder and run the calculations for the different setups:"
   ]
  },
  {
   "cell_type": "code",
   "execution_count": 8,
   "metadata": {},
   "outputs": [
    {
     "name": "stdout",
     "output_type": "stream",
     "text": [
      "ho_1-4_CDFT; dist=5.0\n",
      "Logfile log-dimer.yaml already exists!\n",
      "ho_1-4_CDFT; dist=4.5\n",
      "Logfile log-dimer.yaml already exists!\n",
      "ho_1-4_CDFT; dist=4.0\n",
      "Logfile log-dimer.yaml already exists!\n",
      "ho_1-4_CDFT; dist=3.5\n",
      "Logfile log-dimer.yaml already exists!\n",
      "ho_1-4_CDFT; dist=3.4\n",
      "Logfile log-dimer.yaml already exists!\n",
      "ho_1-4_CDFT; dist=3.3\n",
      "Logfile log-dimer.yaml already exists!\n",
      "ho_1-4_CDFT; dist=3.2\n",
      "Logfile log-dimer.yaml already exists!\n",
      "ho_1-4_CDFT; dist=3.1\n",
      "Logfile log-dimer.yaml already exists!\n",
      "ho_1-4_CDFT; dist=3.0\n",
      "Logfile log-dimer.yaml already exists!\n",
      "ho_1-4_CDFT; dist=2.9\n",
      "Logfile log-dimer.yaml already exists!\n",
      "ho_1-4_CDFT; dist=2.8\n",
      "Logfile log-dimer.yaml already exists!\n",
      "ho_1-4_CDFT; dist=2.7\n",
      "Logfile log-dimer.yaml already exists!\n",
      "ho_1-4_CDFT; dist=2.6\n",
      "Logfile log-dimer.yaml already exists!\n",
      "ho_1-4_CDFT; dist=2.5\n",
      "Logfile log-dimer.yaml already exists!\n",
      "ho_1-4_CDFT; dist=2.4\n",
      "Logfile log-dimer.yaml already exists!\n",
      "ho_1-4_CDFT; dist=2.3\n",
      "Logfile log-dimer.yaml already exists!\n"
     ]
    }
   ],
   "source": [
    "# Go to the dimer folder\n",
    "os.chdir(dimer_path)\n",
    "\n",
    "# Array of distances\n",
    "dists = [5.0, 4.5, 4.0, 3.5, 3.4, 3.3, 3.2, 3.1, 3.0, 2.9, 2.8, 2.7, 2.6, 2.5, 2.4, 2.3]\n",
    "\n",
    "# Run the first setup\n",
    "run_setup(\"ho_1-4_CDFT\", dists, dimer_yaml(frag_names=[\"h2o\", \"ho\"]), \\\n",
    "          dimer_xyz, templates_dir=templates_path)"
   ]
  },
  {
   "cell_type": "markdown",
   "metadata": {},
   "source": [
    "Let us perform the same calculation for the HO$^−$ template:"
   ]
  },
  {
   "cell_type": "code",
   "execution_count": 9,
   "metadata": {},
   "outputs": [
    {
     "name": "stdout",
     "output_type": "stream",
     "text": [
      "ho-_1-4_CDFT; dist=5.0\n",
      "Logfile log-dimer.yaml already exists!\n",
      "ho-_1-4_CDFT; dist=4.5\n",
      "Logfile log-dimer.yaml already exists!\n",
      "ho-_1-4_CDFT; dist=4.0\n",
      "Logfile log-dimer.yaml already exists!\n",
      "ho-_1-4_CDFT; dist=3.5\n",
      "Logfile log-dimer.yaml already exists!\n",
      "ho-_1-4_CDFT; dist=3.4\n",
      "Logfile log-dimer.yaml already exists!\n",
      "ho-_1-4_CDFT; dist=3.3\n",
      "Logfile log-dimer.yaml already exists!\n",
      "ho-_1-4_CDFT; dist=3.2\n",
      "Logfile log-dimer.yaml already exists!\n",
      "ho-_1-4_CDFT; dist=3.1\n",
      "Logfile log-dimer.yaml already exists!\n",
      "ho-_1-4_CDFT; dist=3.0\n",
      "Logfile log-dimer.yaml already exists!\n",
      "ho-_1-4_CDFT; dist=2.9\n",
      "Logfile log-dimer.yaml already exists!\n",
      "ho-_1-4_CDFT; dist=2.8\n",
      "Logfile log-dimer.yaml already exists!\n",
      "ho-_1-4_CDFT; dist=2.7\n",
      "Logfile log-dimer.yaml already exists!\n",
      "ho-_1-4_CDFT; dist=2.6\n",
      "Logfile log-dimer.yaml already exists!\n",
      "ho-_1-4_CDFT; dist=2.5\n",
      "Logfile log-dimer.yaml already exists!\n",
      "ho-_1-4_CDFT; dist=2.4\n",
      "Logfile log-dimer.yaml already exists!\n",
      "ho-_1-4_CDFT; dist=2.3\n",
      "Logfile log-dimer.yaml already exists!\n"
     ]
    }
   ],
   "source": [
    "run_setup(\"ho-_1-4_CDFT\", dists, dimer_yaml(frag_names=[\"h2o\", \"ho-\"]), \\\n",
    "          dimer_xyz, templates_dir=templates_path)"
   ]
  },
  {
   "cell_type": "markdown",
   "metadata": {},
   "source": [
    "The values of nbasis is then increased for both templates, starting with 2 and 5 support functions per hydrogen and oxygen atom, respectively:"
   ]
  },
  {
   "cell_type": "code",
   "execution_count": 10,
   "metadata": {},
   "outputs": [
    {
     "name": "stdout",
     "output_type": "stream",
     "text": [
      "ho_2-5_CDFT; dist=5.0\n",
      "Logfile log-dimer.yaml already exists!\n",
      "ho_2-5_CDFT; dist=4.5\n",
      "Logfile log-dimer.yaml already exists!\n",
      "ho_2-5_CDFT; dist=4.0\n",
      "Logfile log-dimer.yaml already exists!\n",
      "ho_2-5_CDFT; dist=3.5\n",
      "Logfile log-dimer.yaml already exists!\n",
      "ho_2-5_CDFT; dist=3.4\n",
      "Logfile log-dimer.yaml already exists!\n",
      "ho_2-5_CDFT; dist=3.3\n",
      "Logfile log-dimer.yaml already exists!\n",
      "ho_2-5_CDFT; dist=3.2\n",
      "Logfile log-dimer.yaml already exists!\n",
      "ho_2-5_CDFT; dist=3.1\n",
      "Logfile log-dimer.yaml already exists!\n",
      "ho_2-5_CDFT; dist=3.0\n",
      "Logfile log-dimer.yaml already exists!\n",
      "ho_2-5_CDFT; dist=2.9\n",
      "Logfile log-dimer.yaml already exists!\n",
      "ho_2-5_CDFT; dist=2.8\n",
      "Logfile log-dimer.yaml already exists!\n",
      "ho_2-5_CDFT; dist=2.5\n",
      "Logfile log-dimer.yaml already exists!\n"
     ]
    }
   ],
   "source": [
    "# Occupation block\n",
    "ig_25_yaml = \"\"\"\n",
    " ig_occupation:\n",
    "   H:\n",
    "     1s: 1.0\n",
    "     2s: 0.0\n",
    "   O:\n",
    "     2s: 2.0\n",
    "     2p: [4/3, 4/3, 4/3]\n",
    "     3s: 0.0\"\"\"\n",
    "\n",
    "# Array of distances\n",
    "dists = [5.0, 4.5, 4.0, 3.5, 3.4, 3.3, 3.2, 3.1, 3.0, 2.9, 2.8, 2.5]\n",
    "\n",
    "oh_25_yaml = dimer_yaml(frag_names=[\"h2o_25\", \"ho_25\"], On=5, Hn=2)+ig_25_yaml\n",
    "run_setup(\"ho_2-5_CDFT\", dists, oh_25_yaml, \\\n",
    "          dimer_xyz, templates_dir=templates_path)"
   ]
  },
  {
   "cell_type": "code",
   "execution_count": 11,
   "metadata": {},
   "outputs": [
    {
     "name": "stdout",
     "output_type": "stream",
     "text": [
      "ho-_2-5_CDFT; dist=5.0\n",
      "Logfile log-dimer.yaml already exists!\n",
      "ho-_2-5_CDFT; dist=4.5\n",
      "Logfile log-dimer.yaml already exists!\n",
      "ho-_2-5_CDFT; dist=4.0\n",
      "Logfile log-dimer.yaml already exists!\n",
      "ho-_2-5_CDFT; dist=3.5\n",
      "Logfile log-dimer.yaml already exists!\n",
      "ho-_2-5_CDFT; dist=3.4\n",
      "Logfile log-dimer.yaml already exists!\n",
      "ho-_2-5_CDFT; dist=3.3\n",
      "Logfile log-dimer.yaml already exists!\n",
      "ho-_2-5_CDFT; dist=3.2\n",
      "Logfile log-dimer.yaml already exists!\n",
      "ho-_2-5_CDFT; dist=3.1\n",
      "Logfile log-dimer.yaml already exists!\n",
      "ho-_2-5_CDFT; dist=3.0\n",
      "Logfile log-dimer.yaml already exists!\n",
      "ho-_2-5_CDFT; dist=2.9\n",
      "Logfile log-dimer.yaml already exists!\n",
      "ho-_2-5_CDFT; dist=2.8\n",
      "Logfile log-dimer.yaml already exists!\n",
      "ho-_2-5_CDFT; dist=2.5\n",
      "Logfile log-dimer.yaml already exists!\n"
     ]
    }
   ],
   "source": [
    "ohm_25_yaml = dimer_yaml(frag_names=[\"h2o_25\", \"ho-_25\"], On=5, Hn=2)+ig_25_yaml\n",
    "run_setup(\"ho-_2-5_CDFT\", dists, ohm_25_yaml, \\\n",
    "          dimer_xyz, templates_dir=templates_path)"
   ]
  },
  {
   "cell_type": "markdown",
   "metadata": {},
   "source": [
    "The last two setups use 5 and 8 support functions per hydrogen and oxygen atom, respectively: "
   ]
  },
  {
   "cell_type": "code",
   "execution_count": 12,
   "metadata": {},
   "outputs": [
    {
     "name": "stdout",
     "output_type": "stream",
     "text": [
      "ho_5-8_CDFT; dist=5.0\n",
      "Logfile log-dimer.yaml already exists!\n",
      "ho_5-8_CDFT; dist=4.5\n",
      "Logfile log-dimer.yaml already exists!\n",
      "ho_5-8_CDFT; dist=4.0\n",
      "Logfile log-dimer.yaml already exists!\n",
      "ho_5-8_CDFT; dist=3.5\n",
      "Logfile log-dimer.yaml already exists!\n",
      "ho_5-8_CDFT; dist=3.4\n",
      "Logfile log-dimer.yaml already exists!\n",
      "ho_5-8_CDFT; dist=3.3\n",
      "Logfile log-dimer.yaml already exists!\n",
      "ho_5-8_CDFT; dist=3.2\n",
      "Logfile log-dimer.yaml already exists!\n",
      "ho_5-8_CDFT; dist=3.1\n",
      "Logfile log-dimer.yaml already exists!\n",
      "ho_5-8_CDFT; dist=3.0\n",
      "Logfile log-dimer.yaml already exists!\n"
     ]
    }
   ],
   "source": [
    "# Occupation block\n",
    "ig_58_yaml = \"\"\"\n",
    " ig_occupation:\n",
    "   H:\n",
    "     1s: 1.0\n",
    "     2s: 0.0\n",
    "     2p: [0., 0., 0.]\n",
    "   O:\n",
    "     2s: 2.0\n",
    "     2p: [4/3, 4/3, 4/3]\n",
    "     3s: 0.0\n",
    "     3p: [0., 0., 0.]\"\"\"\n",
    "\n",
    "# Reduced set of distances\n",
    "dists = [5.0, 4.5, 4.0, 3.5, 3.4, 3.3, 3.2, 3.1, 3.0]\n",
    "\n",
    "oh_58_yaml = dimer_yaml(frag_names=[\"h2o_58\", \"ho_58\"], On=8, Hn=5)+ig_58_yaml\n",
    "run_setup(\"ho_5-8_CDFT\", dists, oh_58_yaml, \\\n",
    "          dimer_xyz, templates_dir=templates_path)"
   ]
  },
  {
   "cell_type": "code",
   "execution_count": 13,
   "metadata": {},
   "outputs": [
    {
     "name": "stdout",
     "output_type": "stream",
     "text": [
      "ho-_5-8_CDFT; dist=5.0\n",
      "Logfile log-dimer.yaml already exists!\n",
      "ho-_5-8_CDFT; dist=4.5\n",
      "Logfile log-dimer.yaml already exists!\n",
      "ho-_5-8_CDFT; dist=4.0\n",
      "Logfile log-dimer.yaml already exists!\n",
      "ho-_5-8_CDFT; dist=3.5\n",
      "Logfile log-dimer.yaml already exists!\n",
      "ho-_5-8_CDFT; dist=3.4\n",
      "Logfile log-dimer.yaml already exists!\n",
      "ho-_5-8_CDFT; dist=3.3\n",
      "Logfile log-dimer.yaml already exists!\n",
      "ho-_5-8_CDFT; dist=3.2\n",
      "Logfile log-dimer.yaml already exists!\n",
      "ho-_5-8_CDFT; dist=3.1\n",
      "Logfile log-dimer.yaml already exists!\n",
      "ho-_5-8_CDFT; dist=3.0\n",
      "Logfile log-dimer.yaml already exists!\n"
     ]
    }
   ],
   "source": [
    "oh_58_yaml = dimer_yaml(frag_names=[\"h2o_58\", \"ho-_58\"], On=8, Hn=5)+ig_58_yaml\n",
    "run_setup(\"ho-_5-8_CDFT\", dists, oh_58_yaml, \\\n",
    "          dimer_xyz, templates_dir=templates_path)"
   ]
  },
  {
   "cell_type": "markdown",
   "metadata": {},
   "source": [
    "## Dissociation curves\n",
    "\n",
    "Now that all the wanted setups using CDFT were run, let us collect the data (using the `find_data` function) and plot the dissociation curves:"
   ]
  },
  {
   "cell_type": "code",
   "execution_count": 14,
   "metadata": {
    "collapsed": true
   },
   "outputs": [],
   "source": [
    "def find_data(setup_folder, legend):\n",
    "    \"\"\"\n",
    "    Given a setup folder, find the logfiles in a given archive, \n",
    "    this function collects the data needed to plot\n",
    "    dissociation curves, e.g. distance vs energy.\n",
    "    The data is made of the distances between the two water \n",
    "    molecules and the total energies of the corresponding dimers.\n",
    "    A legendtitle is also added to the dictionnary, in order to \n",
    "    be used as legend for the plots.\n",
    "    \"\"\"\n",
    "    HatoeV = 27.211396132 #Hartree to eV conversion factor\n",
    "    print(legend)\n",
    "    data = {'legend': legend}\n",
    "    if os.path.exists(setup_folder):\n",
    "        try:\n",
    "            os.chdir(setup_folder)\n",
    "            paths = find_files(\"dimer_*/log-dimer.yaml\")\n",
    "            data['logfiles'] = [lf.Logfile(path) for path in paths]\n",
    "            ##data['logfiles'] = []\n",
    "            ##for path in paths:\n",
    "            ##    print(path)\n",
    "            ##    data['logfiles'] += lf.Logfile(path)\n",
    "        finally:\n",
    "            os.chdir(\"..\")\n",
    "    #print(paths)\n",
    "    if len(data['logfiles']) < 1:\n",
    "        raise ValueError(\"No logfiles found, try a new regexp.\")\n",
    "    # Find the distance between the two molecules\n",
    "    data['distances'] = [log.log['posinp']['positions'][3]['O'][0] \\\n",
    "                         for log in data['logfiles']]\n",
    "    # Sort the logfiles according to the distances first\n",
    "    data['logfiles'] = [log for (dist, log) in \\\n",
    "                        sorted(zip(data['distances'], data['logfiles']))]\n",
    "    # Sort the distances\n",
    "    data['distances'] = sorted(data['distances'])\n",
    "    # The energies are listed for increasing distance\n",
    "    data['energies'] = [log.energy for log in data['logfiles']]\n",
    "    # Shift the energies and convert them to eV\n",
    "    ref = data['energies'][-1] #reference value at large distance\n",
    "    data['energies'] = [HatoeV * (e - ref) for e in data['energies']]\n",
    "    \n",
    "    return data"
   ]
  },
  {
   "cell_type": "code",
   "execution_count": 15,
   "metadata": {},
   "outputs": [
    {
     "name": "stdout",
     "output_type": "stream",
     "text": [
      "HO fragment (1, 4)\n",
      "HO$^-$ fragment (1, 4)\n",
      "HO fragment (2, 5)\n",
      "HO$^-$ fragment (2, 5)\n",
      "HO fragment (5, 8)\n",
      "HO$^-$ fragment (5, 8)\n",
      "Cubic\n"
     ]
    }
   ],
   "source": [
    "setups = [\"ho_1-4_CDFT\", \"ho-_1-4_CDFT\", \\\n",
    "          \"ho_2-5_CDFT\", \"ho-_2-5_CDFT\", \\\n",
    "          \"ho_5-8_CDFT\", \"ho-_5-8_CDFT\", \"cubic\"]\n",
    "legends = ['HO fragment (1, 4)', 'HO$^-$ fragment (1, 4)', \\\n",
    "           'HO fragment (2, 5)', 'HO$^-$ fragment (2, 5)', \\\n",
    "           'HO fragment (5, 8)', 'HO$^-$ fragment (5, 8)', 'Cubic']\n",
    "curves = [find_data(setup, legends[i]) for i, setup in enumerate(setups)]"
   ]
  },
  {
   "cell_type": "markdown",
   "metadata": {},
   "source": [
    "Finally, present the plot using matplotlib:"
   ]
  },
  {
   "cell_type": "code",
   "execution_count": 16,
   "metadata": {},
   "outputs": [
    {
     "data": {
      "image/png": "[encoded data removed]",
      "text/plain": [
       "<matplotlib.figure.Figure at 0x119471150>"
      ]
     },
     "metadata": {},
     "output_type": "display_data"
    }
   ],
   "source": [
    "# Lists of markers and colors (for matplotlib)\n",
    "colors = ['#74a9cf']*2 + ['#2b8cbe']*2 + ['#045a8d']*2 + ['#b2182b']\n",
    "markers = ['o', 's']*3 + ['o']\n",
    "size = [8]*len(colors)\n",
    "\n",
    "# Plot with matplotlib\n",
    "plt.figure(figsize=(8,5))\n",
    "for i, data in enumerate(curves):\n",
    "    plt.plot(data['distances'], data['energies'], marker=markers[i], \n",
    "             ls='-', label=data['legend'], color=colors[i], ms=size[i])\n",
    "plt.ylim([-1.25, 0.1])\n",
    "plt.xlim([1.0, 5.0])\n",
    "plt.xlabel('$R$ ($\\AA$)')\n",
    "plt.ylabel('$E-E_{ref}$ (eV)')\n",
    "plt.title('Dissociation energy of the water dimer')\n",
    "plt.legend()\n",
    "plt.show()"
   ]
  },
  {
   "cell_type": "markdown",
   "metadata": {},
   "source": [
    "The problem here is the following: since constraining the extra electron to remain on the HO fragment only, it forbids this extra charge to be localized on the support functions of the water molecule. \n",
    "Therefore :\n",
    "\n",
    "* For large distances, there are no differences, because there is no or little overlap between the support functions of both fragments, the cubic dissociation curve is therefore well-reproduced.\n",
    "\n",
    "* For short distances, on the other hand, this overlap between the support functions of both fragments becomes important: it gets very difficult to constrain the extra charge on just one fragment. This is the reason why there are so many fluctuations of the energy at short distances: it is not possible to find a minumum of the energy with such a constraint. This explains the difficulties for reaching convergence (the computation time explodes) and why this is even worse for larger nbasis parameters (since the support functions have larger extensions, the overlap is larger for shorter distances)."
   ]
  },
  {
   "cell_type": "code",
   "execution_count": null,
   "metadata": {
    "collapsed": true
   },
   "outputs": [],
   "source": []
  }
 ],
 "metadata": {
  "kernelspec": {
   "display_name": "Python 2",
   "language": "python",
   "name": "python2"
  },
  "language_info": {
   "codemirror_mode": {
    "name": "ipython",
    "version": 2
   },
   "file_extension": ".py",
   "mimetype": "text/x-python",
   "name": "python",
   "nbconvert_exporter": "python",
   "pygments_lexer": "ipython2",
   "version": "2.7.10"
  }
 },
 "nbformat": 4,
 "nbformat_minor": 2
}
