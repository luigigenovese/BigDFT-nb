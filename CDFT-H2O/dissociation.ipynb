{
 "cells": [
  {
   "cell_type": "markdown",
   "metadata": {
    "deletable": true,
    "editable": true
   },
   "source": [
    "# Dissociation of a water dimer with BigDFT"
   ]
  },
  {
   "cell_type": "markdown",
   "metadata": {
    "deletable": true,
    "editable": true
   },
   "source": [
    "This notebook is divided in two parts. \n",
    "\n",
    "The first one presents how to obtain the last figure presented in the BigDFT tutorial on the dissociation of a water dimer using the fragment approach with a jupyter notebook.\n",
    "\n",
    "The second part is about comparing the results obtained for a similar system, where a water molecule has been replaced by a OH molecule, and a charge added to the system (this charge may be constrained)."
   ]
  },
  {
   "cell_type": "markdown",
   "metadata": {},
   "source": [
    "###### First, let the notebook be aware of the BigDFT module\n",
    "To do that the simplest way is to source the bigdftvars.sh script as indicated in the [corresponding webpage](http://bigdft.org/Wiki/index.php?title=Prepare_the_environment) of BigDFT website. So if you did not do so, reopen the notebook server in the correct environment.\n"
   ]
  },
  {
   "cell_type": "code",
   "execution_count": 6,
   "metadata": {
    "collapsed": false,
    "deletable": true,
    "editable": true
   },
   "outputs": [],
   "source": [
    "from BigDFT import Logfiles as lf \n",
    "from futile import Yaml\n",
    "import tarfile\n",
    "#for interactive plots remove the following line\n",
    "%matplotlib inline "
   ]
  },
  {
   "cell_type": "markdown",
   "metadata": {},
   "source": [
    "#### Now let us open the tarfile of all the recent calculations.\n",
    "To to that is is enough to identify the tarfile with the log and the regular expression needed to classify them."
   ]
  },
  {
   "cell_type": "code",
   "execution_count": 10,
   "metadata": {
    "collapsed": false
   },
   "outputs": [],
   "source": [
    "#function to identify an archive out of its regexp, solves the bug in re for '*' (solved in Python 2.7.6)\n",
    "def get_re(archive,re):\n",
    "    \"This function retrieves the list of Logfiles instances from the file archived satisfying a regular expression\"\n",
    "    result=[]\n",
    "    for f in archive.getnames():\n",
    "        isthere=True\n",
    "        for pattern in re.split('*'):\n",
    "            isthere = isthere and (pattern in f)\n",
    "        if isthere: \n",
    "            filetar=archive.extractfile(f)\n",
    "            content=filetar.read()\n",
    "            dictionary=Yaml.load(stream=content)\n",
    "            result.append(lf.Logfile(dictionary=dictionary))\n",
    "    return result"
   ]
  },
  {
   "cell_type": "markdown",
   "metadata": {
    "deletable": true,
    "editable": true
   },
   "source": [
    "## Dissociation of a water dimer : the BigDFT fragment tutorial"
   ]
  },
  {
   "cell_type": "markdown",
   "metadata": {},
   "source": [
    "We have put in the tarfile 'dissociation.tar.gz' the archive of all the logfiles which have been used for the present study. Let us now extract the files corresponding to each of the run classes."
   ]
  },
  {
   "cell_type": "code",
   "execution_count": 11,
   "metadata": {
    "collapsed": true
   },
   "outputs": [],
   "source": [
    "archive=tarfile.open('dissociation.tar.gz')\n",
    "# pattern to identify the files corresponding to the different calculations\n",
    "log_re={'cubic': \"*/H2O/*cubic*/dimer*/log-*yaml\",\n",
    "        'fragment': \"*/H2O/fragment_1-4/dimer*/log-*yaml\",\n",
    "        'linear': \"*/H2O/linear_1-4/dimer*/log-*yaml\"}"
   ]
  },
  {
   "cell_type": "code",
   "execution_count": 12,
   "metadata": {
    "collapsed": false,
    "deletable": true,
    "editable": true
   },
   "outputs": [],
   "source": [
    "# Find the logfiles locations\n",
    "log_files={t: get_re(archive,log_re[t]) for t in log_re}"
   ]
  },
  {
   "cell_type": "code",
   "execution_count": 24,
   "metadata": {
    "collapsed": false
   },
   "outputs": [],
   "source": [
    "def distance(ats,pos):\n",
    "    \"Calculate the distance between two atoms in the logfile, providing the id\"\n",
    "    import numpy as np\n",
    "    vs=[]\n",
    "    for at in ats:\n",
    "        d=pos[at] #atom spec\n",
    "        e=d.keys()[0] #atom element\n",
    "        vs.append(np.array(d[e]))\n",
    "    dist=vs[0]-vs[1]\n",
    "    return np.sqrt(dist.dot(dist))"
   ]
  },
  {
   "cell_type": "code",
   "execution_count": 39,
   "metadata": {
    "collapsed": false,
    "deletable": true,
    "editable": true
   },
   "outputs": [],
   "source": [
    "# Find the energy given by each logfile\n",
    "# Find the distance between molecules defined from the atoms 2 and 3\n",
    "data={t: {'energies': [log.energy for log in log_files[t]],\n",
    "          'distances': [distance([2,3],log.astruct['Positions']) for log in log_files[t]]} for t in log_files}"
   ]
  },
  {
   "cell_type": "code",
   "execution_count": 60,
   "metadata": {
    "collapsed": false
   },
   "outputs": [
    {
     "data": {
      "text/plain": [
       "<matplotlib.legend.Legend at 0x7fd087ed1690>"
      ]
     },
     "execution_count": 60,
     "metadata": {},
     "output_type": "execute_result"
    },
    {
     "data": {
      "image/png": "[encoded data removed]",
      "text/plain": [
       "<matplotlib.figure.Figure at 0x7fd087ed1810>"
      ]
     },
     "metadata": {},
     "output_type": "display_data"
    }
   ],
   "source": [
    "from BigDFT import Fragments as F\n",
    "import matplotlib.pyplot as plt\n",
    "import numpy as np\n",
    "keys=[]\n",
    "fig, ax = plt.subplots()\n",
    "ax.set_xlim([1,6])\n",
    "for t in data:\n",
    "    xs=np.array(data[t]['distances'])\n",
    "    ys=np.array(data[t]['energies'])\n",
    "    reordered=np.argsort(xs)\n",
    "    ax.plot(xs[reordered],ys[reordered],label=t)\n",
    "ax.legend(loc='upper center', shadow=True, fontsize='large')\n",
    "#plt.plot(fragment_dist, fragment_en, 'o', linear_dist, linear_en, 's', cubic_dist, cubic_en, 'o')"
   ]
  }
 ],
 "metadata": {
  "kernelspec": {
   "display_name": "Python 2",
   "language": "python",
   "name": "python2"
  },
  "language_info": {
   "codemirror_mode": {
    "name": "ipython",
    "version": 2
   },
   "file_extension": ".py",
   "mimetype": "text/x-python",
   "name": "python",
   "nbconvert_exporter": "python",
   "pygments_lexer": "ipython2",
   "version": "2.7.6"
  }
 },
 "nbformat": 4,
 "nbformat_minor": 2
}
