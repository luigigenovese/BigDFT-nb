{
 "cells": [
  {
   "cell_type": "markdown",
   "metadata": {},
   "source": [
    "# Fragment calculation for a water dimer\n",
    "The aim of this lesson is to present how to do basic fragment calculations with BigDFT and explain how to do to basic calculations. It is recommended that you have read [the relevant papers in articles describing BigDFT](http://bigdft.org/Wiki/index.php?title=Articles_describing_BigDFT) and go through [the tutorials on linear-scaling BigDFT](http://bigdft.org/Wiki/index.php?title=Category:Tutorials) before beginning."
   ]
  },
  {
   "cell_type": "markdown",
   "metadata": {},
   "source": [
    "**Import useful modules and functions**"
   ]
  },
  {
   "cell_type": "code",
   "execution_count": 1,
   "metadata": {
    "collapsed": true
   },
   "outputs": [],
   "source": [
    "from __future__ import print_function\n",
    "import os\n",
    "import sys\n",
    "#import commands #Deprecated module, use subprocess instead\n",
    "import subprocess\n",
    "import shutil\n",
    "import tarfile\n",
    "from futile.Utils import find_files\n",
    "try:\n",
    "    from BigDFT import Logfiles as lf\n",
    "except ImportError:\n",
    "    sys.path.append('/Users/maximemoriniere/post-doc/bigdft/bigdft/bigdft/src/python')\n",
    "    from BigDFT import Logfiles as lf\n",
    "import matplotlib.pyplot as plt"
   ]
  },
  {
   "cell_type": "markdown",
   "metadata": {},
   "source": [
    "## Template calculation\n",
    "\n",
    "<img src=\"http://bigdft.org/images/1/19/H2o_dimer.png\">\n",
    "We consider the example of a water dimer with varying separation R between the molecules. Since we have two identical water molecules, they can both be represented by the same template fragment. The first step is therefore to generate the support functions for an isolated water molecule. We will use the following h2o.xyz and h2o.yaml input files: "
   ]
  },
  {
   "cell_type": "code",
   "execution_count": 2,
   "metadata": {
    "collapsed": true
   },
   "outputs": [],
   "source": [
    "h2o_xyz = \"\"\"\\\n",
    "3 angstroemd0\n",
    "free\n",
    "O            -0.931477999671            0.004547999723           -0.117331000086\n",
    "H            -1.355753693973           -0.032108553467            0.725181911626\n",
    "H            -0.003078395366            0.011003111969            0.053703839371\"\"\"\n",
    "\n",
    "h2o_yaml = \"\"\"\\\n",
    " import: linear\n",
    " dft:\n",
    "   hgrids: {hgrids}\n",
    "   rmult: [5.0, 7.0]\n",
    "   inputpsiid: linear\n",
    "   ixc: LDA (ABINIT)\n",
    " lin_general:\n",
    "   output_wf: 1\n",
    "   output_mat: 11\n",
    " lin_kernel:\n",
    "   alphamix: 0.3\n",
    "   linear_method: FOE\n",
    " lin_basis_params:\n",
    "   O:\n",
    "     nbasis: {On}\n",
    "     ao_confinement: 1.0E-002\n",
    "     confinement: [5.0E-003, 0.0]\n",
    "     rloc: 9.0\n",
    "     rloc_kernel: 12.0\n",
    "     rloc_kernel_foe: 14.0\n",
    "   H:\n",
    "     nbasis: {Hn}\n",
    "     ao_confinement: 1.0E-002\n",
    "     confinement: [5.0E-003, 0.0]\n",
    "     rloc: 9.0\n",
    "     rloc_kernel: 12.0\n",
    "     rloc_kernel_foe: 14.0\n",
    "\"\"\""
   ]
  },
  {
   "cell_type": "markdown",
   "metadata": {},
   "source": [
    "Note the non-zero values for output_wf and output_mat, which specify that the support functions and associated matrices be written to file. You should also observe that we have chosen a rather small value for hgrid, which will ensure a more accurate interpolation when the support functions are roto-translated.\n",
    "\n",
    "Fragment calculations require the template information to be in a sub-directory, so you should proceed to run BigDFT in the following manner: "
   ]
  },
  {
   "cell_type": "code",
   "execution_count": 3,
   "metadata": {
    "collapsed": true
   },
   "outputs": [],
   "source": [
    "# Define the variables to run a calculation\n",
    "BigDFT = os.environ[\"BIGDFT_ROOT\"]+\"/bigdft\"\n",
    "if not os.path.exists(BigDFT):\n",
    "    BigDFT = \"/Users/maximemoriniere/post-doc/bigdft/bigdft/build/bigdft/src/bigdft\"\n",
    "os.environ[\"OMP_NUM_THREADS\"]=\"4\" # Depends on your computer (compiled with OpenMP)"
   ]
  },
  {
   "cell_type": "code",
   "execution_count": 4,
   "metadata": {
    "collapsed": true
   },
   "outputs": [],
   "source": [
    "# Define the functions allowing to run a BigDFT calculation\n",
    "def collect_templates_data(input_name, templates_dir):\n",
    "    \"\"\"\n",
    "    Function collecting the data of the templates required by the \n",
    "    input file input_name. Symbolic links to the input files \n",
    "    of the templates and a copy of the data-template folder is done. \n",
    "    The path to the templates data is given by templates_dir.\n",
    "\n",
    "    :param input_name: Name of the input file.\n",
    "    :type input_name: str\n",
    "    :param templates_dir: Path to the templates.\n",
    "    :type templates_dir: str\n",
    "    \"\"\"\n",
    "    from futile import Yaml\n",
    "    \n",
    "    # Read the input file to get the names of the required templates\n",
    "    input_file = Yaml.yaml.load(open(input_name, 'r').read())\n",
    "    templates = [template for template in input_file['frag']]\n",
    "    \n",
    "    # Raise an error if a required template is missing from templates_dir\n",
    "    if templates_dir is None:\n",
    "        raise ValueError(\"A value should be given to templates_dir.\")\n",
    "        \n",
    "    # Find if some templates are missing in the templates folder\n",
    "    missing_templates = [template for template in templates \n",
    "                         if ['data-'+template, template+\".yaml\", template+\".xyz\"]\n",
    "                         not in os.listdir(templates_dir)]\n",
    "    try:\n",
    "        assert missing_templates == []\n",
    "    except AssertionError:\n",
    "        raise ValueError(\"Missing template(s): {}\".format(missing_templates))\n",
    "        \n",
    "    # Create ang go to a folder containing the data of all the templates\n",
    "    data_folder = 'data-'+input_name[:-5]\n",
    "    if data_folder not in os.listdir(os.getcwd()): os.mkdir(data_folder)\n",
    "    os.chdir(data_folder)\n",
    "    \n",
    "    # Create the needed symlinks: data folder, and input and posinp files\n",
    "    for template in templates:\n",
    "        # Create the symlink to the template input files\n",
    "        for f in [template+\".yaml\", template+\".xyz\"]:\n",
    "            if f in os.listdir(os.getcwd()):\n",
    "                os.remove(f)\n",
    "            os.symlink(templates_path+\"/\"+f, f)\n",
    "        # Copy the whole data-template folder\n",
    "        data_template = 'data-'+template\n",
    "        shutil.copytree(templates_path+\"/\"+data_template, data_template)\n",
    "    \n",
    "    # Don't forget to go back to the previous folder\n",
    "    os.chdir(\"..\")\n",
    "    \n",
    "def run_bigdft(yaml, xyz, prefix=None, templates_dir=None):\n",
    "    \"\"\"\n",
    "    This function runs a bigdft calculation if it was not already performed.\n",
    "    \n",
    "    :param prefix: Prefix of the calculation to define the input files.\n",
    "    :type prefix: str\n",
    "    :param yaml: Content of the input file\n",
    "    :type yaml: str\n",
    "    :param xyz: Content of the posinp file\n",
    "    :type xyz: str\n",
    "    :param templates_dir: For fragment calculation : path to the templates \n",
    "                          (optional, default to None).\n",
    "    :type templates_dir: str\n",
    "    \"\"\"\n",
    "    # Initialise some variables\n",
    "    if prefix is not None:\n",
    "        input_name  = prefix+\".yaml\"    # input file name\n",
    "        output_name = \"log-\"+input_name # output file name\n",
    "        posinp_name = prefix+\".xyz\"     # posinp file name\n",
    "        command = [BigDFT, prefix]\n",
    "    else:\n",
    "        input_name  = \"input.yaml\" # input file name\n",
    "        output_name = \"log.yaml\"   # output file name\n",
    "        posinp_name = \"posinp.xyz\" # posinp file name\n",
    "        command = [BigDFT]\n",
    "        \n",
    "    # Check that the calculation was not already done\n",
    "    if not os.path.exists(output_name):\n",
    "        # Write the input file\n",
    "        open(input_name, \"w\").write(yaml)\n",
    "        # Collect the data required for a fragment calculation\n",
    "        if \" frag:\" in yaml:\n",
    "            collect_templates_data(input_name, templates_dir)\n",
    "        # Write the posinp file\n",
    "        open(posinp_name, \"w\").write(xyz)\n",
    "        # Launch the calculation\n",
    "        print(prefix, command, \"...\")\n",
    "        run = subprocess.Popen(command, stdout=subprocess.PIPE, stderr=subprocess.PIPE)\n",
    "        out, err = run.communicate()\n",
    "        print(out)\n",
    "    else:\n",
    "        print(\"Logfile {} already exists!\".format(output_name))"
   ]
  },
  {
   "cell_type": "code",
   "execution_count": 5,
   "metadata": {},
   "outputs": [
    {
     "name": "stdout",
     "output_type": "stream",
     "text": [
      "h2o ['/Users/maximemoriniere/post-doc/bigdft/bigdft/build/bigdft/src/bigdft', 'h2o'] ...\n",
      " <BigDFT> log of the run will be written in logfile: ./log-h2o.yaml\n",
      "\n"
     ]
    }
   ],
   "source": [
    "# Initialize some names\n",
    "start_path = os.getcwd()       # Path to the current folder\n",
    "templates_folder = \"templates\" # Name of the templates folder\n",
    "templates_path = start_path+\"/\"+templates_folder # Path to the templates folder\n",
    "\n",
    "# Extract the output files from an archive\n",
    "tarname = 'H2O_dimer.tgz'\n",
    "if os.path.exists(tarname):\n",
    "    print(\"Extract {} to avoid calculating every point of the dissociation curves.\".format(tarname))\n",
    "    with tarfile.open(tarname,\"r:bz2\") as tar:\n",
    "        tar.extractall()\n",
    "\n",
    "# Extract the archive containing the templates, if it exists\n",
    "tartemplate = templates_folder+\".tgz\"\n",
    "if os.path.exists(tartemplate):\n",
    "    print(\"Extract {} to avoid calculating the templates.\".format(tarname))\n",
    "    with tarfile.open(tartemplate,\"r:bz2\") as tar:\n",
    "        tar.extractall()\n",
    "# Else, create the templates folder and compute one template\n",
    "else:\n",
    "    if templates_folder not in os.listdir(start_path):\n",
    "        os.mkdir(templates_folder)\n",
    "    os.chdir(templates_folder)\n",
    "    # Run the template of the H2O molecule\n",
    "    try:\n",
    "        template_yaml = h2o_yaml.format(hgrids=\"0.25\", Hn=\"1\", On=\"4\")\n",
    "        run_bigdft(template_yaml, h2o_xyz, prefix=\"h2o\")\n",
    "    finally:\n",
    "        os.chdir(\"..\")"
   ]
  },
  {
   "cell_type": "markdown",
   "metadata": {},
   "source": [
    "At the end of the calculation, you will notice that another directory data-h2o been created by BigDFT, which contains a number of files for the support functions and matrices. With these outputs, we can proceed to do a fragment calculation. "
   ]
  },
  {
   "cell_type": "markdown",
   "metadata": {},
   "source": [
    "## Fragment calculations\n",
    "We will consider three different scenarios for the dimer: \n",
    "* with the molecules at a short separation, \n",
    "* close to the equilibrium, and \n",
    "* far apart.\n",
    "\n",
    "Note that in each case, we keep the molecules rigid, with neither the isolated or dimer system in a fully relaxed state, as this is only intended to serve as a model system. We therefore have three position inputs: dimer_1.5.xyz, dimer_2.0.xyz and dimer_5.0.xyz: "
   ]
  },
  {
   "cell_type": "code",
   "execution_count": 6,
   "metadata": {},
   "outputs": [
    {
     "name": "stdout",
     "output_type": "stream",
     "text": [
      "6 angstroemd0\n",
      "free\n",
      "O            -0.931477999671            0.004547999723           -0.117331000086\n",
      "H            -1.355753693973           -0.032108553467            0.725181911626\n",
      "H            -0.003078395366            0.011003111969            0.053703839371\n",
      "O             1.500000000000           -0.003706000000            0.113495000000\n",
      "H             1.796831000000            0.762122000000           -0.351887000000\n",
      "H             1.773536000000           -0.747744000000           -0.399151000000\n"
     ]
    }
   ],
   "source": [
    "def dimer_xyz(d):\n",
    "    x1 = d\n",
    "    x2 = d + 0.296831000000\n",
    "    x3 = d + 0.273536000000\n",
    "    d_xyz = \"\"\"\\\n",
    "6 angstroemd0\n",
    "free\n",
    "O            -0.931477999671            0.004547999723           -0.117331000086\n",
    "H            -1.355753693973           -0.032108553467            0.725181911626\n",
    "H            -0.003078395366            0.011003111969            0.053703839371\n",
    "O             {0:14.12f}           -0.003706000000            0.113495000000\n",
    "H             {1:14.12f}            0.762122000000           -0.351887000000\n",
    "H             {2:14.12f}           -0.747744000000           -0.399151000000\"\"\"\n",
    "    return d_xyz.format(x1,x2,x3)\n",
    "\n",
    "dists = [1.5,2.0,5.0]\n",
    "print(dimer_xyz(dists[0]))"
   ]
  },
  {
   "cell_type": "markdown",
   "metadata": {},
   "source": [
    "We of course also need a *dimer.yaml* input file: "
   ]
  },
  {
   "cell_type": "code",
   "execution_count": 7,
   "metadata": {
    "collapsed": true
   },
   "outputs": [],
   "source": [
    "dimer_yaml = \"\"\"\\\n",
    " dft:\n",
    "   hgrids: 0.35\n",
    "   rmult: [5.0, 7.0]\n",
    "   inputpsiid: linear_restart\n",
    "   ixc: LDA (ABINIT)\n",
    " lin_general:\n",
    "   nit: 1\n",
    "   kernel_restart_mode: kernel\n",
    "   output_wf: 1\n",
    "   output_mat: 1\n",
    "   output_coeff: 1\n",
    "   calc_dipole: Yes\n",
    "   subspace_diag: Yes\n",
    " lin_basis:\n",
    "   nit: 1\n",
    " lin_kernel:\n",
    "   nit: [20,100]\n",
    "   alphamix: 0.3\n",
    "   rpnrm_cv: 1.0E-010\n",
    "   linear_method: FOE\n",
    " lin_basis_params:\n",
    "   O:\n",
    "     nbasis: {On}\n",
    "     ao_confinement: 1.0E-002\n",
    "     confinement: [5.0E-003, 0.0]\n",
    "     rloc: 9.0\n",
    "     rloc_kernel: 12.0\n",
    "     rloc_kernel_foe: 14.0\n",
    "   H:\n",
    "     nbasis: {Hn}\n",
    "     ao_confinement: 1.0E-002\n",
    "     confinement: [5.0E-003, 0.0]\n",
    "     rloc: 9.0\n",
    "     rloc_kernel: 12.0\n",
    "     rloc_kernel_foe: 14.0\n",
    "\"\"\"\n",
    "\n",
    "frag_yaml = \"\"\"\\\n",
    " frag:\n",
    "   {name}: [1, 2]\n",
    "\"\"\""
   ]
  },
  {
   "cell_type": "markdown",
   "metadata": {},
   "source": [
    "Compared to a standard linear-scaling calculation, there are not many big changes to the input. You will of course notice that we have specified that this is a restart calculation via the *inputpsiid* variable, and we have allowed for a large number of kernel iterations while **eliminating basis optimization by setting _nit_ to 1** in the *lin_basis* block.\n",
    "\n",
    "Most importantly, we have also **added a frag block**, which is where we we specify the number of fragments and their types. In this example it is straightforward, as we simply have two fragments of the same name. More complicated systems are of course also possible, as will be seen in later examples.\n",
    "\n",
    "**Exercise**: Using the above inputs, run fragment calculations for the three different coordinates. Make sure that you rename the files appropriately for each calculation, so that the **yaml, xyz and data** have the same label, either by copying files or using symbolic links **in this case the file _h2o.xyz_ and the directory _data-h2o_ into the directory _data-xxx_**.\n",
    "Also run all three systems without fragments; you can reuse the file for generating the template support functions if you change hgrids to 0.35 and switch off the output of the support functions and other associated quantities."
   ]
  },
  {
   "cell_type": "code",
   "execution_count": 8,
   "metadata": {
    "collapsed": true
   },
   "outputs": [],
   "source": [
    "def run_setup(folder, distances, yaml, xyz_func, templates_dir=None):\n",
    "    \"\"\"\n",
    "    Function that creates all the folders and files for a given setup.\n",
    "    A setup is defined by a folder name, created to store all the results\n",
    "    obtained using a given yaml file but for different distances.\n",
    "    It loops over all the distances to create a folder for each distance\n",
    "    and then is nothing but a wrapper over the run_bigdft method\n",
    "    \"\"\"\n",
    "    # - Create and go to the folder of the setup\n",
    "    if folder not in os.listdir(os.getcwd()): os.mkdir(folder)\n",
    "    os.chdir(folder)\n",
    "    \n",
    "    # - Loop over the distances \n",
    "    #  (Both finally are here to make sure that the os.chdir(\"..\") command\n",
    "    #   is performed even if there is an interruption or an error.)\n",
    "    prefix = \"dimer\"\n",
    "    try:\n",
    "        for d in dists:\n",
    "            print(folder, \"dist =\", d)\n",
    "            # - Create and go to a subfolder for the current distance\n",
    "            subfolder = prefix+\"_\"+str(d)\n",
    "            if subfolder not in os.listdir(os.getcwd()): os.mkdir(subfolder)\n",
    "            os.chdir(subfolder)\n",
    "            # - Run the calculation\n",
    "            try:\n",
    "                run_bigdft(yaml, xyz_func(d), prefix=prefix, \\\n",
    "                           templates_dir=templates_dir)\n",
    "            finally:\n",
    "                os.chdir(\"..\")\n",
    "    finally:\n",
    "        os.chdir(\"..\") "
   ]
  },
  {
   "cell_type": "code",
   "execution_count": 9,
   "metadata": {},
   "outputs": [
    {
     "name": "stdout",
     "output_type": "stream",
     "text": [
      "fragment_1-4 dist = 1.5\n",
      "Logfile log-dimer.yaml already exists!\n",
      "fragment_1-4 dist = 2.0\n",
      "Logfile log-dimer.yaml already exists!\n",
      "fragment_1-4 dist = 5.0\n",
      "Logfile log-dimer.yaml already exists!\n",
      "linear_1-4 dist = 1.5\n",
      "Logfile log-dimer.yaml already exists!\n",
      "linear_1-4 dist = 2.0\n",
      "Logfile log-dimer.yaml already exists!\n",
      "linear_1-4 dist = 5.0\n",
      "Logfile log-dimer.yaml already exists!\n"
     ]
    }
   ],
   "source": [
    "# Make sure to start from the right folder\n",
    "os.chdir(start_path) \n",
    "\n",
    "# Create and go to a folder that will contain different types of calculations\n",
    "dimer_folder = \"H2O_dimer\"\n",
    "dimer_path = start_path+\"/\"+dimer_folder\n",
    "if dimer_folder not in os.listdir(os.getcwd()): os.mkdir(dimer_folder)\n",
    "os.chdir(dimer_folder)\n",
    "\n",
    "# Fragments calculations:\n",
    "input_frag_yaml = dimer_yaml.format(Hn=\"1\", On=\"4\") + frag_yaml.format(name='h2o')\n",
    "run_setup(\"fragment_1-4\", dists, input_frag_yaml, dimer_xyz, \n",
    "          templates_dir=templates_path)\n",
    "\n",
    "# Linear calculations using hgrids=0.35:\n",
    "# - Use the same input file as the template with a larger hgrid,\n",
    "#   the posinp file being given by dimer_xyz.\n",
    "# - No templates to use: no need to define templates_dir in run_setup\n",
    "input_lin_yaml = h2o_yaml.format(hgrids=\"0.35\", Hn=\"1\", On=\"4\")\n",
    "run_setup(\"linear_1-4\", dists, input_lin_yaml, dimer_xyz)"
   ]
  },
  {
   "cell_type": "markdown",
   "metadata": {},
   "source": [
    "Compare the linear and fragment energies for the three different distances. You will notice that they are very similar for the large separation where the molecules are weakly interacting, with a moderate error for the equilibrium calculation and a very large error for the short distance. This is unsurprising, as the fragment approach is intended for well separated molecules and is expected to break down at small distances. In other terms, the basis set superposition error (BSSE) is large. When using the fragment approach it is therefore important to consider whether the approximation that it represents is valid in your case."
   ]
  },
  {
   "cell_type": "code",
   "execution_count": 10,
   "metadata": {},
   "outputs": [
    {
     "name": "stdout",
     "output_type": "stream",
     "text": [
      "fragment_1-4/dimer_1.3/log-dimer.yaml: -34.3271488376\n",
      "fragment_1-4/dimer_1.4/log-dimer.yaml: -34.3453064988\n",
      "fragment_1-4/dimer_1.5/log-dimer.yaml: -34.3565602129\n",
      "fragment_1-4/dimer_1.6/log-dimer.yaml: -34.3633710714\n",
      "fragment_1-4/dimer_1.7/log-dimer.yaml: -34.3671467526\n",
      "fragment_1-4/dimer_1.8/log-dimer.yaml: -34.3690889207\n",
      "fragment_1-4/dimer_1.9/log-dimer.yaml: -34.3697566824\n",
      "fragment_1-4/dimer_2.0/log-dimer.yaml: -34.3697461737\n",
      "fragment_1-4/dimer_2.1/log-dimer.yaml: -34.3692562092\n",
      "fragment_1-4/dimer_2.2/log-dimer.yaml: -34.3685822264\n",
      "fragment_1-4/dimer_2.3/log-dimer.yaml: -34.3677893991\n",
      "fragment_1-4/dimer_2.4/log-dimer.yaml: -34.3669863449\n",
      "fragment_1-4/dimer_2.5/log-dimer.yaml: -34.3662219449\n",
      "fragment_1-4/dimer_3.0/log-dimer.yaml: -34.3632988463\n",
      "fragment_1-4/dimer_3.5/log-dimer.yaml: -34.3617942524\n",
      "fragment_1-4/dimer_4.0/log-dimer.yaml: -34.3610317302\n",
      "fragment_1-4/dimer_4.5/log-dimer.yaml: -34.3605686241\n",
      "fragment_1-4/dimer_5.0/log-dimer.yaml: -34.3603330013\n",
      "linear_1-4/dimer_1.3/log-dimer.yaml: -34.3516347391\n",
      "linear_1-4/dimer_1.4/log-dimer.yaml: -34.3617670739\n",
      "linear_1-4/dimer_1.5/log-dimer.yaml: -34.3676625356\n",
      "linear_1-4/dimer_1.6/log-dimer.yaml: -34.3709228723\n",
      "linear_1-4/dimer_1.7/log-dimer.yaml: -34.3723431679\n",
      "linear_1-4/dimer_1.8/log-dimer.yaml: -34.3726975908\n",
      "linear_1-4/dimer_1.9/log-dimer.yaml: -34.3723413389\n",
      "linear_1-4/dimer_2.0/log-dimer.yaml: -34.3716662304\n",
      "linear_1-4/dimer_2.1/log-dimer.yaml: -34.3707309105\n",
      "linear_1-4/dimer_2.2/log-dimer.yaml: -34.369757383\n",
      "linear_1-4/dimer_2.3/log-dimer.yaml: -34.3687675516\n",
      "linear_1-4/dimer_2.4/log-dimer.yaml: -34.36782283\n",
      "linear_1-4/dimer_2.5/log-dimer.yaml: -34.3669625872\n",
      "linear_1-4/dimer_3.0/log-dimer.yaml: -34.3637779407\n",
      "linear_1-4/dimer_3.5/log-dimer.yaml: -34.3621558686\n",
      "linear_1-4/dimer_4.0/log-dimer.yaml: -34.3613473691\n",
      "linear_1-4/dimer_4.5/log-dimer.yaml: -34.3608575927\n",
      "linear_1-4/dimer_5.0/log-dimer.yaml: -34.3605949303\n"
     ]
    }
   ],
   "source": [
    "dimer_logs = find_files('*_1-4/dimer_*/log-dimer.yaml')\n",
    "for logfile in dimer_logs:\n",
    "    log = lf.Logfile(logfile)\n",
    "    print(logfile+\": \"+str(log.energy))"
   ]
  },
  {
   "cell_type": "markdown",
   "metadata": {},
   "source": [
    "## Increasing the basis\n",
    "\n",
    "Nonetheless, let us assume that in this case we insist on using the fragment approach. What can we do to improve the accuracy? One option is to increase the number of degrees of freedom by increasing the number of support functions per atom. Let's try adding another s-type support function to each atom. Returning to the template calculation:"
   ]
  },
  {
   "cell_type": "code",
   "execution_count": 11,
   "metadata": {
    "collapsed": true
   },
   "outputs": [],
   "source": [
    "# Go to the templates directory\n",
    "os.chdir(templates_path)"
   ]
  },
  {
   "cell_type": "markdown",
   "metadata": {},
   "source": [
    "Change nbasis to 2 for hydrogen and 5 for oxygen. Whenever we vary the number of support functions from the default values, we have to specify the electronic configuration. To do this, add the following block to the end of the input file: "
   ]
  },
  {
   "cell_type": "code",
   "execution_count": 12,
   "metadata": {
    "collapsed": true
   },
   "outputs": [],
   "source": [
    "# occupation block\n",
    "ig_25_yaml=\"\"\"\\\n",
    " ig_occupation:\n",
    "   H:\n",
    "     1s: 1.0\n",
    "     2s: 0.0\n",
    "   O:\n",
    "     2s: 2.0\n",
    "     2p: [4/3, 4/3, 4/3]\n",
    "     3s: 0.0\n",
    "\"\"\"\n",
    "\n",
    "# Define the input file:\n",
    "template_25_yaml = h2o_yaml.format(hgrids=\"0.25\", Hn=\"2\", On=\"5\") + ig_25_yaml"
   ]
  },
  {
   "cell_type": "markdown",
   "metadata": {},
   "source": [
    "Rerun the template calculation in the templates directory, copying the input files to h2o_25.yaml and h2o_25.xyz to avoid overwriting the previous template support functions. This will produce a directory called data-h2o_25 containing the relevant outputs. You will notice that the energy is virtually the same as for a smaller basis, as we already had enough degrees of freedom to represent the isolated molecule."
   ]
  },
  {
   "cell_type": "code",
   "execution_count": 13,
   "metadata": {},
   "outputs": [
    {
     "name": "stdout",
     "output_type": "stream",
     "text": [
      "Logfile log-h2o_25.yaml already exists!\n"
     ]
    }
   ],
   "source": [
    "# Run the template calculation\n",
    "run_bigdft(template_25_yaml, h2o_xyz, prefix=\"h2o_25\")"
   ]
  },
  {
   "cell_type": "markdown",
   "metadata": {},
   "source": [
    "We can now go back to the folder where we performed the first fragment calculations, to run a new setup of fragment calculations by modifying the fragment block. Do not forget to change both the values of nbasis in the input file and to add the occupation block at the end of the input file: "
   ]
  },
  {
   "cell_type": "code",
   "execution_count": 14,
   "metadata": {
    "collapsed": true
   },
   "outputs": [],
   "source": [
    "# Go to the dimer folder\n",
    "os.chdir(dimer_path)\n",
    "\n",
    "# Define the input file\n",
    "frag_25_yaml = frag_yaml.format(name='h2o_25') # Modify the fragment block\n",
    "input_25_yaml = dimer_yaml.format(Hn=\"2\", On=\"5\") + frag_25_yaml + ig_25_yaml"
   ]
  },
  {
   "cell_type": "markdown",
   "metadata": {},
   "source": [
    "Once we update these values, BigDFT should run successfully. Note that for rloc, we do not have to make sure the radii is the same as the template calculation, BigDFT will simply override the input value and detect the correct template radius. "
   ]
  },
  {
   "cell_type": "code",
   "execution_count": 15,
   "metadata": {},
   "outputs": [
    {
     "name": "stdout",
     "output_type": "stream",
     "text": [
      "fragment_2-5 dist = 1.5\n",
      "Logfile log-dimer.yaml already exists!\n",
      "fragment_2-5 dist = 2.0\n",
      "Logfile log-dimer.yaml already exists!\n",
      "fragment_2-5 dist = 5.0\n",
      "Logfile log-dimer.yaml already exists!\n"
     ]
    }
   ],
   "source": [
    "# Fragments calculations (2-5) for the three distances\n",
    "run_setup(\"fragment_2-5\", dists, input_25_yaml, dimer_xyz, \n",
    "          templates_dir=templates_path)"
   ]
  },
  {
   "cell_type": "markdown",
   "metadata": {},
   "source": [
    "## Exercise: \n",
    "\n",
    "Try increasing the number of support functions further. What happens to the energies? If you want some further practice, try more distances and see if you can reproduce the binding curve (see below).\n",
    "\n",
    "<img style=\"float: left;\", src=\"http://bigdft.org/images/b/b1/H2o_binding.png\">"
   ]
  },
  {
   "cell_type": "markdown",
   "metadata": {},
   "source": [
    "## Answer to the exercise\n",
    "First of all, we construct the array of te required distances."
   ]
  },
  {
   "cell_type": "code",
   "execution_count": 16,
   "metadata": {
    "collapsed": true
   },
   "outputs": [],
   "source": [
    "import numpy as np\n",
    "dists = [i for i in np.arange(1.3,2.5,0.1)] + [i for i in np.arange(2.5,5.5,0.5)]"
   ]
  },
  {
   "cell_type": "markdown",
   "metadata": {},
   "source": [
    "Now we run the fragment calculations with *nbasis=1* for hydrogen atoms and *nbasis=4* for oxygen atoms:"
   ]
  },
  {
   "cell_type": "code",
   "execution_count": 17,
   "metadata": {},
   "outputs": [
    {
     "name": "stdout",
     "output_type": "stream",
     "text": [
      "fragment_1-4 dist = 1.3\n",
      "Logfile log-dimer.yaml already exists!\n",
      "fragment_1-4 dist = 1.4\n",
      "Logfile log-dimer.yaml already exists!\n",
      "fragment_1-4 dist = 1.5\n",
      "Logfile log-dimer.yaml already exists!\n",
      "fragment_1-4 dist = 1.6\n",
      "Logfile log-dimer.yaml already exists!\n",
      "fragment_1-4 dist = 1.7\n",
      "Logfile log-dimer.yaml already exists!\n",
      "fragment_1-4 dist = 1.8\n",
      "Logfile log-dimer.yaml already exists!\n",
      "fragment_1-4 dist = 1.9\n",
      "Logfile log-dimer.yaml already exists!\n",
      "fragment_1-4 dist = 2.0\n",
      "Logfile log-dimer.yaml already exists!\n",
      "fragment_1-4 dist = 2.1\n",
      "Logfile log-dimer.yaml already exists!\n",
      "fragment_1-4 dist = 2.2\n",
      "Logfile log-dimer.yaml already exists!\n",
      "fragment_1-4 dist = 2.3\n",
      "Logfile log-dimer.yaml already exists!\n",
      "fragment_1-4 dist = 2.4\n",
      "Logfile log-dimer.yaml already exists!\n",
      "fragment_1-4 dist = 2.5\n",
      "Logfile log-dimer.yaml already exists!\n",
      "fragment_1-4 dist = 3.0\n",
      "Logfile log-dimer.yaml already exists!\n",
      "fragment_1-4 dist = 3.5\n",
      "Logfile log-dimer.yaml already exists!\n",
      "fragment_1-4 dist = 4.0\n",
      "Logfile log-dimer.yaml already exists!\n",
      "fragment_1-4 dist = 4.5\n",
      "Logfile log-dimer.yaml already exists!\n",
      "fragment_1-4 dist = 5.0\n",
      "Logfile log-dimer.yaml already exists!\n"
     ]
    }
   ],
   "source": [
    "run_setup(\"fragment_1-4\", dists, input_frag_yaml, dimer_xyz, \n",
    "          templates_dir=templates_path)"
   ]
  },
  {
   "cell_type": "markdown",
   "metadata": {},
   "source": [
    "The fragment calculations with *nbasis=2* for hydrogen atoms and *nbasis=5* for oxygen atoms are performed similarly:"
   ]
  },
  {
   "cell_type": "code",
   "execution_count": 18,
   "metadata": {},
   "outputs": [
    {
     "name": "stdout",
     "output_type": "stream",
     "text": [
      "fragment_2-5 dist = 1.3\n",
      "Logfile log-dimer.yaml already exists!\n",
      "fragment_2-5 dist = 1.4\n",
      "Logfile log-dimer.yaml already exists!\n",
      "fragment_2-5 dist = 1.5\n",
      "Logfile log-dimer.yaml already exists!\n",
      "fragment_2-5 dist = 1.6\n",
      "Logfile log-dimer.yaml already exists!\n",
      "fragment_2-5 dist = 1.7\n",
      "Logfile log-dimer.yaml already exists!\n",
      "fragment_2-5 dist = 1.8\n",
      "Logfile log-dimer.yaml already exists!\n",
      "fragment_2-5 dist = 1.9\n",
      "Logfile log-dimer.yaml already exists!\n",
      "fragment_2-5 dist = 2.0\n",
      "Logfile log-dimer.yaml already exists!\n",
      "fragment_2-5 dist = 2.1\n",
      "Logfile log-dimer.yaml already exists!\n",
      "fragment_2-5 dist = 2.2\n",
      "Logfile log-dimer.yaml already exists!\n",
      "fragment_2-5 dist = 2.3\n",
      "Logfile log-dimer.yaml already exists!\n",
      "fragment_2-5 dist = 2.4\n",
      "Logfile log-dimer.yaml already exists!\n",
      "fragment_2-5 dist = 2.5\n",
      "Logfile log-dimer.yaml already exists!\n",
      "fragment_2-5 dist = 3.0\n",
      "Logfile log-dimer.yaml already exists!\n",
      "fragment_2-5 dist = 3.5\n",
      "Logfile log-dimer.yaml already exists!\n",
      "fragment_2-5 dist = 4.0\n",
      "Logfile log-dimer.yaml already exists!\n",
      "fragment_2-5 dist = 4.5\n",
      "Logfile log-dimer.yaml already exists!\n",
      "fragment_2-5 dist = 5.0\n",
      "Logfile log-dimer.yaml already exists!\n"
     ]
    }
   ],
   "source": [
    "run_setup(\"fragment_2-5\", dists, input_25_yaml, dimer_xyz, \n",
    "          templates_dir=templates_path)"
   ]
  },
  {
   "cell_type": "markdown",
   "metadata": {},
   "source": [
    "We now want to perform fragment calculations with *nbasis=5* for hydrogen atoms and *nbasis=8* for oxygen atoms. The first step is to run the template with the according nbasis values. Don't forget to change the occupation block."
   ]
  },
  {
   "cell_type": "code",
   "execution_count": 19,
   "metadata": {},
   "outputs": [
    {
     "name": "stdout",
     "output_type": "stream",
     "text": [
      "Logfile log-h2o_58.yaml already exists!\n"
     ]
    }
   ],
   "source": [
    "# Go to the templates directory\n",
    "os.chdir(templates_path)\n",
    "\n",
    "# Define the input file (with a new occupation block)\n",
    "ig_58_yaml=\"\"\"\\\n",
    " ig_occupation:\n",
    "   H:\n",
    "     1s: 1.0\n",
    "     2s: 0.0\n",
    "     2p: [0., 0., 0.]\n",
    "   O:\n",
    "     2s: 2.0\n",
    "     2p: [4/3, 4/3, 4/3]\n",
    "     3s: 0.0\n",
    "     3p: [0., 0., 0.]\n",
    "\"\"\"\n",
    "input_yaml = h2o_yaml.format(hgrids=\"0.25\", Hn=\"5\", On=\"8\") + ig_58_yaml\n",
    "\n",
    "# Run the calculation\n",
    "run_bigdft(input_yaml, h2o_xyz, prefix=\"h2o_58\")"
   ]
  },
  {
   "cell_type": "markdown",
   "metadata": {},
   "source": [
    "The fragment calculation can now be performed. Don't forget to use modify the fragment block and to use the new occupation block:"
   ]
  },
  {
   "cell_type": "code",
   "execution_count": 20,
   "metadata": {},
   "outputs": [
    {
     "name": "stdout",
     "output_type": "stream",
     "text": [
      "fragment_5-8 dist = 1.3\n",
      "Logfile log-dimer.yaml already exists!\n",
      "fragment_5-8 dist = 1.4\n",
      "Logfile log-dimer.yaml already exists!\n",
      "fragment_5-8 dist = 1.5\n",
      "Logfile log-dimer.yaml already exists!\n",
      "fragment_5-8 dist = 1.6\n",
      "Logfile log-dimer.yaml already exists!\n",
      "fragment_5-8 dist = 1.7\n",
      "Logfile log-dimer.yaml already exists!\n",
      "fragment_5-8 dist = 1.8\n",
      "Logfile log-dimer.yaml already exists!\n",
      "fragment_5-8 dist = 1.9\n",
      "Logfile log-dimer.yaml already exists!\n",
      "fragment_5-8 dist = 2.0\n",
      "Logfile log-dimer.yaml already exists!\n",
      "fragment_5-8 dist = 2.1\n",
      "Logfile log-dimer.yaml already exists!\n",
      "fragment_5-8 dist = 2.2\n",
      "Logfile log-dimer.yaml already exists!\n",
      "fragment_5-8 dist = 2.3\n",
      "Logfile log-dimer.yaml already exists!\n",
      "fragment_5-8 dist = 2.4\n",
      "Logfile log-dimer.yaml already exists!\n",
      "fragment_5-8 dist = 2.5\n",
      "Logfile log-dimer.yaml already exists!\n",
      "fragment_5-8 dist = 3.0\n",
      "Logfile log-dimer.yaml already exists!\n",
      "fragment_5-8 dist = 3.5\n",
      "Logfile log-dimer.yaml already exists!\n",
      "fragment_5-8 dist = 4.0\n",
      "Logfile log-dimer.yaml already exists!\n",
      "fragment_5-8 dist = 4.5\n",
      "Logfile log-dimer.yaml already exists!\n",
      "fragment_5-8 dist = 5.0\n",
      "Logfile log-dimer.yaml already exists!\n"
     ]
    }
   ],
   "source": [
    "# Go back to the dimer directory\n",
    "os.chdir(dimer_path) \n",
    "\n",
    "# Define the input file (with the new fragment and occupation blocks)\n",
    "frag_58_yaml = frag_yaml.format(name='h2o_28')\n",
    "input_58_yaml = dimer_yaml.format(Hn=\"5\", On=\"8\") + frag_58_yaml + ig_58_yaml\n",
    "\n",
    "# Then run the setup for all distances -- 15 calculations to be done \n",
    "run_setup(\"fragment_5-8\", dists, input_58_yaml, dimer_xyz, \n",
    "          templates_dir=templates_path)"
   ]
  },
  {
   "cell_type": "markdown",
   "metadata": {},
   "source": [
    "We also have to perform the linear calculations for all the distances:"
   ]
  },
  {
   "cell_type": "code",
   "execution_count": 21,
   "metadata": {},
   "outputs": [
    {
     "name": "stdout",
     "output_type": "stream",
     "text": [
      "linear_1-4 dist = 1.3\n",
      "Logfile log-dimer.yaml already exists!\n",
      "linear_1-4 dist = 1.4\n",
      "Logfile log-dimer.yaml already exists!\n",
      "linear_1-4 dist = 1.5\n",
      "Logfile log-dimer.yaml already exists!\n",
      "linear_1-4 dist = 1.6\n",
      "Logfile log-dimer.yaml already exists!\n",
      "linear_1-4 dist = 1.7\n",
      "Logfile log-dimer.yaml already exists!\n",
      "linear_1-4 dist = 1.8\n",
      "Logfile log-dimer.yaml already exists!\n",
      "linear_1-4 dist = 1.9\n",
      "Logfile log-dimer.yaml already exists!\n",
      "linear_1-4 dist = 2.0\n",
      "Logfile log-dimer.yaml already exists!\n",
      "linear_1-4 dist = 2.1\n",
      "Logfile log-dimer.yaml already exists!\n",
      "linear_1-4 dist = 2.2\n",
      "Logfile log-dimer.yaml already exists!\n",
      "linear_1-4 dist = 2.3\n",
      "Logfile log-dimer.yaml already exists!\n",
      "linear_1-4 dist = 2.4\n",
      "Logfile log-dimer.yaml already exists!\n",
      "linear_1-4 dist = 2.5\n",
      "Logfile log-dimer.yaml already exists!\n",
      "linear_1-4 dist = 3.0\n",
      "Logfile log-dimer.yaml already exists!\n",
      "linear_1-4 dist = 3.5\n",
      "Logfile log-dimer.yaml already exists!\n",
      "linear_1-4 dist = 4.0\n",
      "Logfile log-dimer.yaml already exists!\n",
      "linear_1-4 dist = 4.5\n",
      "Logfile log-dimer.yaml already exists!\n",
      "linear_1-4 dist = 5.0\n",
      "Logfile log-dimer.yaml already exists!\n"
     ]
    }
   ],
   "source": [
    "run_setup(\"linear_1-4\", dists, input_lin_yaml, dimer_xyz)"
   ]
  },
  {
   "cell_type": "markdown",
   "metadata": {},
   "source": [
    "Finally, we perform the calculations using the cubic version of BigDFT:"
   ]
  },
  {
   "cell_type": "code",
   "execution_count": 22,
   "metadata": {},
   "outputs": [
    {
     "name": "stdout",
     "output_type": "stream",
     "text": [
      "cubic dist = 1.3\n",
      "Logfile log-dimer.yaml already exists!\n",
      "cubic dist = 1.4\n",
      "Logfile log-dimer.yaml already exists!\n",
      "cubic dist = 1.5\n",
      "Logfile log-dimer.yaml already exists!\n",
      "cubic dist = 1.6\n",
      "Logfile log-dimer.yaml already exists!\n",
      "cubic dist = 1.7\n",
      "Logfile log-dimer.yaml already exists!\n",
      "cubic dist = 1.8\n",
      "Logfile log-dimer.yaml already exists!\n",
      "cubic dist = 1.9\n",
      "Logfile log-dimer.yaml already exists!\n",
      "cubic dist = 2.0\n",
      "Logfile log-dimer.yaml already exists!\n",
      "cubic dist = 2.1\n",
      "Logfile log-dimer.yaml already exists!\n",
      "cubic dist = 2.2\n",
      "Logfile log-dimer.yaml already exists!\n",
      "cubic dist = 2.3\n",
      "Logfile log-dimer.yaml already exists!\n",
      "cubic dist = 2.4\n",
      "Logfile log-dimer.yaml already exists!\n",
      "cubic dist = 2.5\n",
      "Logfile log-dimer.yaml already exists!\n",
      "cubic dist = 3.0\n",
      "Logfile log-dimer.yaml already exists!\n",
      "cubic dist = 3.5\n",
      "Logfile log-dimer.yaml already exists!\n",
      "cubic dist = 4.0\n",
      "Logfile log-dimer.yaml already exists!\n",
      "cubic dist = 4.5\n",
      "Logfile log-dimer.yaml already exists!\n",
      "cubic dist = 5.0\n",
      "Logfile log-dimer.yaml already exists!\n"
     ]
    }
   ],
   "source": [
    "#Define the input file\n",
    "cubic_yaml = \"\"\"\\\n",
    " dft:\n",
    "   hgrids: 0.35\n",
    "   rmult: [5.0, 7.0]\n",
    "   ixc: LDA (ABINIT)\"\"\"\n",
    "\n",
    "# Run the cubic calculations\n",
    "run_setup(\"cubic\", dists, cubic_yaml, dimer_xyz)"
   ]
  },
  {
   "cell_type": "markdown",
   "metadata": {},
   "source": [
    "We can now collect the relevant data from the logfiles: the energies and distances, are stored as values of a dictionary of data. There is one dictionary for each setup. The are listed in the variable *curves*."
   ]
  },
  {
   "cell_type": "code",
   "execution_count": 23,
   "metadata": {
    "collapsed": true
   },
   "outputs": [],
   "source": [
    "HatoeV = 27.211396132 #Hartree to eV conversion factor\n",
    "setups = ['cubic', 'linear_1-4', 'fragment_1-4', 'fragment_2-5', 'fragment_5-8']\n",
    "curves = []\n",
    "for setup in setups:\n",
    "    #lfiles = glob.glob('log-dimer-*-%s.yaml' % name)\n",
    "    logs = find_files(setup+\"/dimer_*/log-dimer.yaml\")\n",
    "    logs.sort()\n",
    "    data = {'distances': [], 'energies': [], 'legend': setup}\n",
    "    for logname in logs:\n",
    "        #print fname\n",
    "        log = lf.Logfile(logname)\n",
    "        data['distances'].append(log.log['posinp']['positions'][3]['O'][0])\n",
    "        data['energies'].append(log.energy)\n",
    "    if len(data['energies']) > 0:\n",
    "        eref = data['energies'][-1]\n",
    "        data['energies'] = [ HatoeV*(e-eref) for e in data['energies'] ]\n",
    "        #print data['energies']\n",
    "    curves.append(data)"
   ]
  },
  {
   "cell_type": "markdown",
   "metadata": {},
   "source": [
    "We finally use matplotlib to plot the dissociation curves:"
   ]
  },
  {
   "cell_type": "code",
   "execution_count": 24,
   "metadata": {},
   "outputs": [
    {
     "data": {
      "image/png": "[encoded data removed]",
      "text/plain": [
       "<matplotlib.figure.Figure at 0x10dd36990>"
      ]
     },
     "metadata": {},
     "output_type": "display_data"
    }
   ],
   "source": [
    "# Lists of markers and colors (for matplotlib)\n",
    "colors = ['#000000', '#ff0000', '#045a8d', '#009900', '#FF8000']\n",
    "markers = ['o', 's', 'd', 'd', 'd']\n",
    "\n",
    "# Plot with matplotlib\n",
    "plt.figure(figsize=(8,5))\n",
    "for i, data in enumerate(curves):\n",
    "    plt.plot(data['distances'], data['energies'], marker=markers[i], \n",
    "             ls='-', label=data['legend'], color=colors[i])\n",
    "plt.ylim([-0.4, 0.5])\n",
    "plt.xlim([1.0, 5.0])\n",
    "plt.xlabel('$R$ ($\\AA$)')\n",
    "plt.ylabel('$E-E_{ref}$ (eV)')\n",
    "plt.title('Dissociation energy of the water dimer')\n",
    "plt.legend(loc=0)\n",
    "plt.show()"
   ]
  },
  {
   "cell_type": "markdown",
   "metadata": {},
   "source": [
    "This finishes this exercise: the asked curve is reproduced."
   ]
  },
  {
   "cell_type": "markdown",
   "metadata": {},
   "source": [
    "<img style=\"float: left;\", src=\"http://bigdft.org/images/b/b1/H2o_binding.png\">"
   ]
  },
  {
   "cell_type": "markdown",
   "metadata": {},
   "source": [
    "## Create archives\n",
    "\n",
    "To avoid running all calculations when running this notebook again, we create two archives as tar files:\n",
    "\n",
    "* one containing all logs _log-dimer*_ and all input files *dimer.yaml* and positions *dimer.xyz* for each setup,\n",
    "\n",
    "* another one containing all data for the templates (output and input files _\\*h2o.\\*_ plus the folders _data-h2o*_)"
   ]
  },
  {
   "cell_type": "code",
   "execution_count": 27,
   "metadata": {},
   "outputs": [
    {
     "name": "stdout",
     "output_type": "stream",
     "text": [
      "No creation of tarfile H2O_dimer.tgz because it already exists!\n",
      "No creation of tarfile templates.tgz because it already exists!\n"
     ]
    }
   ],
   "source": [
    "# Go back to the starting folder, with both templates and dimer folders\n",
    "os.chdir(start_path)\n",
    "\n",
    "# Create an archive with logs and input files for each setup\n",
    "if not os.path.exists(tarname):\n",
    "    tar = tarfile.open(tarname, \"w:bz2\")\n",
    "    for setup in setups:\n",
    "        logfiles = find_files(dimer_folder+\"/\"+setup+\"/dimer_*/log-dimer*.yaml\")\n",
    "        input_files = find_files(dimer_folder+\"/\"+setup+\"/dimer_*/dimer.yaml\")\n",
    "        posinp_files = find_files(dimer_folder+\"/\"+setup+\"/dimer_*/dimer.xyz\")\n",
    "        for name in logfiles + input_files + posinp_files:\n",
    "            tar.add(name)\n",
    "    tar.close()\n",
    "    print(\"Creation of a tar file with all log files: {}\".format(tarname))\n",
    "else:\n",
    "    print(\"No creation of tarfile {} because it already exists!\".format(tarname))\n",
    "\n",
    "# Create a second archive with templates data\n",
    "if not os.path.exists(tartemplate):\n",
    "    tar = tarfile.open(tartemplate, \"w:bz2\")\n",
    "    templates = ['h2o', 'h2o_25', 'h2o_58']\n",
    "    for template in templates:\n",
    "        data_folders = [templates_folder+'/data-'+template+\"/\"+f \n",
    "                        for f in find_files(templates_folder+'/data-'+template)]\n",
    "        logfiles = find_files(templates_folder+\"/log-\"+template+\".yaml\")\n",
    "        input_files = find_files(templates_folder+\"/\"+template+\".yaml\")\n",
    "        posinp_files = find_files(templates_folder+\"/\"+template+\".xyz\")\n",
    "        for name in data_folders + logfiles + input_files + posinp_files:\n",
    "            tar.add(name)\n",
    "    tar.close()\n",
    "    print(\"Creation of a tar file with all log files: {}\".format(tartemplate))\n",
    "else:\n",
    "    print(\"No creation of tarfile {} because it already exists!\".format(tartemplate))"
   ]
  },
  {
   "cell_type": "code",
   "execution_count": null,
   "metadata": {
    "collapsed": true
   },
   "outputs": [],
   "source": []
  }
 ],
 "metadata": {
  "kernelspec": {
   "display_name": "Python 2",
   "language": "python",
   "name": "python2"
  },
  "language_info": {
   "codemirror_mode": {
    "name": "ipython",
    "version": 2
   },
   "file_extension": ".py",
   "mimetype": "text/x-python",
   "name": "python",
   "nbconvert_exporter": "python",
   "pygments_lexer": "ipython2",
   "version": "2.7.10"
  }
 },
 "nbformat": 4,
 "nbformat_minor": 2
}
