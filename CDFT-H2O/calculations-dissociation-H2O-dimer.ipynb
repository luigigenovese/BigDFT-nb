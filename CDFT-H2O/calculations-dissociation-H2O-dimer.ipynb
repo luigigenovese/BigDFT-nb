{
 "cells": [
  {
   "cell_type": "markdown",
   "metadata": {
    "deletable": true,
    "editable": true
   },
   "source": [
    "# Fragment calculation for a water dimer\n",
    "The aim of this lesson is to present how to do basic fragment calculations with BigDFT and explain how to do to basic calculations. It is recommended that you have read the relevant papers in articles describing BigDFT and go through the tutorials on linear-scaling BigDFT before beginning.\n",
    "\n",
    "## Template calculation\n",
    "\n",
    "<img src=\"http://bigdft.org/images/1/19/H2o_dimer.png\">\n",
    "We consider the example of a water dimer with varying separation R between the molecules. Since we have two identical water molecules, they can both be represented by the same template fragment. The first step is therefore to generate the support functions for an isolated water molecule. We will use the following h2o.xyz and h2o.yaml input files: "
   ]
  },
  {
   "cell_type": "code",
   "execution_count": 1,
   "metadata": {
    "collapsed": true,
    "deletable": true,
    "editable": true
   },
   "outputs": [],
   "source": [
    "h2o_xyz = \"\"\"\\\n",
    "3 angstroemd0\n",
    "free\n",
    "O            -0.931477999671            0.004547999723           -0.117331000086\n",
    "H            -1.355753693973           -0.032108553467            0.725181911626\n",
    "H            -0.003078395366            0.011003111969            0.053703839371\"\"\"\n",
    "\n",
    "input_yaml = \"\"\"\\\n",
    " import: linear\n",
    " dft:\n",
    "   hgrids: {hgrids}\n",
    "   rmult: [5.0, 7.0]\n",
    "   inputpsiid: linear\n",
    "   ixc: LDA (ABINIT)\n",
    " lin_general:\n",
    "   output_wf: 1\n",
    "   output_mat: 11\n",
    " lin_kernel:\n",
    "   alphamix: 0.3\n",
    "   linear_method: FOE\n",
    " lin_basis_params:\n",
    "   O:\n",
    "     nbasis: {On}\n",
    "     ao_confinement: 1.0E-002\n",
    "     confinement: [5.0E-003, 0.0]\n",
    "     rloc: 9.0\n",
    "     rloc_kernel: 12.0\n",
    "     rloc_kernel_foe: 14.0\n",
    "   H:\n",
    "     nbasis: {Hn}\n",
    "     ao_confinement: 1.0E-002\n",
    "     confinement: [5.0E-003, 0.0]\n",
    "     rloc: 9.0\n",
    "     rloc_kernel: 12.0\n",
    "     rloc_kernel_foe: 14.0\n",
    "\"\"\""
   ]
  },
  {
   "cell_type": "markdown",
   "metadata": {
    "deletable": true,
    "editable": true
   },
   "source": [
    "Note the non-zero values for output_wf and output_mat, which specify that the support functions and associated matrices be written to file. You should also observe that we have chosen a rather small value for hgrid, which will ensure a more accurate interpolation when the support functions are roto-translated.\n",
    "\n",
    "Fragment calculations require the template information to be in a sub-directory, so you should proceed to run BigDFT in the following manner: "
   ]
  },
  {
   "cell_type": "code",
   "execution_count": 2,
   "metadata": {
    "collapsed": false,
    "deletable": true,
    "editable": true
   },
   "outputs": [
    {
     "name": "stdout",
     "output_type": "stream",
     "text": [
      "Logfile log-h2o.yaml does already exist!\n"
     ]
    }
   ],
   "source": [
    "import os,sys,commands,shutil\n",
    "BigDFT = os.environ[\"BIGDFT_ROOT\"]+\"/bigdft\"\n",
    "os.environ[\"OMP_NUM_THREADS\"]=\"4\" #depends on your computer (compiled with OpenMP)\n",
    "\n",
    "def run_bigdft(prefix,yaml,xyz):\n",
    "    if not os.path.exists(\"log-\"+prefix+\".yaml\"):\n",
    "        open(prefix+\".yaml\",\"w\").write(yaml)\n",
    "        open(prefix+\".xyz\",\"w\").write(xyz)\n",
    "        sys.stdout.write(prefix + \" ... \")\n",
    "        sys.stdout.flush()\n",
    "        output = commands.getstatusoutput(\"%s --name=%s\" % (BigDFT,prefix))\n",
    "        sys.stdout.write(str(output) + \"\\n\")\n",
    "    else:\n",
    "        print \"Logfile log-%s.yaml does already exist!\" % prefix\n",
    "        \n",
    "#Extract the archive if it exists to avoid running all calculations\n",
    "tarname = 'log-h2o-dissociation.tgz'\n",
    "if os.path.exists(tarname):\n",
    "    print \"The tar file %s with all log files exists: we use it avoiding calculations!\" % tarname\n",
    "    import tarfile\n",
    "    tar = tarfile.open(tarname,\"r:bz2\")\n",
    "    #for n in tar.getmembers(): \n",
    "    #    print n.name\n",
    "    tar.extractall()\n",
    "    tar.close()\n",
    "\n",
    "tartemplate = \"h2o-templates.tgz\"\n",
    "if os.path.exists(tartemplate):\n",
    "    #print \"The tar file %s with all log files exists: we use it avoiding calculations!\" % tarname\n",
    "    tar = tarfile.open(tartemplate,\"r:bz2\")\n",
    "    tar.extractall()\n",
    "    tar.close()\n",
    "\n",
    "#Run the template of the H2O molecule\n",
    "run_bigdft(prefix=\"h2o\",yaml=input_yaml.format(hgrids=\"0.25\",Hn=\"1\",On=\"4\"),xyz=h2o_xyz)"
   ]
  },
  {
   "cell_type": "markdown",
   "metadata": {
    "deletable": true,
    "editable": true
   },
   "source": [
    "At the end of the calculation, you will notice that another directory data-h2o been created by BigDFT, which contains a number of files for the support functions and matrices. With these outputs, we can proceed to do a fragment calculation. "
   ]
  },
  {
   "cell_type": "markdown",
   "metadata": {
    "deletable": true,
    "editable": true
   },
   "source": [
    "## Fragment calculations\n",
    "We will consider three different scenarios for the dimer: \n",
    "* with the molecules at a short separation, \n",
    "* close to the equilibrium, and \n",
    "* far apart.\n",
    "\n",
    "Note that in each case, we keep the molecules rigid, with neither the isolated or dimer system in a fully relaxed state, as this is only intended to serve as a model system. We therefore have three position inputs: dimer_1.5.xyz, dimer_2.0.xyz and dimer_5.0.xyz: "
   ]
  },
  {
   "cell_type": "code",
   "execution_count": 3,
   "metadata": {
    "collapsed": false,
    "deletable": true,
    "editable": true
   },
   "outputs": [
    {
     "name": "stdout",
     "output_type": "stream",
     "text": [
      "6 angstroemd0\n",
      "free\n",
      "O            -0.931477999671            0.004547999723           -0.117331000086\n",
      "H            -1.355753693973           -0.032108553467            0.725181911626\n",
      "H            -0.003078395366            0.011003111969            0.053703839371\n",
      "O             1.500000000000           -0.003706000000            0.113495000000\n",
      "H             1.796831000000            0.762122000000           -0.351887000000\n",
      "H             1.773536000000           -0.747744000000           -0.399151000000\n"
     ]
    }
   ],
   "source": [
    "def dimer_xyz(d):\n",
    "    x1 = d\n",
    "    x2 = d + 0.296831000000\n",
    "    x3 = d + 0.273536000000\n",
    "    d_xyz = \"\"\"\\\n",
    "6 angstroemd0\n",
    "free\n",
    "O            -0.931477999671            0.004547999723           -0.117331000086\n",
    "H            -1.355753693973           -0.032108553467            0.725181911626\n",
    "H            -0.003078395366            0.011003111969            0.053703839371\n",
    "O             {0:14.12f}           -0.003706000000            0.113495000000\n",
    "H             {1:14.12f}            0.762122000000           -0.351887000000\n",
    "H             {2:14.12f}           -0.747744000000           -0.399151000000\"\"\"\n",
    "    return d_xyz.format(x1,x2,x3)\n",
    "\n",
    "dists = [1.5,2.0,5.0]\n",
    "print dimer_xyz(1.5)"
   ]
  },
  {
   "cell_type": "markdown",
   "metadata": {
    "deletable": true,
    "editable": true
   },
   "source": [
    "We of course also need a *dimer.yaml* input file: "
   ]
  },
  {
   "cell_type": "code",
   "execution_count": 4,
   "metadata": {
    "collapsed": true
   },
   "outputs": [],
   "source": [
    "dimer_yaml = \"\"\"\\\n",
    " dft:\n",
    "   hgrids: 0.35\n",
    "   rmult: [5.0, 7.0]\n",
    "   inputpsiid: linear_restart\n",
    "   ixc: LDA (ABINIT)\n",
    " lin_general:\n",
    "   nit: 1\n",
    "   kernel_restart_mode: kernel\n",
    " lin_basis:\n",
    "   nit: 1\n",
    " lin_kernel:\n",
    "   nit: [20,100]\n",
    "   alphamix: 0.3\n",
    "   rpnrm_cv: 1.0E-010\n",
    "   linear_method: FOE\n",
    " lin_basis_params:\n",
    "   O:\n",
    "     nbasis: {On}\n",
    "     ao_confinement: 1.0E-002\n",
    "     confinement: [5.0E-003, 0.0]\n",
    "     rloc: 9.0\n",
    "     rloc_kernel: 12.0\n",
    "     rloc_kernel_foe: 14.0\n",
    "   H:\n",
    "     nbasis: {Hn}\n",
    "     ao_confinement: 1.0E-002\n",
    "     confinement: [5.0E-003, 0.0]\n",
    "     rloc: 9.0\n",
    "     rloc_kernel: 12.0\n",
    "     rloc_kernel_foe: 14.0\n",
    "\"\"\"\n",
    "\n",
    "frag_yaml = \"\"\"\\\n",
    " frag:\n",
    "   h2o: [1, 2]\n",
    "\"\"\""
   ]
  },
  {
   "cell_type": "markdown",
   "metadata": {
    "deletable": true,
    "editable": true
   },
   "source": [
    "Compared to a standard linear-scaling calculation, there are not many big changes to the input. You will of course notice that we have specified that this is a restart calculation via the *inputpsiid* variable, and we have allowed for a large number of kernel iterations while **eliminating basis optimization by setting _nit_ to 1** in the *lin_basis* block.\n",
    "\n",
    "Most importantly, we have also **added a frag block**, which is where we we specify the number of fragments and their types. In this example it is straightforward, as we simply have two fragments of the same name. More complicated systems are of course also possible, as will be seen in later examples.\n",
    "\n",
    "**Exercise**: Using the above inputs, run fragment calculations for the three different coordinates. Make sure that you rename the files appropriately for each calculation, so that the **yaml, xyz and data** have the same label, either by copying files or using symbolic links **in this case the file _h2o.xyz_ and the directory _data-h2o_ into the directory _data-xxx_**.\n",
    "Also run all three systems without fragments; you can reuse the file for generating the template support functions if you change hgrids to 0.35 and switch off the output of the support functions and other associated quantities."
   ]
  },
  {
   "cell_type": "code",
   "execution_count": 5,
   "metadata": {
    "collapsed": false,
    "deletable": true,
    "editable": true
   },
   "outputs": [
    {
     "name": "stdout",
     "output_type": "stream",
     "text": [
      "Logfile log-dimer-1.5-frag.yaml does already exist!\n",
      "Logfile log-dimer-2.0-frag.yaml does already exist!\n",
      "Logfile log-dimer-5.0-frag.yaml does already exist!\n",
      "Logfile log-dimer-1.5-linear.yaml does already exist!\n",
      "Logfile log-dimer-2.0-linear.yaml does already exist!\n",
      "Logfile log-dimer-5.0-linear.yaml does already exist!\n"
     ]
    }
   ],
   "source": [
    "dimer_logs = []\n",
    "#Fragments calculations\n",
    "for d in dists:\n",
    "    prefix = \"dimer-%2.1f-frag\" % d\n",
    "    d_dir = \"data-\"+prefix\n",
    "    if not os.path.exists(d_dir):\n",
    "        shutil.copytree(\"data-h2o\",d_dir+\"/data-h2o\") #Very important because the program stops only if the xyz is not present!!\n",
    "        shutil.copy(\"h2o.xyz\",d_dir) #need to copy the xyz template file and the basis set!!\n",
    "    run_bigdft(prefix,yaml=dimer_yaml.format(Hn=\"1\",On=\"4\")+frag_yaml,xyz=dimer_xyz(d))\n",
    "    dimer_logs.append(\"log-%s.yaml\" % prefix)\n",
    "    \n",
    "#linear calculations using hgrids=0.35\n",
    "for d in dists:\n",
    "    prefix = \"dimer-%2.1f-linear\" % d\n",
    "    run_bigdft(prefix,yaml=input_yaml.format(hgrids=\"0.35\",Hn=\"1\",On=\"4\"),xyz=dimer_xyz(d))\n",
    "    dimer_logs.append(\"log-%s.yaml\" % prefix)"
   ]
  },
  {
   "cell_type": "markdown",
   "metadata": {
    "deletable": true,
    "editable": true
   },
   "source": [
    "Compare the linear and fragment energies for the three different distances. You will notice that they are very similar for the large separation where the molecules are weakly interacting, with a moderate error for the equilibrium calculation and a very large error for the short distance. This is unsurprising, as the fragment approach is intended for well separated molecules and is expected to break down at small distances. In other terms, the basis set superposition error (BSSE) is large. When using the fragment approach it is therefore important to consider whether the approximation that it represents is valid in your case."
   ]
  },
  {
   "cell_type": "code",
   "execution_count": 19,
   "metadata": {
    "collapsed": false
   },
   "outputs": [
    {
     "name": "stdout",
     "output_type": "stream",
     "text": [
      "log-dimer-1.5-frag.yaml: -34.3565602129\n",
      "log-dimer-2.0-frag.yaml: -34.3697461737\n",
      "log-dimer-5.0-frag.yaml: -34.3603330014\n",
      "log-dimer-1.5-linear.yaml: -34.3676625356\n",
      "log-dimer-2.0-linear.yaml: -34.3716662304\n",
      "log-dimer-5.0-linear.yaml: -34.3605949303\n"
     ]
    }
   ],
   "source": [
    "from BigDFT import Logfiles as lf\n",
    "for logfile in dimer_logs:\n",
    "    log = lf.Logfile(logfile)\n",
    "    print logfile+\": \"+str(log.energy)"
   ]
  },
  {
   "cell_type": "markdown",
   "metadata": {
    "deletable": true,
    "editable": true
   },
   "source": [
    "## Increasing the basis\n",
    "\n",
    "Nonetheless, let us assume that in this case we insist on using the fragment approach. What can we do to improve the accuracy? One option is to increase the number of degrees of freedom by increasing the number of support functions per atom. Let's try adding another s-type support function to each atom. Returning to the template calculation, change nbasis to 2 for hydrogen and 5 for oxygen. Whenever we vary the number of support functions from the default values, we have to specify the electronic configuration. To do this, add the following block to the end of the input file: "
   ]
  },
  {
   "cell_type": "code",
   "execution_count": 20,
   "metadata": {
    "collapsed": true,
    "deletable": true,
    "editable": true
   },
   "outputs": [],
   "source": [
    "ig_25_yaml=\"\"\"\\\n",
    " ig_occupation:\n",
    "   H:\n",
    "     1s: 1.0\n",
    "     2s: 0.0\n",
    "   O:\n",
    "     2s: 2.0\n",
    "     2p: [4/3, 4/3, 4/3]\n",
    "     3s: 0.0\n",
    "\"\"\""
   ]
  },
  {
   "cell_type": "markdown",
   "metadata": {},
   "source": [
    "Rerun the template calculation in the data-dimer directory, copying the input files to h2o_25.yaml and h2o_25.xyz to avoid overwriting the previous template support functions. This will produce a directory called data-h2o_25 containing the relevant outputs. You will notice that the energy is virtually the same as for a smaller basis, as we already had enough degrees of freedom to represent the isolated molecule."
   ]
  },
  {
   "cell_type": "code",
   "execution_count": 21,
   "metadata": {
    "collapsed": false
   },
   "outputs": [
    {
     "name": "stdout",
     "output_type": "stream",
     "text": [
      "Logfile log-h2o_25.yaml does already exist!\n"
     ]
    }
   ],
   "source": [
    "run_bigdft(prefix=\"h2o_25\",yaml=input_yaml.format(hgrids=\"0.25\",Hn=\"2\",On=\"5\")+ig_25_yaml,xyz=h2o_xyz)"
   ]
  },
  {
   "cell_type": "markdown",
   "metadata": {
    "deletable": true,
    "editable": true
   },
   "source": [
    "We can now rerun the fragment calculations by modifying the fragment block: "
   ]
  },
  {
   "cell_type": "code",
   "execution_count": 22,
   "metadata": {
    "collapsed": false,
    "deletable": true,
    "editable": true
   },
   "outputs": [
    {
     "name": "stdout",
     "output_type": "stream",
     "text": [
      "Logfile log-dimer-1.5-frag-25.yaml does already exist!\n",
      "Logfile log-dimer-2.0-frag-25.yaml does already exist!\n",
      "Logfile log-dimer-5.0-frag-25.yaml does already exist!\n"
     ]
    }
   ],
   "source": [
    "frag_25_yaml=\"\"\"\\\n",
    " frag:\n",
    "   h2o_25: [1, 2]\n",
    "\"\"\"\n",
    "\n",
    "#Fragments calculations\n",
    "for d in dists:\n",
    "    prefix = \"dimer-%2.1f-frag-25\" % d\n",
    "    d_dir = \"data-\"+prefix\n",
    "    if not os.path.exists(d_dir):\n",
    "        shutil.copytree(\"data-h2o_25\",d_dir+\"/data-h2o_25\") #Very important because the program stops only if the xyz is not present!!\n",
    "        shutil.copy(\"h2o_25.xyz\",d_dir) #need to copy the xyz template file and the basis set!!\n",
    "    run_bigdft(prefix,yaml=dimer_yaml.format(Hn=\"2\",On=\"5\")+frag_25_yaml+ig_25_yaml,xyz=dimer_xyz(d))"
   ]
  },
  {
   "cell_type": "markdown",
   "metadata": {
    "deletable": true,
    "editable": true
   },
   "source": [
    "Rerun the calculation for any of the three distances. You'll notice that BigDFT stops quickly, giving an error message, both in the main output file and in an additional output file called *debug/bigdft-err-0-0.yaml*. Why? Well we changed the number of support functions in the template calculation, so we also have to change nbasis in the fragment input file. Once we update these values, BigDFT should run successfully. Note that for rloc, we do not have to make sure the radii is the same as the template calculation, BigDFT will simply override the input value and detect the correct template radius. \n",
    "\n",
    "**Exercise**: Rerun the fragment calculations with 2 and 5 support functions per hydrogen and oxygen. Try increasing the number of support functions further. What happens to the energies? If you want some further practice, try more distances and see if you can reproduce the binding curve (see below). \n",
    "    <img src=\"http://bigdft.org/images/b/b1/H2o_binding.png\">"
   ]
  },
  {
   "cell_type": "markdown",
   "metadata": {},
   "source": [
    "## Answer to the exercise\n",
    "First of all, we construct the array of te required distances."
   ]
  },
  {
   "cell_type": "code",
   "execution_count": 23,
   "metadata": {
    "collapsed": true
   },
   "outputs": [],
   "source": [
    "import numpy as np\n",
    "dists = []\n",
    "dists.extend([i for i in np.arange(1.3,2.5,0.1)])\n",
    "dists.extend([i for i in np.arange(2.5,5.5,0.5)])"
   ]
  },
  {
   "cell_type": "code",
   "execution_count": 24,
   "metadata": {
    "collapsed": false
   },
   "outputs": [
    {
     "name": "stdout",
     "output_type": "stream",
     "text": [
      "Logfile log-dimer-1.3-frag.yaml does already exist!\n",
      "Logfile log-dimer-1.4-frag.yaml does already exist!\n",
      "Logfile log-dimer-1.5-frag.yaml does already exist!\n",
      "Logfile log-dimer-1.6-frag.yaml does already exist!\n",
      "Logfile log-dimer-1.7-frag.yaml does already exist!\n",
      "Logfile log-dimer-1.8-frag.yaml does already exist!\n",
      "Logfile log-dimer-1.9-frag.yaml does already exist!\n",
      "Logfile log-dimer-2.0-frag.yaml does already exist!\n",
      "Logfile log-dimer-2.1-frag.yaml does already exist!\n",
      "Logfile log-dimer-2.2-frag.yaml does already exist!\n",
      "Logfile log-dimer-2.3-frag.yaml does already exist!\n",
      "Logfile log-dimer-2.4-frag.yaml does already exist!\n",
      "Logfile log-dimer-2.5-frag.yaml does already exist!\n",
      "Logfile log-dimer-3.0-frag.yaml does already exist!\n",
      "Logfile log-dimer-3.5-frag.yaml does already exist!\n",
      "Logfile log-dimer-4.0-frag.yaml does already exist!\n",
      "Logfile log-dimer-4.5-frag.yaml does already exist!\n",
      "Logfile log-dimer-5.0-frag.yaml does already exist!\n"
     ]
    }
   ],
   "source": [
    "#Fragments calculations (1,4) -- 15 calculations to be done \n",
    "for d in dists:\n",
    "    prefix = \"dimer-%2.1f-frag\" % d\n",
    "    d_dir = \"data-\"+prefix\n",
    "    if not os.path.exists(d_dir):\n",
    "        shutil.copytree(\"data-h2o\",d_dir+\"/data-h2o\") #Very important because the program stops only if the xyz is not present!!\n",
    "        shutil.copy(\"h2o.xyz\",d_dir) #need to copy the xyz template file and the basis set!!\n",
    "    run_bigdft(prefix,yaml=dimer_yaml.format(Hn=\"1\",On=\"4\")+frag_yaml,xyz=dimer_xyz(d))"
   ]
  },
  {
   "cell_type": "code",
   "execution_count": 26,
   "metadata": {
    "collapsed": false
   },
   "outputs": [
    {
     "name": "stdout",
     "output_type": "stream",
     "text": [
      "Logfile log-dimer-1.3-frag-25.yaml does already exist!\n",
      "dimer-1.4-frag-25 ... (0, ' <BigDFT> log of the run will be written in logfile: ./log-dimer-1.4-frag-25.yaml')\n",
      "Logfile log-dimer-1.5-frag-25.yaml does already exist!\n",
      "Logfile log-dimer-1.6-frag-25.yaml does already exist!\n",
      "Logfile log-dimer-1.7-frag-25.yaml does already exist!\n",
      "Logfile log-dimer-1.8-frag-25.yaml does already exist!\n",
      "Logfile log-dimer-1.9-frag-25.yaml does already exist!\n",
      "Logfile log-dimer-2.0-frag-25.yaml does already exist!\n",
      "Logfile log-dimer-2.1-frag-25.yaml does already exist!\n",
      "Logfile log-dimer-2.2-frag-25.yaml does already exist!\n",
      "Logfile log-dimer-2.3-frag-25.yaml does already exist!\n",
      "Logfile log-dimer-2.4-frag-25.yaml does already exist!\n",
      "Logfile log-dimer-2.5-frag-25.yaml does already exist!\n",
      "Logfile log-dimer-3.0-frag-25.yaml does already exist!\n",
      "Logfile log-dimer-3.5-frag-25.yaml does already exist!\n",
      "Logfile log-dimer-4.0-frag-25.yaml does already exist!\n",
      "Logfile log-dimer-4.5-frag-25.yaml does already exist!\n",
      "Logfile log-dimer-5.0-frag-25.yaml does already exist!\n"
     ]
    }
   ],
   "source": [
    "#Fragments calculations (2,5)\n",
    "for d in dists:\n",
    "    prefix = \"dimer-%2.1f-frag-25\" % d\n",
    "    d_dir = \"data-\"+prefix\n",
    "    if not os.path.exists(d_dir):\n",
    "        shutil.copytree(\"data-h2o_25\",d_dir+\"/data-h2o_25\") #Very important because the program stops only if the xyz is not present!!\n",
    "        shutil.copy(\"h2o_25.xyz\",d_dir) #need to copy the xyz template file and the basis set!!\n",
    "    run_bigdft(prefix,yaml=dimer_yaml.format(Hn=\"2\",On=\"5\")+frag_25_yaml+ig_25_yaml,xyz=dimer_xyz(d))"
   ]
  },
  {
   "cell_type": "code",
   "execution_count": 27,
   "metadata": {
    "collapsed": false
   },
   "outputs": [
    {
     "name": "stdout",
     "output_type": "stream",
     "text": [
      "h2o_58 ... (0, ' <BigDFT> log of the run will be written in logfile: ./log-h2o_58.yaml')\n",
      "dimer-1.3-frag-58 ... (0, ' <BigDFT> log of the run will be written in logfile: ./log-dimer-1.3-frag-58.yaml')\n",
      "dimer-1.4-frag-58 ... (0, ' <BigDFT> log of the run will be written in logfile: ./log-dimer-1.4-frag-58.yaml')\n",
      "dimer-1.5-frag-58 ... (0, ' <BigDFT> log of the run will be written in logfile: ./log-dimer-1.5-frag-58.yaml')\n",
      "dimer-1.6-frag-58 ... (0, ' <BigDFT> log of the run will be written in logfile: ./log-dimer-1.6-frag-58.yaml')\n",
      "dimer-1.7-frag-58 ... (0, ' <BigDFT> log of the run will be written in logfile: ./log-dimer-1.7-frag-58.yaml')\n",
      "dimer-1.8-frag-58 ... (0, ' <BigDFT> log of the run will be written in logfile: ./log-dimer-1.8-frag-58.yaml')\n",
      "dimer-1.9-frag-58 ... (0, ' <BigDFT> log of the run will be written in logfile: ./log-dimer-1.9-frag-58.yaml')\n",
      "dimer-2.0-frag-58 ... (0, ' <BigDFT> log of the run will be written in logfile: ./log-dimer-2.0-frag-58.yaml')\n",
      "dimer-2.1-frag-58 ... (0, ' <BigDFT> log of the run will be written in logfile: ./log-dimer-2.1-frag-58.yaml')\n",
      "dimer-2.2-frag-58 ... (0, ' <BigDFT> log of the run will be written in logfile: ./log-dimer-2.2-frag-58.yaml')\n",
      "dimer-2.3-frag-58 ... (0, ' <BigDFT> log of the run will be written in logfile: ./log-dimer-2.3-frag-58.yaml')\n",
      "dimer-2.4-frag-58 ... (0, ' <BigDFT> log of the run will be written in logfile: ./log-dimer-2.4-frag-58.yaml')\n",
      "dimer-2.5-frag-58 ... (0, ' <BigDFT> log of the run will be written in logfile: ./log-dimer-2.5-frag-58.yaml')\n",
      "dimer-3.0-frag-58 ... (0, ' <BigDFT> log of the run will be written in logfile: ./log-dimer-3.0-frag-58.yaml')\n",
      "dimer-3.5-frag-58 ... (0, ' <BigDFT> log of the run will be written in logfile: ./log-dimer-3.5-frag-58.yaml')\n",
      "dimer-4.0-frag-58 ... (0, ' <BigDFT> log of the run will be written in logfile: ./log-dimer-4.0-frag-58.yaml')\n",
      "dimer-4.5-frag-58 ... (0, ' <BigDFT> log of the run will be written in logfile: ./log-dimer-4.5-frag-58.yaml')\n",
      "dimer-5.0-frag-58 ... (0, ' <BigDFT> log of the run will be written in logfile: ./log-dimer-5.0-frag-58.yaml')\n"
     ]
    }
   ],
   "source": [
    "#Fragments calculations (5,8)\n",
    "ig_58_yaml=\"\"\"\\\n",
    " ig_occupation:\n",
    "   H:\n",
    "     1s: 1.0\n",
    "     2s: 0.0\n",
    "     2p: [0., 0., 0.]\n",
    "   O:\n",
    "     2s: 2.0\n",
    "     2p: [4/3, 4/3, 4/3]\n",
    "     3s: 0.0\n",
    "     3p: [0., 0., 0.]\n",
    "\"\"\"\n",
    "#First running the H2O template\n",
    "run_bigdft(prefix=\"h2o_58\",yaml=input_yaml.format(hgrids=\"0.25\",Hn=\"5\",On=\"8\")+ig_58_yaml,xyz=h2o_xyz)\n",
    "\n",
    "frag_58_yaml=\"\"\"\\\n",
    " frag:\n",
    "   h2o_58: [1, 2]\n",
    "\"\"\"\n",
    "#Then the dissociation curve\n",
    "for d in dists:\n",
    "    prefix = \"dimer-%2.1f-frag-58\" % d\n",
    "    d_dir = \"data-\"+prefix\n",
    "    if not os.path.exists(d_dir):\n",
    "        shutil.copytree(\"data-h2o_58\",d_dir+\"/data-h2o_58\") #Very important because the program stops only if the xyz is not present!!\n",
    "        shutil.copy(\"h2o_58.xyz\",d_dir) #need to copy the xyz template file and the basis set!!\n",
    "    run_bigdft(prefix,yaml=dimer_yaml.format(Hn=\"5\",On=\"8\")+frag_58_yaml+ig_58_yaml,xyz=dimer_xyz(d))"
   ]
  },
  {
   "cell_type": "code",
   "execution_count": 28,
   "metadata": {
    "collapsed": false
   },
   "outputs": [
    {
     "name": "stdout",
     "output_type": "stream",
     "text": [
      "Logfile log-dimer-1.3-linear.yaml does already exist!\n",
      "Logfile log-dimer-1.4-linear.yaml does already exist!\n",
      "Logfile log-dimer-1.5-linear.yaml does already exist!\n",
      "Logfile log-dimer-1.6-linear.yaml does already exist!\n",
      "Logfile log-dimer-1.7-linear.yaml does already exist!\n",
      "Logfile log-dimer-1.8-linear.yaml does already exist!\n",
      "Logfile log-dimer-1.9-linear.yaml does already exist!\n",
      "Logfile log-dimer-2.0-linear.yaml does already exist!\n",
      "Logfile log-dimer-2.1-linear.yaml does already exist!\n",
      "Logfile log-dimer-2.2-linear.yaml does already exist!\n",
      "Logfile log-dimer-2.3-linear.yaml does already exist!\n",
      "Logfile log-dimer-2.4-linear.yaml does already exist!\n",
      "Logfile log-dimer-2.5-linear.yaml does already exist!\n",
      "Logfile log-dimer-3.0-linear.yaml does already exist!\n",
      "Logfile log-dimer-3.5-linear.yaml does already exist!\n",
      "Logfile log-dimer-4.0-linear.yaml does already exist!\n",
      "Logfile log-dimer-4.5-linear.yaml does already exist!\n",
      "Logfile log-dimer-5.0-linear.yaml does already exist!\n"
     ]
    }
   ],
   "source": [
    "#Linear calculations using hgrids=0.35\n",
    "for d in dists:\n",
    "    prefix = \"dimer-%2.1f-linear\" % d\n",
    "    run_bigdft(prefix,yaml=input_yaml.format(hgrids=\"0.35\",Hn=\"1\",On=\"4\"),xyz=dimer_xyz(d))"
   ]
  },
  {
   "cell_type": "code",
   "execution_count": 29,
   "metadata": {
    "collapsed": false
   },
   "outputs": [
    {
     "name": "stdout",
     "output_type": "stream",
     "text": [
      "Logfile log-dimer-1.3-cubic.yaml does already exist!\n",
      "Logfile log-dimer-1.4-cubic.yaml does already exist!\n",
      "Logfile log-dimer-1.5-cubic.yaml does already exist!\n",
      "Logfile log-dimer-1.6-cubic.yaml does already exist!\n",
      "Logfile log-dimer-1.7-cubic.yaml does already exist!\n",
      "Logfile log-dimer-1.8-cubic.yaml does already exist!\n",
      "Logfile log-dimer-1.9-cubic.yaml does already exist!\n",
      "Logfile log-dimer-2.0-cubic.yaml does already exist!\n",
      "Logfile log-dimer-2.1-cubic.yaml does already exist!\n",
      "Logfile log-dimer-2.2-cubic.yaml does already exist!\n",
      "Logfile log-dimer-2.3-cubic.yaml does already exist!\n",
      "Logfile log-dimer-2.4-cubic.yaml does already exist!\n",
      "Logfile log-dimer-2.5-cubic.yaml does already exist!\n",
      "Logfile log-dimer-3.0-cubic.yaml does already exist!\n",
      "Logfile log-dimer-3.5-cubic.yaml does already exist!\n",
      "Logfile log-dimer-4.0-cubic.yaml does already exist!\n",
      "Logfile log-dimer-4.5-cubic.yaml does already exist!\n",
      "Logfile log-dimer-5.0-cubic.yaml does already exist!\n"
     ]
    }
   ],
   "source": [
    "#Finally cubic calculations\n",
    "cubic_yaml = \"\"\"\\\n",
    " dft:\n",
    "   hgrids: 0.35\n",
    "   rmult: [5.0, 7.0]\n",
    "   ixc: LDA (ABINIT)\"\"\"\n",
    "\n",
    "for d in dists:\n",
    "    prefix = \"dimer-%2.1f-cubic\" % d\n",
    "    run_bigdft(prefix,yaml=cubic_yaml,xyz=dimer_xyz(d))"
   ]
  },
  {
   "cell_type": "code",
   "execution_count": 30,
   "metadata": {
    "collapsed": false
   },
   "outputs": [
    {
     "name": "stdout",
     "output_type": "stream",
     "text": [
      "log-dimer-1.3-cubic.yaml log-dimer-1.4-cubic.yaml log-dimer-1.5-cubic.yaml log-dimer-1.6-cubic.yaml log-dimer-1.7-cubic.yaml log-dimer-1.8-cubic.yaml log-dimer-1.9-cubic.yaml log-dimer-2.0-cubic.yaml log-dimer-2.1-cubic.yaml log-dimer-2.2-cubic.yaml log-dimer-2.3-cubic.yaml log-dimer-2.4-cubic.yaml log-dimer-2.5-cubic.yaml log-dimer-3.0-cubic.yaml log-dimer-3.5-cubic.yaml log-dimer-4.0-cubic.yaml log-dimer-4.5-cubic.yaml log-dimer-5.0-cubic.yaml [0.24168875973550863, -0.033772197582904825, -0.19430044032368607, -0.283053231859594, -0.3217348134650498, -0.33214174642402006, -0.32231971018628924, -0.30336905007003057, -0.27775022947460976, -0.25097902844880843, -0.22380388171815346, -0.19784593594485006, -0.17423269764897037, -0.0869525898120189, -0.04259361252908885, -0.0205254292878401, -0.007174692689564668, 0.0]\n",
      "log-dimer-1.3-linear.yaml log-dimer-1.4-linear.yaml log-dimer-1.5-linear.yaml log-dimer-1.6-linear.yaml log-dimer-1.7-linear.yaml log-dimer-1.8-linear.yaml log-dimer-1.9-linear.yaml log-dimer-2.0-linear.yaml log-dimer-2.1-linear.yaml log-dimer-2.2-linear.yaml log-dimer-2.3-linear.yaml log-dimer-2.4-linear.yaml log-dimer-2.5-linear.yaml log-dimer-3.0-linear.yaml log-dimer-3.5-linear.yaml log-dimer-4.0-linear.yaml log-dimer-4.5-linear.yaml log-dimer-5.0-linear.yaml [0.24381931294404316, -0.03189566539302986, -0.19231940801213246, -0.281037720959674, -0.3196859466519203, -0.32933028920569685, -0.3196361789765293, -0.30126553376083587, -0.2758141734182969, -0.24932312978340357, -0.22238843680141046, -0.1966812422901408, -0.17327283474779046, -0.08661415713689054, -0.042475310410860494, -0.020474910556585364, -0.007147411095585799, 0.0]\n",
      "log-dimer-1.3-frag.yaml log-dimer-1.4-frag.yaml log-dimer-1.5-frag.yaml log-dimer-1.6-frag.yaml log-dimer-1.7-frag.yaml log-dimer-1.8-frag.yaml log-dimer-1.9-frag.yaml log-dimer-2.0-frag.yaml log-dimer-2.1-frag.yaml log-dimer-2.2-frag.yaml log-dimer-2.3-frag.yaml log-dimer-2.4-frag.yaml log-dimer-2.5-frag.yaml log-dimer-3.0-frag.yaml log-dimer-3.5-frag.yaml log-dimer-4.0-frag.yaml log-dimer-4.5-frag.yaml log-dimer-5.0-frag.yaml [0.9029874263623517, 0.4088921136076771, 0.10266284238630603, -0.0826701268933665, -0.18541168477912062, -0.23826078898957506, -0.25643151926019675, -0.25614556175704056, -0.24281294244912754, -0.22447292999617316, -0.20289899377925183, -0.18104676679688222, -0.16024637634663802, -0.08070478304796244, -0.039762680271246735, -0.01901338817287923, -0.0064116235979045045, 0.0]\n",
      "log-dimer-1.3-frag-25.yaml log-dimer-1.4-frag-25.yaml log-dimer-1.5-frag-25.yaml log-dimer-1.6-frag-25.yaml log-dimer-1.7-frag-25.yaml log-dimer-1.8-frag-25.yaml log-dimer-1.9-frag-25.yaml log-dimer-2.0-frag-25.yaml log-dimer-2.1-frag-25.yaml log-dimer-2.2-frag-25.yaml log-dimer-2.3-frag-25.yaml log-dimer-2.4-frag-25.yaml log-dimer-2.5-frag-25.yaml log-dimer-3.0-frag-25.yaml log-dimer-3.5-frag-25.yaml log-dimer-4.0-frag-25.yaml log-dimer-4.5-frag-25.yaml log-dimer-5.0-frag-25.yaml [0.5831030547545167, 0.20482795538263962, -0.02635754694539588, -0.1635540958940202, -0.23627282741788527, -0.2704562204861322, -0.2772500981581147, -0.27015438404370834, -0.2528037848689168, -0.23215915968884343, -0.20922072758741347, -0.18656635008587574, -0.16521736638618925, -0.08370200510651063, -0.041233706964980035, -0.019863226895720735, -0.006817747707473357, 0.0]\n",
      "log-dimer-1.3-frag-58.yaml log-dimer-1.4-frag-58.yaml log-dimer-1.5-frag-58.yaml log-dimer-1.6-frag-58.yaml log-dimer-1.7-frag-58.yaml log-dimer-1.8-frag-58.yaml log-dimer-1.9-frag-58.yaml log-dimer-2.0-frag-58.yaml log-dimer-2.1-frag-58.yaml log-dimer-2.2-frag-58.yaml log-dimer-2.3-frag-58.yaml log-dimer-2.4-frag-58.yaml log-dimer-2.5-frag-58.yaml log-dimer-3.0-frag-58.yaml log-dimer-3.5-frag-58.yaml log-dimer-4.0-frag-58.yaml log-dimer-4.5-frag-58.yaml log-dimer-5.0-frag-58.yaml [0.45567153518730735, 0.11468936523301174, -0.09135511395997095, -0.21097172833640013, -0.271045891026419, -0.2960343996589676, -0.29630210892216935, -0.284571318874055, -0.2638083693135957, -0.2406559129110444, -0.21580042073667155, -0.19166331109795037, -0.16922739636175116, -0.08497264756022727, -0.041708376922826716, -0.020038280865892027, -0.006975133829966445, 0.0]\n"
     ]
    }
   ],
   "source": [
    "#Collect the data\n",
    "HtoeV = 27.211396132 #Conversion Hartree to meV\n",
    "import glob\n",
    "names = [ 'cubic', 'linear', 'frag', 'frag-25', 'frag-58' ]\n",
    "curves = []\n",
    "for name in names:\n",
    "    lfiles = glob.glob('log-dimer-*-%s.yaml' % name)\n",
    "    lfiles.sort()\n",
    "    data = {'distances': [], 'energies': [], 'legend': name}\n",
    "    for fname in lfiles:\n",
    "        print fname,\n",
    "        log = lf.Logfile(fname)\n",
    "        data['distances'].append(log.log['posinp']['positions'][3]['O'][0])\n",
    "        data['energies'].append(log.energy)\n",
    "    if len(data['energies']) > 0:\n",
    "        eref = data['energies'][-1]\n",
    "        data['energies'] = [ HtoeV*(e-eref) for e in data['energies'] ]\n",
    "        print data['energies']\n",
    "    curves.append(data)"
   ]
  },
  {
   "cell_type": "code",
   "execution_count": 31,
   "metadata": {
    "collapsed": false
   },
   "outputs": [
    {
     "data": {
      "image/png": "[encoded data removed]",
      "text/plain": [
       "<matplotlib.figure.Figure at 0x7f1557846e10>"
      ]
     },
     "metadata": {},
     "output_type": "display_data"
    }
   ],
   "source": [
    "import matplotlib.pyplot as plt\n",
    "# Lists of markers and colors (for matplotlib)\n",
    "colors = ['#74a9cf', '#2b8cbe', '#045a8d', '#009900', '#FF8000']\n",
    "colors = ['#000000', '#ff0000', '#045a8d', '#009900', '#FF8000']\n",
    "markers = ['o','s','d','d','d']\n",
    "\n",
    "plt.figure(figsize=(8,5))\n",
    "# Plot with matplotlib\n",
    "for i, data in enumerate(curves):\n",
    "    plt.plot(data['distances'], data['energies'], marker=markers[i], \n",
    "             ls='-', label=data['legend'], color=colors[i])\n",
    "#plt.ylim([-0.4, 0.5])\n",
    "plt.xlim([1.0, 5.0])\n",
    "plt.xlabel('$R$ ($\\AA$)')\n",
    "plt.ylabel('$E-E_{ref}$ (eV)')\n",
    "plt.title('Dissociation energy of the water dimer')\n",
    "plt.legend(loc=4)\n",
    "plt.show()"
   ]
  },
  {
   "cell_type": "markdown",
   "metadata": {},
   "source": [
    "<img src=\"http://bigdft.org/images/b/b1/H2o_binding.png\">"
   ]
  },
  {
   "cell_type": "markdown",
   "metadata": {},
   "source": [
    "To avoid running all calculation, we create two archive tar file:\n",
    "* one containing all logs _log-dimer*_\n",
    "* another one containing all data for the templates (_log-h2o*_ and mainly _data-h2o*_)"
   ]
  },
  {
   "cell_type": "code",
   "execution_count": 34,
   "metadata": {
    "collapsed": false
   },
   "outputs": [
    {
     "name": "stdout",
     "output_type": "stream",
     "text": [
      "Creation of a tar file with all log files: log-h2o-dissociation.tgz\n",
      "Creation of a tar file with all log files: h2o-templates.tgz\n"
     ]
    }
   ],
   "source": [
    "#First archive file (log to analyse)\n",
    "if not os.path.exists(tarname):\n",
    "    import tarfile\n",
    "    tar = tarfile.open(tarname,\"w:bz2\")\n",
    "    for name in glob.glob(\"log-dimer*.yaml\")+glob.glob(\"log-h2o*.yaml\"):\n",
    "        tar.add(name)\n",
    "    tar.close()\n",
    "    print \"Creation of a tar file with all log files: %s\" % tarname\n",
    "else:\n",
    "    print \"No creation of tarfile %s because it already exists!\" % tarname\n",
    "\n",
    "#Second archive file (template data)\n",
    "if not os.path.exists(tartemplate):\n",
    "    import tarfile\n",
    "    tar = tarfile.open(tartemplate,\"w:bz2\")\n",
    "    for name in glob.glob(\"data-h2o*\")+glob.glob(\"h2o*.xyz\"):\n",
    "        tar.add(name)\n",
    "    tar.close()\n",
    "    print \"Creation of a tar file with all log files: %s\" % tartemplate\n",
    "else:\n",
    "    print \"No creation of tarfile %s because it already exists!\" % tartemplate"
   ]
  },
  {
   "cell_type": "code",
   "execution_count": null,
   "metadata": {
    "collapsed": true
   },
   "outputs": [],
   "source": []
  }
 ],
 "metadata": {
  "kernelspec": {
   "display_name": "Python 2",
   "language": "python",
   "name": "python2"
  },
  "language_info": {
   "codemirror_mode": {
    "name": "ipython",
    "version": 2
   },
   "file_extension": ".py",
   "mimetype": "text/x-python",
   "name": "python",
   "nbconvert_exporter": "python",
   "pygments_lexer": "ipython2",
   "version": "2.7.12"
  }
 },
 "nbformat": 4,
 "nbformat_minor": 2
}
